{
 "cells": [
  {
   "cell_type": "markdown",
   "id": "46e47850",
   "metadata": {},
   "source": [
    "# Packages"
   ]
  },
  {
   "cell_type": "code",
   "execution_count": 2,
   "id": "46698297",
   "metadata": {
    "ExecuteTime": {
     "end_time": "2023-01-10T09:33:21.994595Z",
     "start_time": "2023-01-10T09:33:19.155719Z"
    }
   },
   "outputs": [],
   "source": [
    "import pandas as pd\n",
    "pd.options.mode.chained_assignment = None  # default='warn'\n",
    "import numpy as np\n",
    "\n",
    "import matplotlib.pyplot as plt\n",
    "import seaborn as sns\n",
    "sns.set_theme(style='whitegrid')\n",
    "\n",
    "from sklearn.pipeline import make_pipeline\n",
    "from sklearn.model_selection import train_test_split, cross_validate, GridSearchCV\n",
    "from sklearn.preprocessing import StandardScaler, MinMaxScaler\n",
    "from sklearn.impute import SimpleImputer\n",
    "from sklearn import metrics\n",
    "from sklearn.metrics import make_scorer, PrecisionRecallDisplay\n",
    "from sklearn.linear_model import LogisticRegression\n",
    "\n",
    "from imblearn.pipeline import Pipeline\n",
    "from imblearn.under_sampling import RandomUnderSampler\n",
    "\n",
    "# feature importance\n",
    "import lime\n",
    "from lime import lime_tabular\n",
    "\n",
    "import joblib\n",
    "import dill\n",
    "from contextlib import contextmanager\n",
    "from time import time\n",
    "import gc"
   ]
  },
  {
   "cell_type": "markdown",
   "id": "c881f835",
   "metadata": {},
   "source": [
    "# Functions"
   ]
  },
  {
   "cell_type": "code",
   "execution_count": 2,
   "id": "43f47c0c",
   "metadata": {
    "ExecuteTime": {
     "end_time": "2022-12-31T21:52:10.170016Z",
     "start_time": "2022-12-31T21:52:10.159156Z"
    }
   },
   "outputs": [],
   "source": [
    "def correlated_variables(df, min_corr, max_corr=1, anticorrelations=True):\n",
    "    \"\"\"\n",
    "    Return the variables which have a correlation greater than min_corr (default) or with a correlation between\n",
    "    min_corr and max_corr.\n",
    "    \n",
    "    Parameters\n",
    "    ----------\n",
    "    df : class:`pandas.DataFrame`\n",
    "        The DataFrame from which we compute the correlation matrix.\n",
    "    \n",
    "    min_corr : float\n",
    "        Minimum correlation value to consider.\n",
    "    \n",
    "    max_corr : float, default: 1\n",
    "        Maximum correlation value to consider.\n",
    "        \n",
    "    anticorrelations : bool, defaut: True\n",
    "        Whether to take anti-correlations into account or not\n",
    "    \"\"\"\n",
    "    \n",
    "    # We fill the upper right diagonal with NaNs\n",
    "    corr = df.corr()\n",
    "    # Generate a mask for the upper triangle\n",
    "    mask = pd.DataFrame(np.triu(np.ones_like(corr, dtype=bool)), columns=corr.columns, index=corr.index)\n",
    "    corr = corr[~mask]\n",
    "\n",
    "    if anticorrelations == True:\n",
    "        mask = (corr.abs() > min_corr) & (corr.abs() <= max_corr)\n",
    "    else:\n",
    "        mask = (corr > min_corr) & (corr <= max_corr)\n",
    "\n",
    "    correlated_variables = []\n",
    "    for col in corr.columns:\n",
    "        values = corr[mask][col].dropna().values.round(3)  # we round to the thousandth\n",
    "        if values.size > 0:\n",
    "            correlated_variables.append(col) # add the variable\n",
    "            indexes = corr[mask][col].dropna().index\n",
    "            correlated_variables += list(indexes) # add the correlated variables\n",
    "\n",
    "    correlated_variables = list(set(correlated_variables))\n",
    "    return correlated_variables\n",
    "    \n",
    "\n",
    "def plot_correlations(df, figsize=(11, 9), annot=False, fmt='.2g', annot_kws=None, x_rotation=30, labels=True):\n",
    "    \"\"\"Function to compute and plot the correlation matrix of df\"\"\"\n",
    "    \n",
    "    # Compute the correlation matrix\n",
    "    corr = df.corr()\n",
    "\n",
    "    # Generate a mask for the upper triangle\n",
    "    mask = np.triu(np.ones_like(corr, dtype=bool))\n",
    "\n",
    "    # Set up the matplotlib figure\n",
    "    fig, ax = plt.subplots(figsize=figsize)\n",
    "\n",
    "    # Generate a custom diverging colormap\n",
    "    cmap = sns.diverging_palette(230, 20, as_cmap=True)\n",
    "    \n",
    "    if labels == True:\n",
    "        sns.heatmap(corr, mask=mask, cmap=cmap, vmax=1, center=0, annot=annot, annot_kws=annot_kws,\n",
    "                fmt=fmt, square=True, linewidths=.5, cbar_kws={\"shrink\": .5})\n",
    "        plt.xticks(rotation=x_rotation, horizontalalignment='right')\n",
    "    else:\n",
    "        sns.heatmap(corr, mask=mask, cmap=cmap, vmax=1, center=0, annot=annot, annot_kws=annot_kws,\n",
    "                fmt=fmt, square=True, linewidths=.5, cbar_kws={\"shrink\": .5}, xticklabels='', yticklabels='')\n",
    "    plt.show()"
   ]
  },
  {
   "cell_type": "markdown",
   "id": "c5ca1c3c",
   "metadata": {},
   "source": [
    "# Preprocessing"
   ]
  },
  {
   "cell_type": "markdown",
   "id": "aa1f159e",
   "metadata": {},
   "source": [
    "## Feature engineering"
   ]
  },
  {
   "cell_type": "code",
   "execution_count": 3,
   "id": "fd58cb52",
   "metadata": {
    "ExecuteTime": {
     "end_time": "2022-12-31T21:52:10.223806Z",
     "start_time": "2022-12-31T21:52:10.172376Z"
    }
   },
   "outputs": [],
   "source": [
    "features_to_drop = [\n",
    "    # application\n",
    "    'NAME_TYPE_SUITE', 'REGION_POPULATION_RELATIVE', 'DAYS_REGISTRATION', 'DAYS_ID_PUBLISH', 'FLAG_MOBIL',\n",
    "    'FLAG_EMP_PHONE', 'FLAG_WORK_PHONE', 'FLAG_CONT_MOBILE', 'FLAG_PHONE', 'FLAG_EMAIL', 'OCCUPATION_TYPE',\n",
    "    'WEEKDAY_APPR_PROCESS_START', 'HOUR_APPR_PROCESS_START', 'REG_REGION_NOT_LIVE_REGION'\n",
    "    'REG_REGION_NOT_WORK_REGION', 'LIVE_REGION_NOT_WORK_REGION', 'REG_CITY_NOT_LIVE_CITY',\n",
    "    'REG_CITY_NOT_WORK_CITY', 'LIVE_CITY_NOT_WORK_CITY',\n",
    "    'APARTMENTS_AVG', 'BASEMENTAREA_AVG', 'YEARS_BEGINEXPLUATATION_AVG', 'YEARS_BUILD_AVG', 'COMMONAREA_AVG',\n",
    "    'ELEVATORS_AVG', 'ENTRANCES_AVG', 'FLOORSMAX_AVG', 'FLOORSMIN_AVG', 'LANDAREA_AVG',\n",
    "    'LIVINGAPARTMENTS_AVG', 'LIVINGAREA_AVG', 'NONLIVINGAPARTMENTS_AVG', 'NONLIVINGAREA_AVG',\n",
    "    'APARTMENTS_MODE', 'BASEMENTAREA_MODE', 'YEARS_BEGINEXPLUATATION_MODE', 'YEARS_BUILD_MODE',\n",
    "    'COMMONAREA_MODE', 'ELEVATORS_MODE', 'ENTRANCES_MODE', 'FLOORSMAX_MODE', 'FLOORSMIN_MODE',\n",
    "    'LANDAREA_MODE', 'LIVINGAPARTMENTS_MODE', 'LIVINGAREA_MODE', 'NONLIVINGAPARTMENTS_MODE',\n",
    "    'NONLIVINGAREA_MODE', 'APARTMENTS_MEDI', 'BASEMENTAREA_MEDI', 'YEARS_BEGINEXPLUATATION_MEDI',\n",
    "    'YEARS_BUILD_MEDI', 'COMMONAREA_MEDI', 'ELEVATORS_MEDI', 'ENTRANCES_MEDI', 'FLOORSMIN_MEDI',\n",
    "    'LANDAREA_MEDI', 'LIVINGAPARTMENTS_MEDI', 'LIVINGAREA_MEDI', 'NONLIVINGAPARTMENTS_MEDI',\n",
    "    'NONLIVINGAREA_MEDI', 'FONDKAPREMONT_MODE', 'HOUSETYPE_MODE', 'TOTALAREA_MODE', 'WALLSMATERIAL_MODE',\n",
    "    'EMERGENCYSTATE_MODE', 'OBS_30_CNT_SOCIAL_CIRCLE', 'DEF_30_CNT_SOCIAL_CIRCLE', 'DAYS_LAST_PHONE_CHANGE',\n",
    "    'FLAG_DOCUMENT_2', 'FLAG_DOCUMENT_3', 'FLAG_DOCUMENT_4', 'FLAG_DOCUMENT_5', 'FLAG_DOCUMENT_6',\n",
    "    'FLAG_DOCUMENT_7', 'FLAG_DOCUMENT_8', 'FLAG_DOCUMENT_9', 'FLAG_DOCUMENT_10', 'FLAG_DOCUMENT_11',\n",
    "    'FLAG_DOCUMENT_12', 'FLAG_DOCUMENT_13', 'FLAG_DOCUMENT_14', 'FLAG_DOCUMENT_15', 'FLAG_DOCUMENT_16',\n",
    "    'FLAG_DOCUMENT_17', 'FLAG_DOCUMENT_18', 'FLAG_DOCUMENT_19', 'FLAG_DOCUMENT_20', 'FLAG_DOCUMENT_21',\n",
    "    'AMT_REQ_CREDIT_BUREAU_HOUR', 'AMT_REQ_CREDIT_BUREAU_DAY', 'AMT_REQ_CREDIT_BUREAU_WEEK',\n",
    "    'AMT_REQ_CREDIT_BUREAU_MON', 'AMT_REQ_CREDIT_BUREAU_YEAR',\n",
    "    # bureau\n",
    "    'DAYS_CREDIT_UPDATE',\n",
    "    # credit_card_balance\n",
    "    'CNT_DRAWINGS_ATM_CURRENT', 'CNT_DRAWINGS_CURRENT', 'CNT_DRAWINGS_OTHER_CURRENT',\n",
    "    'CNT_DRAWINGS_POS_CURRENT',\n",
    "    # previous_application\n",
    "    'WEEKDAY_APPR_PROCESS_START', 'HOUR_APPR_PROCESS_START', 'DAYS_DECISION', 'NAME_PAYMENT_TYPE',\n",
    "    'NAME_TYPE_SUITE', 'NAME_CLIENT_TYPE', 'CHANNEL_TYPE',\n",
    "]\n",
    "\n",
    "\n",
    "# path to the raw data downloaded from Kaggle\n",
    "path_data = '/Users/gabriel/Documents/gabriel/Documents/Formation OC Data Scientist\\\n",
    "/Projet 7 Implementez un modele de scoring/data/'\n",
    "\n",
    "@contextmanager\n",
    "def timer(title):\n",
    "    t0 = time()\n",
    "    yield\n",
    "    print(\"{} - done in {:.0f}s\".format(title, time() - t0))\n",
    "\n",
    "# One-hot encoding for categorical columns with get_dummies\n",
    "def one_hot_encoder(df, nan_as_category=True):\n",
    "    #df = df.copy()  # pour ne pas altérer le df de base\n",
    "    original_columns = list(df.columns)\n",
    "    categorical_columns = [col for col in df.columns if df[col].dtype == 'object']\n",
    "    df = pd.get_dummies(df, columns= categorical_columns, dummy_na=nan_as_category)\n",
    "    new_columns = [col for col in df.columns if col not in original_columns]\n",
    "    return df, new_columns\n",
    "\n",
    "# Binary encoder\n",
    "def bin_encoder(df):\n",
    "    code = {'F':0,\n",
    "            'M':1,\n",
    "            'N':0,\n",
    "            'Y':1}\n",
    "    \n",
    "    for col in df.select_dtypes('object').columns:\n",
    "        df[col] = df[col].map(code)\n",
    "        \n",
    "    return df\n",
    "\n",
    "\n",
    "## application\n",
    "\n",
    "# preprocessing application_train.csv\n",
    "def application(num_rows=None, nan_as_category=False):\n",
    "    # Read data and merge\n",
    "    df = pd.read_csv(path_data+'application_train.csv', nrows= num_rows)\n",
    "    print(\"Train samples: {}\".format(len(df)))\n",
    "\n",
    "    # Optional: Remove 4 applications with XNA CODE_GENDER (train set)\n",
    "    df = df[df['CODE_GENDER'] != 'XNA']\n",
    "    \n",
    "    # drop columns\n",
    "    df = df[[col for col in df.columns if col not in features_to_drop]]\n",
    "    \n",
    "    # Categorical features with Binary encode (0 or 1; two categories)\n",
    "    bin_features = ['CODE_GENDER', 'FLAG_OWN_CAR', 'FLAG_OWN_REALTY']\n",
    "    df[bin_features] = bin_encoder(df[bin_features])\n",
    "    \n",
    "    # Categorical features with One-Hot encode\n",
    "    df, cat_cols = one_hot_encoder(df, nan_as_category)\n",
    "    \n",
    "    # NaN values for DAYS_EMPLOYED: 365.243 -> nan\n",
    "    df['DAYS_EMPLOYED'].replace(365243, np.nan, inplace= True)\n",
    "    # Some simple new features (percentages)\n",
    "    df['DAYS_EMPLOYED_PERC'] = df['DAYS_EMPLOYED'] / df['DAYS_BIRTH']\n",
    "    df['INCOME_CREDIT_PERC'] = df['AMT_INCOME_TOTAL'] / df['AMT_CREDIT']\n",
    "    df['INCOME_PER_PERSON'] = df['AMT_INCOME_TOTAL'] / df['CNT_FAM_MEMBERS']\n",
    "    df['ANNUITY_INCOME_PERC'] = df['AMT_ANNUITY'] / df['AMT_INCOME_TOTAL']\n",
    "    df['PAYMENT_RATE'] = df['AMT_ANNUITY'] / df['AMT_CREDIT']\n",
    "    \n",
    "    return df\n",
    "\n",
    "\n",
    "## bureau & bureau_balance\n",
    "\n",
    "# Preprocess bureau.csv and bureau_balance.csv\n",
    "def bureau_and_balance(num_rows=None, nan_as_category=True):\n",
    "    bureau = pd.read_csv(path_data+'bureau.csv', nrows=num_rows)\n",
    "    bb = pd.read_csv(path_data+'bureau_balance.csv', nrows=num_rows)\n",
    "    \n",
    "    # drop columns\n",
    "    bureau = bureau[[col for col in bureau.columns if col not in features_to_drop]]\n",
    "    bb = bb[[col for col in bb.columns if col not in features_to_drop]]\n",
    "    \n",
    "    bureau, bureau_cat = one_hot_encoder(bureau, nan_as_category)\n",
    "    bb, bb_cat = one_hot_encoder(bb, nan_as_category)\n",
    "    \n",
    "    # Bureau balance: Perform aggregations and merge with bureau.csv\n",
    "    bb_aggregations = {'MONTHS_BALANCE': ['min', 'max', 'size']}\n",
    "    for col in bb_cat:\n",
    "        bb_aggregations[col] = ['mean']\n",
    "    bb_agg = bb.groupby('SK_ID_BUREAU').agg(bb_aggregations)\n",
    "    bb_agg.columns = pd.Index([e[0] + \"_\" + e[1].upper() for e in bb_agg.columns.tolist()])\n",
    "    bureau = bureau.join(bb_agg, how='left', on='SK_ID_BUREAU')\n",
    "    bureau.drop(['SK_ID_BUREAU'], axis=1, inplace= True)\n",
    "    del bb, bb_agg\n",
    "    gc.collect()  # pour libérer la mémoire allouée aux variables supprimées\n",
    "    \n",
    "    # Bureau and bureau_balance numeric features\n",
    "    num_aggregations = {\n",
    "        'DAYS_CREDIT': ['min', 'max', 'mean', 'var'],\n",
    "        'DAYS_CREDIT_ENDDATE': ['min', 'max', 'mean'],\n",
    "        #'DAYS_CREDIT_UPDATE': ['mean'],\n",
    "        'CREDIT_DAY_OVERDUE': ['max', 'mean'],\n",
    "        'AMT_CREDIT_MAX_OVERDUE': ['mean'],\n",
    "        'AMT_CREDIT_SUM': ['max', 'mean', 'sum'],\n",
    "        'AMT_CREDIT_SUM_DEBT': ['max', 'mean', 'sum'],\n",
    "        'AMT_CREDIT_SUM_OVERDUE': ['mean'],\n",
    "        'AMT_CREDIT_SUM_LIMIT': ['mean', 'sum'],\n",
    "        'AMT_ANNUITY': ['max', 'mean'],\n",
    "        'CNT_CREDIT_PROLONG': ['sum'],\n",
    "        'MONTHS_BALANCE_MIN': ['min'],\n",
    "        'MONTHS_BALANCE_MAX': ['max'],\n",
    "        'MONTHS_BALANCE_SIZE': ['mean', 'sum']\n",
    "    }\n",
    "    \n",
    "    # Bureau and bureau_balance categorical features\n",
    "    cat_aggregations = {}\n",
    "    for cat in bureau_cat: cat_aggregations[cat] = ['mean']\n",
    "    for cat in bb_cat: cat_aggregations[cat + \"_MEAN\"] = ['mean']\n",
    "    \n",
    "    bureau_agg = bureau.groupby('SK_ID_CURR').agg({**num_aggregations, **cat_aggregations})\n",
    "    bureau_agg.columns = pd.Index(['BURO_' + e[0] + \"_\" + e[1].upper() for e in bureau_agg.columns.tolist()])\n",
    "    \n",
    "    # Bureau: Active credits - using only numerical aggregations\n",
    "    active = bureau[bureau['CREDIT_ACTIVE_Active'] == 1]\n",
    "    active_agg = active.groupby('SK_ID_CURR').agg(num_aggregations)\n",
    "    active_agg.columns = pd.Index(['ACTIVE_' + e[0] + \"_\" + e[1].upper()\n",
    "                                    for e in active_agg.columns.tolist()])\n",
    "    bureau_agg = bureau_agg.join(active_agg, how='left', on='SK_ID_CURR')\n",
    "    del active, active_agg\n",
    "    gc.collect()\n",
    "    \n",
    "    # Bureau: Closed credits - using only numerical aggregations\n",
    "    closed = bureau[bureau['CREDIT_ACTIVE_Closed'] == 1]\n",
    "    closed_agg = closed.groupby('SK_ID_CURR').agg(num_aggregations)\n",
    "    closed_agg.columns = pd.Index(['CLOSED_' + e[0] + \"_\" + e[1].upper()\n",
    "                                   for e in closed_agg.columns.tolist()])\n",
    "    bureau_agg = bureau_agg.join(closed_agg, how='left', on='SK_ID_CURR')\n",
    "    del closed, closed_agg, bureau\n",
    "    gc.collect()\n",
    "    \n",
    "    return bureau_agg\n",
    "\n",
    "\n",
    "## previous_applications\n",
    "\n",
    "# Preprocess previous_applications.csv\n",
    "def previous_applications(num_rows=None, nan_as_category=True):\n",
    "    prev = pd.read_csv(path_data+'previous_application.csv', nrows=num_rows)\n",
    "    \n",
    "    # drop columns\n",
    "    prev = prev[[col for col in prev.columns if col not in features_to_drop]]\n",
    "    \n",
    "    prev, cat_cols = one_hot_encoder(prev, nan_as_category=True)\n",
    "    \n",
    "    # Days 365.243 values -> nan\n",
    "    cols = ['DAYS_FIRST_DRAWING', 'DAYS_FIRST_DUE', 'DAYS_LAST_DUE_1ST_VERSION',\n",
    "            'DAYS_LAST_DUE', 'DAYS_TERMINATION']\n",
    "    for col in cols:\n",
    "        prev[col].replace(365243, np.nan, inplace=True)\n",
    "        \n",
    "    # Add feature: value ask / value received percentage\n",
    "    prev['APP_CREDIT_PERC'] = prev['AMT_APPLICATION'] / prev['AMT_CREDIT']\n",
    "    \n",
    "    # Previous applications numeric features\n",
    "    num_aggregations = {\n",
    "        'AMT_ANNUITY': ['min', 'max', 'mean'],\n",
    "        'AMT_APPLICATION': ['min', 'max', 'mean'],\n",
    "        'AMT_CREDIT': ['min', 'max', 'mean'],\n",
    "        'APP_CREDIT_PERC': ['min', 'max', 'mean', 'var'],\n",
    "        'AMT_DOWN_PAYMENT': ['min', 'max', 'mean'],\n",
    "        'AMT_GOODS_PRICE': ['min', 'max', 'mean'],\n",
    "        #'HOUR_APPR_PROCESS_START': ['min', 'max', 'mean'],\n",
    "        'RATE_DOWN_PAYMENT': ['min', 'max', 'mean'],\n",
    "        #'DAYS_DECISION': ['min', 'max', 'mean'],\n",
    "        'CNT_PAYMENT': ['mean', 'sum'],\n",
    "    }\n",
    "    \n",
    "    # Previous applications categorical features\n",
    "    cat_aggregations = {}\n",
    "    for cat in cat_cols:\n",
    "        cat_aggregations[cat] = ['mean']\n",
    "    \n",
    "    prev_agg = prev.groupby('SK_ID_CURR').agg({**num_aggregations, **cat_aggregations})\n",
    "    prev_agg.columns = pd.Index(['PREV_' + e[0] + \"_\" + e[1].upper()\n",
    "                                 for e in prev_agg.columns.tolist()])\n",
    "    \n",
    "    # Previous Applications: Approved Applications - only numerical features\n",
    "    approved = prev[prev['NAME_CONTRACT_STATUS_Approved'] == 1]\n",
    "    approved_agg = approved.groupby('SK_ID_CURR').agg(num_aggregations)\n",
    "    approved_agg.columns = pd.Index(['APPROVED_' + e[0] + \"_\" + e[1].upper()\n",
    "                                     for e in approved_agg.columns.tolist()])\n",
    "    prev_agg = prev_agg.join(approved_agg, how='left', on='SK_ID_CURR')\n",
    "    \n",
    "    # Previous Applications: Refused Applications - only numerical features\n",
    "    refused = prev[prev['NAME_CONTRACT_STATUS_Refused'] == 1]\n",
    "    refused_agg = refused.groupby('SK_ID_CURR').agg(num_aggregations)\n",
    "    refused_agg.columns = pd.Index(['REFUSED_' + e[0] + \"_\" + e[1].upper()\n",
    "                                    for e in refused_agg.columns.tolist()])\n",
    "    prev_agg = prev_agg.join(refused_agg, how='left', on='SK_ID_CURR')\n",
    "    \n",
    "    del refused, refused_agg, approved, approved_agg, prev\n",
    "    gc.collect()\n",
    "    \n",
    "    return prev_agg\n",
    "\n",
    "\n",
    "## POS_CASH_balance\n",
    "\n",
    "# preprocessing POS_CASH_balance.csv\n",
    "# Preprocess POS_CASH_balance.csv\n",
    "def pos_cash(num_rows=None, nan_as_category=True):\n",
    "    pos = pd.read_csv(path_data+'POS_CASH_balance.csv', nrows=num_rows)\n",
    "    \n",
    "    # drop columns\n",
    "    pos = pos[[col for col in pos.columns if col not in features_to_drop]]\n",
    "    \n",
    "    pos, cat_cols = one_hot_encoder(pos, nan_as_category=True)\n",
    "    \n",
    "    # Features\n",
    "    aggregations = {\n",
    "        'MONTHS_BALANCE': ['max', 'mean', 'size'],\n",
    "        'SK_DPD': ['max', 'mean'],\n",
    "        'SK_DPD_DEF': ['max', 'mean']\n",
    "    }\n",
    "    for cat in cat_cols:\n",
    "        aggregations[cat] = ['mean']\n",
    "    \n",
    "    pos_agg = pos.groupby('SK_ID_CURR').agg(aggregations)\n",
    "    pos_agg.columns = pd.Index(['POS_' + e[0] + \"_\" + e[1].upper() for e in pos_agg.columns.tolist()])\n",
    "    \n",
    "    # Count pos cash accounts\n",
    "    pos_agg['POS_COUNT'] = pos.groupby('SK_ID_CURR').size()\n",
    "    \n",
    "    del pos\n",
    "    gc.collect()\n",
    "    \n",
    "    return pos_agg\n",
    "\n",
    "\n",
    "## installments_payments\n",
    "\n",
    "# Preprocess installments_payments.csv\n",
    "def installments_payments(num_rows=None, nan_as_category=True):\n",
    "    ins = pd.read_csv(path_data+'installments_payments.csv', nrows=num_rows)\n",
    "    \n",
    "    # drop columns\n",
    "    ins = ins[[col for col in ins.columns if col not in features_to_drop]]\n",
    "    \n",
    "    ins, cat_cols = one_hot_encoder(ins, nan_as_category= True)\n",
    "    \n",
    "    # Percentage and difference paid in each installment (amount paid and installment value)\n",
    "    ins['PAYMENT_PERC'] = ins['AMT_PAYMENT'] / ins['AMT_INSTALMENT']\n",
    "    ins['PAYMENT_DIFF'] = ins['AMT_INSTALMENT'] - ins['AMT_PAYMENT']\n",
    "    \n",
    "    # Days past due and days before due (no negative values)\n",
    "    ins['DPD'] = ins['DAYS_ENTRY_PAYMENT'] - ins['DAYS_INSTALMENT']\n",
    "    ins['DBD'] = -ins['DPD']\n",
    "    ins['DPD'] = ins['DPD'].apply(lambda x: x if x > 0 else 0)\n",
    "    ins['DBD'] = ins['DBD'].apply(lambda x: x if x > 0 else 0)\n",
    "    \n",
    "    # Features: Perform aggregations\n",
    "    aggregations = {\n",
    "        'NUM_INSTALMENT_VERSION': ['nunique'],\n",
    "        'DPD': ['max', 'mean', 'sum'],\n",
    "        'DBD': ['max', 'mean', 'sum'],\n",
    "        'PAYMENT_PERC': ['max', 'mean', 'sum', 'var'],\n",
    "        'PAYMENT_DIFF': ['max', 'mean', 'sum', 'var'],\n",
    "        'AMT_INSTALMENT': ['max', 'mean', 'sum'],\n",
    "        'AMT_PAYMENT': ['min', 'max', 'mean', 'sum'],\n",
    "        'DAYS_ENTRY_PAYMENT': ['max', 'mean', 'sum']\n",
    "    }\n",
    "    for cat in cat_cols:\n",
    "        aggregations[cat] = ['mean']\n",
    "        \n",
    "    ins_agg = ins.groupby('SK_ID_CURR').agg(aggregations)\n",
    "    ins_agg.columns = pd.Index(['INSTAL_' + e[0] + \"_\" + e[1].upper() for e in ins_agg.columns.tolist()])\n",
    "    # Count installments accounts\n",
    "    ins_agg['INSTAL_COUNT'] = ins.groupby('SK_ID_CURR').size()\n",
    "    \n",
    "    del ins\n",
    "    gc.collect()\n",
    "    \n",
    "    return ins_agg\n",
    "\n",
    "\n",
    "## credit_card_balance\n",
    "\n",
    "# preprocessing credit_card_balance.csv\n",
    "# Preprocess credit_card_balance.csv\n",
    "def credit_card_balance(num_rows=None, nan_as_category=True):\n",
    "    cc = pd.read_csv(path_data+'credit_card_balance.csv', nrows=num_rows)\n",
    "    \n",
    "    # drop columns\n",
    "    cc = cc[[col for col in cc.columns if col not in features_to_drop]]\n",
    "    \n",
    "    cc, cat_cols = one_hot_encoder(cc, nan_as_category= True)\n",
    "    \n",
    "    # General aggregations\n",
    "    cc.drop(['SK_ID_PREV'], axis= 1, inplace=True)\n",
    "    cc_agg = cc.groupby('SK_ID_CURR').agg(['min', 'max', 'mean', 'sum', 'var'])\n",
    "    cc_agg.columns = pd.Index(['CC_' + e[0] + \"_\" + e[1].upper() for e in cc_agg.columns.tolist()])\n",
    "    # Count credit card lines\n",
    "    cc_agg['CC_COUNT'] = cc.groupby('SK_ID_CURR').size()\n",
    "    \n",
    "    del cc\n",
    "    gc.collect()\n",
    "    \n",
    "    return cc_agg\n",
    "\n",
    "\n",
    "## Main\n",
    "\n",
    "def data_preparation(debug=False):\n",
    "    num_rows = 10_000 if debug else None\n",
    "    df = application(num_rows)\n",
    "    with timer(\"Process bureau and bureau_balance\"):\n",
    "        bureau = bureau_and_balance(num_rows)\n",
    "        print(\"Bureau df shape:\", bureau.shape)\n",
    "        df = df.join(bureau, how='left', on='SK_ID_CURR')\n",
    "        del bureau\n",
    "        gc.collect()\n",
    "    with timer(\"Process previous_applications\"):\n",
    "        prev = previous_applications(num_rows)\n",
    "        print(\"Previous applications df shape:\", prev.shape)\n",
    "        df = df.join(prev, how='left', on='SK_ID_CURR')\n",
    "        del prev\n",
    "        gc.collect()\n",
    "    with timer(\"Process POS-CASH balance\"):\n",
    "        pos = pos_cash(num_rows)\n",
    "        print(\"Pos-cash balance df shape:\", pos.shape)\n",
    "        df = df.join(pos, how='left', on='SK_ID_CURR')\n",
    "        del pos\n",
    "        gc.collect()\n",
    "    with timer(\"Process installments payments\"):\n",
    "        ins = installments_payments(num_rows)\n",
    "        print(\"Installments payments df shape:\", ins.shape)\n",
    "        df = df.join(ins, how='left', on='SK_ID_CURR')\n",
    "        del ins\n",
    "        gc.collect()\n",
    "    with timer(\"Process credit card balance\"):\n",
    "        cc = credit_card_balance(num_rows)\n",
    "        print(\"Credit card balance df shape:\", cc.shape)\n",
    "        df = df.join(cc, how='left', on='SK_ID_CURR')\n",
    "        del cc\n",
    "        gc.collect()\n",
    "        \n",
    "    df.set_index('SK_ID_CURR', inplace=True)\n",
    "    \n",
    "    return df"
   ]
  },
  {
   "cell_type": "code",
   "execution_count": 4,
   "id": "1cd3685c",
   "metadata": {
    "ExecuteTime": {
     "end_time": "2022-12-31T21:53:46.765777Z",
     "start_time": "2022-12-31T21:52:10.227179Z"
    }
   },
   "outputs": [
    {
     "name": "stdout",
     "output_type": "stream",
     "text": [
      "Train samples: 307511\n",
      "Bureau df shape: (305811, 113)\n",
      "Process bureau and bureau_balance - done in 19s\n",
      "Previous applications df shape: (338857, 196)\n",
      "Process previous_applications - done in 17s\n",
      "Pos-cash balance df shape: (337252, 18)\n",
      "Process POS-CASH balance - done in 10s\n",
      "Installments payments df shape: (339587, 26)\n",
      "Process installments payments - done in 31s\n",
      "Credit card balance df shape: (103558, 121)\n",
      "Process credit card balance - done in 14s\n"
     ]
    }
   ],
   "source": [
    "df = data_preparation(debug=False)"
   ]
  },
  {
   "cell_type": "code",
   "execution_count": 5,
   "id": "f14bfb00",
   "metadata": {
    "ExecuteTime": {
     "end_time": "2022-12-31T21:53:46.778685Z",
     "start_time": "2022-12-31T21:53:46.768879Z"
    }
   },
   "outputs": [
    {
     "data": {
      "text/plain": [
       "(307507, 588)"
      ]
     },
     "execution_count": 5,
     "metadata": {},
     "output_type": "execute_result"
    }
   ],
   "source": [
    "df.shape"
   ]
  },
  {
   "cell_type": "code",
   "execution_count": 6,
   "id": "0d6d5010",
   "metadata": {
    "ExecuteTime": {
     "end_time": "2022-12-31T21:53:50.915790Z",
     "start_time": "2022-12-31T21:53:46.780967Z"
    }
   },
   "outputs": [
    {
     "data": {
      "text/plain": [
       "(307507, 561)"
      ]
     },
     "execution_count": 6,
     "metadata": {},
     "output_type": "execute_result"
    }
   ],
   "source": [
    "# Elimination des constantes\n",
    "\n",
    "cst = df.nunique()\n",
    "cst = cst[cst == 1]\n",
    "\n",
    "df = df[[col for col in df.columns if col not in cst.index]]\n",
    "df.shape"
   ]
  },
  {
   "cell_type": "code",
   "execution_count": 7,
   "id": "64ea68d7",
   "metadata": {
    "ExecuteTime": {
     "end_time": "2022-12-31T21:53:50.947009Z",
     "start_time": "2022-12-31T21:53:50.917911Z"
    }
   },
   "outputs": [
    {
     "data": {
      "text/html": [
       "<div>\n",
       "<style scoped>\n",
       "    .dataframe tbody tr th:only-of-type {\n",
       "        vertical-align: middle;\n",
       "    }\n",
       "\n",
       "    .dataframe tbody tr th {\n",
       "        vertical-align: top;\n",
       "    }\n",
       "\n",
       "    .dataframe thead th {\n",
       "        text-align: right;\n",
       "    }\n",
       "</style>\n",
       "<table border=\"1\" class=\"dataframe\">\n",
       "  <thead>\n",
       "    <tr style=\"text-align: right;\">\n",
       "      <th></th>\n",
       "      <th>TARGET</th>\n",
       "      <th>CODE_GENDER</th>\n",
       "      <th>FLAG_OWN_CAR</th>\n",
       "      <th>FLAG_OWN_REALTY</th>\n",
       "      <th>CNT_CHILDREN</th>\n",
       "      <th>AMT_INCOME_TOTAL</th>\n",
       "      <th>AMT_CREDIT</th>\n",
       "      <th>AMT_ANNUITY</th>\n",
       "      <th>AMT_GOODS_PRICE</th>\n",
       "      <th>DAYS_BIRTH</th>\n",
       "      <th>...</th>\n",
       "      <th>CC_NAME_CONTRACT_STATUS_Sent proposal_MAX</th>\n",
       "      <th>CC_NAME_CONTRACT_STATUS_Sent proposal_MEAN</th>\n",
       "      <th>CC_NAME_CONTRACT_STATUS_Sent proposal_SUM</th>\n",
       "      <th>CC_NAME_CONTRACT_STATUS_Sent proposal_VAR</th>\n",
       "      <th>CC_NAME_CONTRACT_STATUS_Signed_MIN</th>\n",
       "      <th>CC_NAME_CONTRACT_STATUS_Signed_MAX</th>\n",
       "      <th>CC_NAME_CONTRACT_STATUS_Signed_MEAN</th>\n",
       "      <th>CC_NAME_CONTRACT_STATUS_Signed_SUM</th>\n",
       "      <th>CC_NAME_CONTRACT_STATUS_Signed_VAR</th>\n",
       "      <th>CC_COUNT</th>\n",
       "    </tr>\n",
       "    <tr>\n",
       "      <th>SK_ID_CURR</th>\n",
       "      <th></th>\n",
       "      <th></th>\n",
       "      <th></th>\n",
       "      <th></th>\n",
       "      <th></th>\n",
       "      <th></th>\n",
       "      <th></th>\n",
       "      <th></th>\n",
       "      <th></th>\n",
       "      <th></th>\n",
       "      <th></th>\n",
       "      <th></th>\n",
       "      <th></th>\n",
       "      <th></th>\n",
       "      <th></th>\n",
       "      <th></th>\n",
       "      <th></th>\n",
       "      <th></th>\n",
       "      <th></th>\n",
       "      <th></th>\n",
       "      <th></th>\n",
       "    </tr>\n",
       "  </thead>\n",
       "  <tbody>\n",
       "    <tr>\n",
       "      <th>100002</th>\n",
       "      <td>1</td>\n",
       "      <td>1</td>\n",
       "      <td>0</td>\n",
       "      <td>1</td>\n",
       "      <td>0</td>\n",
       "      <td>202500.0</td>\n",
       "      <td>406597.5</td>\n",
       "      <td>24700.5</td>\n",
       "      <td>351000.0</td>\n",
       "      <td>-9461</td>\n",
       "      <td>...</td>\n",
       "      <td>NaN</td>\n",
       "      <td>NaN</td>\n",
       "      <td>NaN</td>\n",
       "      <td>NaN</td>\n",
       "      <td>NaN</td>\n",
       "      <td>NaN</td>\n",
       "      <td>NaN</td>\n",
       "      <td>NaN</td>\n",
       "      <td>NaN</td>\n",
       "      <td>NaN</td>\n",
       "    </tr>\n",
       "    <tr>\n",
       "      <th>100003</th>\n",
       "      <td>0</td>\n",
       "      <td>0</td>\n",
       "      <td>0</td>\n",
       "      <td>0</td>\n",
       "      <td>0</td>\n",
       "      <td>270000.0</td>\n",
       "      <td>1293502.5</td>\n",
       "      <td>35698.5</td>\n",
       "      <td>1129500.0</td>\n",
       "      <td>-16765</td>\n",
       "      <td>...</td>\n",
       "      <td>NaN</td>\n",
       "      <td>NaN</td>\n",
       "      <td>NaN</td>\n",
       "      <td>NaN</td>\n",
       "      <td>NaN</td>\n",
       "      <td>NaN</td>\n",
       "      <td>NaN</td>\n",
       "      <td>NaN</td>\n",
       "      <td>NaN</td>\n",
       "      <td>NaN</td>\n",
       "    </tr>\n",
       "    <tr>\n",
       "      <th>100004</th>\n",
       "      <td>0</td>\n",
       "      <td>1</td>\n",
       "      <td>1</td>\n",
       "      <td>1</td>\n",
       "      <td>0</td>\n",
       "      <td>67500.0</td>\n",
       "      <td>135000.0</td>\n",
       "      <td>6750.0</td>\n",
       "      <td>135000.0</td>\n",
       "      <td>-19046</td>\n",
       "      <td>...</td>\n",
       "      <td>NaN</td>\n",
       "      <td>NaN</td>\n",
       "      <td>NaN</td>\n",
       "      <td>NaN</td>\n",
       "      <td>NaN</td>\n",
       "      <td>NaN</td>\n",
       "      <td>NaN</td>\n",
       "      <td>NaN</td>\n",
       "      <td>NaN</td>\n",
       "      <td>NaN</td>\n",
       "    </tr>\n",
       "    <tr>\n",
       "      <th>100006</th>\n",
       "      <td>0</td>\n",
       "      <td>0</td>\n",
       "      <td>0</td>\n",
       "      <td>1</td>\n",
       "      <td>0</td>\n",
       "      <td>135000.0</td>\n",
       "      <td>312682.5</td>\n",
       "      <td>29686.5</td>\n",
       "      <td>297000.0</td>\n",
       "      <td>-19005</td>\n",
       "      <td>...</td>\n",
       "      <td>0.0</td>\n",
       "      <td>0.0</td>\n",
       "      <td>0.0</td>\n",
       "      <td>0.0</td>\n",
       "      <td>0.0</td>\n",
       "      <td>0.0</td>\n",
       "      <td>0.0</td>\n",
       "      <td>0.0</td>\n",
       "      <td>0.0</td>\n",
       "      <td>6.0</td>\n",
       "    </tr>\n",
       "    <tr>\n",
       "      <th>100007</th>\n",
       "      <td>0</td>\n",
       "      <td>1</td>\n",
       "      <td>0</td>\n",
       "      <td>1</td>\n",
       "      <td>0</td>\n",
       "      <td>121500.0</td>\n",
       "      <td>513000.0</td>\n",
       "      <td>21865.5</td>\n",
       "      <td>513000.0</td>\n",
       "      <td>-19932</td>\n",
       "      <td>...</td>\n",
       "      <td>NaN</td>\n",
       "      <td>NaN</td>\n",
       "      <td>NaN</td>\n",
       "      <td>NaN</td>\n",
       "      <td>NaN</td>\n",
       "      <td>NaN</td>\n",
       "      <td>NaN</td>\n",
       "      <td>NaN</td>\n",
       "      <td>NaN</td>\n",
       "      <td>NaN</td>\n",
       "    </tr>\n",
       "  </tbody>\n",
       "</table>\n",
       "<p>5 rows × 561 columns</p>\n",
       "</div>"
      ],
      "text/plain": [
       "            TARGET  CODE_GENDER  FLAG_OWN_CAR  FLAG_OWN_REALTY  CNT_CHILDREN  \\\n",
       "SK_ID_CURR                                                                     \n",
       "100002           1            1             0                1             0   \n",
       "100003           0            0             0                0             0   \n",
       "100004           0            1             1                1             0   \n",
       "100006           0            0             0                1             0   \n",
       "100007           0            1             0                1             0   \n",
       "\n",
       "            AMT_INCOME_TOTAL  AMT_CREDIT  AMT_ANNUITY  AMT_GOODS_PRICE  \\\n",
       "SK_ID_CURR                                                               \n",
       "100002              202500.0    406597.5      24700.5         351000.0   \n",
       "100003              270000.0   1293502.5      35698.5        1129500.0   \n",
       "100004               67500.0    135000.0       6750.0         135000.0   \n",
       "100006              135000.0    312682.5      29686.5         297000.0   \n",
       "100007              121500.0    513000.0      21865.5         513000.0   \n",
       "\n",
       "            DAYS_BIRTH  ...  CC_NAME_CONTRACT_STATUS_Sent proposal_MAX  \\\n",
       "SK_ID_CURR              ...                                              \n",
       "100002           -9461  ...                                        NaN   \n",
       "100003          -16765  ...                                        NaN   \n",
       "100004          -19046  ...                                        NaN   \n",
       "100006          -19005  ...                                        0.0   \n",
       "100007          -19932  ...                                        NaN   \n",
       "\n",
       "            CC_NAME_CONTRACT_STATUS_Sent proposal_MEAN  \\\n",
       "SK_ID_CURR                                               \n",
       "100002                                             NaN   \n",
       "100003                                             NaN   \n",
       "100004                                             NaN   \n",
       "100006                                             0.0   \n",
       "100007                                             NaN   \n",
       "\n",
       "            CC_NAME_CONTRACT_STATUS_Sent proposal_SUM  \\\n",
       "SK_ID_CURR                                              \n",
       "100002                                            NaN   \n",
       "100003                                            NaN   \n",
       "100004                                            NaN   \n",
       "100006                                            0.0   \n",
       "100007                                            NaN   \n",
       "\n",
       "            CC_NAME_CONTRACT_STATUS_Sent proposal_VAR  \\\n",
       "SK_ID_CURR                                              \n",
       "100002                                            NaN   \n",
       "100003                                            NaN   \n",
       "100004                                            NaN   \n",
       "100006                                            0.0   \n",
       "100007                                            NaN   \n",
       "\n",
       "            CC_NAME_CONTRACT_STATUS_Signed_MIN  \\\n",
       "SK_ID_CURR                                       \n",
       "100002                                     NaN   \n",
       "100003                                     NaN   \n",
       "100004                                     NaN   \n",
       "100006                                     0.0   \n",
       "100007                                     NaN   \n",
       "\n",
       "            CC_NAME_CONTRACT_STATUS_Signed_MAX  \\\n",
       "SK_ID_CURR                                       \n",
       "100002                                     NaN   \n",
       "100003                                     NaN   \n",
       "100004                                     NaN   \n",
       "100006                                     0.0   \n",
       "100007                                     NaN   \n",
       "\n",
       "            CC_NAME_CONTRACT_STATUS_Signed_MEAN  \\\n",
       "SK_ID_CURR                                        \n",
       "100002                                      NaN   \n",
       "100003                                      NaN   \n",
       "100004                                      NaN   \n",
       "100006                                      0.0   \n",
       "100007                                      NaN   \n",
       "\n",
       "            CC_NAME_CONTRACT_STATUS_Signed_SUM  \\\n",
       "SK_ID_CURR                                       \n",
       "100002                                     NaN   \n",
       "100003                                     NaN   \n",
       "100004                                     NaN   \n",
       "100006                                     0.0   \n",
       "100007                                     NaN   \n",
       "\n",
       "            CC_NAME_CONTRACT_STATUS_Signed_VAR  CC_COUNT  \n",
       "SK_ID_CURR                                                \n",
       "100002                                     NaN       NaN  \n",
       "100003                                     NaN       NaN  \n",
       "100004                                     NaN       NaN  \n",
       "100006                                     0.0       6.0  \n",
       "100007                                     NaN       NaN  \n",
       "\n",
       "[5 rows x 561 columns]"
      ]
     },
     "execution_count": 7,
     "metadata": {},
     "output_type": "execute_result"
    }
   ],
   "source": [
    "df.head()"
   ]
  },
  {
   "cell_type": "markdown",
   "id": "7a8de8cf",
   "metadata": {},
   "source": [
    "## Séparation X et y"
   ]
  },
  {
   "cell_type": "code",
   "execution_count": 8,
   "id": "b796d474",
   "metadata": {
    "ExecuteTime": {
     "end_time": "2022-12-31T21:53:51.648152Z",
     "start_time": "2022-12-31T21:53:50.949267Z"
    }
   },
   "outputs": [
    {
     "name": "stdout",
     "output_type": "stream",
     "text": [
      "X shape: (307507, 560)\n",
      "y shape: (307507,)\n"
     ]
    }
   ],
   "source": [
    "X = df.drop(columns=['TARGET'])\n",
    "y = df['TARGET']\n",
    "print('X shape:', X.shape)\n",
    "print('y shape:', y.shape)"
   ]
  },
  {
   "cell_type": "markdown",
   "id": "a0252d1a",
   "metadata": {},
   "source": [
    "## NaN"
   ]
  },
  {
   "cell_type": "markdown",
   "id": "1eefabe9",
   "metadata": {},
   "source": [
    "### Observations"
   ]
  },
  {
   "cell_type": "code",
   "execution_count": 9,
   "id": "a955de76",
   "metadata": {
    "ExecuteTime": {
     "end_time": "2022-12-31T21:53:51.938316Z",
     "start_time": "2022-12-31T21:53:51.650499Z"
    }
   },
   "outputs": [
    {
     "data": {
      "text/plain": [
       "45859143"
      ]
     },
     "execution_count": 9,
     "metadata": {},
     "output_type": "execute_result"
    }
   ],
   "source": [
    "X.isna().sum().sum()"
   ]
  },
  {
   "cell_type": "code",
   "execution_count": 10,
   "id": "a467b197",
   "metadata": {
    "ExecuteTime": {
     "end_time": "2022-12-31T21:53:55.213068Z",
     "start_time": "2022-12-31T21:53:51.943996Z"
    }
   },
   "outputs": [
    {
     "data": {
      "text/plain": [
       "45859163"
      ]
     },
     "execution_count": 10,
     "metadata": {},
     "output_type": "execute_result"
    }
   ],
   "source": [
    "X = X.replace([np.inf, -np.inf], np.nan)\n",
    "X.isna().sum().sum()"
   ]
  },
  {
   "cell_type": "code",
   "execution_count": 11,
   "id": "f4614109",
   "metadata": {
    "ExecuteTime": {
     "end_time": "2022-12-31T21:53:55.496937Z",
     "start_time": "2022-12-31T21:53:55.214899Z"
    }
   },
   "outputs": [
    {
     "data": {
      "text/plain": [
       "(73, 560)"
      ]
     },
     "execution_count": 11,
     "metadata": {},
     "output_type": "execute_result"
    }
   ],
   "source": [
    "X.dropna().shape"
   ]
  },
  {
   "cell_type": "code",
   "execution_count": 12,
   "id": "487f70df",
   "metadata": {
    "ExecuteTime": {
     "end_time": "2022-12-31T21:56:11.382022Z",
     "start_time": "2022-12-31T21:53:55.499319Z"
    }
   },
   "outputs": [
    {
     "data": {
      "image/png": "[encoded data removed]",
      "text/plain": [
       "<Figure size 1600x900 with 1 Axes>"
      ]
     },
     "metadata": {},
     "output_type": "display_data"
    }
   ],
   "source": [
    "plt.figure(figsize=(16,9))\n",
    "sns.heatmap(X.isna(), cbar=False, xticklabels='', yticklabels='')\n",
    "plt.show()"
   ]
  },
  {
   "cell_type": "markdown",
   "id": "b42f10f0",
   "metadata": {},
   "source": [
    "### Suppression de colonnes"
   ]
  },
  {
   "cell_type": "code",
   "execution_count": 13,
   "id": "3789b6f0",
   "metadata": {
    "ExecuteTime": {
     "end_time": "2022-12-31T21:56:13.527628Z",
     "start_time": "2022-12-31T21:56:11.385794Z"
    }
   },
   "outputs": [],
   "source": [
    "# On supprime les colonnes contenant plus de 60% de valeurs manquantes\n",
    "nans = X.isna().mean().sort_values(ascending=False)\n",
    "cols_to_drop = nans[nans>0.6].index"
   ]
  },
  {
   "cell_type": "code",
   "execution_count": 14,
   "id": "11279961",
   "metadata": {
    "ExecuteTime": {
     "end_time": "2022-12-31T21:56:13.534807Z",
     "start_time": "2022-12-31T21:56:13.529954Z"
    }
   },
   "outputs": [
    {
     "data": {
      "text/plain": [
       "159"
      ]
     },
     "execution_count": 14,
     "metadata": {},
     "output_type": "execute_result"
    }
   ],
   "source": [
    "len(cols_to_drop)"
   ]
  },
  {
   "cell_type": "code",
   "execution_count": 15,
   "id": "f91095d4",
   "metadata": {
    "ExecuteTime": {
     "end_time": "2022-12-31T21:56:14.201323Z",
     "start_time": "2022-12-31T21:56:13.537923Z"
    }
   },
   "outputs": [
    {
     "data": {
      "text/plain": [
       "(307507, 401)"
      ]
     },
     "execution_count": 15,
     "metadata": {},
     "output_type": "execute_result"
    }
   ],
   "source": [
    "X = X[[col for col in X.columns if col not in cols_to_drop]]\n",
    "X.shape"
   ]
  },
  {
   "cell_type": "markdown",
   "id": "d76e6db0",
   "metadata": {},
   "source": [
    "## Corrélations"
   ]
  },
  {
   "cell_type": "markdown",
   "id": "bfd99dc5",
   "metadata": {},
   "source": [
    "__On va supprimer les variables corrélées à d'autres à plus de 90%__"
   ]
  },
  {
   "cell_type": "code",
   "execution_count": 16,
   "id": "a622ce48",
   "metadata": {
    "ExecuteTime": {
     "end_time": "2022-12-31T21:56:14.207034Z",
     "start_time": "2022-12-31T21:56:14.204033Z"
    }
   },
   "outputs": [],
   "source": [
    "#X = pd.DataFrame(RobustScaler().fit_transform(X), columns=X.columns)"
   ]
  },
  {
   "cell_type": "code",
   "execution_count": 17,
   "id": "1ce39c36",
   "metadata": {
    "ExecuteTime": {
     "end_time": "2022-12-31T21:57:43.253121Z",
     "start_time": "2022-12-31T21:56:14.209767Z"
    }
   },
   "outputs": [],
   "source": [
    "threshold = 0.9\n",
    "corr_variables = correlated_variables(X, min_corr=threshold)"
   ]
  },
  {
   "cell_type": "code",
   "execution_count": 18,
   "id": "0205c1d4",
   "metadata": {
    "ExecuteTime": {
     "end_time": "2022-12-31T21:57:43.258002Z",
     "start_time": "2022-12-31T21:57:43.254528Z"
    },
    "scrolled": true
   },
   "outputs": [
    {
     "data": {
      "text/plain": [
       "113"
      ]
     },
     "execution_count": 18,
     "metadata": {},
     "output_type": "execute_result"
    }
   ],
   "source": [
    "len(corr_variables)"
   ]
  },
  {
   "cell_type": "code",
   "execution_count": 19,
   "id": "a3017d60",
   "metadata": {
    "ExecuteTime": {
     "end_time": "2022-12-31T21:57:50.686379Z",
     "start_time": "2022-12-31T21:57:43.260179Z"
    }
   },
   "outputs": [],
   "source": [
    "# Matrice des corrrélations en ne gardant que les variables corrélées\n",
    "corr = X[corr_variables].corr()\n",
    "# On masque la partie supérieure du triangle\n",
    "mask = pd.DataFrame(np.triu(np.ones_like(corr, dtype=bool)), columns=corr.columns, index=corr.index)\n",
    "corr = corr[~mask]\n",
    "\n",
    "keep_features = []\n",
    "skip_features = []\n",
    "for col in corr_variables:\n",
    "    if col in skip_features:\n",
    "        continue\n",
    "    keep_features.append(col)\n",
    "    \n",
    "    mask = (corr[col].abs() > threshold)\n",
    "    skip_features = skip_features + list(corr.loc[mask, col].index)"
   ]
  },
  {
   "cell_type": "code",
   "execution_count": 20,
   "id": "108bc38b",
   "metadata": {
    "ExecuteTime": {
     "end_time": "2022-12-31T21:57:50.692834Z",
     "start_time": "2022-12-31T21:57:50.688884Z"
    }
   },
   "outputs": [
    {
     "data": {
      "text/plain": [
       "53"
      ]
     },
     "execution_count": 20,
     "metadata": {},
     "output_type": "execute_result"
    }
   ],
   "source": [
    "len(keep_features)"
   ]
  },
  {
   "cell_type": "code",
   "execution_count": 21,
   "id": "1b3605ef",
   "metadata": {
    "ExecuteTime": {
     "end_time": "2022-12-31T21:57:50.699131Z",
     "start_time": "2022-12-31T21:57:50.694975Z"
    }
   },
   "outputs": [
    {
     "data": {
      "text/plain": [
       "(307507, 401)"
      ]
     },
     "execution_count": 21,
     "metadata": {},
     "output_type": "execute_result"
    }
   ],
   "source": [
    "X.shape"
   ]
  },
  {
   "cell_type": "code",
   "execution_count": 22,
   "id": "4604070a",
   "metadata": {
    "ExecuteTime": {
     "end_time": "2022-12-31T21:57:51.156918Z",
     "start_time": "2022-12-31T21:57:50.701584Z"
    }
   },
   "outputs": [
    {
     "data": {
      "text/plain": [
       "(307507, 341)"
      ]
     },
     "execution_count": 22,
     "metadata": {},
     "output_type": "execute_result"
    }
   ],
   "source": [
    "X = X[[col for col in X.columns if col not in skip_features]]\n",
    "X.shape"
   ]
  },
  {
   "cell_type": "markdown",
   "id": "b93633ce",
   "metadata": {},
   "source": [
    "## Variance"
   ]
  },
  {
   "cell_type": "markdown",
   "id": "71f5e756",
   "metadata": {},
   "source": [
    "__On va supprimer les variables ayant une variance trop faible__"
   ]
  },
  {
   "cell_type": "code",
   "execution_count": 23,
   "id": "ab5fac2c",
   "metadata": {
    "ExecuteTime": {
     "end_time": "2022-12-31T21:57:53.305048Z",
     "start_time": "2022-12-31T21:57:51.159202Z"
    }
   },
   "outputs": [
    {
     "data": {
      "text/plain": [
       "count    3.410000e+02\n",
       "mean     1.032816e+07\n",
       "std      1.892227e+08\n",
       "min      1.627866e-05\n",
       "25%      3.763904e-02\n",
       "50%      1.593681e-01\n",
       "75%      2.658667e+01\n",
       "max      3.494295e+09\n",
       "dtype: float64"
      ]
     },
     "execution_count": 23,
     "metadata": {},
     "output_type": "execute_result"
    }
   ],
   "source": [
    "X.std().describe()"
   ]
  },
  {
   "cell_type": "code",
   "execution_count": 24,
   "id": "b3baed88",
   "metadata": {
    "ExecuteTime": {
     "end_time": "2022-12-31T21:57:57.902930Z",
     "start_time": "2022-12-31T21:57:53.307199Z"
    }
   },
   "outputs": [
    {
     "data": {
      "text/plain": [
       "count    341.000000\n",
       "mean       0.092726\n",
       "std        0.107480\n",
       "min        0.001854\n",
       "25%        0.012622\n",
       "50%        0.044910\n",
       "75%        0.133503\n",
       "max        0.499735\n",
       "dtype: float64"
      ]
     },
     "execution_count": 24,
     "metadata": {},
     "output_type": "execute_result"
    }
   ],
   "source": [
    "X_ = pd.DataFrame(MinMaxScaler().fit_transform(X), columns=X.columns, index=X.index)\n",
    "std = X_.std()\n",
    "std.describe()"
   ]
  },
  {
   "cell_type": "code",
   "execution_count": 25,
   "id": "e19027a9",
   "metadata": {
    "ExecuteTime": {
     "end_time": "2022-12-31T21:57:57.910322Z",
     "start_time": "2022-12-31T21:57:57.905310Z"
    }
   },
   "outputs": [
    {
     "data": {
      "text/plain": [
       "109"
      ]
     },
     "execution_count": 25,
     "metadata": {},
     "output_type": "execute_result"
    }
   ],
   "source": [
    "cols_to_drop = std[std<0.02].index\n",
    "cols_to_drop.size"
   ]
  },
  {
   "cell_type": "code",
   "execution_count": 26,
   "id": "a5456d7b",
   "metadata": {
    "ExecuteTime": {
     "end_time": "2022-12-31T21:57:57.916801Z",
     "start_time": "2022-12-31T21:57:57.912515Z"
    }
   },
   "outputs": [
    {
     "data": {
      "text/plain": [
       "(307507, 341)"
      ]
     },
     "execution_count": 26,
     "metadata": {},
     "output_type": "execute_result"
    }
   ],
   "source": [
    "X.shape"
   ]
  },
  {
   "cell_type": "code",
   "execution_count": 27,
   "id": "67c9abc1",
   "metadata": {
    "ExecuteTime": {
     "end_time": "2022-12-31T21:57:58.219660Z",
     "start_time": "2022-12-31T21:57:57.919381Z"
    }
   },
   "outputs": [
    {
     "data": {
      "text/plain": [
       "(307507, 232)"
      ]
     },
     "execution_count": 27,
     "metadata": {},
     "output_type": "execute_result"
    }
   ],
   "source": [
    "X = X[[col for col in X.columns if col not in cols_to_drop]]\n",
    "X.shape"
   ]
  },
  {
   "cell_type": "markdown",
   "id": "79b35ad8",
   "metadata": {},
   "source": [
    "## Sauvegarde de X et y"
   ]
  },
  {
   "cell_type": "code",
   "execution_count": 28,
   "id": "3f140cf6",
   "metadata": {
    "ExecuteTime": {
     "end_time": "2022-12-31T21:57:58.454547Z",
     "start_time": "2022-12-31T21:57:58.231613Z"
    }
   },
   "outputs": [],
   "source": [
    "X.drop(columns='PREV_NAME_PORTFOLIO_POS_MEAN', inplace=True)"
   ]
  },
  {
   "cell_type": "code",
   "execution_count": 29,
   "id": "7b602f14",
   "metadata": {
    "ExecuteTime": {
     "end_time": "2022-12-31T21:58:26.014848Z",
     "start_time": "2022-12-31T21:57:58.457075Z"
    }
   },
   "outputs": [],
   "source": [
    "path = 'data/'\n",
    "X.to_csv(path+'X.csv')\n",
    "y.to_csv(path+'y.csv')"
   ]
  },
  {
   "cell_type": "markdown",
   "id": "375f07fb",
   "metadata": {},
   "source": [
    "# Import des data"
   ]
  },
  {
   "cell_type": "code",
   "execution_count": 3,
   "id": "659eefdf",
   "metadata": {
    "ExecuteTime": {
     "end_time": "2023-01-10T09:33:28.805297Z",
     "start_time": "2023-01-10T09:33:22.759714Z"
    }
   },
   "outputs": [
    {
     "name": "stdout",
     "output_type": "stream",
     "text": [
      "X shape: (307507, 231)\n",
      "y shape: (307507,)\n"
     ]
    }
   ],
   "source": [
    "path = 'data/'\n",
    "X = pd.read_csv(path+'X.csv', index_col=0)\n",
    "y = pd.read_csv(path+'y.csv', index_col=0)['TARGET']\n",
    "\n",
    "print('X shape:', X.shape)\n",
    "print('y shape:', y.shape)"
   ]
  },
  {
   "cell_type": "code",
   "execution_count": 31,
   "id": "d03bbdb5",
   "metadata": {
    "ExecuteTime": {
     "end_time": "2022-12-31T21:58:31.748153Z",
     "start_time": "2022-12-31T21:58:31.739662Z"
    }
   },
   "outputs": [
    {
     "data": {
      "text/plain": [
       "0    282682\n",
       "1     24825\n",
       "Name: TARGET, dtype: int64"
      ]
     },
     "execution_count": 31,
     "metadata": {},
     "output_type": "execute_result"
    }
   ],
   "source": [
    "y.value_counts()"
   ]
  },
  {
   "cell_type": "code",
   "execution_count": 32,
   "id": "1640c2e2",
   "metadata": {
    "ExecuteTime": {
     "end_time": "2022-12-31T21:58:31.760215Z",
     "start_time": "2022-12-31T21:58:31.750628Z"
    }
   },
   "outputs": [
    {
     "data": {
      "text/plain": [
       "0    0.91927\n",
       "1    0.08073\n",
       "Name: TARGET, dtype: float64"
      ]
     },
     "execution_count": 32,
     "metadata": {},
     "output_type": "execute_result"
    }
   ],
   "source": [
    "y.value_counts(normalize=True)"
   ]
  },
  {
   "cell_type": "markdown",
   "id": "dcdd6e7c",
   "metadata": {},
   "source": [
    "On remplace les nan par une valeur numérique car sinon cela cause des problèmes avec l'API. On va prendre une valeur très qui ne se trouve pas dans le jeu de données."
   ]
  },
  {
   "cell_type": "code",
   "execution_count": 5,
   "id": "5e846fd4",
   "metadata": {
    "ExecuteTime": {
     "end_time": "2023-01-10T09:34:04.885092Z",
     "start_time": "2023-01-10T09:34:04.748116Z"
    }
   },
   "outputs": [
    {
     "data": {
      "text/plain": [
       "4636049"
      ]
     },
     "execution_count": 5,
     "metadata": {},
     "output_type": "execute_result"
    }
   ],
   "source": [
    "X.isna().sum().sum()"
   ]
  },
  {
   "cell_type": "code",
   "execution_count": 6,
   "id": "cd00c984",
   "metadata": {
    "ExecuteTime": {
     "end_time": "2023-01-10T09:34:07.461903Z",
     "start_time": "2023-01-10T09:34:06.503078Z"
    }
   },
   "outputs": [],
   "source": [
    "nan = 1.01010101\n",
    "X.fillna(nan, inplace=True)"
   ]
  },
  {
   "cell_type": "code",
   "execution_count": 7,
   "id": "eaabe37a",
   "metadata": {
    "ExecuteTime": {
     "end_time": "2023-01-10T09:34:07.543535Z",
     "start_time": "2023-01-10T09:34:07.464738Z"
    }
   },
   "outputs": [
    {
     "data": {
      "text/plain": [
       "0"
      ]
     },
     "execution_count": 7,
     "metadata": {},
     "output_type": "execute_result"
    }
   ],
   "source": [
    "X.isna().sum().sum()"
   ]
  },
  {
   "cell_type": "code",
   "execution_count": 8,
   "id": "8b247251",
   "metadata": {
    "ExecuteTime": {
     "end_time": "2023-01-10T09:34:07.832913Z",
     "start_time": "2023-01-10T09:34:07.728882Z"
    }
   },
   "outputs": [
    {
     "data": {
      "text/plain": [
       "4636049"
      ]
     },
     "execution_count": 8,
     "metadata": {},
     "output_type": "execute_result"
    }
   ],
   "source": [
    "(X==nan).sum().sum()"
   ]
  },
  {
   "cell_type": "markdown",
   "id": "0a8c6193",
   "metadata": {},
   "source": [
    "# Train/Test split"
   ]
  },
  {
   "cell_type": "code",
   "execution_count": 11,
   "id": "4251dbbb",
   "metadata": {
    "ExecuteTime": {
     "end_time": "2023-01-10T09:34:19.426308Z",
     "start_time": "2023-01-10T09:34:18.879127Z"
    }
   },
   "outputs": [
    {
     "name": "stdout",
     "output_type": "stream",
     "text": [
      "X_train shape : (230630, 231) y_train shape : (230630,)\n",
      "X_test shape : (76877, 231) y_test shape : (76877,)\n"
     ]
    }
   ],
   "source": [
    "X_train, X_test, y_train, y_test = train_test_split(X, y, random_state=0)\n",
    "print('X_train shape :', X_train.shape, 'y_train shape :', y_train.shape)\n",
    "print('X_test shape :', X_test.shape, 'y_test shape :', y_test.shape)"
   ]
  },
  {
   "cell_type": "code",
   "execution_count": 12,
   "id": "de2ba845",
   "metadata": {
    "ExecuteTime": {
     "end_time": "2023-01-10T09:34:19.440208Z",
     "start_time": "2023-01-10T09:34:19.430350Z"
    }
   },
   "outputs": [
    {
     "data": {
      "text/plain": [
       "0    0.919056\n",
       "1    0.080944\n",
       "Name: TARGET, dtype: float64"
      ]
     },
     "execution_count": 12,
     "metadata": {},
     "output_type": "execute_result"
    }
   ],
   "source": [
    "y_train.value_counts(normalize=True)"
   ]
  },
  {
   "cell_type": "code",
   "execution_count": 13,
   "id": "aa7da935",
   "metadata": {
    "ExecuteTime": {
     "end_time": "2023-01-10T09:34:19.451268Z",
     "start_time": "2023-01-10T09:34:19.443331Z"
    }
   },
   "outputs": [
    {
     "data": {
      "text/plain": [
       "0    0.919911\n",
       "1    0.080089\n",
       "Name: TARGET, dtype: float64"
      ]
     },
     "execution_count": 13,
     "metadata": {},
     "output_type": "execute_result"
    }
   ],
   "source": [
    "y_test.value_counts(normalize=True)"
   ]
  },
  {
   "cell_type": "markdown",
   "id": "b0e57bb2",
   "metadata": {},
   "source": [
    "# Modélisation"
   ]
  },
  {
   "cell_type": "markdown",
   "id": "b14ef3f6",
   "metadata": {},
   "source": [
    "## Preprocessing"
   ]
  },
  {
   "cell_type": "code",
   "execution_count": 40,
   "id": "1bd1d9bc",
   "metadata": {
    "ExecuteTime": {
     "end_time": "2022-12-31T21:58:36.202983Z",
     "start_time": "2022-12-31T21:58:34.088359Z"
    }
   },
   "outputs": [],
   "source": [
    "# Imputation\n",
    "imputer = SimpleImputer(strategy='mean', missing_values=nan)\n",
    "X_train_imp = pd.DataFrame(imputer.fit_transform(X_train), columns=X.columns)\n",
    "X_test_imp = pd.DataFrame(imputer.transform(X_test), columns=X.columns)"
   ]
  },
  {
   "cell_type": "code",
   "execution_count": 41,
   "id": "1b9382d8",
   "metadata": {
    "ExecuteTime": {
     "end_time": "2022-12-31T21:58:37.213413Z",
     "start_time": "2022-12-31T21:58:36.204826Z"
    }
   },
   "outputs": [],
   "source": [
    "# Scaling\n",
    "scaler = StandardScaler()\n",
    "X_train_scale = pd.DataFrame(scaler.fit_transform(X_train_imp), columns=X.columns)\n",
    "X_test_scale = pd.DataFrame(scaler.transform(X_test_imp), columns=X.columns)"
   ]
  },
  {
   "cell_type": "code",
   "execution_count": 42,
   "id": "b1f678f1",
   "metadata": {
    "ExecuteTime": {
     "end_time": "2022-12-31T21:58:37.581710Z",
     "start_time": "2022-12-31T21:58:37.216480Z"
    }
   },
   "outputs": [
    {
     "name": "stdout",
     "output_type": "stream",
     "text": [
      "Before resampling\n",
      "0    211962\n",
      "1     18668\n",
      "Name: TARGET, dtype: int64\n",
      "\n",
      "After resampling\n",
      "0    18668\n",
      "1    18668\n",
      "Name: TARGET, dtype: int64\n"
     ]
    }
   ],
   "source": [
    "print('Before resampling')\n",
    "print(y_train.value_counts())\n",
    "\n",
    "# Undersampling\n",
    "sampler = RandomUnderSampler(random_state=0)\n",
    "X_train_resampled, y_train_resampled = sampler.fit_resample(X_train_scale, y_train)\n",
    "\n",
    "print()\n",
    "print('After resampling')\n",
    "print(y_train_resampled.value_counts())"
   ]
  },
  {
   "cell_type": "markdown",
   "id": "e0530d1d",
   "metadata": {},
   "source": [
    "## Modélisation"
   ]
  },
  {
   "cell_type": "code",
   "execution_count": 43,
   "id": "8af43e12",
   "metadata": {
    "ExecuteTime": {
     "end_time": "2022-12-31T21:58:43.751565Z",
     "start_time": "2022-12-31T21:58:37.583853Z"
    }
   },
   "outputs": [
    {
     "data": {
      "text/html": [
       "<style>#sk-container-id-1 {color: black;background-color: white;}#sk-container-id-1 pre{padding: 0;}#sk-container-id-1 div.sk-toggleable {background-color: white;}#sk-container-id-1 label.sk-toggleable__label {cursor: pointer;display: block;width: 100%;margin-bottom: 0;padding: 0.3em;box-sizing: border-box;text-align: center;}#sk-container-id-1 label.sk-toggleable__label-arrow:before {content: \"▸\";float: left;margin-right: 0.25em;color: #696969;}#sk-container-id-1 label.sk-toggleable__label-arrow:hover:before {color: black;}#sk-container-id-1 div.sk-estimator:hover label.sk-toggleable__label-arrow:before {color: black;}#sk-container-id-1 div.sk-toggleable__content {max-height: 0;max-width: 0;overflow: hidden;text-align: left;background-color: #f0f8ff;}#sk-container-id-1 div.sk-toggleable__content pre {margin: 0.2em;color: black;border-radius: 0.25em;background-color: #f0f8ff;}#sk-container-id-1 input.sk-toggleable__control:checked~div.sk-toggleable__content {max-height: 200px;max-width: 100%;overflow: auto;}#sk-container-id-1 input.sk-toggleable__control:checked~label.sk-toggleable__label-arrow:before {content: \"▾\";}#sk-container-id-1 div.sk-estimator input.sk-toggleable__control:checked~label.sk-toggleable__label {background-color: #d4ebff;}#sk-container-id-1 div.sk-label input.sk-toggleable__control:checked~label.sk-toggleable__label {background-color: #d4ebff;}#sk-container-id-1 input.sk-hidden--visually {border: 0;clip: rect(1px 1px 1px 1px);clip: rect(1px, 1px, 1px, 1px);height: 1px;margin: -1px;overflow: hidden;padding: 0;position: absolute;width: 1px;}#sk-container-id-1 div.sk-estimator {font-family: monospace;background-color: #f0f8ff;border: 1px dotted black;border-radius: 0.25em;box-sizing: border-box;margin-bottom: 0.5em;}#sk-container-id-1 div.sk-estimator:hover {background-color: #d4ebff;}#sk-container-id-1 div.sk-parallel-item::after {content: \"\";width: 100%;border-bottom: 1px solid gray;flex-grow: 1;}#sk-container-id-1 div.sk-label:hover label.sk-toggleable__label {background-color: #d4ebff;}#sk-container-id-1 div.sk-serial::before {content: \"\";position: absolute;border-left: 1px solid gray;box-sizing: border-box;top: 0;bottom: 0;left: 50%;z-index: 0;}#sk-container-id-1 div.sk-serial {display: flex;flex-direction: column;align-items: center;background-color: white;padding-right: 0.2em;padding-left: 0.2em;position: relative;}#sk-container-id-1 div.sk-item {position: relative;z-index: 1;}#sk-container-id-1 div.sk-parallel {display: flex;align-items: stretch;justify-content: center;background-color: white;position: relative;}#sk-container-id-1 div.sk-item::before, #sk-container-id-1 div.sk-parallel-item::before {content: \"\";position: absolute;border-left: 1px solid gray;box-sizing: border-box;top: 0;bottom: 0;left: 50%;z-index: -1;}#sk-container-id-1 div.sk-parallel-item {display: flex;flex-direction: column;z-index: 1;position: relative;background-color: white;}#sk-container-id-1 div.sk-parallel-item:first-child::after {align-self: flex-end;width: 50%;}#sk-container-id-1 div.sk-parallel-item:last-child::after {align-self: flex-start;width: 50%;}#sk-container-id-1 div.sk-parallel-item:only-child::after {width: 0;}#sk-container-id-1 div.sk-dashed-wrapped {border: 1px dashed gray;margin: 0 0.4em 0.5em 0.4em;box-sizing: border-box;padding-bottom: 0.4em;background-color: white;}#sk-container-id-1 div.sk-label label {font-family: monospace;font-weight: bold;display: inline-block;line-height: 1.2em;}#sk-container-id-1 div.sk-label-container {text-align: center;}#sk-container-id-1 div.sk-container {/* jupyter's `normalize.less` sets `[hidden] { display: none; }` but bootstrap.min.css set `[hidden] { display: none !important; }` so we also need the `!important` here to be able to override the default hidden behavior on the sphinx rendered scikit-learn.org. See: https://github.com/scikit-learn/scikit-learn/issues/21755 */display: inline-block !important;position: relative;}#sk-container-id-1 div.sk-text-repr-fallback {display: none;}</style><div id=\"sk-container-id-1\" class=\"sk-top-container\"><div class=\"sk-text-repr-fallback\"><pre>Pipeline(steps=[(&#x27;imputer&#x27;, SimpleImputer(missing_values=1.01010101)),\n",
       "                (&#x27;scaler&#x27;, StandardScaler()),\n",
       "                (&#x27;undersampler&#x27;, RandomUnderSampler(random_state=0)),\n",
       "                (&#x27;model&#x27;, LogisticRegression(max_iter=1000, random_state=42))])</pre><b>In a Jupyter environment, please rerun this cell to show the HTML representation or trust the notebook. <br />On GitHub, the HTML representation is unable to render, please try loading this page with nbviewer.org.</b></div><div class=\"sk-container\" hidden><div class=\"sk-item sk-dashed-wrapped\"><div class=\"sk-label-container\"><div class=\"sk-label sk-toggleable\"><input class=\"sk-toggleable__control sk-hidden--visually\" id=\"sk-estimator-id-1\" type=\"checkbox\" ><label for=\"sk-estimator-id-1\" class=\"sk-toggleable__label sk-toggleable__label-arrow\">Pipeline</label><div class=\"sk-toggleable__content\"><pre>Pipeline(steps=[(&#x27;imputer&#x27;, SimpleImputer(missing_values=1.01010101)),\n",
       "                (&#x27;scaler&#x27;, StandardScaler()),\n",
       "                (&#x27;undersampler&#x27;, RandomUnderSampler(random_state=0)),\n",
       "                (&#x27;model&#x27;, LogisticRegression(max_iter=1000, random_state=42))])</pre></div></div></div><div class=\"sk-serial\"><div class=\"sk-item\"><div class=\"sk-estimator sk-toggleable\"><input class=\"sk-toggleable__control sk-hidden--visually\" id=\"sk-estimator-id-2\" type=\"checkbox\" ><label for=\"sk-estimator-id-2\" class=\"sk-toggleable__label sk-toggleable__label-arrow\">SimpleImputer</label><div class=\"sk-toggleable__content\"><pre>SimpleImputer(missing_values=1.01010101)</pre></div></div></div><div class=\"sk-item\"><div class=\"sk-estimator sk-toggleable\"><input class=\"sk-toggleable__control sk-hidden--visually\" id=\"sk-estimator-id-3\" type=\"checkbox\" ><label for=\"sk-estimator-id-3\" class=\"sk-toggleable__label sk-toggleable__label-arrow\">StandardScaler</label><div class=\"sk-toggleable__content\"><pre>StandardScaler()</pre></div></div></div><div class=\"sk-item\"><div class=\"sk-estimator sk-toggleable\"><input class=\"sk-toggleable__control sk-hidden--visually\" id=\"sk-estimator-id-4\" type=\"checkbox\" ><label for=\"sk-estimator-id-4\" class=\"sk-toggleable__label sk-toggleable__label-arrow\">RandomUnderSampler</label><div class=\"sk-toggleable__content\"><pre>RandomUnderSampler(random_state=0)</pre></div></div></div><div class=\"sk-item\"><div class=\"sk-estimator sk-toggleable\"><input class=\"sk-toggleable__control sk-hidden--visually\" id=\"sk-estimator-id-5\" type=\"checkbox\" ><label for=\"sk-estimator-id-5\" class=\"sk-toggleable__label sk-toggleable__label-arrow\">LogisticRegression</label><div class=\"sk-toggleable__content\"><pre>LogisticRegression(max_iter=1000, random_state=42)</pre></div></div></div></div></div></div></div>"
      ],
      "text/plain": [
       "Pipeline(steps=[('imputer', SimpleImputer(missing_values=1.01010101)),\n",
       "                ('scaler', StandardScaler()),\n",
       "                ('undersampler', RandomUnderSampler(random_state=0)),\n",
       "                ('model', LogisticRegression(max_iter=1000, random_state=42))])"
      ]
     },
     "execution_count": 43,
     "metadata": {},
     "output_type": "execute_result"
    }
   ],
   "source": [
    "pipeline = Pipeline(steps=[('imputer', SimpleImputer(strategy='mean', missing_values=nan)),\n",
    "                           ('scaler', StandardScaler()),\n",
    "                           ('undersampler', RandomUnderSampler(random_state=0)),\n",
    "                           ('model', LogisticRegression(random_state=42, max_iter=1000))\n",
    "                          ])\n",
    "pipeline.fit(X_train, y_train)"
   ]
  },
  {
   "cell_type": "code",
   "execution_count": 44,
   "id": "d3f1b8e3",
   "metadata": {
    "ExecuteTime": {
     "end_time": "2022-12-31T21:59:17.363341Z",
     "start_time": "2022-12-31T21:58:43.754877Z"
    }
   },
   "outputs": [
    {
     "data": {
      "text/html": [
       "<div>\n",
       "<style scoped>\n",
       "    .dataframe tbody tr th:only-of-type {\n",
       "        vertical-align: middle;\n",
       "    }\n",
       "\n",
       "    .dataframe tbody tr th {\n",
       "        vertical-align: top;\n",
       "    }\n",
       "\n",
       "    .dataframe thead th {\n",
       "        text-align: right;\n",
       "    }\n",
       "</style>\n",
       "<table border=\"1\" class=\"dataframe\">\n",
       "  <thead>\n",
       "    <tr style=\"text-align: right;\">\n",
       "      <th></th>\n",
       "      <th>fit_time</th>\n",
       "      <th>score_time</th>\n",
       "      <th>test_precision</th>\n",
       "      <th>test_recall</th>\n",
       "      <th>test_f2</th>\n",
       "    </tr>\n",
       "  </thead>\n",
       "  <tbody>\n",
       "    <tr>\n",
       "      <th>mean</th>\n",
       "      <td>6.297</td>\n",
       "      <td>0.367</td>\n",
       "      <td>0.166</td>\n",
       "      <td>0.690</td>\n",
       "      <td>0.423</td>\n",
       "    </tr>\n",
       "    <tr>\n",
       "      <th>std</th>\n",
       "      <td>0.483</td>\n",
       "      <td>0.004</td>\n",
       "      <td>0.001</td>\n",
       "      <td>0.005</td>\n",
       "      <td>0.002</td>\n",
       "    </tr>\n",
       "  </tbody>\n",
       "</table>\n",
       "</div>"
      ],
      "text/plain": [
       "      fit_time  score_time  test_precision  test_recall  test_f2\n",
       "mean     6.297       0.367           0.166        0.690    0.423\n",
       "std      0.483       0.004           0.001        0.005    0.002"
      ]
     },
     "execution_count": 44,
     "metadata": {},
     "output_type": "execute_result"
    }
   ],
   "source": [
    "# Cross validation sur l'ensemble du jeu de données\n",
    "precision_scorer = make_scorer(metrics.precision_score)\n",
    "recall_scorer = make_scorer(metrics.recall_score)\n",
    "f2_scorer = make_scorer(metrics.fbeta_score, beta=2)\n",
    "scoring = {'precision': precision_scorer, 'recall': recall_scorer, 'f2': f2_scorer}\n",
    "scores = pd.DataFrame(cross_validate(pipeline, X, y, scoring=scoring))\n",
    "scores.describe().loc[['mean', 'std'], :].round(3)"
   ]
  },
  {
   "cell_type": "markdown",
   "id": "e8f9e4a4",
   "metadata": {},
   "source": [
    "## Recherche des hyper-paramètres"
   ]
  },
  {
   "cell_type": "code",
   "execution_count": 17,
   "id": "060628c7",
   "metadata": {
    "ExecuteTime": {
     "end_time": "2022-12-19T07:36:06.139413Z",
     "start_time": "2022-12-19T07:36:06.135886Z"
    }
   },
   "outputs": [],
   "source": [
    "def get_cv_results(grid):\n",
    "    \"\"\"make a fancy df from grid.cv_results_\"\"\"\n",
    "    \n",
    "    results = grid.cv_results_\n",
    "    results = pd.DataFrame(results)\n",
    "    cols = [col for col in results.columns if 'split' not in col]\n",
    "    results = results[cols]\n",
    "    results = results.sort_values(by='rank_test_score')\n",
    "    \n",
    "    return results"
   ]
  },
  {
   "cell_type": "markdown",
   "id": "ca1617ce",
   "metadata": {},
   "source": [
    "### Solver liblinear"
   ]
  },
  {
   "cell_type": "code",
   "execution_count": 66,
   "id": "0f0c124e",
   "metadata": {
    "ExecuteTime": {
     "end_time": "2022-12-18T23:14:10.661792Z",
     "start_time": "2022-12-18T23:06:18.075060Z"
    },
    "scrolled": true
   },
   "outputs": [
    {
     "name": "stdout",
     "output_type": "stream",
     "text": [
      "Fitting 4 folds for each of 18 candidates, totalling 72 fits\n",
      "[CV] END model__C=0.01, model__fit_intercept=True, model__tol=1e-05; total time=   5.2s\n",
      "[CV] END model__C=0.01, model__fit_intercept=True, model__tol=1e-05; total time=   4.9s\n",
      "[CV] END model__C=0.01, model__fit_intercept=True, model__tol=1e-05; total time=   4.8s\n",
      "[CV] END model__C=0.01, model__fit_intercept=True, model__tol=1e-05; total time=   4.9s\n",
      "[CV] END model__C=0.01, model__fit_intercept=True, model__tol=0.0001; total time=   4.3s\n",
      "[CV] END model__C=0.01, model__fit_intercept=True, model__tol=0.0001; total time=   4.3s\n",
      "[CV] END model__C=0.01, model__fit_intercept=True, model__tol=0.0001; total time=   4.3s\n",
      "[CV] END model__C=0.01, model__fit_intercept=True, model__tol=0.0001; total time=   4.4s\n",
      "[CV] END model__C=0.01, model__fit_intercept=True, model__tol=0.001; total time=   3.8s\n",
      "[CV] END model__C=0.01, model__fit_intercept=True, model__tol=0.001; total time=   3.9s\n",
      "[CV] END model__C=0.01, model__fit_intercept=True, model__tol=0.001; total time=   3.8s\n",
      "[CV] END model__C=0.01, model__fit_intercept=True, model__tol=0.001; total time=   3.8s\n",
      "[CV] END model__C=0.01, model__fit_intercept=False, model__tol=1e-05; total time=   4.7s\n",
      "[CV] END model__C=0.01, model__fit_intercept=False, model__tol=1e-05; total time=   4.7s\n",
      "[CV] END model__C=0.01, model__fit_intercept=False, model__tol=1e-05; total time=   4.6s\n",
      "[CV] END model__C=0.01, model__fit_intercept=False, model__tol=1e-05; total time=   4.9s\n",
      "[CV] END model__C=0.01, model__fit_intercept=False, model__tol=0.0001; total time=   4.4s\n",
      "[CV] END model__C=0.01, model__fit_intercept=False, model__tol=0.0001; total time=   4.3s\n",
      "[CV] END model__C=0.01, model__fit_intercept=False, model__tol=0.0001; total time=   4.3s\n",
      "[CV] END model__C=0.01, model__fit_intercept=False, model__tol=0.0001; total time=   4.3s\n",
      "[CV] END model__C=0.01, model__fit_intercept=False, model__tol=0.001; total time=   3.9s\n",
      "[CV] END model__C=0.01, model__fit_intercept=False, model__tol=0.001; total time=   3.8s\n",
      "[CV] END model__C=0.01, model__fit_intercept=False, model__tol=0.001; total time=   4.3s\n",
      "[CV] END model__C=0.01, model__fit_intercept=False, model__tol=0.001; total time=   3.7s\n",
      "[CV] END model__C=0.1, model__fit_intercept=True, model__tol=1e-05; total time=   6.8s\n",
      "[CV] END model__C=0.1, model__fit_intercept=True, model__tol=1e-05; total time=   7.6s\n",
      "[CV] END model__C=0.1, model__fit_intercept=True, model__tol=1e-05; total time=   7.2s\n",
      "[CV] END model__C=0.1, model__fit_intercept=True, model__tol=1e-05; total time=   6.8s\n",
      "[CV] END model__C=0.1, model__fit_intercept=True, model__tol=0.0001; total time=   5.8s\n",
      "[CV] END model__C=0.1, model__fit_intercept=True, model__tol=0.0001; total time=   6.6s\n",
      "[CV] END model__C=0.1, model__fit_intercept=True, model__tol=0.0001; total time=   5.7s\n",
      "[CV] END model__C=0.1, model__fit_intercept=True, model__tol=0.0001; total time=   6.0s\n",
      "[CV] END model__C=0.1, model__fit_intercept=True, model__tol=0.001; total time=   4.5s\n",
      "[CV] END model__C=0.1, model__fit_intercept=True, model__tol=0.001; total time=   4.3s\n",
      "[CV] END model__C=0.1, model__fit_intercept=True, model__tol=0.001; total time=   4.4s\n",
      "[CV] END model__C=0.1, model__fit_intercept=True, model__tol=0.001; total time=   4.4s\n",
      "[CV] END model__C=0.1, model__fit_intercept=False, model__tol=1e-05; total time=   6.7s\n",
      "[CV] END model__C=0.1, model__fit_intercept=False, model__tol=1e-05; total time=   7.7s\n",
      "[CV] END model__C=0.1, model__fit_intercept=False, model__tol=1e-05; total time=   8.6s\n",
      "[CV] END model__C=0.1, model__fit_intercept=False, model__tol=1e-05; total time=  11.4s\n",
      "[CV] END model__C=0.1, model__fit_intercept=False, model__tol=0.0001; total time=   7.5s\n",
      "[CV] END model__C=0.1, model__fit_intercept=False, model__tol=0.0001; total time=   7.2s\n",
      "[CV] END model__C=0.1, model__fit_intercept=False, model__tol=0.0001; total time=   7.1s\n",
      "[CV] END model__C=0.1, model__fit_intercept=False, model__tol=0.0001; total time=   7.0s\n",
      "[CV] END model__C=0.1, model__fit_intercept=False, model__tol=0.001; total time=   5.5s\n",
      "[CV] END model__C=0.1, model__fit_intercept=False, model__tol=0.001; total time=   5.3s\n",
      "[CV] END model__C=0.1, model__fit_intercept=False, model__tol=0.001; total time=   5.4s\n",
      "[CV] END model__C=0.1, model__fit_intercept=False, model__tol=0.001; total time=   5.4s\n",
      "[CV] END model__C=1, model__fit_intercept=True, model__tol=1e-05; total time=  11.5s\n",
      "[CV] END model__C=1, model__fit_intercept=True, model__tol=1e-05; total time=  10.7s\n",
      "[CV] END model__C=1, model__fit_intercept=True, model__tol=1e-05; total time=  10.9s\n",
      "[CV] END model__C=1, model__fit_intercept=True, model__tol=1e-05; total time=  10.8s\n",
      "[CV] END model__C=1, model__fit_intercept=True, model__tol=0.0001; total time=   8.8s\n",
      "[CV] END model__C=1, model__fit_intercept=True, model__tol=0.0001; total time=   7.8s\n",
      "[CV] END model__C=1, model__fit_intercept=True, model__tol=0.0001; total time=   7.8s\n",
      "[CV] END model__C=1, model__fit_intercept=True, model__tol=0.0001; total time=   8.2s\n",
      "[CV] END model__C=1, model__fit_intercept=True, model__tol=0.001; total time=   5.9s\n",
      "[CV] END model__C=1, model__fit_intercept=True, model__tol=0.001; total time=   5.0s\n",
      "[CV] END model__C=1, model__fit_intercept=True, model__tol=0.001; total time=   5.7s\n",
      "[CV] END model__C=1, model__fit_intercept=True, model__tol=0.001; total time=   5.9s\n",
      "[CV] END model__C=1, model__fit_intercept=False, model__tol=1e-05; total time=  10.5s\n",
      "[CV] END model__C=1, model__fit_intercept=False, model__tol=1e-05; total time=  10.9s\n",
      "[CV] END model__C=1, model__fit_intercept=False, model__tol=1e-05; total time=  11.8s\n",
      "[CV] END model__C=1, model__fit_intercept=False, model__tol=1e-05; total time=  11.5s\n",
      "[CV] END model__C=1, model__fit_intercept=False, model__tol=0.0001; total time=   7.3s\n",
      "[CV] END model__C=1, model__fit_intercept=False, model__tol=0.0001; total time=   7.5s\n",
      "[CV] END model__C=1, model__fit_intercept=False, model__tol=0.0001; total time=   8.8s\n",
      "[CV] END model__C=1, model__fit_intercept=False, model__tol=0.0001; total time=   8.7s\n",
      "[CV] END model__C=1, model__fit_intercept=False, model__tol=0.001; total time=   6.6s\n",
      "[CV] END model__C=1, model__fit_intercept=False, model__tol=0.001; total time=   6.8s\n",
      "[CV] END model__C=1, model__fit_intercept=False, model__tol=0.001; total time=   8.0s\n",
      "[CV] END model__C=1, model__fit_intercept=False, model__tol=0.001; total time=   8.1s\n"
     ]
    }
   ],
   "source": [
    "params = {'solver': 'liblinear'}\n",
    " \n",
    "param_grid = {'model__tol': [1e-5, 1e-4, 1e-3],\n",
    "              'model__C': [0.01, 0.1, 1],\n",
    "              #'model__penalty': ['l1', 'l2'], # trop long avec la penalty 'l1'\n",
    "              'model__fit_intercept': [True, False],\n",
    "              #'model__warm_start': [True, False], # ne change rien\n",
    "              }\n",
    "\n",
    "model = LogisticRegression(random_state=42, max_iter=1000, **params)\n",
    "pipeline = Pipeline(steps=[('imputer', SimpleImputer(strategy='mean', missing_values=nan)),\n",
    "                           ('scaler', StandardScaler()),\n",
    "                           ('undersampler', RandomUnderSampler(random_state=0)),\n",
    "                           ('model', model)])\n",
    "\n",
    "grid = GridSearchCV(estimator=pipeline, param_grid=param_grid, scoring=f2_scorer, cv=4, verbose=2)\n",
    "grid.fit(X_train, y_train)\n",
    "cv_results_liblinear = get_cv_results(grid)"
   ]
  },
  {
   "cell_type": "code",
   "execution_count": 67,
   "id": "1b4d806d",
   "metadata": {
    "ExecuteTime": {
     "end_time": "2022-12-18T23:14:10.671146Z",
     "start_time": "2022-12-18T23:14:10.664668Z"
    }
   },
   "outputs": [
    {
     "data": {
      "text/plain": [
       "0.4214826782310498"
      ]
     },
     "execution_count": 67,
     "metadata": {},
     "output_type": "execute_result"
    }
   ],
   "source": [
    "grid.best_score_"
   ]
  },
  {
   "cell_type": "code",
   "execution_count": 78,
   "id": "9c1fcb9c",
   "metadata": {
    "ExecuteTime": {
     "end_time": "2022-12-18T23:27:53.753174Z",
     "start_time": "2022-12-18T23:27:53.733552Z"
    }
   },
   "outputs": [
    {
     "data": {
      "text/html": [
       "<div>\n",
       "<style scoped>\n",
       "    .dataframe tbody tr th:only-of-type {\n",
       "        vertical-align: middle;\n",
       "    }\n",
       "\n",
       "    .dataframe tbody tr th {\n",
       "        vertical-align: top;\n",
       "    }\n",
       "\n",
       "    .dataframe thead th {\n",
       "        text-align: right;\n",
       "    }\n",
       "</style>\n",
       "<table border=\"1\" class=\"dataframe\">\n",
       "  <thead>\n",
       "    <tr style=\"text-align: right;\">\n",
       "      <th></th>\n",
       "      <th>mean_fit_time</th>\n",
       "      <th>std_fit_time</th>\n",
       "      <th>mean_score_time</th>\n",
       "      <th>std_score_time</th>\n",
       "      <th>param_model__C</th>\n",
       "      <th>param_model__fit_intercept</th>\n",
       "      <th>param_model__tol</th>\n",
       "      <th>params</th>\n",
       "      <th>mean_test_score</th>\n",
       "      <th>std_test_score</th>\n",
       "      <th>rank_test_score</th>\n",
       "    </tr>\n",
       "  </thead>\n",
       "  <tbody>\n",
       "    <tr>\n",
       "      <th>1</th>\n",
       "      <td>3.996355</td>\n",
       "      <td>0.042430</td>\n",
       "      <td>0.323797</td>\n",
       "      <td>0.011647</td>\n",
       "      <td>0.01</td>\n",
       "      <td>True</td>\n",
       "      <td>0.0001</td>\n",
       "      <td>{'model__C': 0.01, 'model__fit_intercept': Tru...</td>\n",
       "      <td>0.421483</td>\n",
       "      <td>0.002533</td>\n",
       "      <td>1</td>\n",
       "    </tr>\n",
       "    <tr>\n",
       "      <th>0</th>\n",
       "      <td>4.602310</td>\n",
       "      <td>0.126250</td>\n",
       "      <td>0.326790</td>\n",
       "      <td>0.012260</td>\n",
       "      <td>0.01</td>\n",
       "      <td>True</td>\n",
       "      <td>0.00001</td>\n",
       "      <td>{'model__C': 0.01, 'model__fit_intercept': Tru...</td>\n",
       "      <td>0.421477</td>\n",
       "      <td>0.002536</td>\n",
       "      <td>2</td>\n",
       "    </tr>\n",
       "    <tr>\n",
       "      <th>2</th>\n",
       "      <td>3.507302</td>\n",
       "      <td>0.032662</td>\n",
       "      <td>0.311591</td>\n",
       "      <td>0.001866</td>\n",
       "      <td>0.01</td>\n",
       "      <td>True</td>\n",
       "      <td>0.001</td>\n",
       "      <td>{'model__C': 0.01, 'model__fit_intercept': Tru...</td>\n",
       "      <td>0.421428</td>\n",
       "      <td>0.002529</td>\n",
       "      <td>3</td>\n",
       "    </tr>\n",
       "    <tr>\n",
       "      <th>8</th>\n",
       "      <td>4.092709</td>\n",
       "      <td>0.048042</td>\n",
       "      <td>0.302105</td>\n",
       "      <td>0.001189</td>\n",
       "      <td>0.1</td>\n",
       "      <td>True</td>\n",
       "      <td>0.001</td>\n",
       "      <td>{'model__C': 0.1, 'model__fit_intercept': True...</td>\n",
       "      <td>0.421426</td>\n",
       "      <td>0.002752</td>\n",
       "      <td>4</td>\n",
       "    </tr>\n",
       "    <tr>\n",
       "      <th>7</th>\n",
       "      <td>5.731094</td>\n",
       "      <td>0.340119</td>\n",
       "      <td>0.315214</td>\n",
       "      <td>0.002983</td>\n",
       "      <td>0.1</td>\n",
       "      <td>True</td>\n",
       "      <td>0.0001</td>\n",
       "      <td>{'model__C': 0.1, 'model__fit_intercept': True...</td>\n",
       "      <td>0.421350</td>\n",
       "      <td>0.002797</td>\n",
       "      <td>5</td>\n",
       "    </tr>\n",
       "    <tr>\n",
       "      <th>6</th>\n",
       "      <td>6.778081</td>\n",
       "      <td>0.332725</td>\n",
       "      <td>0.314398</td>\n",
       "      <td>0.009855</td>\n",
       "      <td>0.1</td>\n",
       "      <td>True</td>\n",
       "      <td>0.00001</td>\n",
       "      <td>{'model__C': 0.1, 'model__fit_intercept': True...</td>\n",
       "      <td>0.421347</td>\n",
       "      <td>0.002801</td>\n",
       "      <td>6</td>\n",
       "    </tr>\n",
       "    <tr>\n",
       "      <th>13</th>\n",
       "      <td>7.821420</td>\n",
       "      <td>0.401799</td>\n",
       "      <td>0.322319</td>\n",
       "      <td>0.012869</td>\n",
       "      <td>1</td>\n",
       "      <td>True</td>\n",
       "      <td>0.0001</td>\n",
       "      <td>{'model__C': 1, 'model__fit_intercept': True, ...</td>\n",
       "      <td>0.421094</td>\n",
       "      <td>0.002898</td>\n",
       "      <td>7</td>\n",
       "    </tr>\n",
       "    <tr>\n",
       "      <th>12</th>\n",
       "      <td>10.627227</td>\n",
       "      <td>0.306360</td>\n",
       "      <td>0.329672</td>\n",
       "      <td>0.011503</td>\n",
       "      <td>1</td>\n",
       "      <td>True</td>\n",
       "      <td>0.00001</td>\n",
       "      <td>{'model__C': 1, 'model__fit_intercept': True, ...</td>\n",
       "      <td>0.421062</td>\n",
       "      <td>0.002867</td>\n",
       "      <td>8</td>\n",
       "    </tr>\n",
       "    <tr>\n",
       "      <th>14</th>\n",
       "      <td>5.304312</td>\n",
       "      <td>0.358963</td>\n",
       "      <td>0.325573</td>\n",
       "      <td>0.022065</td>\n",
       "      <td>1</td>\n",
       "      <td>True</td>\n",
       "      <td>0.001</td>\n",
       "      <td>{'model__C': 1, 'model__fit_intercept': True, ...</td>\n",
       "      <td>0.421047</td>\n",
       "      <td>0.002757</td>\n",
       "      <td>9</td>\n",
       "    </tr>\n",
       "    <tr>\n",
       "      <th>4</th>\n",
       "      <td>3.999324</td>\n",
       "      <td>0.042555</td>\n",
       "      <td>0.318275</td>\n",
       "      <td>0.001783</td>\n",
       "      <td>0.01</td>\n",
       "      <td>False</td>\n",
       "      <td>0.0001</td>\n",
       "      <td>{'model__C': 0.01, 'model__fit_intercept': Fal...</td>\n",
       "      <td>0.406729</td>\n",
       "      <td>0.002000</td>\n",
       "      <td>10</td>\n",
       "    </tr>\n",
       "    <tr>\n",
       "      <th>3</th>\n",
       "      <td>4.408213</td>\n",
       "      <td>0.113545</td>\n",
       "      <td>0.319213</td>\n",
       "      <td>0.006776</td>\n",
       "      <td>0.01</td>\n",
       "      <td>False</td>\n",
       "      <td>0.00001</td>\n",
       "      <td>{'model__C': 0.01, 'model__fit_intercept': Fal...</td>\n",
       "      <td>0.406727</td>\n",
       "      <td>0.001997</td>\n",
       "      <td>11</td>\n",
       "    </tr>\n",
       "    <tr>\n",
       "      <th>5</th>\n",
       "      <td>3.604773</td>\n",
       "      <td>0.214450</td>\n",
       "      <td>0.316913</td>\n",
       "      <td>0.011467</td>\n",
       "      <td>0.01</td>\n",
       "      <td>False</td>\n",
       "      <td>0.001</td>\n",
       "      <td>{'model__C': 0.01, 'model__fit_intercept': Fal...</td>\n",
       "      <td>0.406723</td>\n",
       "      <td>0.001993</td>\n",
       "      <td>12</td>\n",
       "    </tr>\n",
       "    <tr>\n",
       "      <th>17</th>\n",
       "      <td>7.030493</td>\n",
       "      <td>0.682039</td>\n",
       "      <td>0.339235</td>\n",
       "      <td>0.025476</td>\n",
       "      <td>1</td>\n",
       "      <td>False</td>\n",
       "      <td>0.001</td>\n",
       "      <td>{'model__C': 1, 'model__fit_intercept': False,...</td>\n",
       "      <td>0.406241</td>\n",
       "      <td>0.002299</td>\n",
       "      <td>13</td>\n",
       "    </tr>\n",
       "    <tr>\n",
       "      <th>16</th>\n",
       "      <td>7.781117</td>\n",
       "      <td>0.698252</td>\n",
       "      <td>0.311347</td>\n",
       "      <td>0.005623</td>\n",
       "      <td>1</td>\n",
       "      <td>False</td>\n",
       "      <td>0.0001</td>\n",
       "      <td>{'model__C': 1, 'model__fit_intercept': False,...</td>\n",
       "      <td>0.406153</td>\n",
       "      <td>0.002228</td>\n",
       "      <td>14</td>\n",
       "    </tr>\n",
       "    <tr>\n",
       "      <th>15</th>\n",
       "      <td>10.840126</td>\n",
       "      <td>0.521975</td>\n",
       "      <td>0.331175</td>\n",
       "      <td>0.010801</td>\n",
       "      <td>1</td>\n",
       "      <td>False</td>\n",
       "      <td>0.00001</td>\n",
       "      <td>{'model__C': 1, 'model__fit_intercept': False,...</td>\n",
       "      <td>0.406153</td>\n",
       "      <td>0.002228</td>\n",
       "      <td>14</td>\n",
       "    </tr>\n",
       "    <tr>\n",
       "      <th>11</th>\n",
       "      <td>5.044939</td>\n",
       "      <td>0.066891</td>\n",
       "      <td>0.380680</td>\n",
       "      <td>0.008578</td>\n",
       "      <td>0.1</td>\n",
       "      <td>False</td>\n",
       "      <td>0.001</td>\n",
       "      <td>{'model__C': 0.1, 'model__fit_intercept': Fals...</td>\n",
       "      <td>0.406146</td>\n",
       "      <td>0.002395</td>\n",
       "      <td>16</td>\n",
       "    </tr>\n",
       "    <tr>\n",
       "      <th>10</th>\n",
       "      <td>6.822060</td>\n",
       "      <td>0.184154</td>\n",
       "      <td>0.366276</td>\n",
       "      <td>0.004222</td>\n",
       "      <td>0.1</td>\n",
       "      <td>False</td>\n",
       "      <td>0.0001</td>\n",
       "      <td>{'model__C': 0.1, 'model__fit_intercept': Fals...</td>\n",
       "      <td>0.406132</td>\n",
       "      <td>0.002333</td>\n",
       "      <td>17</td>\n",
       "    </tr>\n",
       "    <tr>\n",
       "      <th>9</th>\n",
       "      <td>8.213003</td>\n",
       "      <td>1.691199</td>\n",
       "      <td>0.394856</td>\n",
       "      <td>0.068834</td>\n",
       "      <td>0.1</td>\n",
       "      <td>False</td>\n",
       "      <td>0.00001</td>\n",
       "      <td>{'model__C': 0.1, 'model__fit_intercept': Fals...</td>\n",
       "      <td>0.406126</td>\n",
       "      <td>0.002345</td>\n",
       "      <td>18</td>\n",
       "    </tr>\n",
       "  </tbody>\n",
       "</table>\n",
       "</div>"
      ],
      "text/plain": [
       "    mean_fit_time  std_fit_time  mean_score_time  std_score_time  \\\n",
       "1        3.996355      0.042430         0.323797        0.011647   \n",
       "0        4.602310      0.126250         0.326790        0.012260   \n",
       "2        3.507302      0.032662         0.311591        0.001866   \n",
       "8        4.092709      0.048042         0.302105        0.001189   \n",
       "7        5.731094      0.340119         0.315214        0.002983   \n",
       "6        6.778081      0.332725         0.314398        0.009855   \n",
       "13       7.821420      0.401799         0.322319        0.012869   \n",
       "12      10.627227      0.306360         0.329672        0.011503   \n",
       "14       5.304312      0.358963         0.325573        0.022065   \n",
       "4        3.999324      0.042555         0.318275        0.001783   \n",
       "3        4.408213      0.113545         0.319213        0.006776   \n",
       "5        3.604773      0.214450         0.316913        0.011467   \n",
       "17       7.030493      0.682039         0.339235        0.025476   \n",
       "16       7.781117      0.698252         0.311347        0.005623   \n",
       "15      10.840126      0.521975         0.331175        0.010801   \n",
       "11       5.044939      0.066891         0.380680        0.008578   \n",
       "10       6.822060      0.184154         0.366276        0.004222   \n",
       "9        8.213003      1.691199         0.394856        0.068834   \n",
       "\n",
       "   param_model__C param_model__fit_intercept param_model__tol  \\\n",
       "1            0.01                       True           0.0001   \n",
       "0            0.01                       True          0.00001   \n",
       "2            0.01                       True            0.001   \n",
       "8             0.1                       True            0.001   \n",
       "7             0.1                       True           0.0001   \n",
       "6             0.1                       True          0.00001   \n",
       "13              1                       True           0.0001   \n",
       "12              1                       True          0.00001   \n",
       "14              1                       True            0.001   \n",
       "4            0.01                      False           0.0001   \n",
       "3            0.01                      False          0.00001   \n",
       "5            0.01                      False            0.001   \n",
       "17              1                      False            0.001   \n",
       "16              1                      False           0.0001   \n",
       "15              1                      False          0.00001   \n",
       "11            0.1                      False            0.001   \n",
       "10            0.1                      False           0.0001   \n",
       "9             0.1                      False          0.00001   \n",
       "\n",
       "                                               params  mean_test_score  \\\n",
       "1   {'model__C': 0.01, 'model__fit_intercept': Tru...         0.421483   \n",
       "0   {'model__C': 0.01, 'model__fit_intercept': Tru...         0.421477   \n",
       "2   {'model__C': 0.01, 'model__fit_intercept': Tru...         0.421428   \n",
       "8   {'model__C': 0.1, 'model__fit_intercept': True...         0.421426   \n",
       "7   {'model__C': 0.1, 'model__fit_intercept': True...         0.421350   \n",
       "6   {'model__C': 0.1, 'model__fit_intercept': True...         0.421347   \n",
       "13  {'model__C': 1, 'model__fit_intercept': True, ...         0.421094   \n",
       "12  {'model__C': 1, 'model__fit_intercept': True, ...         0.421062   \n",
       "14  {'model__C': 1, 'model__fit_intercept': True, ...         0.421047   \n",
       "4   {'model__C': 0.01, 'model__fit_intercept': Fal...         0.406729   \n",
       "3   {'model__C': 0.01, 'model__fit_intercept': Fal...         0.406727   \n",
       "5   {'model__C': 0.01, 'model__fit_intercept': Fal...         0.406723   \n",
       "17  {'model__C': 1, 'model__fit_intercept': False,...         0.406241   \n",
       "16  {'model__C': 1, 'model__fit_intercept': False,...         0.406153   \n",
       "15  {'model__C': 1, 'model__fit_intercept': False,...         0.406153   \n",
       "11  {'model__C': 0.1, 'model__fit_intercept': Fals...         0.406146   \n",
       "10  {'model__C': 0.1, 'model__fit_intercept': Fals...         0.406132   \n",
       "9   {'model__C': 0.1, 'model__fit_intercept': Fals...         0.406126   \n",
       "\n",
       "    std_test_score  rank_test_score  \n",
       "1         0.002533                1  \n",
       "0         0.002536                2  \n",
       "2         0.002529                3  \n",
       "8         0.002752                4  \n",
       "7         0.002797                5  \n",
       "6         0.002801                6  \n",
       "13        0.002898                7  \n",
       "12        0.002867                8  \n",
       "14        0.002757                9  \n",
       "4         0.002000               10  \n",
       "3         0.001997               11  \n",
       "5         0.001993               12  \n",
       "17        0.002299               13  \n",
       "16        0.002228               14  \n",
       "15        0.002228               14  \n",
       "11        0.002395               16  \n",
       "10        0.002333               17  \n",
       "9         0.002345               18  "
      ]
     },
     "execution_count": 78,
     "metadata": {},
     "output_type": "execute_result"
    }
   ],
   "source": [
    "cv_results_liblinear.head(20)"
   ]
  },
  {
   "cell_type": "code",
   "execution_count": 69,
   "id": "bed36c23",
   "metadata": {
    "ExecuteTime": {
     "end_time": "2022-12-18T23:14:10.711648Z",
     "start_time": "2022-12-18T23:14:10.697101Z"
    }
   },
   "outputs": [
    {
     "data": {
      "text/html": [
       "<div>\n",
       "<style scoped>\n",
       "    .dataframe tbody tr th:only-of-type {\n",
       "        vertical-align: middle;\n",
       "    }\n",
       "\n",
       "    .dataframe tbody tr th {\n",
       "        vertical-align: top;\n",
       "    }\n",
       "\n",
       "    .dataframe thead th {\n",
       "        text-align: right;\n",
       "    }\n",
       "</style>\n",
       "<table border=\"1\" class=\"dataframe\">\n",
       "  <thead>\n",
       "    <tr style=\"text-align: right;\">\n",
       "      <th></th>\n",
       "      <th>mean_fit_time</th>\n",
       "      <th>std_fit_time</th>\n",
       "      <th>mean_score_time</th>\n",
       "      <th>std_score_time</th>\n",
       "      <th>param_model__C</th>\n",
       "      <th>param_model__fit_intercept</th>\n",
       "      <th>param_model__tol</th>\n",
       "      <th>params</th>\n",
       "      <th>mean_test_score</th>\n",
       "      <th>std_test_score</th>\n",
       "      <th>rank_test_score</th>\n",
       "    </tr>\n",
       "  </thead>\n",
       "  <tbody>\n",
       "    <tr>\n",
       "      <th>16</th>\n",
       "      <td>7.781117</td>\n",
       "      <td>0.698252</td>\n",
       "      <td>0.311347</td>\n",
       "      <td>0.005623</td>\n",
       "      <td>1</td>\n",
       "      <td>False</td>\n",
       "      <td>0.0001</td>\n",
       "      <td>{'model__C': 1, 'model__fit_intercept': False,...</td>\n",
       "      <td>0.406153</td>\n",
       "      <td>0.002228</td>\n",
       "      <td>14</td>\n",
       "    </tr>\n",
       "    <tr>\n",
       "      <th>15</th>\n",
       "      <td>10.840126</td>\n",
       "      <td>0.521975</td>\n",
       "      <td>0.331175</td>\n",
       "      <td>0.010801</td>\n",
       "      <td>1</td>\n",
       "      <td>False</td>\n",
       "      <td>0.00001</td>\n",
       "      <td>{'model__C': 1, 'model__fit_intercept': False,...</td>\n",
       "      <td>0.406153</td>\n",
       "      <td>0.002228</td>\n",
       "      <td>14</td>\n",
       "    </tr>\n",
       "    <tr>\n",
       "      <th>11</th>\n",
       "      <td>5.044939</td>\n",
       "      <td>0.066891</td>\n",
       "      <td>0.380680</td>\n",
       "      <td>0.008578</td>\n",
       "      <td>0.1</td>\n",
       "      <td>False</td>\n",
       "      <td>0.001</td>\n",
       "      <td>{'model__C': 0.1, 'model__fit_intercept': Fals...</td>\n",
       "      <td>0.406146</td>\n",
       "      <td>0.002395</td>\n",
       "      <td>16</td>\n",
       "    </tr>\n",
       "    <tr>\n",
       "      <th>10</th>\n",
       "      <td>6.822060</td>\n",
       "      <td>0.184154</td>\n",
       "      <td>0.366276</td>\n",
       "      <td>0.004222</td>\n",
       "      <td>0.1</td>\n",
       "      <td>False</td>\n",
       "      <td>0.0001</td>\n",
       "      <td>{'model__C': 0.1, 'model__fit_intercept': Fals...</td>\n",
       "      <td>0.406132</td>\n",
       "      <td>0.002333</td>\n",
       "      <td>17</td>\n",
       "    </tr>\n",
       "    <tr>\n",
       "      <th>9</th>\n",
       "      <td>8.213003</td>\n",
       "      <td>1.691199</td>\n",
       "      <td>0.394856</td>\n",
       "      <td>0.068834</td>\n",
       "      <td>0.1</td>\n",
       "      <td>False</td>\n",
       "      <td>0.00001</td>\n",
       "      <td>{'model__C': 0.1, 'model__fit_intercept': Fals...</td>\n",
       "      <td>0.406126</td>\n",
       "      <td>0.002345</td>\n",
       "      <td>18</td>\n",
       "    </tr>\n",
       "  </tbody>\n",
       "</table>\n",
       "</div>"
      ],
      "text/plain": [
       "    mean_fit_time  std_fit_time  mean_score_time  std_score_time  \\\n",
       "16       7.781117      0.698252         0.311347        0.005623   \n",
       "15      10.840126      0.521975         0.331175        0.010801   \n",
       "11       5.044939      0.066891         0.380680        0.008578   \n",
       "10       6.822060      0.184154         0.366276        0.004222   \n",
       "9        8.213003      1.691199         0.394856        0.068834   \n",
       "\n",
       "   param_model__C param_model__fit_intercept param_model__tol  \\\n",
       "16              1                      False           0.0001   \n",
       "15              1                      False          0.00001   \n",
       "11            0.1                      False            0.001   \n",
       "10            0.1                      False           0.0001   \n",
       "9             0.1                      False          0.00001   \n",
       "\n",
       "                                               params  mean_test_score  \\\n",
       "16  {'model__C': 1, 'model__fit_intercept': False,...         0.406153   \n",
       "15  {'model__C': 1, 'model__fit_intercept': False,...         0.406153   \n",
       "11  {'model__C': 0.1, 'model__fit_intercept': Fals...         0.406146   \n",
       "10  {'model__C': 0.1, 'model__fit_intercept': Fals...         0.406132   \n",
       "9   {'model__C': 0.1, 'model__fit_intercept': Fals...         0.406126   \n",
       "\n",
       "    std_test_score  rank_test_score  \n",
       "16        0.002228               14  \n",
       "15        0.002228               14  \n",
       "11        0.002395               16  \n",
       "10        0.002333               17  \n",
       "9         0.002345               18  "
      ]
     },
     "execution_count": 69,
     "metadata": {},
     "output_type": "execute_result"
    }
   ],
   "source": [
    "cv_results_liblinear.tail()"
   ]
  },
  {
   "cell_type": "markdown",
   "id": "954bb476",
   "metadata": {},
   "source": [
    "### Solver lbfgs"
   ]
  },
  {
   "cell_type": "code",
   "execution_count": 70,
   "id": "69153c07",
   "metadata": {
    "ExecuteTime": {
     "end_time": "2022-12-18T23:19:13.931168Z",
     "start_time": "2022-12-18T23:14:10.713593Z"
    },
    "scrolled": true
   },
   "outputs": [
    {
     "name": "stdout",
     "output_type": "stream",
     "text": [
      "Fitting 4 folds for each of 18 candidates, totalling 72 fits\n",
      "[CV] END model__C=0.01, model__fit_intercept=True, model__tol=1e-05; total time=   3.2s\n",
      "[CV] END model__C=0.01, model__fit_intercept=True, model__tol=1e-05; total time=   3.1s\n",
      "[CV] END model__C=0.01, model__fit_intercept=True, model__tol=1e-05; total time=   3.1s\n",
      "[CV] END model__C=0.01, model__fit_intercept=True, model__tol=1e-05; total time=   3.1s\n",
      "[CV] END model__C=0.01, model__fit_intercept=True, model__tol=0.0001; total time=   3.1s\n",
      "[CV] END model__C=0.01, model__fit_intercept=True, model__tol=0.0001; total time=   3.0s\n",
      "[CV] END model__C=0.01, model__fit_intercept=True, model__tol=0.0001; total time=   3.1s\n",
      "[CV] END model__C=0.01, model__fit_intercept=True, model__tol=0.0001; total time=   3.0s\n",
      "[CV] END model__C=0.01, model__fit_intercept=True, model__tol=0.001; total time=   3.3s\n",
      "[CV] END model__C=0.01, model__fit_intercept=True, model__tol=0.001; total time=   3.7s\n",
      "[CV] END model__C=0.01, model__fit_intercept=True, model__tol=0.001; total time=   3.1s\n",
      "[CV] END model__C=0.01, model__fit_intercept=True, model__tol=0.001; total time=   3.1s\n",
      "[CV] END model__C=0.01, model__fit_intercept=False, model__tol=1e-05; total time=   3.1s\n",
      "[CV] END model__C=0.01, model__fit_intercept=False, model__tol=1e-05; total time=   3.0s\n",
      "[CV] END model__C=0.01, model__fit_intercept=False, model__tol=1e-05; total time=   3.3s\n",
      "[CV] END model__C=0.01, model__fit_intercept=False, model__tol=1e-05; total time=   3.1s\n",
      "[CV] END model__C=0.01, model__fit_intercept=False, model__tol=0.0001; total time=   3.1s\n",
      "[CV] END model__C=0.01, model__fit_intercept=False, model__tol=0.0001; total time=   3.1s\n",
      "[CV] END model__C=0.01, model__fit_intercept=False, model__tol=0.0001; total time=   3.2s\n",
      "[CV] END model__C=0.01, model__fit_intercept=False, model__tol=0.0001; total time=   3.1s\n",
      "[CV] END model__C=0.01, model__fit_intercept=False, model__tol=0.001; total time=   3.2s\n",
      "[CV] END model__C=0.01, model__fit_intercept=False, model__tol=0.001; total time=   3.2s\n",
      "[CV] END model__C=0.01, model__fit_intercept=False, model__tol=0.001; total time=   3.1s\n",
      "[CV] END model__C=0.01, model__fit_intercept=False, model__tol=0.001; total time=   3.1s\n",
      "[CV] END model__C=0.1, model__fit_intercept=True, model__tol=1e-05; total time=   3.9s\n",
      "[CV] END model__C=0.1, model__fit_intercept=True, model__tol=1e-05; total time=   3.9s\n",
      "[CV] END model__C=0.1, model__fit_intercept=True, model__tol=1e-05; total time=   4.0s\n",
      "[CV] END model__C=0.1, model__fit_intercept=True, model__tol=1e-05; total time=   4.0s\n",
      "[CV] END model__C=0.1, model__fit_intercept=True, model__tol=0.0001; total time=   3.9s\n",
      "[CV] END model__C=0.1, model__fit_intercept=True, model__tol=0.0001; total time=   3.8s\n",
      "[CV] END model__C=0.1, model__fit_intercept=True, model__tol=0.0001; total time=   4.0s\n",
      "[CV] END model__C=0.1, model__fit_intercept=True, model__tol=0.0001; total time=   4.1s\n",
      "[CV] END model__C=0.1, model__fit_intercept=True, model__tol=0.001; total time=   4.0s\n",
      "[CV] END model__C=0.1, model__fit_intercept=True, model__tol=0.001; total time=   3.9s\n",
      "[CV] END model__C=0.1, model__fit_intercept=True, model__tol=0.001; total time=   4.0s\n",
      "[CV] END model__C=0.1, model__fit_intercept=True, model__tol=0.001; total time=   3.9s\n",
      "[CV] END model__C=0.1, model__fit_intercept=False, model__tol=1e-05; total time=   4.8s\n",
      "[CV] END model__C=0.1, model__fit_intercept=False, model__tol=1e-05; total time=   5.5s\n",
      "[CV] END model__C=0.1, model__fit_intercept=False, model__tol=1e-05; total time=   5.5s\n",
      "[CV] END model__C=0.1, model__fit_intercept=False, model__tol=1e-05; total time=   5.6s\n",
      "[CV] END model__C=0.1, model__fit_intercept=False, model__tol=0.0001; total time=   4.6s\n",
      "[CV] END model__C=0.1, model__fit_intercept=False, model__tol=0.0001; total time=   4.2s\n",
      "[CV] END model__C=0.1, model__fit_intercept=False, model__tol=0.0001; total time=   4.1s\n",
      "[CV] END model__C=0.1, model__fit_intercept=False, model__tol=0.0001; total time=   3.9s\n",
      "[CV] END model__C=0.1, model__fit_intercept=False, model__tol=0.001; total time=   3.8s\n",
      "[CV] END model__C=0.1, model__fit_intercept=False, model__tol=0.001; total time=   4.2s\n",
      "[CV] END model__C=0.1, model__fit_intercept=False, model__tol=0.001; total time=   4.4s\n",
      "[CV] END model__C=0.1, model__fit_intercept=False, model__tol=0.001; total time=   4.8s\n",
      "[CV] END model__C=1, model__fit_intercept=True, model__tol=1e-05; total time=   5.3s\n",
      "[CV] END model__C=1, model__fit_intercept=True, model__tol=1e-05; total time=   5.1s\n",
      "[CV] END model__C=1, model__fit_intercept=True, model__tol=1e-05; total time=   4.8s\n",
      "[CV] END model__C=1, model__fit_intercept=True, model__tol=1e-05; total time=   4.8s\n",
      "[CV] END model__C=1, model__fit_intercept=True, model__tol=0.0001; total time=   4.5s\n",
      "[CV] END model__C=1, model__fit_intercept=True, model__tol=0.0001; total time=   5.0s\n",
      "[CV] END model__C=1, model__fit_intercept=True, model__tol=0.0001; total time=   4.7s\n",
      "[CV] END model__C=1, model__fit_intercept=True, model__tol=0.0001; total time=   5.0s\n",
      "[CV] END model__C=1, model__fit_intercept=True, model__tol=0.001; total time=   4.7s\n",
      "[CV] END model__C=1, model__fit_intercept=True, model__tol=0.001; total time=   5.1s\n",
      "[CV] END model__C=1, model__fit_intercept=True, model__tol=0.001; total time=   4.6s\n",
      "[CV] END model__C=1, model__fit_intercept=True, model__tol=0.001; total time=   5.0s\n",
      "[CV] END model__C=1, model__fit_intercept=False, model__tol=1e-05; total time=   4.8s\n",
      "[CV] END model__C=1, model__fit_intercept=False, model__tol=1e-05; total time=   4.6s\n",
      "[CV] END model__C=1, model__fit_intercept=False, model__tol=1e-05; total time=   4.8s\n",
      "[CV] END model__C=1, model__fit_intercept=False, model__tol=1e-05; total time=   4.8s\n",
      "[CV] END model__C=1, model__fit_intercept=False, model__tol=0.0001; total time=   5.1s\n",
      "[CV] END model__C=1, model__fit_intercept=False, model__tol=0.0001; total time=   5.3s\n",
      "[CV] END model__C=1, model__fit_intercept=False, model__tol=0.0001; total time=   4.9s\n",
      "[CV] END model__C=1, model__fit_intercept=False, model__tol=0.0001; total time=   5.2s\n",
      "[CV] END model__C=1, model__fit_intercept=False, model__tol=0.001; total time=   5.3s\n",
      "[CV] END model__C=1, model__fit_intercept=False, model__tol=0.001; total time=   4.6s\n",
      "[CV] END model__C=1, model__fit_intercept=False, model__tol=0.001; total time=   4.9s\n",
      "[CV] END model__C=1, model__fit_intercept=False, model__tol=0.001; total time=   4.7s\n"
     ]
    }
   ],
   "source": [
    "params = {'solver': 'lbfgs'} \n",
    "param_grid = {'model__tol': [1e-5, 1e-4, 1e-3],\n",
    "              'model__C': [0.01, 0.1, 1],\n",
    "              #'model__penalty': ['l1', 'l2'],\n",
    "              'model__fit_intercept': [True, False],\n",
    "              #'model__warm_start': [True, False], # ne change rien\n",
    "              }\n",
    "\n",
    "model = LogisticRegression(random_state=42, max_iter=1000, **params)\n",
    "pipeline = Pipeline(steps=[('imputer', SimpleImputer(strategy='mean', missing_values=nan)),\n",
    "                           ('scaler', StandardScaler()),\n",
    "                           ('undersampler', RandomUnderSampler(random_state=0)),\n",
    "                           ('model', model)])\n",
    "\n",
    "grid = GridSearchCV(estimator=pipeline, param_grid=param_grid, scoring=f2_scorer, cv=4, verbose=2)\n",
    "grid.fit(X_train, y_train)\n",
    "cv_results_lbfgs = get_cv_results(grid)"
   ]
  },
  {
   "cell_type": "code",
   "execution_count": 71,
   "id": "cd01bee6",
   "metadata": {
    "ExecuteTime": {
     "end_time": "2022-12-18T23:19:13.941242Z",
     "start_time": "2022-12-18T23:19:13.934374Z"
    }
   },
   "outputs": [
    {
     "data": {
      "text/plain": [
       "0.421393633089406"
      ]
     },
     "execution_count": 71,
     "metadata": {},
     "output_type": "execute_result"
    }
   ],
   "source": [
    "grid.best_score_"
   ]
  },
  {
   "cell_type": "code",
   "execution_count": 72,
   "id": "6dc4cc4c",
   "metadata": {
    "ExecuteTime": {
     "end_time": "2022-12-18T23:19:13.976206Z",
     "start_time": "2022-12-18T23:19:13.946392Z"
    }
   },
   "outputs": [
    {
     "data": {
      "text/html": [
       "<div>\n",
       "<style scoped>\n",
       "    .dataframe tbody tr th:only-of-type {\n",
       "        vertical-align: middle;\n",
       "    }\n",
       "\n",
       "    .dataframe tbody tr th {\n",
       "        vertical-align: top;\n",
       "    }\n",
       "\n",
       "    .dataframe thead th {\n",
       "        text-align: right;\n",
       "    }\n",
       "</style>\n",
       "<table border=\"1\" class=\"dataframe\">\n",
       "  <thead>\n",
       "    <tr style=\"text-align: right;\">\n",
       "      <th></th>\n",
       "      <th>mean_fit_time</th>\n",
       "      <th>std_fit_time</th>\n",
       "      <th>mean_score_time</th>\n",
       "      <th>std_score_time</th>\n",
       "      <th>param_model__C</th>\n",
       "      <th>param_model__fit_intercept</th>\n",
       "      <th>param_model__tol</th>\n",
       "      <th>params</th>\n",
       "      <th>mean_test_score</th>\n",
       "      <th>std_test_score</th>\n",
       "      <th>rank_test_score</th>\n",
       "    </tr>\n",
       "  </thead>\n",
       "  <tbody>\n",
       "    <tr>\n",
       "      <th>8</th>\n",
       "      <td>3.615892</td>\n",
       "      <td>0.058406</td>\n",
       "      <td>0.319461</td>\n",
       "      <td>0.013745</td>\n",
       "      <td>0.1</td>\n",
       "      <td>True</td>\n",
       "      <td>0.001</td>\n",
       "      <td>{'model__C': 0.1, 'model__fit_intercept': True...</td>\n",
       "      <td>0.421394</td>\n",
       "      <td>0.002793</td>\n",
       "      <td>1</td>\n",
       "    </tr>\n",
       "    <tr>\n",
       "      <th>7</th>\n",
       "      <td>3.644416</td>\n",
       "      <td>0.111247</td>\n",
       "      <td>0.329804</td>\n",
       "      <td>0.018101</td>\n",
       "      <td>0.1</td>\n",
       "      <td>True</td>\n",
       "      <td>0.0001</td>\n",
       "      <td>{'model__C': 0.1, 'model__fit_intercept': True...</td>\n",
       "      <td>0.421394</td>\n",
       "      <td>0.002793</td>\n",
       "      <td>1</td>\n",
       "    </tr>\n",
       "    <tr>\n",
       "      <th>6</th>\n",
       "      <td>3.601316</td>\n",
       "      <td>0.074015</td>\n",
       "      <td>0.330646</td>\n",
       "      <td>0.021645</td>\n",
       "      <td>0.1</td>\n",
       "      <td>True</td>\n",
       "      <td>0.00001</td>\n",
       "      <td>{'model__C': 0.1, 'model__fit_intercept': True...</td>\n",
       "      <td>0.421394</td>\n",
       "      <td>0.002793</td>\n",
       "      <td>1</td>\n",
       "    </tr>\n",
       "    <tr>\n",
       "      <th>0</th>\n",
       "      <td>2.807056</td>\n",
       "      <td>0.030672</td>\n",
       "      <td>0.313215</td>\n",
       "      <td>0.001744</td>\n",
       "      <td>0.01</td>\n",
       "      <td>True</td>\n",
       "      <td>0.00001</td>\n",
       "      <td>{'model__C': 0.01, 'model__fit_intercept': Tru...</td>\n",
       "      <td>0.421115</td>\n",
       "      <td>0.003087</td>\n",
       "      <td>4</td>\n",
       "    </tr>\n",
       "    <tr>\n",
       "      <th>2</th>\n",
       "      <td>2.939474</td>\n",
       "      <td>0.220374</td>\n",
       "      <td>0.352369</td>\n",
       "      <td>0.051694</td>\n",
       "      <td>0.01</td>\n",
       "      <td>True</td>\n",
       "      <td>0.001</td>\n",
       "      <td>{'model__C': 0.01, 'model__fit_intercept': Tru...</td>\n",
       "      <td>0.421115</td>\n",
       "      <td>0.003087</td>\n",
       "      <td>4</td>\n",
       "    </tr>\n",
       "    <tr>\n",
       "      <th>1</th>\n",
       "      <td>2.749758</td>\n",
       "      <td>0.021945</td>\n",
       "      <td>0.309082</td>\n",
       "      <td>0.006236</td>\n",
       "      <td>0.01</td>\n",
       "      <td>True</td>\n",
       "      <td>0.0001</td>\n",
       "      <td>{'model__C': 0.01, 'model__fit_intercept': Tru...</td>\n",
       "      <td>0.421115</td>\n",
       "      <td>0.003087</td>\n",
       "      <td>4</td>\n",
       "    </tr>\n",
       "    <tr>\n",
       "      <th>12</th>\n",
       "      <td>4.655239</td>\n",
       "      <td>0.193624</td>\n",
       "      <td>0.320179</td>\n",
       "      <td>0.012175</td>\n",
       "      <td>1</td>\n",
       "      <td>True</td>\n",
       "      <td>0.00001</td>\n",
       "      <td>{'model__C': 1, 'model__fit_intercept': True, ...</td>\n",
       "      <td>0.421086</td>\n",
       "      <td>0.002921</td>\n",
       "      <td>7</td>\n",
       "    </tr>\n",
       "    <tr>\n",
       "      <th>13</th>\n",
       "      <td>4.469498</td>\n",
       "      <td>0.185842</td>\n",
       "      <td>0.320246</td>\n",
       "      <td>0.006940</td>\n",
       "      <td>1</td>\n",
       "      <td>True</td>\n",
       "      <td>0.0001</td>\n",
       "      <td>{'model__C': 1, 'model__fit_intercept': True, ...</td>\n",
       "      <td>0.421086</td>\n",
       "      <td>0.002921</td>\n",
       "      <td>7</td>\n",
       "    </tr>\n",
       "    <tr>\n",
       "      <th>14</th>\n",
       "      <td>4.505857</td>\n",
       "      <td>0.194541</td>\n",
       "      <td>0.325270</td>\n",
       "      <td>0.011907</td>\n",
       "      <td>1</td>\n",
       "      <td>True</td>\n",
       "      <td>0.001</td>\n",
       "      <td>{'model__C': 1, 'model__fit_intercept': True, ...</td>\n",
       "      <td>0.421086</td>\n",
       "      <td>0.002921</td>\n",
       "      <td>7</td>\n",
       "    </tr>\n",
       "    <tr>\n",
       "      <th>4</th>\n",
       "      <td>2.851004</td>\n",
       "      <td>0.042145</td>\n",
       "      <td>0.311255</td>\n",
       "      <td>0.005651</td>\n",
       "      <td>0.01</td>\n",
       "      <td>False</td>\n",
       "      <td>0.0001</td>\n",
       "      <td>{'model__C': 0.01, 'model__fit_intercept': Fal...</td>\n",
       "      <td>0.406740</td>\n",
       "      <td>0.001990</td>\n",
       "      <td>10</td>\n",
       "    </tr>\n",
       "    <tr>\n",
       "      <th>5</th>\n",
       "      <td>2.852012</td>\n",
       "      <td>0.037074</td>\n",
       "      <td>0.310048</td>\n",
       "      <td>0.002105</td>\n",
       "      <td>0.01</td>\n",
       "      <td>False</td>\n",
       "      <td>0.001</td>\n",
       "      <td>{'model__C': 0.01, 'model__fit_intercept': Fal...</td>\n",
       "      <td>0.406740</td>\n",
       "      <td>0.001990</td>\n",
       "      <td>10</td>\n",
       "    </tr>\n",
       "    <tr>\n",
       "      <th>3</th>\n",
       "      <td>2.814126</td>\n",
       "      <td>0.098442</td>\n",
       "      <td>0.316813</td>\n",
       "      <td>0.008596</td>\n",
       "      <td>0.01</td>\n",
       "      <td>False</td>\n",
       "      <td>0.00001</td>\n",
       "      <td>{'model__C': 0.01, 'model__fit_intercept': Fal...</td>\n",
       "      <td>0.406740</td>\n",
       "      <td>0.001990</td>\n",
       "      <td>10</td>\n",
       "    </tr>\n",
       "    <tr>\n",
       "      <th>16</th>\n",
       "      <td>4.781304</td>\n",
       "      <td>0.139823</td>\n",
       "      <td>0.337982</td>\n",
       "      <td>0.019225</td>\n",
       "      <td>1</td>\n",
       "      <td>False</td>\n",
       "      <td>0.0001</td>\n",
       "      <td>{'model__C': 1, 'model__fit_intercept': False,...</td>\n",
       "      <td>0.406229</td>\n",
       "      <td>0.002314</td>\n",
       "      <td>13</td>\n",
       "    </tr>\n",
       "    <tr>\n",
       "      <th>15</th>\n",
       "      <td>4.422206</td>\n",
       "      <td>0.089526</td>\n",
       "      <td>0.320968</td>\n",
       "      <td>0.004114</td>\n",
       "      <td>1</td>\n",
       "      <td>False</td>\n",
       "      <td>0.00001</td>\n",
       "      <td>{'model__C': 1, 'model__fit_intercept': False,...</td>\n",
       "      <td>0.406229</td>\n",
       "      <td>0.002314</td>\n",
       "      <td>13</td>\n",
       "    </tr>\n",
       "    <tr>\n",
       "      <th>17</th>\n",
       "      <td>4.570338</td>\n",
       "      <td>0.254959</td>\n",
       "      <td>0.316405</td>\n",
       "      <td>0.003048</td>\n",
       "      <td>1</td>\n",
       "      <td>False</td>\n",
       "      <td>0.001</td>\n",
       "      <td>{'model__C': 1, 'model__fit_intercept': False,...</td>\n",
       "      <td>0.406229</td>\n",
       "      <td>0.002314</td>\n",
       "      <td>13</td>\n",
       "    </tr>\n",
       "    <tr>\n",
       "      <th>9</th>\n",
       "      <td>4.940573</td>\n",
       "      <td>0.351085</td>\n",
       "      <td>0.395226</td>\n",
       "      <td>0.017600</td>\n",
       "      <td>0.1</td>\n",
       "      <td>False</td>\n",
       "      <td>0.00001</td>\n",
       "      <td>{'model__C': 0.1, 'model__fit_intercept': Fals...</td>\n",
       "      <td>0.406148</td>\n",
       "      <td>0.002374</td>\n",
       "      <td>16</td>\n",
       "    </tr>\n",
       "    <tr>\n",
       "      <th>10</th>\n",
       "      <td>3.879943</td>\n",
       "      <td>0.219608</td>\n",
       "      <td>0.331627</td>\n",
       "      <td>0.025706</td>\n",
       "      <td>0.1</td>\n",
       "      <td>False</td>\n",
       "      <td>0.0001</td>\n",
       "      <td>{'model__C': 0.1, 'model__fit_intercept': Fals...</td>\n",
       "      <td>0.406148</td>\n",
       "      <td>0.002374</td>\n",
       "      <td>16</td>\n",
       "    </tr>\n",
       "    <tr>\n",
       "      <th>11</th>\n",
       "      <td>3.951469</td>\n",
       "      <td>0.329886</td>\n",
       "      <td>0.345710</td>\n",
       "      <td>0.027269</td>\n",
       "      <td>0.1</td>\n",
       "      <td>False</td>\n",
       "      <td>0.001</td>\n",
       "      <td>{'model__C': 0.1, 'model__fit_intercept': Fals...</td>\n",
       "      <td>0.406148</td>\n",
       "      <td>0.002374</td>\n",
       "      <td>16</td>\n",
       "    </tr>\n",
       "  </tbody>\n",
       "</table>\n",
       "</div>"
      ],
      "text/plain": [
       "    mean_fit_time  std_fit_time  mean_score_time  std_score_time  \\\n",
       "8        3.615892      0.058406         0.319461        0.013745   \n",
       "7        3.644416      0.111247         0.329804        0.018101   \n",
       "6        3.601316      0.074015         0.330646        0.021645   \n",
       "0        2.807056      0.030672         0.313215        0.001744   \n",
       "2        2.939474      0.220374         0.352369        0.051694   \n",
       "1        2.749758      0.021945         0.309082        0.006236   \n",
       "12       4.655239      0.193624         0.320179        0.012175   \n",
       "13       4.469498      0.185842         0.320246        0.006940   \n",
       "14       4.505857      0.194541         0.325270        0.011907   \n",
       "4        2.851004      0.042145         0.311255        0.005651   \n",
       "5        2.852012      0.037074         0.310048        0.002105   \n",
       "3        2.814126      0.098442         0.316813        0.008596   \n",
       "16       4.781304      0.139823         0.337982        0.019225   \n",
       "15       4.422206      0.089526         0.320968        0.004114   \n",
       "17       4.570338      0.254959         0.316405        0.003048   \n",
       "9        4.940573      0.351085         0.395226        0.017600   \n",
       "10       3.879943      0.219608         0.331627        0.025706   \n",
       "11       3.951469      0.329886         0.345710        0.027269   \n",
       "\n",
       "   param_model__C param_model__fit_intercept param_model__tol  \\\n",
       "8             0.1                       True            0.001   \n",
       "7             0.1                       True           0.0001   \n",
       "6             0.1                       True          0.00001   \n",
       "0            0.01                       True          0.00001   \n",
       "2            0.01                       True            0.001   \n",
       "1            0.01                       True           0.0001   \n",
       "12              1                       True          0.00001   \n",
       "13              1                       True           0.0001   \n",
       "14              1                       True            0.001   \n",
       "4            0.01                      False           0.0001   \n",
       "5            0.01                      False            0.001   \n",
       "3            0.01                      False          0.00001   \n",
       "16              1                      False           0.0001   \n",
       "15              1                      False          0.00001   \n",
       "17              1                      False            0.001   \n",
       "9             0.1                      False          0.00001   \n",
       "10            0.1                      False           0.0001   \n",
       "11            0.1                      False            0.001   \n",
       "\n",
       "                                               params  mean_test_score  \\\n",
       "8   {'model__C': 0.1, 'model__fit_intercept': True...         0.421394   \n",
       "7   {'model__C': 0.1, 'model__fit_intercept': True...         0.421394   \n",
       "6   {'model__C': 0.1, 'model__fit_intercept': True...         0.421394   \n",
       "0   {'model__C': 0.01, 'model__fit_intercept': Tru...         0.421115   \n",
       "2   {'model__C': 0.01, 'model__fit_intercept': Tru...         0.421115   \n",
       "1   {'model__C': 0.01, 'model__fit_intercept': Tru...         0.421115   \n",
       "12  {'model__C': 1, 'model__fit_intercept': True, ...         0.421086   \n",
       "13  {'model__C': 1, 'model__fit_intercept': True, ...         0.421086   \n",
       "14  {'model__C': 1, 'model__fit_intercept': True, ...         0.421086   \n",
       "4   {'model__C': 0.01, 'model__fit_intercept': Fal...         0.406740   \n",
       "5   {'model__C': 0.01, 'model__fit_intercept': Fal...         0.406740   \n",
       "3   {'model__C': 0.01, 'model__fit_intercept': Fal...         0.406740   \n",
       "16  {'model__C': 1, 'model__fit_intercept': False,...         0.406229   \n",
       "15  {'model__C': 1, 'model__fit_intercept': False,...         0.406229   \n",
       "17  {'model__C': 1, 'model__fit_intercept': False,...         0.406229   \n",
       "9   {'model__C': 0.1, 'model__fit_intercept': Fals...         0.406148   \n",
       "10  {'model__C': 0.1, 'model__fit_intercept': Fals...         0.406148   \n",
       "11  {'model__C': 0.1, 'model__fit_intercept': Fals...         0.406148   \n",
       "\n",
       "    std_test_score  rank_test_score  \n",
       "8         0.002793                1  \n",
       "7         0.002793                1  \n",
       "6         0.002793                1  \n",
       "0         0.003087                4  \n",
       "2         0.003087                4  \n",
       "1         0.003087                4  \n",
       "12        0.002921                7  \n",
       "13        0.002921                7  \n",
       "14        0.002921                7  \n",
       "4         0.001990               10  \n",
       "5         0.001990               10  \n",
       "3         0.001990               10  \n",
       "16        0.002314               13  \n",
       "15        0.002314               13  \n",
       "17        0.002314               13  \n",
       "9         0.002374               16  \n",
       "10        0.002374               16  \n",
       "11        0.002374               16  "
      ]
     },
     "execution_count": 72,
     "metadata": {},
     "output_type": "execute_result"
    }
   ],
   "source": [
    "cv_results_lbfgs.head(20)"
   ]
  },
  {
   "cell_type": "code",
   "execution_count": 73,
   "id": "23bb45d8",
   "metadata": {
    "ExecuteTime": {
     "end_time": "2022-12-18T23:19:14.001316Z",
     "start_time": "2022-12-18T23:19:13.981683Z"
    }
   },
   "outputs": [
    {
     "data": {
      "text/html": [
       "<div>\n",
       "<style scoped>\n",
       "    .dataframe tbody tr th:only-of-type {\n",
       "        vertical-align: middle;\n",
       "    }\n",
       "\n",
       "    .dataframe tbody tr th {\n",
       "        vertical-align: top;\n",
       "    }\n",
       "\n",
       "    .dataframe thead th {\n",
       "        text-align: right;\n",
       "    }\n",
       "</style>\n",
       "<table border=\"1\" class=\"dataframe\">\n",
       "  <thead>\n",
       "    <tr style=\"text-align: right;\">\n",
       "      <th></th>\n",
       "      <th>mean_fit_time</th>\n",
       "      <th>std_fit_time</th>\n",
       "      <th>mean_score_time</th>\n",
       "      <th>std_score_time</th>\n",
       "      <th>param_model__C</th>\n",
       "      <th>param_model__fit_intercept</th>\n",
       "      <th>param_model__tol</th>\n",
       "      <th>params</th>\n",
       "      <th>mean_test_score</th>\n",
       "      <th>std_test_score</th>\n",
       "      <th>rank_test_score</th>\n",
       "    </tr>\n",
       "  </thead>\n",
       "  <tbody>\n",
       "    <tr>\n",
       "      <th>15</th>\n",
       "      <td>4.422206</td>\n",
       "      <td>0.089526</td>\n",
       "      <td>0.320968</td>\n",
       "      <td>0.004114</td>\n",
       "      <td>1</td>\n",
       "      <td>False</td>\n",
       "      <td>0.00001</td>\n",
       "      <td>{'model__C': 1, 'model__fit_intercept': False,...</td>\n",
       "      <td>0.406229</td>\n",
       "      <td>0.002314</td>\n",
       "      <td>13</td>\n",
       "    </tr>\n",
       "    <tr>\n",
       "      <th>17</th>\n",
       "      <td>4.570338</td>\n",
       "      <td>0.254959</td>\n",
       "      <td>0.316405</td>\n",
       "      <td>0.003048</td>\n",
       "      <td>1</td>\n",
       "      <td>False</td>\n",
       "      <td>0.001</td>\n",
       "      <td>{'model__C': 1, 'model__fit_intercept': False,...</td>\n",
       "      <td>0.406229</td>\n",
       "      <td>0.002314</td>\n",
       "      <td>13</td>\n",
       "    </tr>\n",
       "    <tr>\n",
       "      <th>9</th>\n",
       "      <td>4.940573</td>\n",
       "      <td>0.351085</td>\n",
       "      <td>0.395226</td>\n",
       "      <td>0.017600</td>\n",
       "      <td>0.1</td>\n",
       "      <td>False</td>\n",
       "      <td>0.00001</td>\n",
       "      <td>{'model__C': 0.1, 'model__fit_intercept': Fals...</td>\n",
       "      <td>0.406148</td>\n",
       "      <td>0.002374</td>\n",
       "      <td>16</td>\n",
       "    </tr>\n",
       "    <tr>\n",
       "      <th>10</th>\n",
       "      <td>3.879943</td>\n",
       "      <td>0.219608</td>\n",
       "      <td>0.331627</td>\n",
       "      <td>0.025706</td>\n",
       "      <td>0.1</td>\n",
       "      <td>False</td>\n",
       "      <td>0.0001</td>\n",
       "      <td>{'model__C': 0.1, 'model__fit_intercept': Fals...</td>\n",
       "      <td>0.406148</td>\n",
       "      <td>0.002374</td>\n",
       "      <td>16</td>\n",
       "    </tr>\n",
       "    <tr>\n",
       "      <th>11</th>\n",
       "      <td>3.951469</td>\n",
       "      <td>0.329886</td>\n",
       "      <td>0.345710</td>\n",
       "      <td>0.027269</td>\n",
       "      <td>0.1</td>\n",
       "      <td>False</td>\n",
       "      <td>0.001</td>\n",
       "      <td>{'model__C': 0.1, 'model__fit_intercept': Fals...</td>\n",
       "      <td>0.406148</td>\n",
       "      <td>0.002374</td>\n",
       "      <td>16</td>\n",
       "    </tr>\n",
       "  </tbody>\n",
       "</table>\n",
       "</div>"
      ],
      "text/plain": [
       "    mean_fit_time  std_fit_time  mean_score_time  std_score_time  \\\n",
       "15       4.422206      0.089526         0.320968        0.004114   \n",
       "17       4.570338      0.254959         0.316405        0.003048   \n",
       "9        4.940573      0.351085         0.395226        0.017600   \n",
       "10       3.879943      0.219608         0.331627        0.025706   \n",
       "11       3.951469      0.329886         0.345710        0.027269   \n",
       "\n",
       "   param_model__C param_model__fit_intercept param_model__tol  \\\n",
       "15              1                      False          0.00001   \n",
       "17              1                      False            0.001   \n",
       "9             0.1                      False          0.00001   \n",
       "10            0.1                      False           0.0001   \n",
       "11            0.1                      False            0.001   \n",
       "\n",
       "                                               params  mean_test_score  \\\n",
       "15  {'model__C': 1, 'model__fit_intercept': False,...         0.406229   \n",
       "17  {'model__C': 1, 'model__fit_intercept': False,...         0.406229   \n",
       "9   {'model__C': 0.1, 'model__fit_intercept': Fals...         0.406148   \n",
       "10  {'model__C': 0.1, 'model__fit_intercept': Fals...         0.406148   \n",
       "11  {'model__C': 0.1, 'model__fit_intercept': Fals...         0.406148   \n",
       "\n",
       "    std_test_score  rank_test_score  \n",
       "15        0.002314               13  \n",
       "17        0.002314               13  \n",
       "9         0.002374               16  \n",
       "10        0.002374               16  \n",
       "11        0.002374               16  "
      ]
     },
     "execution_count": 73,
     "metadata": {},
     "output_type": "execute_result"
    }
   ],
   "source": [
    "cv_results_lbfgs.tail()"
   ]
  },
  {
   "cell_type": "markdown",
   "id": "9a561ac7",
   "metadata": {},
   "source": [
    "### Solver newton-cg"
   ]
  },
  {
   "cell_type": "code",
   "execution_count": 74,
   "id": "bac4e409",
   "metadata": {
    "ExecuteTime": {
     "end_time": "2022-12-18T23:27:53.680719Z",
     "start_time": "2022-12-18T23:19:14.004616Z"
    },
    "scrolled": true
   },
   "outputs": [
    {
     "name": "stdout",
     "output_type": "stream",
     "text": [
      "Fitting 4 folds for each of 18 candidates, totalling 72 fits\n",
      "[CV] END model__C=0.01, model__fit_intercept=True, model__tol=1e-05; total time=   5.0s\n",
      "[CV] END model__C=0.01, model__fit_intercept=True, model__tol=1e-05; total time=   5.3s\n",
      "[CV] END model__C=0.01, model__fit_intercept=True, model__tol=1e-05; total time=   5.0s\n",
      "[CV] END model__C=0.01, model__fit_intercept=True, model__tol=1e-05; total time=   4.7s\n",
      "[CV] END model__C=0.01, model__fit_intercept=True, model__tol=0.0001; total time=   4.8s\n",
      "[CV] END model__C=0.01, model__fit_intercept=True, model__tol=0.0001; total time=   4.4s\n",
      "[CV] END model__C=0.01, model__fit_intercept=True, model__tol=0.0001; total time=   4.4s\n",
      "[CV] END model__C=0.01, model__fit_intercept=True, model__tol=0.0001; total time=   4.5s\n",
      "[CV] END model__C=0.01, model__fit_intercept=True, model__tol=0.001; total time=   4.1s\n",
      "[CV] END model__C=0.01, model__fit_intercept=True, model__tol=0.001; total time=   4.2s\n",
      "[CV] END model__C=0.01, model__fit_intercept=True, model__tol=0.001; total time=   4.2s\n",
      "[CV] END model__C=0.01, model__fit_intercept=True, model__tol=0.001; total time=   4.3s\n",
      "[CV] END model__C=0.01, model__fit_intercept=False, model__tol=1e-05; total time=   4.7s\n",
      "[CV] END model__C=0.01, model__fit_intercept=False, model__tol=1e-05; total time=   4.8s\n",
      "[CV] END model__C=0.01, model__fit_intercept=False, model__tol=1e-05; total time=   4.7s\n",
      "[CV] END model__C=0.01, model__fit_intercept=False, model__tol=1e-05; total time=   5.0s\n",
      "[CV] END model__C=0.01, model__fit_intercept=False, model__tol=0.0001; total time=   4.7s\n",
      "[CV] END model__C=0.01, model__fit_intercept=False, model__tol=0.0001; total time=   4.7s\n",
      "[CV] END model__C=0.01, model__fit_intercept=False, model__tol=0.0001; total time=   4.7s\n",
      "[CV] END model__C=0.01, model__fit_intercept=False, model__tol=0.0001; total time=   4.7s\n",
      "[CV] END model__C=0.01, model__fit_intercept=False, model__tol=0.001; total time=   4.4s\n",
      "[CV] END model__C=0.01, model__fit_intercept=False, model__tol=0.001; total time=   4.3s\n",
      "[CV] END model__C=0.01, model__fit_intercept=False, model__tol=0.001; total time=   4.4s\n",
      "[CV] END model__C=0.01, model__fit_intercept=False, model__tol=0.001; total time=   4.4s\n",
      "[CV] END model__C=0.1, model__fit_intercept=True, model__tol=1e-05; total time=   7.2s\n",
      "[CV] END model__C=0.1, model__fit_intercept=True, model__tol=1e-05; total time=   7.1s\n",
      "[CV] END model__C=0.1, model__fit_intercept=True, model__tol=1e-05; total time=   7.3s\n",
      "[CV] END model__C=0.1, model__fit_intercept=True, model__tol=1e-05; total time=   7.1s\n",
      "[CV] END model__C=0.1, model__fit_intercept=True, model__tol=0.0001; total time=   6.7s\n",
      "[CV] END model__C=0.1, model__fit_intercept=True, model__tol=0.0001; total time=   6.3s\n",
      "[CV] END model__C=0.1, model__fit_intercept=True, model__tol=0.0001; total time=   6.8s\n",
      "[CV] END model__C=0.1, model__fit_intercept=True, model__tol=0.0001; total time=   6.6s\n",
      "[CV] END model__C=0.1, model__fit_intercept=True, model__tol=0.001; total time=   6.1s\n",
      "[CV] END model__C=0.1, model__fit_intercept=True, model__tol=0.001; total time=   5.8s\n",
      "[CV] END model__C=0.1, model__fit_intercept=True, model__tol=0.001; total time=   6.4s\n",
      "[CV] END model__C=0.1, model__fit_intercept=True, model__tol=0.001; total time=   6.1s\n",
      "[CV] END model__C=0.1, model__fit_intercept=False, model__tol=1e-05; total time=   7.0s\n",
      "[CV] END model__C=0.1, model__fit_intercept=False, model__tol=1e-05; total time=   6.9s\n",
      "[CV] END model__C=0.1, model__fit_intercept=False, model__tol=1e-05; total time=   7.6s\n",
      "[CV] END model__C=0.1, model__fit_intercept=False, model__tol=1e-05; total time=   7.1s\n",
      "[CV] END model__C=0.1, model__fit_intercept=False, model__tol=0.0001; total time=   6.9s\n",
      "[CV] END model__C=0.1, model__fit_intercept=False, model__tol=0.0001; total time=   6.1s\n",
      "[CV] END model__C=0.1, model__fit_intercept=False, model__tol=0.0001; total time=   6.9s\n",
      "[CV] END model__C=0.1, model__fit_intercept=False, model__tol=0.0001; total time=   6.4s\n",
      "[CV] END model__C=0.1, model__fit_intercept=False, model__tol=0.001; total time=   5.8s\n",
      "[CV] END model__C=0.1, model__fit_intercept=False, model__tol=0.001; total time=   5.6s\n",
      "[CV] END model__C=0.1, model__fit_intercept=False, model__tol=0.001; total time=   5.9s\n",
      "[CV] END model__C=0.1, model__fit_intercept=False, model__tol=0.001; total time=   5.9s\n",
      "[CV] END model__C=1, model__fit_intercept=True, model__tol=1e-05; total time=   9.9s\n",
      "[CV] END model__C=1, model__fit_intercept=True, model__tol=1e-05; total time=  11.4s\n",
      "[CV] END model__C=1, model__fit_intercept=True, model__tol=1e-05; total time=  11.8s\n",
      "[CV] END model__C=1, model__fit_intercept=True, model__tol=1e-05; total time=  10.8s\n",
      "[CV] END model__C=1, model__fit_intercept=True, model__tol=0.0001; total time=   9.9s\n",
      "[CV] END model__C=1, model__fit_intercept=True, model__tol=0.0001; total time=   9.5s\n",
      "[CV] END model__C=1, model__fit_intercept=True, model__tol=0.0001; total time=  10.3s\n",
      "[CV] END model__C=1, model__fit_intercept=True, model__tol=0.0001; total time=   9.7s\n",
      "[CV] END model__C=1, model__fit_intercept=True, model__tol=0.001; total time=   7.5s\n",
      "[CV] END model__C=1, model__fit_intercept=True, model__tol=0.001; total time=   7.4s\n",
      "[CV] END model__C=1, model__fit_intercept=True, model__tol=0.001; total time=   8.1s\n",
      "[CV] END model__C=1, model__fit_intercept=True, model__tol=0.001; total time=   8.8s\n",
      "[CV] END model__C=1, model__fit_intercept=False, model__tol=1e-05; total time=  11.7s\n",
      "[CV] END model__C=1, model__fit_intercept=False, model__tol=1e-05; total time=  12.6s\n",
      "[CV] END model__C=1, model__fit_intercept=False, model__tol=1e-05; total time=  12.1s\n",
      "[CV] END model__C=1, model__fit_intercept=False, model__tol=1e-05; total time=  12.4s\n",
      "[CV] END model__C=1, model__fit_intercept=False, model__tol=0.0001; total time=  10.8s\n",
      "[CV] END model__C=1, model__fit_intercept=False, model__tol=0.0001; total time=  10.4s\n",
      "[CV] END model__C=1, model__fit_intercept=False, model__tol=0.0001; total time=  10.6s\n",
      "[CV] END model__C=1, model__fit_intercept=False, model__tol=0.0001; total time=  10.2s\n",
      "[CV] END model__C=1, model__fit_intercept=False, model__tol=0.001; total time=   8.3s\n",
      "[CV] END model__C=1, model__fit_intercept=False, model__tol=0.001; total time=   9.3s\n",
      "[CV] END model__C=1, model__fit_intercept=False, model__tol=0.001; total time=   8.3s\n",
      "[CV] END model__C=1, model__fit_intercept=False, model__tol=0.001; total time=   8.0s\n"
     ]
    }
   ],
   "source": [
    "params = {'solver': 'newton-cg'} \n",
    "param_grid = {'model__tol': [1e-5, 1e-4, 1e-3],\n",
    "              'model__C': [0.01, 0.1, 1],\n",
    "              #'model__penalty': ['l1', 'l2'],\n",
    "              'model__fit_intercept': [True, False],\n",
    "              #'model__warm_start': [True, False], # ne change rien\n",
    "              }\n",
    "\n",
    "model = LogisticRegression(random_state=42, max_iter=1000, **params)\n",
    "pipeline = Pipeline(steps=[('imputer', SimpleImputer(strategy='mean', missing_values=nan)),\n",
    "                           ('scaler', StandardScaler()),\n",
    "                           ('undersampler', RandomUnderSampler(random_state=0)),\n",
    "                           ('model', model)])\n",
    "\n",
    "grid = GridSearchCV(estimator=pipeline, param_grid=param_grid, scoring=f2_scorer, cv=4, verbose=2)\n",
    "grid.fit(X_train, y_train)\n",
    "cv_results_newton = get_cv_results(grid)"
   ]
  },
  {
   "cell_type": "code",
   "execution_count": 75,
   "id": "1ae86cf0",
   "metadata": {
    "ExecuteTime": {
     "end_time": "2022-12-18T23:27:53.687451Z",
     "start_time": "2022-12-18T23:27:53.682955Z"
    }
   },
   "outputs": [
    {
     "data": {
      "text/plain": [
       "0.4213523639762373"
      ]
     },
     "execution_count": 75,
     "metadata": {},
     "output_type": "execute_result"
    }
   ],
   "source": [
    "grid.best_score_"
   ]
  },
  {
   "cell_type": "code",
   "execution_count": 76,
   "id": "217fe4c0",
   "metadata": {
    "ExecuteTime": {
     "end_time": "2022-12-18T23:27:53.715436Z",
     "start_time": "2022-12-18T23:27:53.690455Z"
    }
   },
   "outputs": [
    {
     "data": {
      "text/html": [
       "<div>\n",
       "<style scoped>\n",
       "    .dataframe tbody tr th:only-of-type {\n",
       "        vertical-align: middle;\n",
       "    }\n",
       "\n",
       "    .dataframe tbody tr th {\n",
       "        vertical-align: top;\n",
       "    }\n",
       "\n",
       "    .dataframe thead th {\n",
       "        text-align: right;\n",
       "    }\n",
       "</style>\n",
       "<table border=\"1\" class=\"dataframe\">\n",
       "  <thead>\n",
       "    <tr style=\"text-align: right;\">\n",
       "      <th></th>\n",
       "      <th>mean_fit_time</th>\n",
       "      <th>std_fit_time</th>\n",
       "      <th>mean_score_time</th>\n",
       "      <th>std_score_time</th>\n",
       "      <th>param_model__C</th>\n",
       "      <th>param_model__fit_intercept</th>\n",
       "      <th>param_model__tol</th>\n",
       "      <th>params</th>\n",
       "      <th>mean_test_score</th>\n",
       "      <th>std_test_score</th>\n",
       "      <th>rank_test_score</th>\n",
       "    </tr>\n",
       "  </thead>\n",
       "  <tbody>\n",
       "    <tr>\n",
       "      <th>8</th>\n",
       "      <td>5.773948</td>\n",
       "      <td>0.191187</td>\n",
       "      <td>0.326898</td>\n",
       "      <td>0.001095</td>\n",
       "      <td>0.1</td>\n",
       "      <td>True</td>\n",
       "      <td>0.001</td>\n",
       "      <td>{'model__C': 0.1, 'model__fit_intercept': True...</td>\n",
       "      <td>0.421352</td>\n",
       "      <td>0.002817</td>\n",
       "      <td>1</td>\n",
       "    </tr>\n",
       "    <tr>\n",
       "      <th>7</th>\n",
       "      <td>6.257831</td>\n",
       "      <td>0.171843</td>\n",
       "      <td>0.328431</td>\n",
       "      <td>0.004135</td>\n",
       "      <td>0.1</td>\n",
       "      <td>True</td>\n",
       "      <td>0.0001</td>\n",
       "      <td>{'model__C': 0.1, 'model__fit_intercept': True...</td>\n",
       "      <td>0.421352</td>\n",
       "      <td>0.002817</td>\n",
       "      <td>1</td>\n",
       "    </tr>\n",
       "    <tr>\n",
       "      <th>6</th>\n",
       "      <td>6.831191</td>\n",
       "      <td>0.067327</td>\n",
       "      <td>0.325509</td>\n",
       "      <td>0.002229</td>\n",
       "      <td>0.1</td>\n",
       "      <td>True</td>\n",
       "      <td>0.00001</td>\n",
       "      <td>{'model__C': 0.1, 'model__fit_intercept': True...</td>\n",
       "      <td>0.421352</td>\n",
       "      <td>0.002817</td>\n",
       "      <td>1</td>\n",
       "    </tr>\n",
       "    <tr>\n",
       "      <th>0</th>\n",
       "      <td>4.652782</td>\n",
       "      <td>0.218656</td>\n",
       "      <td>0.335514</td>\n",
       "      <td>0.012261</td>\n",
       "      <td>0.01</td>\n",
       "      <td>True</td>\n",
       "      <td>0.00001</td>\n",
       "      <td>{'model__C': 0.01, 'model__fit_intercept': Tru...</td>\n",
       "      <td>0.421177</td>\n",
       "      <td>0.003097</td>\n",
       "      <td>4</td>\n",
       "    </tr>\n",
       "    <tr>\n",
       "      <th>2</th>\n",
       "      <td>3.888115</td>\n",
       "      <td>0.038777</td>\n",
       "      <td>0.316014</td>\n",
       "      <td>0.002609</td>\n",
       "      <td>0.01</td>\n",
       "      <td>True</td>\n",
       "      <td>0.001</td>\n",
       "      <td>{'model__C': 0.01, 'model__fit_intercept': Tru...</td>\n",
       "      <td>0.421177</td>\n",
       "      <td>0.003097</td>\n",
       "      <td>4</td>\n",
       "    </tr>\n",
       "    <tr>\n",
       "      <th>1</th>\n",
       "      <td>4.201208</td>\n",
       "      <td>0.136245</td>\n",
       "      <td>0.311390</td>\n",
       "      <td>0.003839</td>\n",
       "      <td>0.01</td>\n",
       "      <td>True</td>\n",
       "      <td>0.0001</td>\n",
       "      <td>{'model__C': 0.01, 'model__fit_intercept': Tru...</td>\n",
       "      <td>0.421177</td>\n",
       "      <td>0.003097</td>\n",
       "      <td>4</td>\n",
       "    </tr>\n",
       "    <tr>\n",
       "      <th>12</th>\n",
       "      <td>10.631907</td>\n",
       "      <td>0.696554</td>\n",
       "      <td>0.327040</td>\n",
       "      <td>0.003711</td>\n",
       "      <td>1</td>\n",
       "      <td>True</td>\n",
       "      <td>0.00001</td>\n",
       "      <td>{'model__C': 1, 'model__fit_intercept': True, ...</td>\n",
       "      <td>0.421075</td>\n",
       "      <td>0.002865</td>\n",
       "      <td>7</td>\n",
       "    </tr>\n",
       "    <tr>\n",
       "      <th>13</th>\n",
       "      <td>9.532809</td>\n",
       "      <td>0.297654</td>\n",
       "      <td>0.326679</td>\n",
       "      <td>0.002700</td>\n",
       "      <td>1</td>\n",
       "      <td>True</td>\n",
       "      <td>0.0001</td>\n",
       "      <td>{'model__C': 1, 'model__fit_intercept': True, ...</td>\n",
       "      <td>0.421075</td>\n",
       "      <td>0.002865</td>\n",
       "      <td>7</td>\n",
       "    </tr>\n",
       "    <tr>\n",
       "      <th>14</th>\n",
       "      <td>7.621786</td>\n",
       "      <td>0.559957</td>\n",
       "      <td>0.327453</td>\n",
       "      <td>0.003792</td>\n",
       "      <td>1</td>\n",
       "      <td>True</td>\n",
       "      <td>0.001</td>\n",
       "      <td>{'model__C': 1, 'model__fit_intercept': True, ...</td>\n",
       "      <td>0.421075</td>\n",
       "      <td>0.002865</td>\n",
       "      <td>7</td>\n",
       "    </tr>\n",
       "    <tr>\n",
       "      <th>4</th>\n",
       "      <td>4.391324</td>\n",
       "      <td>0.017489</td>\n",
       "      <td>0.326960</td>\n",
       "      <td>0.003100</td>\n",
       "      <td>0.01</td>\n",
       "      <td>False</td>\n",
       "      <td>0.0001</td>\n",
       "      <td>{'model__C': 0.01, 'model__fit_intercept': Fal...</td>\n",
       "      <td>0.406727</td>\n",
       "      <td>0.001997</td>\n",
       "      <td>10</td>\n",
       "    </tr>\n",
       "    <tr>\n",
       "      <th>5</th>\n",
       "      <td>4.049932</td>\n",
       "      <td>0.043035</td>\n",
       "      <td>0.326351</td>\n",
       "      <td>0.002578</td>\n",
       "      <td>0.01</td>\n",
       "      <td>False</td>\n",
       "      <td>0.001</td>\n",
       "      <td>{'model__C': 0.01, 'model__fit_intercept': Fal...</td>\n",
       "      <td>0.406727</td>\n",
       "      <td>0.001997</td>\n",
       "      <td>10</td>\n",
       "    </tr>\n",
       "    <tr>\n",
       "      <th>3</th>\n",
       "      <td>4.474790</td>\n",
       "      <td>0.132097</td>\n",
       "      <td>0.333211</td>\n",
       "      <td>0.005233</td>\n",
       "      <td>0.01</td>\n",
       "      <td>False</td>\n",
       "      <td>0.00001</td>\n",
       "      <td>{'model__C': 0.01, 'model__fit_intercept': Fal...</td>\n",
       "      <td>0.406727</td>\n",
       "      <td>0.001997</td>\n",
       "      <td>10</td>\n",
       "    </tr>\n",
       "    <tr>\n",
       "      <th>16</th>\n",
       "      <td>10.202037</td>\n",
       "      <td>0.257449</td>\n",
       "      <td>0.314616</td>\n",
       "      <td>0.005793</td>\n",
       "      <td>1</td>\n",
       "      <td>False</td>\n",
       "      <td>0.0001</td>\n",
       "      <td>{'model__C': 1, 'model__fit_intercept': False,...</td>\n",
       "      <td>0.406153</td>\n",
       "      <td>0.002228</td>\n",
       "      <td>13</td>\n",
       "    </tr>\n",
       "    <tr>\n",
       "      <th>15</th>\n",
       "      <td>11.876488</td>\n",
       "      <td>0.321548</td>\n",
       "      <td>0.319638</td>\n",
       "      <td>0.005171</td>\n",
       "      <td>1</td>\n",
       "      <td>False</td>\n",
       "      <td>0.00001</td>\n",
       "      <td>{'model__C': 1, 'model__fit_intercept': False,...</td>\n",
       "      <td>0.406153</td>\n",
       "      <td>0.002228</td>\n",
       "      <td>13</td>\n",
       "    </tr>\n",
       "    <tr>\n",
       "      <th>17</th>\n",
       "      <td>8.145805</td>\n",
       "      <td>0.507273</td>\n",
       "      <td>0.326043</td>\n",
       "      <td>0.042473</td>\n",
       "      <td>1</td>\n",
       "      <td>False</td>\n",
       "      <td>0.001</td>\n",
       "      <td>{'model__C': 1, 'model__fit_intercept': False,...</td>\n",
       "      <td>0.406153</td>\n",
       "      <td>0.002228</td>\n",
       "      <td>13</td>\n",
       "    </tr>\n",
       "    <tr>\n",
       "      <th>9</th>\n",
       "      <td>6.818275</td>\n",
       "      <td>0.278252</td>\n",
       "      <td>0.328298</td>\n",
       "      <td>0.004841</td>\n",
       "      <td>0.1</td>\n",
       "      <td>False</td>\n",
       "      <td>0.00001</td>\n",
       "      <td>{'model__C': 0.1, 'model__fit_intercept': Fals...</td>\n",
       "      <td>0.406126</td>\n",
       "      <td>0.002345</td>\n",
       "      <td>16</td>\n",
       "    </tr>\n",
       "    <tr>\n",
       "      <th>10</th>\n",
       "      <td>6.249652</td>\n",
       "      <td>0.344404</td>\n",
       "      <td>0.331433</td>\n",
       "      <td>0.001926</td>\n",
       "      <td>0.1</td>\n",
       "      <td>False</td>\n",
       "      <td>0.0001</td>\n",
       "      <td>{'model__C': 0.1, 'model__fit_intercept': Fals...</td>\n",
       "      <td>0.406126</td>\n",
       "      <td>0.002345</td>\n",
       "      <td>16</td>\n",
       "    </tr>\n",
       "    <tr>\n",
       "      <th>11</th>\n",
       "      <td>5.457334</td>\n",
       "      <td>0.126613</td>\n",
       "      <td>0.328797</td>\n",
       "      <td>0.000992</td>\n",
       "      <td>0.1</td>\n",
       "      <td>False</td>\n",
       "      <td>0.001</td>\n",
       "      <td>{'model__C': 0.1, 'model__fit_intercept': Fals...</td>\n",
       "      <td>0.406126</td>\n",
       "      <td>0.002345</td>\n",
       "      <td>16</td>\n",
       "    </tr>\n",
       "  </tbody>\n",
       "</table>\n",
       "</div>"
      ],
      "text/plain": [
       "    mean_fit_time  std_fit_time  mean_score_time  std_score_time  \\\n",
       "8        5.773948      0.191187         0.326898        0.001095   \n",
       "7        6.257831      0.171843         0.328431        0.004135   \n",
       "6        6.831191      0.067327         0.325509        0.002229   \n",
       "0        4.652782      0.218656         0.335514        0.012261   \n",
       "2        3.888115      0.038777         0.316014        0.002609   \n",
       "1        4.201208      0.136245         0.311390        0.003839   \n",
       "12      10.631907      0.696554         0.327040        0.003711   \n",
       "13       9.532809      0.297654         0.326679        0.002700   \n",
       "14       7.621786      0.559957         0.327453        0.003792   \n",
       "4        4.391324      0.017489         0.326960        0.003100   \n",
       "5        4.049932      0.043035         0.326351        0.002578   \n",
       "3        4.474790      0.132097         0.333211        0.005233   \n",
       "16      10.202037      0.257449         0.314616        0.005793   \n",
       "15      11.876488      0.321548         0.319638        0.005171   \n",
       "17       8.145805      0.507273         0.326043        0.042473   \n",
       "9        6.818275      0.278252         0.328298        0.004841   \n",
       "10       6.249652      0.344404         0.331433        0.001926   \n",
       "11       5.457334      0.126613         0.328797        0.000992   \n",
       "\n",
       "   param_model__C param_model__fit_intercept param_model__tol  \\\n",
       "8             0.1                       True            0.001   \n",
       "7             0.1                       True           0.0001   \n",
       "6             0.1                       True          0.00001   \n",
       "0            0.01                       True          0.00001   \n",
       "2            0.01                       True            0.001   \n",
       "1            0.01                       True           0.0001   \n",
       "12              1                       True          0.00001   \n",
       "13              1                       True           0.0001   \n",
       "14              1                       True            0.001   \n",
       "4            0.01                      False           0.0001   \n",
       "5            0.01                      False            0.001   \n",
       "3            0.01                      False          0.00001   \n",
       "16              1                      False           0.0001   \n",
       "15              1                      False          0.00001   \n",
       "17              1                      False            0.001   \n",
       "9             0.1                      False          0.00001   \n",
       "10            0.1                      False           0.0001   \n",
       "11            0.1                      False            0.001   \n",
       "\n",
       "                                               params  mean_test_score  \\\n",
       "8   {'model__C': 0.1, 'model__fit_intercept': True...         0.421352   \n",
       "7   {'model__C': 0.1, 'model__fit_intercept': True...         0.421352   \n",
       "6   {'model__C': 0.1, 'model__fit_intercept': True...         0.421352   \n",
       "0   {'model__C': 0.01, 'model__fit_intercept': Tru...         0.421177   \n",
       "2   {'model__C': 0.01, 'model__fit_intercept': Tru...         0.421177   \n",
       "1   {'model__C': 0.01, 'model__fit_intercept': Tru...         0.421177   \n",
       "12  {'model__C': 1, 'model__fit_intercept': True, ...         0.421075   \n",
       "13  {'model__C': 1, 'model__fit_intercept': True, ...         0.421075   \n",
       "14  {'model__C': 1, 'model__fit_intercept': True, ...         0.421075   \n",
       "4   {'model__C': 0.01, 'model__fit_intercept': Fal...         0.406727   \n",
       "5   {'model__C': 0.01, 'model__fit_intercept': Fal...         0.406727   \n",
       "3   {'model__C': 0.01, 'model__fit_intercept': Fal...         0.406727   \n",
       "16  {'model__C': 1, 'model__fit_intercept': False,...         0.406153   \n",
       "15  {'model__C': 1, 'model__fit_intercept': False,...         0.406153   \n",
       "17  {'model__C': 1, 'model__fit_intercept': False,...         0.406153   \n",
       "9   {'model__C': 0.1, 'model__fit_intercept': Fals...         0.406126   \n",
       "10  {'model__C': 0.1, 'model__fit_intercept': Fals...         0.406126   \n",
       "11  {'model__C': 0.1, 'model__fit_intercept': Fals...         0.406126   \n",
       "\n",
       "    std_test_score  rank_test_score  \n",
       "8         0.002817                1  \n",
       "7         0.002817                1  \n",
       "6         0.002817                1  \n",
       "0         0.003097                4  \n",
       "2         0.003097                4  \n",
       "1         0.003097                4  \n",
       "12        0.002865                7  \n",
       "13        0.002865                7  \n",
       "14        0.002865                7  \n",
       "4         0.001997               10  \n",
       "5         0.001997               10  \n",
       "3         0.001997               10  \n",
       "16        0.002228               13  \n",
       "15        0.002228               13  \n",
       "17        0.002228               13  \n",
       "9         0.002345               16  \n",
       "10        0.002345               16  \n",
       "11        0.002345               16  "
      ]
     },
     "execution_count": 76,
     "metadata": {},
     "output_type": "execute_result"
    }
   ],
   "source": [
    "cv_results_newton.head(20)"
   ]
  },
  {
   "cell_type": "code",
   "execution_count": 77,
   "id": "8b3b1345",
   "metadata": {
    "ExecuteTime": {
     "end_time": "2022-12-18T23:27:53.731530Z",
     "start_time": "2022-12-18T23:27:53.717687Z"
    }
   },
   "outputs": [
    {
     "data": {
      "text/html": [
       "<div>\n",
       "<style scoped>\n",
       "    .dataframe tbody tr th:only-of-type {\n",
       "        vertical-align: middle;\n",
       "    }\n",
       "\n",
       "    .dataframe tbody tr th {\n",
       "        vertical-align: top;\n",
       "    }\n",
       "\n",
       "    .dataframe thead th {\n",
       "        text-align: right;\n",
       "    }\n",
       "</style>\n",
       "<table border=\"1\" class=\"dataframe\">\n",
       "  <thead>\n",
       "    <tr style=\"text-align: right;\">\n",
       "      <th></th>\n",
       "      <th>mean_fit_time</th>\n",
       "      <th>std_fit_time</th>\n",
       "      <th>mean_score_time</th>\n",
       "      <th>std_score_time</th>\n",
       "      <th>param_model__C</th>\n",
       "      <th>param_model__fit_intercept</th>\n",
       "      <th>param_model__tol</th>\n",
       "      <th>params</th>\n",
       "      <th>mean_test_score</th>\n",
       "      <th>std_test_score</th>\n",
       "      <th>rank_test_score</th>\n",
       "    </tr>\n",
       "  </thead>\n",
       "  <tbody>\n",
       "    <tr>\n",
       "      <th>15</th>\n",
       "      <td>11.876488</td>\n",
       "      <td>0.321548</td>\n",
       "      <td>0.319638</td>\n",
       "      <td>0.005171</td>\n",
       "      <td>1</td>\n",
       "      <td>False</td>\n",
       "      <td>0.00001</td>\n",
       "      <td>{'model__C': 1, 'model__fit_intercept': False,...</td>\n",
       "      <td>0.406153</td>\n",
       "      <td>0.002228</td>\n",
       "      <td>13</td>\n",
       "    </tr>\n",
       "    <tr>\n",
       "      <th>17</th>\n",
       "      <td>8.145805</td>\n",
       "      <td>0.507273</td>\n",
       "      <td>0.326043</td>\n",
       "      <td>0.042473</td>\n",
       "      <td>1</td>\n",
       "      <td>False</td>\n",
       "      <td>0.001</td>\n",
       "      <td>{'model__C': 1, 'model__fit_intercept': False,...</td>\n",
       "      <td>0.406153</td>\n",
       "      <td>0.002228</td>\n",
       "      <td>13</td>\n",
       "    </tr>\n",
       "    <tr>\n",
       "      <th>9</th>\n",
       "      <td>6.818275</td>\n",
       "      <td>0.278252</td>\n",
       "      <td>0.328298</td>\n",
       "      <td>0.004841</td>\n",
       "      <td>0.1</td>\n",
       "      <td>False</td>\n",
       "      <td>0.00001</td>\n",
       "      <td>{'model__C': 0.1, 'model__fit_intercept': Fals...</td>\n",
       "      <td>0.406126</td>\n",
       "      <td>0.002345</td>\n",
       "      <td>16</td>\n",
       "    </tr>\n",
       "    <tr>\n",
       "      <th>10</th>\n",
       "      <td>6.249652</td>\n",
       "      <td>0.344404</td>\n",
       "      <td>0.331433</td>\n",
       "      <td>0.001926</td>\n",
       "      <td>0.1</td>\n",
       "      <td>False</td>\n",
       "      <td>0.0001</td>\n",
       "      <td>{'model__C': 0.1, 'model__fit_intercept': Fals...</td>\n",
       "      <td>0.406126</td>\n",
       "      <td>0.002345</td>\n",
       "      <td>16</td>\n",
       "    </tr>\n",
       "    <tr>\n",
       "      <th>11</th>\n",
       "      <td>5.457334</td>\n",
       "      <td>0.126613</td>\n",
       "      <td>0.328797</td>\n",
       "      <td>0.000992</td>\n",
       "      <td>0.1</td>\n",
       "      <td>False</td>\n",
       "      <td>0.001</td>\n",
       "      <td>{'model__C': 0.1, 'model__fit_intercept': Fals...</td>\n",
       "      <td>0.406126</td>\n",
       "      <td>0.002345</td>\n",
       "      <td>16</td>\n",
       "    </tr>\n",
       "  </tbody>\n",
       "</table>\n",
       "</div>"
      ],
      "text/plain": [
       "    mean_fit_time  std_fit_time  mean_score_time  std_score_time  \\\n",
       "15      11.876488      0.321548         0.319638        0.005171   \n",
       "17       8.145805      0.507273         0.326043        0.042473   \n",
       "9        6.818275      0.278252         0.328298        0.004841   \n",
       "10       6.249652      0.344404         0.331433        0.001926   \n",
       "11       5.457334      0.126613         0.328797        0.000992   \n",
       "\n",
       "   param_model__C param_model__fit_intercept param_model__tol  \\\n",
       "15              1                      False          0.00001   \n",
       "17              1                      False            0.001   \n",
       "9             0.1                      False          0.00001   \n",
       "10            0.1                      False           0.0001   \n",
       "11            0.1                      False            0.001   \n",
       "\n",
       "                                               params  mean_test_score  \\\n",
       "15  {'model__C': 1, 'model__fit_intercept': False,...         0.406153   \n",
       "17  {'model__C': 1, 'model__fit_intercept': False,...         0.406153   \n",
       "9   {'model__C': 0.1, 'model__fit_intercept': Fals...         0.406126   \n",
       "10  {'model__C': 0.1, 'model__fit_intercept': Fals...         0.406126   \n",
       "11  {'model__C': 0.1, 'model__fit_intercept': Fals...         0.406126   \n",
       "\n",
       "    std_test_score  rank_test_score  \n",
       "15        0.002228               13  \n",
       "17        0.002228               13  \n",
       "9         0.002345               16  \n",
       "10        0.002345               16  \n",
       "11        0.002345               16  "
      ]
     },
     "execution_count": 77,
     "metadata": {},
     "output_type": "execute_result"
    }
   ],
   "source": [
    "cv_results_newton.tail()"
   ]
  },
  {
   "cell_type": "markdown",
   "id": "304cb0c7",
   "metadata": {},
   "source": [
    "### Fine tuning"
   ]
  },
  {
   "cell_type": "code",
   "execution_count": 25,
   "id": "8c4d4d34",
   "metadata": {
    "ExecuteTime": {
     "end_time": "2022-12-19T11:07:52.450783Z",
     "start_time": "2022-12-19T11:07:52.446643Z"
    }
   },
   "outputs": [
    {
     "data": {
      "text/plain": [
       "array([0.05, 0.06, 0.07, 0.08, 0.09])"
      ]
     },
     "execution_count": 25,
     "metadata": {},
     "output_type": "execute_result"
    }
   ],
   "source": [
    "np.arange(0.05, 0.16, 0.01)"
   ]
  },
  {
   "cell_type": "code",
   "execution_count": 26,
   "id": "9e867dae",
   "metadata": {
    "ExecuteTime": {
     "end_time": "2022-12-19T11:11:52.084207Z",
     "start_time": "2022-12-19T11:08:26.519032Z"
    },
    "scrolled": true
   },
   "outputs": [
    {
     "name": "stdout",
     "output_type": "stream",
     "text": [
      "Fitting 5 folds for each of 10 candidates, totalling 50 fits\n",
      "[CV] END ......................................model__C=0.05; total time=   4.1s\n",
      "[CV] END ......................................model__C=0.05; total time=   3.7s\n",
      "[CV] END ......................................model__C=0.05; total time=   3.7s\n",
      "[CV] END ......................................model__C=0.05; total time=   3.5s\n",
      "[CV] END ......................................model__C=0.05; total time=   3.5s\n",
      "[CV] END ......................................model__C=0.06; total time=   3.9s\n",
      "[CV] END ......................................model__C=0.06; total time=   3.8s\n",
      "[CV] END ......................................model__C=0.06; total time=   3.5s\n",
      "[CV] END ......................................model__C=0.06; total time=   3.3s\n",
      "[CV] END ......................................model__C=0.06; total time=   3.5s\n",
      "[CV] END ......................................model__C=0.07; total time=   3.7s\n",
      "[CV] END ......................................model__C=0.07; total time=   4.1s\n",
      "[CV] END ......................................model__C=0.07; total time=   3.7s\n",
      "[CV] END ......................................model__C=0.07; total time=   3.7s\n",
      "[CV] END ......................................model__C=0.07; total time=   3.5s\n",
      "[CV] END ......................................model__C=0.08; total time=   3.9s\n",
      "[CV] END ......................................model__C=0.08; total time=   3.9s\n",
      "[CV] END ......................................model__C=0.08; total time=   3.7s\n",
      "[CV] END ......................................model__C=0.08; total time=   3.7s\n",
      "[CV] END ......................................model__C=0.08; total time=   3.6s\n",
      "[CV] END ......................................model__C=0.09; total time=   3.8s\n",
      "[CV] END ......................................model__C=0.09; total time=   3.9s\n",
      "[CV] END ......................................model__C=0.09; total time=   3.7s\n",
      "[CV] END ......................................model__C=0.09; total time=   3.7s\n",
      "[CV] END ......................................model__C=0.09; total time=   3.7s\n",
      "[CV] END .......................................model__C=0.1; total time=   4.2s\n",
      "[CV] END .......................................model__C=0.1; total time=   4.1s\n",
      "[CV] END .......................................model__C=0.1; total time=   4.0s\n",
      "[CV] END .......................................model__C=0.1; total time=   3.7s\n",
      "[CV] END .......................................model__C=0.1; total time=   3.7s\n",
      "[CV] END .......................................model__C=0.2; total time=   4.1s\n",
      "[CV] END .......................................model__C=0.2; total time=   4.2s\n",
      "[CV] END .......................................model__C=0.2; total time=   4.1s\n",
      "[CV] END .......................................model__C=0.2; total time=   4.1s\n",
      "[CV] END .......................................model__C=0.2; total time=   4.0s\n",
      "[CV] END .......................................model__C=0.3; total time=   4.2s\n",
      "[CV] END .......................................model__C=0.3; total time=   4.2s\n",
      "[CV] END .......................................model__C=0.3; total time=   4.2s\n",
      "[CV] END .......................................model__C=0.3; total time=   4.4s\n",
      "[CV] END .......................................model__C=0.3; total time=   4.4s\n",
      "[CV] END .......................................model__C=0.4; total time=   4.6s\n",
      "[CV] END .......................................model__C=0.4; total time=   4.4s\n",
      "[CV] END .......................................model__C=0.4; total time=   4.3s\n",
      "[CV] END .......................................model__C=0.4; total time=   4.5s\n",
      "[CV] END .......................................model__C=0.4; total time=   4.6s\n",
      "[CV] END .......................................model__C=0.5; total time=   4.5s\n",
      "[CV] END .......................................model__C=0.5; total time=   4.5s\n",
      "[CV] END .......................................model__C=0.5; total time=   4.6s\n",
      "[CV] END .......................................model__C=0.5; total time=   4.6s\n",
      "[CV] END .......................................model__C=0.5; total time=   4.6s\n"
     ]
    }
   ],
   "source": [
    "param_grid = {'model__C': [0.05, 0.06, 0.07, 0.08, 0.09, 0.1, 0.2, 0.3, 0.4, 0.5]}\n",
    "\n",
    "model = LogisticRegression(random_state=42, max_iter=1000, solver='lbfgs')\n",
    "pipeline = Pipeline(steps=[('imputer', SimpleImputer(strategy='mean', missing_values=nan)),\n",
    "                           ('scaler', StandardScaler()),\n",
    "                           ('undersampler', RandomUnderSampler(random_state=0)),\n",
    "                           ('model', model)])\n",
    "\n",
    "grid = GridSearchCV(estimator=pipeline, param_grid=param_grid, scoring=f2_scorer, cv=5, verbose=2)\n",
    "grid.fit(X_train, y_train)\n",
    "cv_results_lbfgs = get_cv_results(grid)"
   ]
  },
  {
   "cell_type": "code",
   "execution_count": 27,
   "id": "529577ff",
   "metadata": {
    "ExecuteTime": {
     "end_time": "2022-12-19T11:11:52.093222Z",
     "start_time": "2022-12-19T11:11:52.087527Z"
    }
   },
   "outputs": [
    {
     "data": {
      "text/plain": [
       "0.4233043856920814"
      ]
     },
     "execution_count": 27,
     "metadata": {},
     "output_type": "execute_result"
    }
   ],
   "source": [
    "grid.best_score_"
   ]
  },
  {
   "cell_type": "code",
   "execution_count": 28,
   "id": "7c2c71e9",
   "metadata": {
    "ExecuteTime": {
     "end_time": "2022-12-19T11:11:52.116189Z",
     "start_time": "2022-12-19T11:11:52.097924Z"
    }
   },
   "outputs": [
    {
     "data": {
      "text/html": [
       "<div>\n",
       "<style scoped>\n",
       "    .dataframe tbody tr th:only-of-type {\n",
       "        vertical-align: middle;\n",
       "    }\n",
       "\n",
       "    .dataframe tbody tr th {\n",
       "        vertical-align: top;\n",
       "    }\n",
       "\n",
       "    .dataframe thead th {\n",
       "        text-align: right;\n",
       "    }\n",
       "</style>\n",
       "<table border=\"1\" class=\"dataframe\">\n",
       "  <thead>\n",
       "    <tr style=\"text-align: right;\">\n",
       "      <th></th>\n",
       "      <th>mean_fit_time</th>\n",
       "      <th>std_fit_time</th>\n",
       "      <th>mean_score_time</th>\n",
       "      <th>std_score_time</th>\n",
       "      <th>param_model__C</th>\n",
       "      <th>params</th>\n",
       "      <th>mean_test_score</th>\n",
       "      <th>std_test_score</th>\n",
       "      <th>rank_test_score</th>\n",
       "    </tr>\n",
       "  </thead>\n",
       "  <tbody>\n",
       "    <tr>\n",
       "      <th>3</th>\n",
       "      <td>3.520446</td>\n",
       "      <td>0.116126</td>\n",
       "      <td>0.242145</td>\n",
       "      <td>0.007334</td>\n",
       "      <td>0.08</td>\n",
       "      <td>{'model__C': 0.08}</td>\n",
       "      <td>0.423304</td>\n",
       "      <td>0.002931</td>\n",
       "      <td>1</td>\n",
       "    </tr>\n",
       "    <tr>\n",
       "      <th>2</th>\n",
       "      <td>3.492315</td>\n",
       "      <td>0.169000</td>\n",
       "      <td>0.242223</td>\n",
       "      <td>0.007242</td>\n",
       "      <td>0.07</td>\n",
       "      <td>{'model__C': 0.07}</td>\n",
       "      <td>0.423299</td>\n",
       "      <td>0.002911</td>\n",
       "      <td>2</td>\n",
       "    </tr>\n",
       "    <tr>\n",
       "      <th>1</th>\n",
       "      <td>3.389337</td>\n",
       "      <td>0.215270</td>\n",
       "      <td>0.239131</td>\n",
       "      <td>0.006690</td>\n",
       "      <td>0.06</td>\n",
       "      <td>{'model__C': 0.06}</td>\n",
       "      <td>0.423266</td>\n",
       "      <td>0.002862</td>\n",
       "      <td>3</td>\n",
       "    </tr>\n",
       "    <tr>\n",
       "      <th>4</th>\n",
       "      <td>3.514806</td>\n",
       "      <td>0.104227</td>\n",
       "      <td>0.246515</td>\n",
       "      <td>0.010112</td>\n",
       "      <td>0.09</td>\n",
       "      <td>{'model__C': 0.09}</td>\n",
       "      <td>0.423246</td>\n",
       "      <td>0.002964</td>\n",
       "      <td>4</td>\n",
       "    </tr>\n",
       "    <tr>\n",
       "      <th>5</th>\n",
       "      <td>3.703669</td>\n",
       "      <td>0.172048</td>\n",
       "      <td>0.244217</td>\n",
       "      <td>0.005046</td>\n",
       "      <td>0.1</td>\n",
       "      <td>{'model__C': 0.1}</td>\n",
       "      <td>0.423219</td>\n",
       "      <td>0.002852</td>\n",
       "      <td>5</td>\n",
       "    </tr>\n",
       "    <tr>\n",
       "      <th>0</th>\n",
       "      <td>3.441609</td>\n",
       "      <td>0.213972</td>\n",
       "      <td>0.241354</td>\n",
       "      <td>0.005284</td>\n",
       "      <td>0.05</td>\n",
       "      <td>{'model__C': 0.05}</td>\n",
       "      <td>0.423195</td>\n",
       "      <td>0.002899</td>\n",
       "      <td>6</td>\n",
       "    </tr>\n",
       "    <tr>\n",
       "      <th>6</th>\n",
       "      <td>3.884951</td>\n",
       "      <td>0.070264</td>\n",
       "      <td>0.238698</td>\n",
       "      <td>0.001757</td>\n",
       "      <td>0.2</td>\n",
       "      <td>{'model__C': 0.2}</td>\n",
       "      <td>0.423164</td>\n",
       "      <td>0.002839</td>\n",
       "      <td>7</td>\n",
       "    </tr>\n",
       "    <tr>\n",
       "      <th>8</th>\n",
       "      <td>4.244377</td>\n",
       "      <td>0.111202</td>\n",
       "      <td>0.241644</td>\n",
       "      <td>0.004442</td>\n",
       "      <td>0.4</td>\n",
       "      <td>{'model__C': 0.4}</td>\n",
       "      <td>0.423004</td>\n",
       "      <td>0.002849</td>\n",
       "      <td>8</td>\n",
       "    </tr>\n",
       "    <tr>\n",
       "      <th>7</th>\n",
       "      <td>4.021596</td>\n",
       "      <td>0.080265</td>\n",
       "      <td>0.240412</td>\n",
       "      <td>0.003696</td>\n",
       "      <td>0.3</td>\n",
       "      <td>{'model__C': 0.3}</td>\n",
       "      <td>0.422991</td>\n",
       "      <td>0.002868</td>\n",
       "      <td>9</td>\n",
       "    </tr>\n",
       "    <tr>\n",
       "      <th>9</th>\n",
       "      <td>4.310209</td>\n",
       "      <td>0.052670</td>\n",
       "      <td>0.241816</td>\n",
       "      <td>0.004181</td>\n",
       "      <td>0.5</td>\n",
       "      <td>{'model__C': 0.5}</td>\n",
       "      <td>0.422920</td>\n",
       "      <td>0.002823</td>\n",
       "      <td>10</td>\n",
       "    </tr>\n",
       "  </tbody>\n",
       "</table>\n",
       "</div>"
      ],
      "text/plain": [
       "   mean_fit_time  std_fit_time  mean_score_time  std_score_time  \\\n",
       "3       3.520446      0.116126         0.242145        0.007334   \n",
       "2       3.492315      0.169000         0.242223        0.007242   \n",
       "1       3.389337      0.215270         0.239131        0.006690   \n",
       "4       3.514806      0.104227         0.246515        0.010112   \n",
       "5       3.703669      0.172048         0.244217        0.005046   \n",
       "0       3.441609      0.213972         0.241354        0.005284   \n",
       "6       3.884951      0.070264         0.238698        0.001757   \n",
       "8       4.244377      0.111202         0.241644        0.004442   \n",
       "7       4.021596      0.080265         0.240412        0.003696   \n",
       "9       4.310209      0.052670         0.241816        0.004181   \n",
       "\n",
       "  param_model__C              params  mean_test_score  std_test_score  \\\n",
       "3           0.08  {'model__C': 0.08}         0.423304        0.002931   \n",
       "2           0.07  {'model__C': 0.07}         0.423299        0.002911   \n",
       "1           0.06  {'model__C': 0.06}         0.423266        0.002862   \n",
       "4           0.09  {'model__C': 0.09}         0.423246        0.002964   \n",
       "5            0.1   {'model__C': 0.1}         0.423219        0.002852   \n",
       "0           0.05  {'model__C': 0.05}         0.423195        0.002899   \n",
       "6            0.2   {'model__C': 0.2}         0.423164        0.002839   \n",
       "8            0.4   {'model__C': 0.4}         0.423004        0.002849   \n",
       "7            0.3   {'model__C': 0.3}         0.422991        0.002868   \n",
       "9            0.5   {'model__C': 0.5}         0.422920        0.002823   \n",
       "\n",
       "   rank_test_score  \n",
       "3                1  \n",
       "2                2  \n",
       "1                3  \n",
       "4                4  \n",
       "5                5  \n",
       "0                6  \n",
       "6                7  \n",
       "8                8  \n",
       "7                9  \n",
       "9               10  "
      ]
     },
     "execution_count": 28,
     "metadata": {},
     "output_type": "execute_result"
    }
   ],
   "source": [
    "cv_results_lbfgs"
   ]
  },
  {
   "cell_type": "markdown",
   "id": "219a6942",
   "metadata": {},
   "source": [
    "## Enregistrement du modèle"
   ]
  },
  {
   "cell_type": "code",
   "execution_count": 14,
   "id": "4265e3b4",
   "metadata": {
    "ExecuteTime": {
     "end_time": "2023-01-10T09:34:25.305399Z",
     "start_time": "2023-01-10T09:34:25.301836Z"
    }
   },
   "outputs": [],
   "source": [
    "params = {'max_iter': 1000,\n",
    "          'C': 0.08,\n",
    "          'solver': 'lbfgs'\n",
    "          }\n",
    "pipeline = Pipeline(steps=[('imputer', SimpleImputer(strategy='mean', missing_values=nan)),\n",
    "                           ('scaler', StandardScaler()),\n",
    "                           ('undersampler', RandomUnderSampler(random_state=0)),\n",
    "                           ('model', LogisticRegression(random_state=42, **params))\n",
    "                          ])"
   ]
  },
  {
   "cell_type": "code",
   "execution_count": 15,
   "id": "a51845e3",
   "metadata": {
    "ExecuteTime": {
     "end_time": "2023-01-10T09:34:29.892738Z",
     "start_time": "2023-01-10T09:34:25.509331Z"
    }
   },
   "outputs": [
    {
     "data": {
      "text/html": [
       "<style>#sk-container-id-1 {color: black;background-color: white;}#sk-container-id-1 pre{padding: 0;}#sk-container-id-1 div.sk-toggleable {background-color: white;}#sk-container-id-1 label.sk-toggleable__label {cursor: pointer;display: block;width: 100%;margin-bottom: 0;padding: 0.3em;box-sizing: border-box;text-align: center;}#sk-container-id-1 label.sk-toggleable__label-arrow:before {content: \"▸\";float: left;margin-right: 0.25em;color: #696969;}#sk-container-id-1 label.sk-toggleable__label-arrow:hover:before {color: black;}#sk-container-id-1 div.sk-estimator:hover label.sk-toggleable__label-arrow:before {color: black;}#sk-container-id-1 div.sk-toggleable__content {max-height: 0;max-width: 0;overflow: hidden;text-align: left;background-color: #f0f8ff;}#sk-container-id-1 div.sk-toggleable__content pre {margin: 0.2em;color: black;border-radius: 0.25em;background-color: #f0f8ff;}#sk-container-id-1 input.sk-toggleable__control:checked~div.sk-toggleable__content {max-height: 200px;max-width: 100%;overflow: auto;}#sk-container-id-1 input.sk-toggleable__control:checked~label.sk-toggleable__label-arrow:before {content: \"▾\";}#sk-container-id-1 div.sk-estimator input.sk-toggleable__control:checked~label.sk-toggleable__label {background-color: #d4ebff;}#sk-container-id-1 div.sk-label input.sk-toggleable__control:checked~label.sk-toggleable__label {background-color: #d4ebff;}#sk-container-id-1 input.sk-hidden--visually {border: 0;clip: rect(1px 1px 1px 1px);clip: rect(1px, 1px, 1px, 1px);height: 1px;margin: -1px;overflow: hidden;padding: 0;position: absolute;width: 1px;}#sk-container-id-1 div.sk-estimator {font-family: monospace;background-color: #f0f8ff;border: 1px dotted black;border-radius: 0.25em;box-sizing: border-box;margin-bottom: 0.5em;}#sk-container-id-1 div.sk-estimator:hover {background-color: #d4ebff;}#sk-container-id-1 div.sk-parallel-item::after {content: \"\";width: 100%;border-bottom: 1px solid gray;flex-grow: 1;}#sk-container-id-1 div.sk-label:hover label.sk-toggleable__label {background-color: #d4ebff;}#sk-container-id-1 div.sk-serial::before {content: \"\";position: absolute;border-left: 1px solid gray;box-sizing: border-box;top: 0;bottom: 0;left: 50%;z-index: 0;}#sk-container-id-1 div.sk-serial {display: flex;flex-direction: column;align-items: center;background-color: white;padding-right: 0.2em;padding-left: 0.2em;position: relative;}#sk-container-id-1 div.sk-item {position: relative;z-index: 1;}#sk-container-id-1 div.sk-parallel {display: flex;align-items: stretch;justify-content: center;background-color: white;position: relative;}#sk-container-id-1 div.sk-item::before, #sk-container-id-1 div.sk-parallel-item::before {content: \"\";position: absolute;border-left: 1px solid gray;box-sizing: border-box;top: 0;bottom: 0;left: 50%;z-index: -1;}#sk-container-id-1 div.sk-parallel-item {display: flex;flex-direction: column;z-index: 1;position: relative;background-color: white;}#sk-container-id-1 div.sk-parallel-item:first-child::after {align-self: flex-end;width: 50%;}#sk-container-id-1 div.sk-parallel-item:last-child::after {align-self: flex-start;width: 50%;}#sk-container-id-1 div.sk-parallel-item:only-child::after {width: 0;}#sk-container-id-1 div.sk-dashed-wrapped {border: 1px dashed gray;margin: 0 0.4em 0.5em 0.4em;box-sizing: border-box;padding-bottom: 0.4em;background-color: white;}#sk-container-id-1 div.sk-label label {font-family: monospace;font-weight: bold;display: inline-block;line-height: 1.2em;}#sk-container-id-1 div.sk-label-container {text-align: center;}#sk-container-id-1 div.sk-container {/* jupyter's `normalize.less` sets `[hidden] { display: none; }` but bootstrap.min.css set `[hidden] { display: none !important; }` so we also need the `!important` here to be able to override the default hidden behavior on the sphinx rendered scikit-learn.org. See: https://github.com/scikit-learn/scikit-learn/issues/21755 */display: inline-block !important;position: relative;}#sk-container-id-1 div.sk-text-repr-fallback {display: none;}</style><div id=\"sk-container-id-1\" class=\"sk-top-container\"><div class=\"sk-text-repr-fallback\"><pre>Pipeline(steps=[(&#x27;imputer&#x27;, SimpleImputer(missing_values=1.01010101)),\n",
       "                (&#x27;scaler&#x27;, StandardScaler()),\n",
       "                (&#x27;undersampler&#x27;, RandomUnderSampler(random_state=0)),\n",
       "                (&#x27;model&#x27;,\n",
       "                 LogisticRegression(C=0.08, max_iter=1000, random_state=42))])</pre><b>In a Jupyter environment, please rerun this cell to show the HTML representation or trust the notebook. <br />On GitHub, the HTML representation is unable to render, please try loading this page with nbviewer.org.</b></div><div class=\"sk-container\" hidden><div class=\"sk-item sk-dashed-wrapped\"><div class=\"sk-label-container\"><div class=\"sk-label sk-toggleable\"><input class=\"sk-toggleable__control sk-hidden--visually\" id=\"sk-estimator-id-1\" type=\"checkbox\" ><label for=\"sk-estimator-id-1\" class=\"sk-toggleable__label sk-toggleable__label-arrow\">Pipeline</label><div class=\"sk-toggleable__content\"><pre>Pipeline(steps=[(&#x27;imputer&#x27;, SimpleImputer(missing_values=1.01010101)),\n",
       "                (&#x27;scaler&#x27;, StandardScaler()),\n",
       "                (&#x27;undersampler&#x27;, RandomUnderSampler(random_state=0)),\n",
       "                (&#x27;model&#x27;,\n",
       "                 LogisticRegression(C=0.08, max_iter=1000, random_state=42))])</pre></div></div></div><div class=\"sk-serial\"><div class=\"sk-item\"><div class=\"sk-estimator sk-toggleable\"><input class=\"sk-toggleable__control sk-hidden--visually\" id=\"sk-estimator-id-2\" type=\"checkbox\" ><label for=\"sk-estimator-id-2\" class=\"sk-toggleable__label sk-toggleable__label-arrow\">SimpleImputer</label><div class=\"sk-toggleable__content\"><pre>SimpleImputer(missing_values=1.01010101)</pre></div></div></div><div class=\"sk-item\"><div class=\"sk-estimator sk-toggleable\"><input class=\"sk-toggleable__control sk-hidden--visually\" id=\"sk-estimator-id-3\" type=\"checkbox\" ><label for=\"sk-estimator-id-3\" class=\"sk-toggleable__label sk-toggleable__label-arrow\">StandardScaler</label><div class=\"sk-toggleable__content\"><pre>StandardScaler()</pre></div></div></div><div class=\"sk-item\"><div class=\"sk-estimator sk-toggleable\"><input class=\"sk-toggleable__control sk-hidden--visually\" id=\"sk-estimator-id-4\" type=\"checkbox\" ><label for=\"sk-estimator-id-4\" class=\"sk-toggleable__label sk-toggleable__label-arrow\">RandomUnderSampler</label><div class=\"sk-toggleable__content\"><pre>RandomUnderSampler(random_state=0)</pre></div></div></div><div class=\"sk-item\"><div class=\"sk-estimator sk-toggleable\"><input class=\"sk-toggleable__control sk-hidden--visually\" id=\"sk-estimator-id-5\" type=\"checkbox\" ><label for=\"sk-estimator-id-5\" class=\"sk-toggleable__label sk-toggleable__label-arrow\">LogisticRegression</label><div class=\"sk-toggleable__content\"><pre>LogisticRegression(C=0.08, max_iter=1000, random_state=42)</pre></div></div></div></div></div></div></div>"
      ],
      "text/plain": [
       "Pipeline(steps=[('imputer', SimpleImputer(missing_values=1.01010101)),\n",
       "                ('scaler', StandardScaler()),\n",
       "                ('undersampler', RandomUnderSampler(random_state=0)),\n",
       "                ('model',\n",
       "                 LogisticRegression(C=0.08, max_iter=1000, random_state=42))])"
      ]
     },
     "execution_count": 15,
     "metadata": {},
     "output_type": "execute_result"
    }
   ],
   "source": [
    "pipeline.fit(X_train, y_train)"
   ]
  },
  {
   "cell_type": "code",
   "execution_count": 16,
   "id": "13ff3fd5",
   "metadata": {
    "ExecuteTime": {
     "end_time": "2023-01-10T09:34:34.091107Z",
     "start_time": "2023-01-10T09:34:32.616790Z"
    }
   },
   "outputs": [
    {
     "name": "stdout",
     "output_type": "stream",
     "text": [
      "              precision    recall  f1-score   support\n",
      "\n",
      "           0       0.96      0.70      0.81    211962\n",
      "           1       0.17      0.69      0.27     18668\n",
      "\n",
      "    accuracy                           0.70    230630\n",
      "   macro avg       0.57      0.69      0.54    230630\n",
      "weighted avg       0.90      0.70      0.76    230630\n",
      "\n"
     ]
    }
   ],
   "source": [
    "y_pred = pipeline.predict(X_train)\n",
    "print(metrics.classification_report(y_train, y_pred))"
   ]
  },
  {
   "cell_type": "code",
   "execution_count": 17,
   "id": "993bb2fa",
   "metadata": {
    "ExecuteTime": {
     "end_time": "2023-01-10T09:34:34.661626Z",
     "start_time": "2023-01-10T09:34:34.093361Z"
    }
   },
   "outputs": [
    {
     "name": "stdout",
     "output_type": "stream",
     "text": [
      "              precision    recall  f1-score   support\n",
      "\n",
      "           0       0.96      0.70      0.81     70720\n",
      "           1       0.16      0.69      0.27      6157\n",
      "\n",
      "    accuracy                           0.70     76877\n",
      "   macro avg       0.56      0.69      0.54     76877\n",
      "weighted avg       0.90      0.70      0.76     76877\n",
      "\n"
     ]
    }
   ],
   "source": [
    "y_pred = pipeline.predict(X_test)\n",
    "print(metrics.classification_report(y_test, y_pred))"
   ]
  },
  {
   "cell_type": "code",
   "execution_count": 49,
   "id": "de09cdfc",
   "metadata": {
    "ExecuteTime": {
     "end_time": "2022-12-31T22:08:14.164298Z",
     "start_time": "2022-12-31T22:08:14.156612Z"
    }
   },
   "outputs": [
    {
     "data": {
      "text/plain": [
       "['pipeline_projet7.joblib']"
      ]
     },
     "execution_count": 49,
     "metadata": {},
     "output_type": "execute_result"
    }
   ],
   "source": [
    "joblib.dump(pipeline, 'pipeline_projet7.joblib')"
   ]
  },
  {
   "cell_type": "markdown",
   "id": "b98e4fbd",
   "metadata": {},
   "source": [
    "# Feature importance"
   ]
  },
  {
   "cell_type": "markdown",
   "id": "6a58d3bd",
   "metadata": {},
   "source": [
    "## Importance globale"
   ]
  },
  {
   "cell_type": "code",
   "execution_count": 50,
   "id": "b9d98a78",
   "metadata": {
    "ExecuteTime": {
     "end_time": "2022-12-31T22:08:14.171233Z",
     "start_time": "2022-12-31T22:08:14.166046Z"
    }
   },
   "outputs": [
    {
     "data": {
      "text/html": [
       "<style>#sk-container-id-3 {color: black;background-color: white;}#sk-container-id-3 pre{padding: 0;}#sk-container-id-3 div.sk-toggleable {background-color: white;}#sk-container-id-3 label.sk-toggleable__label {cursor: pointer;display: block;width: 100%;margin-bottom: 0;padding: 0.3em;box-sizing: border-box;text-align: center;}#sk-container-id-3 label.sk-toggleable__label-arrow:before {content: \"▸\";float: left;margin-right: 0.25em;color: #696969;}#sk-container-id-3 label.sk-toggleable__label-arrow:hover:before {color: black;}#sk-container-id-3 div.sk-estimator:hover label.sk-toggleable__label-arrow:before {color: black;}#sk-container-id-3 div.sk-toggleable__content {max-height: 0;max-width: 0;overflow: hidden;text-align: left;background-color: #f0f8ff;}#sk-container-id-3 div.sk-toggleable__content pre {margin: 0.2em;color: black;border-radius: 0.25em;background-color: #f0f8ff;}#sk-container-id-3 input.sk-toggleable__control:checked~div.sk-toggleable__content {max-height: 200px;max-width: 100%;overflow: auto;}#sk-container-id-3 input.sk-toggleable__control:checked~label.sk-toggleable__label-arrow:before {content: \"▾\";}#sk-container-id-3 div.sk-estimator input.sk-toggleable__control:checked~label.sk-toggleable__label {background-color: #d4ebff;}#sk-container-id-3 div.sk-label input.sk-toggleable__control:checked~label.sk-toggleable__label {background-color: #d4ebff;}#sk-container-id-3 input.sk-hidden--visually {border: 0;clip: rect(1px 1px 1px 1px);clip: rect(1px, 1px, 1px, 1px);height: 1px;margin: -1px;overflow: hidden;padding: 0;position: absolute;width: 1px;}#sk-container-id-3 div.sk-estimator {font-family: monospace;background-color: #f0f8ff;border: 1px dotted black;border-radius: 0.25em;box-sizing: border-box;margin-bottom: 0.5em;}#sk-container-id-3 div.sk-estimator:hover {background-color: #d4ebff;}#sk-container-id-3 div.sk-parallel-item::after {content: \"\";width: 100%;border-bottom: 1px solid gray;flex-grow: 1;}#sk-container-id-3 div.sk-label:hover label.sk-toggleable__label {background-color: #d4ebff;}#sk-container-id-3 div.sk-serial::before {content: \"\";position: absolute;border-left: 1px solid gray;box-sizing: border-box;top: 0;bottom: 0;left: 50%;z-index: 0;}#sk-container-id-3 div.sk-serial {display: flex;flex-direction: column;align-items: center;background-color: white;padding-right: 0.2em;padding-left: 0.2em;position: relative;}#sk-container-id-3 div.sk-item {position: relative;z-index: 1;}#sk-container-id-3 div.sk-parallel {display: flex;align-items: stretch;justify-content: center;background-color: white;position: relative;}#sk-container-id-3 div.sk-item::before, #sk-container-id-3 div.sk-parallel-item::before {content: \"\";position: absolute;border-left: 1px solid gray;box-sizing: border-box;top: 0;bottom: 0;left: 50%;z-index: -1;}#sk-container-id-3 div.sk-parallel-item {display: flex;flex-direction: column;z-index: 1;position: relative;background-color: white;}#sk-container-id-3 div.sk-parallel-item:first-child::after {align-self: flex-end;width: 50%;}#sk-container-id-3 div.sk-parallel-item:last-child::after {align-self: flex-start;width: 50%;}#sk-container-id-3 div.sk-parallel-item:only-child::after {width: 0;}#sk-container-id-3 div.sk-dashed-wrapped {border: 1px dashed gray;margin: 0 0.4em 0.5em 0.4em;box-sizing: border-box;padding-bottom: 0.4em;background-color: white;}#sk-container-id-3 div.sk-label label {font-family: monospace;font-weight: bold;display: inline-block;line-height: 1.2em;}#sk-container-id-3 div.sk-label-container {text-align: center;}#sk-container-id-3 div.sk-container {/* jupyter's `normalize.less` sets `[hidden] { display: none; }` but bootstrap.min.css set `[hidden] { display: none !important; }` so we also need the `!important` here to be able to override the default hidden behavior on the sphinx rendered scikit-learn.org. See: https://github.com/scikit-learn/scikit-learn/issues/21755 */display: inline-block !important;position: relative;}#sk-container-id-3 div.sk-text-repr-fallback {display: none;}</style><div id=\"sk-container-id-3\" class=\"sk-top-container\"><div class=\"sk-text-repr-fallback\"><pre>LogisticRegression(C=0.08, max_iter=1000, random_state=42)</pre><b>In a Jupyter environment, please rerun this cell to show the HTML representation or trust the notebook. <br />On GitHub, the HTML representation is unable to render, please try loading this page with nbviewer.org.</b></div><div class=\"sk-container\" hidden><div class=\"sk-item\"><div class=\"sk-estimator sk-toggleable\"><input class=\"sk-toggleable__control sk-hidden--visually\" id=\"sk-estimator-id-11\" type=\"checkbox\" checked><label for=\"sk-estimator-id-11\" class=\"sk-toggleable__label sk-toggleable__label-arrow\">LogisticRegression</label><div class=\"sk-toggleable__content\"><pre>LogisticRegression(C=0.08, max_iter=1000, random_state=42)</pre></div></div></div></div></div>"
      ],
      "text/plain": [
       "LogisticRegression(C=0.08, max_iter=1000, random_state=42)"
      ]
     },
     "execution_count": 50,
     "metadata": {},
     "output_type": "execute_result"
    }
   ],
   "source": [
    "model = pipeline['model']\n",
    "model"
   ]
  },
  {
   "cell_type": "code",
   "execution_count": 51,
   "id": "59a5f557",
   "metadata": {
    "ExecuteTime": {
     "end_time": "2022-12-31T22:08:14.180054Z",
     "start_time": "2022-12-31T22:08:14.173502Z"
    }
   },
   "outputs": [
    {
     "data": {
      "text/plain": [
       "CODE_GENDER                       0.174036\n",
       "FLAG_OWN_CAR                     -0.108070\n",
       "FLAG_OWN_REALTY                   0.030186\n",
       "CNT_CHILDREN                      0.028928\n",
       "AMT_CREDIT                       -0.233609\n",
       "                                    ...   \n",
       "INSTAL_AMT_INSTALMENT_SUM         0.030830\n",
       "INSTAL_AMT_PAYMENT_MAX            0.035707\n",
       "INSTAL_DAYS_ENTRY_PAYMENT_MAX    -0.165024\n",
       "INSTAL_DAYS_ENTRY_PAYMENT_MEAN    0.169185\n",
       "INSTAL_COUNT                      0.050686\n",
       "Length: 231, dtype: float64"
      ]
     },
     "execution_count": 51,
     "metadata": {},
     "output_type": "execute_result"
    }
   ],
   "source": [
    "coefs = pd.Series(model.coef_[0], index=X.columns)\n",
    "coefs"
   ]
  },
  {
   "cell_type": "code",
   "execution_count": 52,
   "id": "95c844f9",
   "metadata": {
    "ExecuteTime": {
     "end_time": "2022-12-31T22:08:14.191422Z",
     "start_time": "2022-12-31T22:08:14.183409Z"
    }
   },
   "outputs": [
    {
     "data": {
      "text/plain": [
       "EXT_SOURCE_2                  -0.390953\n",
       "EXT_SOURCE_3                  -0.379409\n",
       "POS_MONTHS_BALANCE_SIZE       -0.253044\n",
       "AMT_CREDIT                    -0.233609\n",
       "AMT_ANNUITY                    0.224134\n",
       "PREV_AMT_ANNUITY_MEAN         -0.188437\n",
       "PREV_CNT_PAYMENT_MEAN          0.175026\n",
       "EXT_SOURCE_1                  -0.175014\n",
       "CODE_GENDER                    0.174036\n",
       "BURO_CNT_CREDIT_PROLONG_SUM   -0.173083\n",
       "dtype: float64"
      ]
     },
     "execution_count": 52,
     "metadata": {},
     "output_type": "execute_result"
    }
   ],
   "source": [
    "best_coefs_abs = coefs.abs().sort_values(ascending=False)[:10]\n",
    "coefs[best_coefs_abs.index]"
   ]
  },
  {
   "cell_type": "code",
   "execution_count": 53,
   "id": "7c30eeaa",
   "metadata": {
    "ExecuteTime": {
     "end_time": "2022-12-31T22:08:14.226515Z",
     "start_time": "2022-12-31T22:08:14.222534Z"
    }
   },
   "outputs": [],
   "source": [
    "best_features = coefs[best_coefs_abs.index].index\n",
    "best_values = - coefs[best_coefs_abs.index].values  # opposé pour plus de lisibilité"
   ]
  },
  {
   "cell_type": "code",
   "execution_count": 54,
   "id": "7a2dba9c",
   "metadata": {
    "ExecuteTime": {
     "end_time": "2022-12-31T22:08:14.555170Z",
     "start_time": "2022-12-31T22:08:14.228694Z"
    }
   },
   "outputs": [
    {
     "data": {
      "image/png": "[encoded data removed]",
      "text/plain": [
       "<Figure size 800x600 with 1 Axes>"
      ]
     },
     "metadata": {},
     "output_type": "display_data"
    }
   ],
   "source": [
    "fig = plt.figure(figsize=(8,6))\n",
    "plt.barh(best_features[::-1], best_values[::-1],\n",
    "         color=[\"red\" if coef<0 else \"green\" for coef in best_values[::-1]])\n",
    "#plt.xticks(rotation=30, horizontalalignment='right')\n",
    "plt.xlim(-0.45, 0.45)\n",
    "plt.xlabel(\"Feature contribution\");"
   ]
  },
  {
   "cell_type": "markdown",
   "id": "f8aae07a",
   "metadata": {},
   "source": [
    "## Importance locale"
   ]
  },
  {
   "cell_type": "code",
   "execution_count": 18,
   "id": "8d9eca50",
   "metadata": {
    "ExecuteTime": {
     "end_time": "2023-01-10T09:34:53.660628Z",
     "start_time": "2023-01-10T09:34:53.658117Z"
    }
   },
   "outputs": [],
   "source": [
    "target_names = {0: 'Solvable', 1: 'Insolvable'}"
   ]
  },
  {
   "cell_type": "code",
   "execution_count": 19,
   "id": "fd2e0ed3",
   "metadata": {
    "ExecuteTime": {
     "end_time": "2023-01-10T09:34:55.567699Z",
     "start_time": "2023-01-10T09:34:53.880282Z"
    }
   },
   "outputs": [
    {
     "data": {
      "text/plain": [
       "0    18668\n",
       "1    18668\n",
       "Name: TARGET, dtype: int64"
      ]
     },
     "execution_count": 19,
     "metadata": {},
     "output_type": "execute_result"
    }
   ],
   "source": [
    "preprocessing = pipeline[:2]\n",
    "X_train_prep = preprocessing.transform(X_train)\n",
    "X_test_prep = preprocessing.transform(X_test)\n",
    "\n",
    "resampler = pipeline['undersampler']\n",
    "X_train_res, y_train_res = resampler.fit_resample(X_train_prep, y_train)\n",
    "\n",
    "y_train_res.value_counts()"
   ]
  },
  {
   "cell_type": "code",
   "execution_count": 20,
   "id": "57b0acf7",
   "metadata": {
    "ExecuteTime": {
     "end_time": "2023-01-10T09:34:57.162953Z",
     "start_time": "2023-01-10T09:34:57.160198Z"
    }
   },
   "outputs": [],
   "source": [
    "model = pipeline['model']"
   ]
  },
  {
   "cell_type": "code",
   "execution_count": 21,
   "id": "e6a14c44",
   "metadata": {
    "ExecuteTime": {
     "end_time": "2023-01-10T09:34:58.929227Z",
     "start_time": "2023-01-10T09:34:58.585901Z"
    }
   },
   "outputs": [
    {
     "name": "stdout",
     "output_type": "stream",
     "text": [
      "              precision    recall  f1-score   support\n",
      "\n",
      "           0       0.96      0.70      0.81    211962\n",
      "           1       0.17      0.69      0.27     18668\n",
      "\n",
      "    accuracy                           0.70    230630\n",
      "   macro avg       0.57      0.69      0.54    230630\n",
      "weighted avg       0.90      0.70      0.76    230630\n",
      "\n"
     ]
    }
   ],
   "source": [
    "y_pred = model.predict(X_train_prep)\n",
    "print(metrics.classification_report(y_train, y_pred))"
   ]
  },
  {
   "cell_type": "code",
   "execution_count": 22,
   "id": "815798aa",
   "metadata": {
    "ExecuteTime": {
     "end_time": "2023-01-10T09:35:00.251363Z",
     "start_time": "2023-01-10T09:35:00.122735Z"
    }
   },
   "outputs": [
    {
     "name": "stdout",
     "output_type": "stream",
     "text": [
      "              precision    recall  f1-score   support\n",
      "\n",
      "           0       0.96      0.70      0.81     70720\n",
      "           1       0.16      0.69      0.27      6157\n",
      "\n",
      "    accuracy                           0.70     76877\n",
      "   macro avg       0.56      0.69      0.54     76877\n",
      "weighted avg       0.90      0.70      0.76     76877\n",
      "\n"
     ]
    }
   ],
   "source": [
    "y_pred = model.predict(X_test_prep)\n",
    "print(metrics.classification_report(y_test, y_pred))"
   ]
  },
  {
   "cell_type": "code",
   "execution_count": 23,
   "id": "b0828d74",
   "metadata": {
    "ExecuteTime": {
     "end_time": "2023-01-10T09:35:05.174949Z",
     "start_time": "2023-01-10T09:35:03.024431Z"
    }
   },
   "outputs": [],
   "source": [
    "explainer = lime_tabular.LimeTabularExplainer(X_train_res, mode=\"classification\",\n",
    "                                              class_names=target_names,\n",
    "                                              feature_names=X_train.columns,\n",
    "                                             )"
   ]
  },
  {
   "cell_type": "code",
   "execution_count": 61,
   "id": "b588bb67",
   "metadata": {
    "ExecuteTime": {
     "end_time": "2022-12-31T22:08:20.012992Z",
     "start_time": "2022-12-31T22:08:19.639084Z"
    }
   },
   "outputs": [
    {
     "name": "stdout",
     "output_type": "stream",
     "text": [
      "Prediction :  Solvable\n",
      "Actual :      Solvable\n"
     ]
    }
   ],
   "source": [
    "np.random.seed(0)\n",
    "idx = np.random.randint(1, len(X_test_prep))\n",
    "\n",
    "print(\"Prediction : \", target_names[pipeline['model'].predict(X_test_prep[idx].reshape(1,-1))[0]])\n",
    "print(\"Actual :     \", target_names[y_test.values[idx]])\n",
    "\n",
    "explanation = explainer.explain_instance(X_test_prep[idx], model.predict_proba,\n",
    "                                         num_features=X.shape[1])\n",
    "\n",
    "#explanation.show_in_notebook()"
   ]
  },
  {
   "cell_type": "code",
   "execution_count": 62,
   "id": "0e18a38c",
   "metadata": {
    "ExecuteTime": {
     "end_time": "2022-12-31T22:08:20.276221Z",
     "start_time": "2022-12-31T22:08:20.015454Z"
    }
   },
   "outputs": [
    {
     "data": {
      "image/png": "[encoded data removed]",
      "text/plain": [
       "<Figure size 800x600 with 1 Axes>"
      ]
     },
     "metadata": {},
     "output_type": "display_data"
    }
   ],
   "source": [
    "explanation_map = explanation.as_map()[1][:10]\n",
    "\n",
    "feat_names = X_train.columns[[x[0] for x in explanation_map]]\n",
    "feat_vals = [x[1] for x in explanation_map]\n",
    "# On prend l'opposée des valeurs pour que ça soit plus lisible\n",
    "#feat_vals = - np.array(feat_vals)\n",
    "\n",
    "fig = plt.figure(figsize=(8,6))\n",
    "plt.barh(feat_names[::-1], feat_vals[::-1],\n",
    "         color=[\"red\" if coef<0 else \"green\" for coef in feat_vals[::-1]])\n",
    "#plt.xticks(rotation=30, horizontalalignment='right')\n",
    "x1 = - abs(1.1*feat_vals[0])\n",
    "x2 = - x1\n",
    "plt.xlim(x1, x2)\n",
    "plt.xlabel('Feature contribution')\n",
    "plt.show()"
   ]
  },
  {
   "cell_type": "code",
   "execution_count": 63,
   "id": "da642776",
   "metadata": {
    "ExecuteTime": {
     "end_time": "2022-12-31T22:08:20.497900Z",
     "start_time": "2022-12-31T22:08:20.278410Z"
    }
   },
   "outputs": [
    {
     "data": {
      "image/png": "[encoded data removed]",
      "text/plain": [
       "<Figure size 800x600 with 1 Axes>"
      ]
     },
     "execution_count": 63,
     "metadata": {},
     "output_type": "execute_result"
    }
   ],
   "source": [
    "fig"
   ]
  },
  {
   "cell_type": "code",
   "execution_count": 64,
   "id": "ef1c2197",
   "metadata": {
    "ExecuteTime": {
     "end_time": "2022-12-31T22:08:20.672906Z",
     "start_time": "2022-12-31T22:08:20.499713Z"
    }
   },
   "outputs": [],
   "source": [
    "# On sauvegarde l'explainer\n",
    "with open('explainer.dill', 'wb') as f:\n",
    "    dill.dump(explainer, f)"
   ]
  },
  {
   "cell_type": "markdown",
   "id": "354c29cb",
   "metadata": {},
   "source": [
    "# Minimisation de la fonction coût-métier"
   ]
  },
  {
   "cell_type": "markdown",
   "id": "06f16ea5",
   "metadata": {},
   "source": [
    "## Precision-recall curve"
   ]
  },
  {
   "cell_type": "code",
   "execution_count": 24,
   "id": "35adbace",
   "metadata": {
    "ExecuteTime": {
     "end_time": "2023-01-10T09:35:11.236320Z",
     "start_time": "2023-01-10T09:35:10.589524Z"
    }
   },
   "outputs": [
    {
     "data": {
      "image/png": "[encoded data removed]",
      "text/plain": [
       "<Figure size 800x600 with 1 Axes>"
      ]
     },
     "metadata": {},
     "output_type": "display_data"
    }
   ],
   "source": [
    "y_score = pipeline.predict_proba(X_test)[:,1]\n",
    "#y_score = pipeline.decision_function(X_test)\n",
    "\n",
    "precision, recall, threshold = metrics.precision_recall_curve(y_test, y_score)\n",
    "\n",
    "fig, ax = plt.subplots(figsize=(8,6))\n",
    "ax.plot(recall, precision)\n",
    "ax.set_title('Precision-Recall curve')\n",
    "plt.show()"
   ]
  },
  {
   "cell_type": "code",
   "execution_count": 32,
   "id": "20cda5c7",
   "metadata": {
    "ExecuteTime": {
     "end_time": "2023-01-10T09:36:15.741102Z",
     "start_time": "2023-01-10T09:36:15.736972Z"
    }
   },
   "outputs": [
    {
     "data": {
      "text/plain": [
       "array([0.49998094])"
      ]
     },
     "execution_count": 32,
     "metadata": {},
     "output_type": "execute_result"
    }
   ],
   "source": [
    "mask = (threshold > 0.4999808) & (threshold < 0.5000)\n",
    "threshold[mask]"
   ]
  },
  {
   "cell_type": "code",
   "execution_count": 33,
   "id": "44a45983",
   "metadata": {
    "ExecuteTime": {
     "end_time": "2023-01-10T09:36:16.769263Z",
     "start_time": "2023-01-10T09:36:16.765868Z"
    }
   },
   "outputs": [
    {
     "name": "stdout",
     "output_type": "stream",
     "text": [
      "[0.16484627]\n",
      "[0.68880949]\n"
     ]
    }
   ],
   "source": [
    "print(precision[1:][mask])\n",
    "print(recall[1:][mask])"
   ]
  },
  {
   "cell_type": "markdown",
   "id": "3e9ee560",
   "metadata": {},
   "source": [
    "## Définition et minimisation de la fonction coût"
   ]
  },
  {
   "cell_type": "markdown",
   "id": "d6be47df",
   "metadata": {},
   "source": [
    "La fonction coût-métier à minimiser est de la forme $f = FP + 10FN$.\n",
    "On peut montrer que \n",
    "\n",
    "\\begin{equation}\n",
    "\\frac{1}{precision} + \\frac{10}{recall} \\propto FP + 10FN\n",
    "\\end{equation}\n",
    "\n",
    "On va donc chercher à minimiser l'inverse de la précision plus l'inverse du recall en fonction du seuil."
   ]
  },
  {
   "cell_type": "code",
   "execution_count": 34,
   "id": "99dfb60e",
   "metadata": {
    "ExecuteTime": {
     "end_time": "2023-01-10T09:36:26.840940Z",
     "start_time": "2023-01-10T09:36:26.838007Z"
    }
   },
   "outputs": [
    {
     "name": "stderr",
     "output_type": "stream",
     "text": [
      "/var/folders/n2/76d5x8592dl18hpmjm7c4_tw0000gp/T/ipykernel_2434/971921360.py:1: RuntimeWarning: divide by zero encountered in divide\n",
      "  loss = 1/precision[1:] + 10/recall[1:]\n"
     ]
    }
   ],
   "source": [
    "loss = 1/precision[1:] + 10/recall[1:]"
   ]
  },
  {
   "cell_type": "code",
   "execution_count": 35,
   "id": "ba3ed1bf",
   "metadata": {
    "ExecuteTime": {
     "end_time": "2023-01-10T09:36:28.173936Z",
     "start_time": "2023-01-10T09:36:28.170496Z"
    }
   },
   "outputs": [
    {
     "data": {
      "text/plain": [
       "1"
      ]
     },
     "execution_count": 35,
     "metadata": {},
     "output_type": "execute_result"
    }
   ],
   "source": [
    "np.isinf(loss).sum()"
   ]
  },
  {
   "cell_type": "code",
   "execution_count": 41,
   "id": "b2877d65",
   "metadata": {
    "ExecuteTime": {
     "end_time": "2023-01-10T09:41:31.224446Z",
     "start_time": "2023-01-10T09:41:31.036780Z"
    }
   },
   "outputs": [
    {
     "data": {
      "image/png": "[encoded data removed]",
      "text/plain": [
       "<Figure size 800x600 with 1 Axes>"
      ]
     },
     "metadata": {},
     "output_type": "display_data"
    }
   ],
   "source": [
    "proba_creditworthy = 1 - threshold # probabilité que le client rembourse\n",
    "\n",
    "plt.figure(figsize=(8,6))\n",
    "plt.plot(proba_creditworthy, loss)\n",
    "plt.xlabel('Probabilité de remboursement', fontsize=16)\n",
    "plt.ylabel('Fonction coût', fontsize=16)\n",
    "plt.ylim(10, 60)\n",
    "plt.show()"
   ]
  },
  {
   "cell_type": "code",
   "execution_count": 42,
   "id": "6e849d29",
   "metadata": {
    "ExecuteTime": {
     "end_time": "2023-01-10T09:41:39.330361Z",
     "start_time": "2023-01-10T09:41:39.326618Z"
    }
   },
   "outputs": [
    {
     "data": {
      "text/plain": [
       "19.49065690618378"
      ]
     },
     "execution_count": 42,
     "metadata": {},
     "output_type": "execute_result"
    }
   ],
   "source": [
    "loss.min()"
   ]
  },
  {
   "cell_type": "code",
   "execution_count": 43,
   "id": "fe34d702",
   "metadata": {
    "ExecuteTime": {
     "end_time": "2023-01-10T09:41:46.718691Z",
     "start_time": "2023-01-10T09:41:46.714674Z"
    }
   },
   "outputs": [
    {
     "data": {
      "text/plain": [
       "array([19.49065691])"
      ]
     },
     "execution_count": 43,
     "metadata": {},
     "output_type": "execute_result"
    }
   ],
   "source": [
    "mask = loss == loss.min()\n",
    "loss[mask]"
   ]
  },
  {
   "cell_type": "code",
   "execution_count": 44,
   "id": "5ffcace7",
   "metadata": {
    "ExecuteTime": {
     "end_time": "2023-01-10T09:42:23.371118Z",
     "start_time": "2023-01-10T09:42:23.366821Z"
    }
   },
   "outputs": [
    {
     "data": {
      "text/plain": [
       "array([0.61736634])"
      ]
     },
     "execution_count": 44,
     "metadata": {},
     "output_type": "execute_result"
    }
   ],
   "source": [
    "# Seuil qui va minimiser la fonction coût\n",
    "proba_min = proba_creditworthy[mask]\n",
    "proba_min"
   ]
  },
  {
   "cell_type": "code",
   "execution_count": 39,
   "id": "c4e61210",
   "metadata": {
    "ExecuteTime": {
     "end_time": "2023-01-10T09:36:43.193961Z",
     "start_time": "2023-01-10T09:36:43.190065Z"
    }
   },
   "outputs": [
    {
     "data": {
      "text/plain": [
       "array([0.38263366])"
      ]
     },
     "execution_count": 39,
     "metadata": {},
     "output_type": "execute_result"
    }
   ],
   "source": [
    "# Seuil qui va minimiser la fonction coût\n",
    "threshold_min = threshold[mask]\n",
    "threshold_min"
   ]
  },
  {
   "cell_type": "markdown",
   "id": "2f8733d1",
   "metadata": {},
   "source": [
    "## Scores"
   ]
  },
  {
   "cell_type": "code",
   "execution_count": 45,
   "id": "a6797328",
   "metadata": {
    "ExecuteTime": {
     "end_time": "2023-01-10T09:50:33.057261Z",
     "start_time": "2023-01-10T09:50:33.052401Z"
    }
   },
   "outputs": [
    {
     "data": {
      "text/plain": [
       "array([0.131066])"
      ]
     },
     "execution_count": 45,
     "metadata": {},
     "output_type": "execute_result"
    }
   ],
   "source": [
    "precision[1:][mask]"
   ]
  },
  {
   "cell_type": "code",
   "execution_count": 46,
   "id": "35dff567",
   "metadata": {
    "ExecuteTime": {
     "end_time": "2023-01-10T09:50:34.013610Z",
     "start_time": "2023-01-10T09:50:34.009747Z"
    }
   },
   "outputs": [
    {
     "data": {
      "text/plain": [
       "array([0.84310541])"
      ]
     },
     "execution_count": 46,
     "metadata": {},
     "output_type": "execute_result"
    }
   ],
   "source": [
    "recall[1:][mask]"
   ]
  },
  {
   "cell_type": "code",
   "execution_count": 47,
   "id": "18db1c45",
   "metadata": {
    "ExecuteTime": {
     "end_time": "2023-01-10T09:50:45.234262Z",
     "start_time": "2023-01-10T09:50:43.562239Z"
    }
   },
   "outputs": [
    {
     "data": {
      "text/plain": [
       "array([[0.05468589, 0.94531411],\n",
       "       [0.91660528, 0.08339472],\n",
       "       [0.80949044, 0.19050956],\n",
       "       ...,\n",
       "       [0.61248254, 0.38751746],\n",
       "       [0.65037676, 0.34962324],\n",
       "       [0.59477932, 0.40522068]])"
      ]
     },
     "execution_count": 47,
     "metadata": {},
     "output_type": "execute_result"
    }
   ],
   "source": [
    "probs = pipeline.predict_proba(X)\n",
    "probs"
   ]
  },
  {
   "cell_type": "code",
   "execution_count": 48,
   "id": "7d9ba8e2",
   "metadata": {
    "ExecuteTime": {
     "end_time": "2023-01-10T09:50:45.626386Z",
     "start_time": "2023-01-10T09:50:45.237972Z"
    }
   },
   "outputs": [],
   "source": [
    "y_pred = [0 if prob[0] > proba_min else 1 for prob in probs]"
   ]
  },
  {
   "cell_type": "code",
   "execution_count": 49,
   "id": "a34cb08e",
   "metadata": {
    "ExecuteTime": {
     "end_time": "2023-01-10T09:50:46.225219Z",
     "start_time": "2023-01-10T09:50:45.628044Z"
    }
   },
   "outputs": [
    {
     "name": "stdout",
     "output_type": "stream",
     "text": [
      "              precision    recall  f1-score   support\n",
      "\n",
      "           0       0.97      0.51      0.67    282682\n",
      "           1       0.13      0.84      0.23     24825\n",
      "\n",
      "    accuracy                           0.54    307507\n",
      "   macro avg       0.55      0.68      0.45    307507\n",
      "weighted avg       0.91      0.54      0.64    307507\n",
      "\n"
     ]
    }
   ],
   "source": [
    "print(metrics.classification_report(y, y_pred))"
   ]
  },
  {
   "cell_type": "code",
   "execution_count": null,
   "id": "abee0133",
   "metadata": {},
   "outputs": [],
   "source": []
  }
 ],
 "metadata": {
  "kernelspec": {
   "display_name": "Python 3 (ipykernel)",
   "language": "python",
   "name": "python3"
  },
  "language_info": {
   "codemirror_mode": {
    "name": "ipython",
    "version": 3
   },
   "file_extension": ".py",
   "mimetype": "text/x-python",
   "name": "python",
   "nbconvert_exporter": "python",
   "pygments_lexer": "ipython3",
   "version": "3.9.4"
  },
  "toc": {
   "base_numbering": 1,
   "nav_menu": {},
   "number_sections": true,
   "sideBar": true,
   "skip_h1_title": false,
   "title_cell": "Table of Contents",
   "title_sidebar": "Contents",
   "toc_cell": false,
   "toc_position": {},
   "toc_section_display": true,
   "toc_window_display": true
  }
 },
 "nbformat": 4,
 "nbformat_minor": 5
}
