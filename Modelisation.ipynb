{
 "cells": [
  {
   "cell_type": "markdown",
   "id": "46e47850",
   "metadata": {},
   "source": [
    "# Packages"
   ]
  },
  {
   "cell_type": "code",
   "execution_count": 37,
   "id": "46698297",
   "metadata": {
    "ExecuteTime": {
     "end_time": "2022-12-12T10:10:53.714324Z",
     "start_time": "2022-12-12T10:10:53.708645Z"
    }
   },
   "outputs": [],
   "source": [
    "import pandas as pd\n",
    "pd.options.mode.chained_assignment = None  # default='warn'\n",
    "import numpy as np\n",
    "\n",
    "import matplotlib.pyplot as plt\n",
    "import seaborn as sns\n",
    "sns.set_theme(style='whitegrid')\n",
    "\n",
    "from sklearn.model_selection import train_test_split\n",
    "from sklearn.preprocessing import StandardScaler, MinMaxScaler\n",
    "from sklearn.impute import SimpleImputer\n",
    "# estimators\n",
    "from sklearn.linear_model import LogisticRegression\n",
    "from sklearn.ensemble import HistGradientBoostingClassifier, RandomForestClassifier\n",
    "from sklearn import metrics\n",
    "\n",
    "from imblearn.pipeline import Pipeline\n",
    "from imblearn.under_sampling import RandomUnderSampler\n",
    "\n",
    "import shap\n",
    "\n",
    "from my_functions import plot_correlations, correlated_variables\n",
    "\n",
    "import joblib\n",
    "import pickle\n",
    "from contextlib import contextmanager\n",
    "from time import time\n",
    "import gc"
   ]
  },
  {
   "cell_type": "markdown",
   "id": "b02b6ab7",
   "metadata": {},
   "source": [
    "# Preprocessing"
   ]
  },
  {
   "cell_type": "markdown",
   "id": "aa1f159e",
   "metadata": {},
   "source": [
    "## Feature engineering"
   ]
  },
  {
   "cell_type": "code",
   "execution_count": 4,
   "id": "fd58cb52",
   "metadata": {
    "ExecuteTime": {
     "end_time": "2022-12-12T10:06:30.741467Z",
     "start_time": "2022-12-12T10:06:30.694109Z"
    }
   },
   "outputs": [],
   "source": [
    "features_to_drop = [\n",
    "    # application\n",
    "    'NAME_TYPE_SUITE', 'REGION_POPULATION_RELATIVE', 'DAYS_REGISTRATION', 'DAYS_ID_PUBLISH', 'FLAG_MOBIL',\n",
    "    'FLAG_EMP_PHONE', 'FLAG_WORK_PHONE', 'FLAG_CONT_MOBILE', 'FLAG_PHONE', 'FLAG_EMAIL', 'OCCUPATION_TYPE',\n",
    "    'WEEKDAY_APPR_PROCESS_START', 'HOUR_APPR_PROCESS_START', 'REG_REGION_NOT_LIVE_REGION'\n",
    "    'REG_REGION_NOT_WORK_REGION', 'LIVE_REGION_NOT_WORK_REGION', 'REG_CITY_NOT_LIVE_CITY',\n",
    "    'REG_CITY_NOT_WORK_CITY', 'LIVE_CITY_NOT_WORK_CITY',\n",
    "    'APARTMENTS_AVG', 'BASEMENTAREA_AVG', 'YEARS_BEGINEXPLUATATION_AVG', 'YEARS_BUILD_AVG', 'COMMONAREA_AVG',\n",
    "    'ELEVATORS_AVG', 'ENTRANCES_AVG', 'FLOORSMAX_AVG', 'FLOORSMIN_AVG', 'LANDAREA_AVG',\n",
    "    'LIVINGAPARTMENTS_AVG', 'LIVINGAREA_AVG', 'NONLIVINGAPARTMENTS_AVG', 'NONLIVINGAREA_AVG',\n",
    "    'APARTMENTS_MODE', 'BASEMENTAREA_MODE', 'YEARS_BEGINEXPLUATATION_MODE', 'YEARS_BUILD_MODE',\n",
    "    'COMMONAREA_MODE', 'ELEVATORS_MODE', 'ENTRANCES_MODE', 'FLOORSMAX_MODE', 'FLOORSMIN_MODE',\n",
    "    'LANDAREA_MODE', 'LIVINGAPARTMENTS_MODE', 'LIVINGAREA_MODE', 'NONLIVINGAPARTMENTS_MODE',\n",
    "    'NONLIVINGAREA_MODE', 'APARTMENTS_MEDI', 'BASEMENTAREA_MEDI', 'YEARS_BEGINEXPLUATATION_MEDI',\n",
    "    'YEARS_BUILD_MEDI', 'COMMONAREA_MEDI', 'ELEVATORS_MEDI', 'ENTRANCES_MEDI', 'FLOORSMIN_MEDI',\n",
    "    'LANDAREA_MEDI', 'LIVINGAPARTMENTS_MEDI', 'LIVINGAREA_MEDI', 'NONLIVINGAPARTMENTS_MEDI',\n",
    "    'NONLIVINGAREA_MEDI', 'FONDKAPREMONT_MODE', 'HOUSETYPE_MODE', 'TOTALAREA_MODE', 'WALLSMATERIAL_MODE',\n",
    "    'EMERGENCYSTATE_MODE', 'OBS_30_CNT_SOCIAL_CIRCLE', 'DEF_30_CNT_SOCIAL_CIRCLE', 'DAYS_LAST_PHONE_CHANGE',\n",
    "    'FLAG_DOCUMENT_2', 'FLAG_DOCUMENT_3', 'FLAG_DOCUMENT_4', 'FLAG_DOCUMENT_5', 'FLAG_DOCUMENT_6',\n",
    "    'FLAG_DOCUMENT_7', 'FLAG_DOCUMENT_8', 'FLAG_DOCUMENT_9', 'FLAG_DOCUMENT_10', 'FLAG_DOCUMENT_11',\n",
    "    'FLAG_DOCUMENT_12', 'FLAG_DOCUMENT_13', 'FLAG_DOCUMENT_14', 'FLAG_DOCUMENT_15', 'FLAG_DOCUMENT_16',\n",
    "    'FLAG_DOCUMENT_17', 'FLAG_DOCUMENT_18', 'FLAG_DOCUMENT_19', 'FLAG_DOCUMENT_20', 'FLAG_DOCUMENT_21',\n",
    "    'AMT_REQ_CREDIT_BUREAU_HOUR', 'AMT_REQ_CREDIT_BUREAU_DAY', 'AMT_REQ_CREDIT_BUREAU_WEEK',\n",
    "    'AMT_REQ_CREDIT_BUREAU_MON', 'AMT_REQ_CREDIT_BUREAU_YEAR',\n",
    "    # bureau\n",
    "    'DAYS_CREDIT_UPDATE',\n",
    "    # credit_card_balance\n",
    "    'CNT_DRAWINGS_ATM_CURRENT', 'CNT_DRAWINGS_CURRENT', 'CNT_DRAWINGS_OTHER_CURRENT',\n",
    "    'CNT_DRAWINGS_POS_CURRENT',\n",
    "    # previous_application\n",
    "    'WEEKDAY_APPR_PROCESS_START', 'HOUR_APPR_PROCESS_START', 'DAYS_DECISION', 'NAME_PAYMENT_TYPE',\n",
    "    'NAME_TYPE_SUITE', 'NAME_CLIENT_TYPE', 'CHANNEL_TYPE',\n",
    "]\n",
    "\n",
    "#features_to_drop = []\n",
    "\n",
    "path_data = '/Users/gabriel/Documents/gabriel/Documents/Formation OC Data Scientist\\\n",
    "/Projet 7 Implementez un modele de scoring/data/'\n",
    "\n",
    "@contextmanager\n",
    "def timer(title):\n",
    "    t0 = time()\n",
    "    yield\n",
    "    print(\"{} - done in {:.0f}s\".format(title, time() - t0))\n",
    "\n",
    "# One-hot encoding for categorical columns with get_dummies\n",
    "def one_hot_encoder(df, nan_as_category=True):\n",
    "    #df = df.copy()  # pour ne pas altérer le df de base\n",
    "    original_columns = list(df.columns)\n",
    "    categorical_columns = [col for col in df.columns if df[col].dtype == 'object']\n",
    "    df = pd.get_dummies(df, columns= categorical_columns, dummy_na=nan_as_category)\n",
    "    new_columns = [col for col in df.columns if col not in original_columns]\n",
    "    return df, new_columns\n",
    "\n",
    "# Binary encoder\n",
    "def bin_encoder(df):\n",
    "    code = {'F':0,\n",
    "            'M':1,\n",
    "            'N':0,\n",
    "            'Y':1}\n",
    "    \n",
    "    for col in df.select_dtypes('object').columns:\n",
    "        df[col] = df[col].map(code)\n",
    "        \n",
    "    return df\n",
    "\n",
    "\n",
    "## application\n",
    "\n",
    "# preprocessing application_train.csv\n",
    "def application(num_rows=None, nan_as_category=False):\n",
    "    # Read data and merge\n",
    "    df = pd.read_csv(path_data+'application_train.csv', nrows= num_rows)\n",
    "    print(\"Train samples: {}\".format(len(df)))\n",
    "\n",
    "    # Optional: Remove 4 applications with XNA CODE_GENDER (train set)\n",
    "    df = df[df['CODE_GENDER'] != 'XNA']\n",
    "    \n",
    "    # drop columns\n",
    "    df = df[[col for col in df.columns if col not in features_to_drop]]\n",
    "    \n",
    "    # Categorical features with Binary encode (0 or 1; two categories)\n",
    "    bin_features = ['CODE_GENDER', 'FLAG_OWN_CAR', 'FLAG_OWN_REALTY']\n",
    "    df[bin_features] = bin_encoder(df[bin_features])\n",
    "    \n",
    "    # Categorical features with One-Hot encode\n",
    "    df, cat_cols = one_hot_encoder(df, nan_as_category)\n",
    "    \n",
    "    # NaN values for DAYS_EMPLOYED: 365.243 -> nan\n",
    "    df['DAYS_EMPLOYED'].replace(365243, np.nan, inplace= True)\n",
    "    # Some simple new features (percentages)\n",
    "    df['DAYS_EMPLOYED_PERC'] = df['DAYS_EMPLOYED'] / df['DAYS_BIRTH']\n",
    "    df['INCOME_CREDIT_PERC'] = df['AMT_INCOME_TOTAL'] / df['AMT_CREDIT']\n",
    "    df['INCOME_PER_PERSON'] = df['AMT_INCOME_TOTAL'] / df['CNT_FAM_MEMBERS']\n",
    "    df['ANNUITY_INCOME_PERC'] = df['AMT_ANNUITY'] / df['AMT_INCOME_TOTAL']\n",
    "    df['PAYMENT_RATE'] = df['AMT_ANNUITY'] / df['AMT_CREDIT']\n",
    "    \n",
    "    return df\n",
    "\n",
    "\n",
    "## bureau & bureau_balance\n",
    "\n",
    "# Preprocess bureau.csv and bureau_balance.csv\n",
    "def bureau_and_balance(num_rows=None, nan_as_category=True):\n",
    "    bureau = pd.read_csv(path_data+'bureau.csv', nrows=num_rows)\n",
    "    bb = pd.read_csv(path_data+'bureau_balance.csv', nrows=num_rows)\n",
    "    \n",
    "    # drop columns\n",
    "    bureau = bureau[[col for col in bureau.columns if col not in features_to_drop]]\n",
    "    bb = bb[[col for col in bb.columns if col not in features_to_drop]]\n",
    "    \n",
    "    bureau, bureau_cat = one_hot_encoder(bureau, nan_as_category)\n",
    "    bb, bb_cat = one_hot_encoder(bb, nan_as_category)\n",
    "    \n",
    "    # Bureau balance: Perform aggregations and merge with bureau.csv\n",
    "    bb_aggregations = {'MONTHS_BALANCE': ['min', 'max', 'size']}\n",
    "    for col in bb_cat:\n",
    "        bb_aggregations[col] = ['mean']\n",
    "    bb_agg = bb.groupby('SK_ID_BUREAU').agg(bb_aggregations)\n",
    "    bb_agg.columns = pd.Index([e[0] + \"_\" + e[1].upper() for e in bb_agg.columns.tolist()])\n",
    "    bureau = bureau.join(bb_agg, how='left', on='SK_ID_BUREAU')\n",
    "    bureau.drop(['SK_ID_BUREAU'], axis=1, inplace= True)\n",
    "    del bb, bb_agg\n",
    "    gc.collect()  # pour libérer la mémoire allouée aux variables supprimées\n",
    "    \n",
    "    # Bureau and bureau_balance numeric features\n",
    "    num_aggregations = {\n",
    "        'DAYS_CREDIT': ['min', 'max', 'mean', 'var'],\n",
    "        'DAYS_CREDIT_ENDDATE': ['min', 'max', 'mean'],\n",
    "        #'DAYS_CREDIT_UPDATE': ['mean'],\n",
    "        'CREDIT_DAY_OVERDUE': ['max', 'mean'],\n",
    "        'AMT_CREDIT_MAX_OVERDUE': ['mean'],\n",
    "        'AMT_CREDIT_SUM': ['max', 'mean', 'sum'],\n",
    "        'AMT_CREDIT_SUM_DEBT': ['max', 'mean', 'sum'],\n",
    "        'AMT_CREDIT_SUM_OVERDUE': ['mean'],\n",
    "        'AMT_CREDIT_SUM_LIMIT': ['mean', 'sum'],\n",
    "        'AMT_ANNUITY': ['max', 'mean'],\n",
    "        'CNT_CREDIT_PROLONG': ['sum'],\n",
    "        'MONTHS_BALANCE_MIN': ['min'],\n",
    "        'MONTHS_BALANCE_MAX': ['max'],\n",
    "        'MONTHS_BALANCE_SIZE': ['mean', 'sum']\n",
    "    }\n",
    "    \n",
    "    # Bureau and bureau_balance categorical features\n",
    "    cat_aggregations = {}\n",
    "    for cat in bureau_cat: cat_aggregations[cat] = ['mean']\n",
    "    for cat in bb_cat: cat_aggregations[cat + \"_MEAN\"] = ['mean']\n",
    "    \n",
    "    bureau_agg = bureau.groupby('SK_ID_CURR').agg({**num_aggregations, **cat_aggregations})\n",
    "    bureau_agg.columns = pd.Index(['BURO_' + e[0] + \"_\" + e[1].upper() for e in bureau_agg.columns.tolist()])\n",
    "    \n",
    "    # Bureau: Active credits - using only numerical aggregations\n",
    "    active = bureau[bureau['CREDIT_ACTIVE_Active'] == 1]\n",
    "    active_agg = active.groupby('SK_ID_CURR').agg(num_aggregations)\n",
    "    active_agg.columns = pd.Index(['ACTIVE_' + e[0] + \"_\" + e[1].upper()\n",
    "                                    for e in active_agg.columns.tolist()])\n",
    "    bureau_agg = bureau_agg.join(active_agg, how='left', on='SK_ID_CURR')\n",
    "    del active, active_agg\n",
    "    gc.collect()\n",
    "    \n",
    "    # Bureau: Closed credits - using only numerical aggregations\n",
    "    closed = bureau[bureau['CREDIT_ACTIVE_Closed'] == 1]\n",
    "    closed_agg = closed.groupby('SK_ID_CURR').agg(num_aggregations)\n",
    "    closed_agg.columns = pd.Index(['CLOSED_' + e[0] + \"_\" + e[1].upper()\n",
    "                                   for e in closed_agg.columns.tolist()])\n",
    "    bureau_agg = bureau_agg.join(closed_agg, how='left', on='SK_ID_CURR')\n",
    "    del closed, closed_agg, bureau\n",
    "    gc.collect()\n",
    "    \n",
    "    return bureau_agg\n",
    "\n",
    "\n",
    "## previous_applications\n",
    "\n",
    "# Preprocess previous_applications.csv\n",
    "def previous_applications(num_rows=None, nan_as_category=True):\n",
    "    prev = pd.read_csv(path_data+'previous_application.csv', nrows=num_rows)\n",
    "    \n",
    "    # drop columns\n",
    "    prev = prev[[col for col in prev.columns if col not in features_to_drop]]\n",
    "    \n",
    "    prev, cat_cols = one_hot_encoder(prev, nan_as_category=True)\n",
    "    \n",
    "    # Days 365.243 values -> nan\n",
    "    cols = ['DAYS_FIRST_DRAWING', 'DAYS_FIRST_DUE', 'DAYS_LAST_DUE_1ST_VERSION',\n",
    "            'DAYS_LAST_DUE', 'DAYS_TERMINATION']\n",
    "    for col in cols:\n",
    "        prev[col].replace(365243, np.nan, inplace=True)\n",
    "        \n",
    "    # Add feature: value ask / value received percentage\n",
    "    prev['APP_CREDIT_PERC'] = prev['AMT_APPLICATION'] / prev['AMT_CREDIT']\n",
    "    \n",
    "    # Previous applications numeric features\n",
    "    num_aggregations = {\n",
    "        'AMT_ANNUITY': ['min', 'max', 'mean'],\n",
    "        'AMT_APPLICATION': ['min', 'max', 'mean'],\n",
    "        'AMT_CREDIT': ['min', 'max', 'mean'],\n",
    "        'APP_CREDIT_PERC': ['min', 'max', 'mean', 'var'],\n",
    "        'AMT_DOWN_PAYMENT': ['min', 'max', 'mean'],\n",
    "        'AMT_GOODS_PRICE': ['min', 'max', 'mean'],\n",
    "        #'HOUR_APPR_PROCESS_START': ['min', 'max', 'mean'],\n",
    "        'RATE_DOWN_PAYMENT': ['min', 'max', 'mean'],\n",
    "        #'DAYS_DECISION': ['min', 'max', 'mean'],\n",
    "        'CNT_PAYMENT': ['mean', 'sum'],\n",
    "    }\n",
    "    \n",
    "    # Previous applications categorical features\n",
    "    cat_aggregations = {}\n",
    "    for cat in cat_cols:\n",
    "        cat_aggregations[cat] = ['mean']\n",
    "    \n",
    "    prev_agg = prev.groupby('SK_ID_CURR').agg({**num_aggregations, **cat_aggregations})\n",
    "    prev_agg.columns = pd.Index(['PREV_' + e[0] + \"_\" + e[1].upper()\n",
    "                                 for e in prev_agg.columns.tolist()])\n",
    "    \n",
    "    # Previous Applications: Approved Applications - only numerical features\n",
    "    approved = prev[prev['NAME_CONTRACT_STATUS_Approved'] == 1]\n",
    "    approved_agg = approved.groupby('SK_ID_CURR').agg(num_aggregations)\n",
    "    approved_agg.columns = pd.Index(['APPROVED_' + e[0] + \"_\" + e[1].upper()\n",
    "                                     for e in approved_agg.columns.tolist()])\n",
    "    prev_agg = prev_agg.join(approved_agg, how='left', on='SK_ID_CURR')\n",
    "    \n",
    "    # Previous Applications: Refused Applications - only numerical features\n",
    "    refused = prev[prev['NAME_CONTRACT_STATUS_Refused'] == 1]\n",
    "    refused_agg = refused.groupby('SK_ID_CURR').agg(num_aggregations)\n",
    "    refused_agg.columns = pd.Index(['REFUSED_' + e[0] + \"_\" + e[1].upper()\n",
    "                                    for e in refused_agg.columns.tolist()])\n",
    "    prev_agg = prev_agg.join(refused_agg, how='left', on='SK_ID_CURR')\n",
    "    \n",
    "    del refused, refused_agg, approved, approved_agg, prev\n",
    "    gc.collect()\n",
    "    \n",
    "    return prev_agg\n",
    "\n",
    "\n",
    "## POS_CASH_balance\n",
    "\n",
    "# preprocessing POS_CASH_balance.csv\n",
    "# Preprocess POS_CASH_balance.csv\n",
    "def pos_cash(num_rows=None, nan_as_category=True):\n",
    "    pos = pd.read_csv(path_data+'POS_CASH_balance.csv', nrows=num_rows)\n",
    "    \n",
    "    # drop columns\n",
    "    pos = pos[[col for col in pos.columns if col not in features_to_drop]]\n",
    "    \n",
    "    pos, cat_cols = one_hot_encoder(pos, nan_as_category=True)\n",
    "    \n",
    "    # Features\n",
    "    aggregations = {\n",
    "        'MONTHS_BALANCE': ['max', 'mean', 'size'],\n",
    "        'SK_DPD': ['max', 'mean'],\n",
    "        'SK_DPD_DEF': ['max', 'mean']\n",
    "    }\n",
    "    for cat in cat_cols:\n",
    "        aggregations[cat] = ['mean']\n",
    "    \n",
    "    pos_agg = pos.groupby('SK_ID_CURR').agg(aggregations)\n",
    "    pos_agg.columns = pd.Index(['POS_' + e[0] + \"_\" + e[1].upper() for e in pos_agg.columns.tolist()])\n",
    "    \n",
    "    # Count pos cash accounts\n",
    "    pos_agg['POS_COUNT'] = pos.groupby('SK_ID_CURR').size()\n",
    "    \n",
    "    del pos\n",
    "    gc.collect()\n",
    "    \n",
    "    return pos_agg\n",
    "\n",
    "\n",
    "## installments_payments\n",
    "\n",
    "# Preprocess installments_payments.csv\n",
    "def installments_payments(num_rows=None, nan_as_category=True):\n",
    "    ins = pd.read_csv(path_data+'installments_payments.csv', nrows=num_rows)\n",
    "    \n",
    "    # drop columns\n",
    "    ins = ins[[col for col in ins.columns if col not in features_to_drop]]\n",
    "    \n",
    "    ins, cat_cols = one_hot_encoder(ins, nan_as_category= True)\n",
    "    \n",
    "    # Percentage and difference paid in each installment (amount paid and installment value)\n",
    "    ins['PAYMENT_PERC'] = ins['AMT_PAYMENT'] / ins['AMT_INSTALMENT']\n",
    "    ins['PAYMENT_DIFF'] = ins['AMT_INSTALMENT'] - ins['AMT_PAYMENT']\n",
    "    \n",
    "    # Days past due and days before due (no negative values)\n",
    "    ins['DPD'] = ins['DAYS_ENTRY_PAYMENT'] - ins['DAYS_INSTALMENT']\n",
    "    ins['DBD'] = -ins['DPD']\n",
    "    ins['DPD'] = ins['DPD'].apply(lambda x: x if x > 0 else 0)\n",
    "    ins['DBD'] = ins['DBD'].apply(lambda x: x if x > 0 else 0)\n",
    "    \n",
    "    # Features: Perform aggregations\n",
    "    aggregations = {\n",
    "        'NUM_INSTALMENT_VERSION': ['nunique'],\n",
    "        'DPD': ['max', 'mean', 'sum'],\n",
    "        'DBD': ['max', 'mean', 'sum'],\n",
    "        'PAYMENT_PERC': ['max', 'mean', 'sum', 'var'],\n",
    "        'PAYMENT_DIFF': ['max', 'mean', 'sum', 'var'],\n",
    "        'AMT_INSTALMENT': ['max', 'mean', 'sum'],\n",
    "        'AMT_PAYMENT': ['min', 'max', 'mean', 'sum'],\n",
    "        'DAYS_ENTRY_PAYMENT': ['max', 'mean', 'sum']\n",
    "    }\n",
    "    for cat in cat_cols:\n",
    "        aggregations[cat] = ['mean']\n",
    "        \n",
    "    ins_agg = ins.groupby('SK_ID_CURR').agg(aggregations)\n",
    "    ins_agg.columns = pd.Index(['INSTAL_' + e[0] + \"_\" + e[1].upper() for e in ins_agg.columns.tolist()])\n",
    "    # Count installments accounts\n",
    "    ins_agg['INSTAL_COUNT'] = ins.groupby('SK_ID_CURR').size()\n",
    "    \n",
    "    del ins\n",
    "    gc.collect()\n",
    "    \n",
    "    return ins_agg\n",
    "\n",
    "\n",
    "## credit_card_balance\n",
    "\n",
    "# preprocessing credit_card_balance.csv\n",
    "# Preprocess credit_card_balance.csv\n",
    "def credit_card_balance(num_rows=None, nan_as_category=True):\n",
    "    cc = pd.read_csv(path_data+'credit_card_balance.csv', nrows=num_rows)\n",
    "    \n",
    "    # drop columns\n",
    "    cc = cc[[col for col in cc.columns if col not in features_to_drop]]\n",
    "    \n",
    "    cc, cat_cols = one_hot_encoder(cc, nan_as_category= True)\n",
    "    \n",
    "    # General aggregations\n",
    "    cc.drop(['SK_ID_PREV'], axis= 1, inplace=True)\n",
    "    cc_agg = cc.groupby('SK_ID_CURR').agg(['min', 'max', 'mean', 'sum', 'var'])\n",
    "    cc_agg.columns = pd.Index(['CC_' + e[0] + \"_\" + e[1].upper() for e in cc_agg.columns.tolist()])\n",
    "    # Count credit card lines\n",
    "    cc_agg['CC_COUNT'] = cc.groupby('SK_ID_CURR').size()\n",
    "    \n",
    "    del cc\n",
    "    gc.collect()\n",
    "    \n",
    "    return cc_agg\n",
    "\n",
    "\n",
    "## Main\n",
    "\n",
    "def data_preparation(debug=False):\n",
    "    num_rows = 10_000 if debug else None\n",
    "    df = application(num_rows)\n",
    "    with timer(\"Process bureau and bureau_balance\"):\n",
    "        bureau = bureau_and_balance(num_rows)\n",
    "        print(\"Bureau df shape:\", bureau.shape)\n",
    "        df = df.join(bureau, how='left', on='SK_ID_CURR')\n",
    "        del bureau\n",
    "        gc.collect()\n",
    "    with timer(\"Process previous_applications\"):\n",
    "        prev = previous_applications(num_rows)\n",
    "        print(\"Previous applications df shape:\", prev.shape)\n",
    "        df = df.join(prev, how='left', on='SK_ID_CURR')\n",
    "        del prev\n",
    "        gc.collect()\n",
    "    with timer(\"Process POS-CASH balance\"):\n",
    "        pos = pos_cash(num_rows)\n",
    "        print(\"Pos-cash balance df shape:\", pos.shape)\n",
    "        df = df.join(pos, how='left', on='SK_ID_CURR')\n",
    "        del pos\n",
    "        gc.collect()\n",
    "    with timer(\"Process installments payments\"):\n",
    "        ins = installments_payments(num_rows)\n",
    "        print(\"Installments payments df shape:\", ins.shape)\n",
    "        df = df.join(ins, how='left', on='SK_ID_CURR')\n",
    "        del ins\n",
    "        gc.collect()\n",
    "    with timer(\"Process credit card balance\"):\n",
    "        cc = credit_card_balance(num_rows)\n",
    "        print(\"Credit card balance df shape:\", cc.shape)\n",
    "        df = df.join(cc, how='left', on='SK_ID_CURR')\n",
    "        del cc\n",
    "        gc.collect()\n",
    "        \n",
    "    df.set_index('SK_ID_CURR', inplace=True)\n",
    "    \n",
    "    return df"
   ]
  },
  {
   "cell_type": "code",
   "execution_count": 5,
   "id": "1cd3685c",
   "metadata": {
    "ExecuteTime": {
     "end_time": "2022-12-12T10:06:48.025707Z",
     "start_time": "2022-12-12T10:06:46.431396Z"
    }
   },
   "outputs": [
    {
     "name": "stdout",
     "output_type": "stream",
     "text": [
      "Train samples: 10000\n",
      "Bureau df shape: (2011, 105)\n",
      "Process bureau and bureau_balance - done in 0s\n",
      "Previous applications df shape: (9734, 189)\n",
      "Process previous_applications - done in 0s\n",
      "Pos-cash balance df shape: (9494, 15)\n",
      "Process POS-CASH balance - done in 0s\n",
      "Installments payments df shape: (8893, 26)\n",
      "Process installments payments - done in 0s\n",
      "Credit card balance df shape: (9520, 111)\n",
      "Process credit card balance - done in 0s\n"
     ]
    }
   ],
   "source": [
    "df = data_preparation(debug=True)"
   ]
  },
  {
   "cell_type": "code",
   "execution_count": 6,
   "id": "f14bfb00",
   "metadata": {
    "ExecuteTime": {
     "end_time": "2022-12-12T10:06:48.999277Z",
     "start_time": "2022-12-12T10:06:48.989237Z"
    }
   },
   "outputs": [
    {
     "data": {
      "text/plain": [
       "(10000, 556)"
      ]
     },
     "execution_count": 6,
     "metadata": {},
     "output_type": "execute_result"
    }
   ],
   "source": [
    "df.shape"
   ]
  },
  {
   "cell_type": "code",
   "execution_count": 7,
   "id": "0d6d5010",
   "metadata": {
    "ExecuteTime": {
     "end_time": "2022-12-12T10:06:50.933540Z",
     "start_time": "2022-12-12T10:06:50.753586Z"
    }
   },
   "outputs": [
    {
     "data": {
      "text/plain": [
       "(10000, 461)"
      ]
     },
     "execution_count": 7,
     "metadata": {},
     "output_type": "execute_result"
    }
   ],
   "source": [
    "# Elimination des constantes\n",
    "\n",
    "cst = df.nunique()\n",
    "cst = cst[cst == 1]\n",
    "\n",
    "df = df[[col for col in df.columns if col not in cst.index]]\n",
    "df.shape"
   ]
  },
  {
   "cell_type": "code",
   "execution_count": 8,
   "id": "64ea68d7",
   "metadata": {
    "ExecuteTime": {
     "end_time": "2022-12-12T10:06:51.874535Z",
     "start_time": "2022-12-12T10:06:51.851229Z"
    }
   },
   "outputs": [
    {
     "data": {
      "text/html": [
       "<div>\n",
       "<style scoped>\n",
       "    .dataframe tbody tr th:only-of-type {\n",
       "        vertical-align: middle;\n",
       "    }\n",
       "\n",
       "    .dataframe tbody tr th {\n",
       "        vertical-align: top;\n",
       "    }\n",
       "\n",
       "    .dataframe thead th {\n",
       "        text-align: right;\n",
       "    }\n",
       "</style>\n",
       "<table border=\"1\" class=\"dataframe\">\n",
       "  <thead>\n",
       "    <tr style=\"text-align: right;\">\n",
       "      <th></th>\n",
       "      <th>TARGET</th>\n",
       "      <th>CODE_GENDER</th>\n",
       "      <th>FLAG_OWN_CAR</th>\n",
       "      <th>FLAG_OWN_REALTY</th>\n",
       "      <th>CNT_CHILDREN</th>\n",
       "      <th>AMT_INCOME_TOTAL</th>\n",
       "      <th>AMT_CREDIT</th>\n",
       "      <th>AMT_ANNUITY</th>\n",
       "      <th>AMT_GOODS_PRICE</th>\n",
       "      <th>DAYS_BIRTH</th>\n",
       "      <th>...</th>\n",
       "      <th>CC_SK_DPD_DEF_VAR</th>\n",
       "      <th>CC_NAME_CONTRACT_STATUS_Active_MIN</th>\n",
       "      <th>CC_NAME_CONTRACT_STATUS_Active_MAX</th>\n",
       "      <th>CC_NAME_CONTRACT_STATUS_Active_MEAN</th>\n",
       "      <th>CC_NAME_CONTRACT_STATUS_Active_SUM</th>\n",
       "      <th>CC_NAME_CONTRACT_STATUS_Completed_MIN</th>\n",
       "      <th>CC_NAME_CONTRACT_STATUS_Completed_MAX</th>\n",
       "      <th>CC_NAME_CONTRACT_STATUS_Completed_MEAN</th>\n",
       "      <th>CC_NAME_CONTRACT_STATUS_Completed_SUM</th>\n",
       "      <th>CC_COUNT</th>\n",
       "    </tr>\n",
       "    <tr>\n",
       "      <th>SK_ID_CURR</th>\n",
       "      <th></th>\n",
       "      <th></th>\n",
       "      <th></th>\n",
       "      <th></th>\n",
       "      <th></th>\n",
       "      <th></th>\n",
       "      <th></th>\n",
       "      <th></th>\n",
       "      <th></th>\n",
       "      <th></th>\n",
       "      <th></th>\n",
       "      <th></th>\n",
       "      <th></th>\n",
       "      <th></th>\n",
       "      <th></th>\n",
       "      <th></th>\n",
       "      <th></th>\n",
       "      <th></th>\n",
       "      <th></th>\n",
       "      <th></th>\n",
       "      <th></th>\n",
       "    </tr>\n",
       "  </thead>\n",
       "  <tbody>\n",
       "    <tr>\n",
       "      <th>100002</th>\n",
       "      <td>1</td>\n",
       "      <td>1</td>\n",
       "      <td>0</td>\n",
       "      <td>1</td>\n",
       "      <td>0</td>\n",
       "      <td>202500.0</td>\n",
       "      <td>406597.5</td>\n",
       "      <td>24700.5</td>\n",
       "      <td>351000.0</td>\n",
       "      <td>-9461</td>\n",
       "      <td>...</td>\n",
       "      <td>NaN</td>\n",
       "      <td>NaN</td>\n",
       "      <td>NaN</td>\n",
       "      <td>NaN</td>\n",
       "      <td>NaN</td>\n",
       "      <td>NaN</td>\n",
       "      <td>NaN</td>\n",
       "      <td>NaN</td>\n",
       "      <td>NaN</td>\n",
       "      <td>NaN</td>\n",
       "    </tr>\n",
       "    <tr>\n",
       "      <th>100003</th>\n",
       "      <td>0</td>\n",
       "      <td>0</td>\n",
       "      <td>0</td>\n",
       "      <td>0</td>\n",
       "      <td>0</td>\n",
       "      <td>270000.0</td>\n",
       "      <td>1293502.5</td>\n",
       "      <td>35698.5</td>\n",
       "      <td>1129500.0</td>\n",
       "      <td>-16765</td>\n",
       "      <td>...</td>\n",
       "      <td>NaN</td>\n",
       "      <td>NaN</td>\n",
       "      <td>NaN</td>\n",
       "      <td>NaN</td>\n",
       "      <td>NaN</td>\n",
       "      <td>NaN</td>\n",
       "      <td>NaN</td>\n",
       "      <td>NaN</td>\n",
       "      <td>NaN</td>\n",
       "      <td>NaN</td>\n",
       "    </tr>\n",
       "    <tr>\n",
       "      <th>100004</th>\n",
       "      <td>0</td>\n",
       "      <td>1</td>\n",
       "      <td>1</td>\n",
       "      <td>1</td>\n",
       "      <td>0</td>\n",
       "      <td>67500.0</td>\n",
       "      <td>135000.0</td>\n",
       "      <td>6750.0</td>\n",
       "      <td>135000.0</td>\n",
       "      <td>-19046</td>\n",
       "      <td>...</td>\n",
       "      <td>NaN</td>\n",
       "      <td>NaN</td>\n",
       "      <td>NaN</td>\n",
       "      <td>NaN</td>\n",
       "      <td>NaN</td>\n",
       "      <td>NaN</td>\n",
       "      <td>NaN</td>\n",
       "      <td>NaN</td>\n",
       "      <td>NaN</td>\n",
       "      <td>NaN</td>\n",
       "    </tr>\n",
       "    <tr>\n",
       "      <th>100006</th>\n",
       "      <td>0</td>\n",
       "      <td>0</td>\n",
       "      <td>0</td>\n",
       "      <td>1</td>\n",
       "      <td>0</td>\n",
       "      <td>135000.0</td>\n",
       "      <td>312682.5</td>\n",
       "      <td>29686.5</td>\n",
       "      <td>297000.0</td>\n",
       "      <td>-19005</td>\n",
       "      <td>...</td>\n",
       "      <td>NaN</td>\n",
       "      <td>NaN</td>\n",
       "      <td>NaN</td>\n",
       "      <td>NaN</td>\n",
       "      <td>NaN</td>\n",
       "      <td>NaN</td>\n",
       "      <td>NaN</td>\n",
       "      <td>NaN</td>\n",
       "      <td>NaN</td>\n",
       "      <td>NaN</td>\n",
       "    </tr>\n",
       "    <tr>\n",
       "      <th>100007</th>\n",
       "      <td>0</td>\n",
       "      <td>1</td>\n",
       "      <td>0</td>\n",
       "      <td>1</td>\n",
       "      <td>0</td>\n",
       "      <td>121500.0</td>\n",
       "      <td>513000.0</td>\n",
       "      <td>21865.5</td>\n",
       "      <td>513000.0</td>\n",
       "      <td>-19932</td>\n",
       "      <td>...</td>\n",
       "      <td>NaN</td>\n",
       "      <td>NaN</td>\n",
       "      <td>NaN</td>\n",
       "      <td>NaN</td>\n",
       "      <td>NaN</td>\n",
       "      <td>NaN</td>\n",
       "      <td>NaN</td>\n",
       "      <td>NaN</td>\n",
       "      <td>NaN</td>\n",
       "      <td>NaN</td>\n",
       "    </tr>\n",
       "  </tbody>\n",
       "</table>\n",
       "<p>5 rows × 461 columns</p>\n",
       "</div>"
      ],
      "text/plain": [
       "            TARGET  CODE_GENDER  FLAG_OWN_CAR  FLAG_OWN_REALTY  CNT_CHILDREN  \\\n",
       "SK_ID_CURR                                                                     \n",
       "100002           1            1             0                1             0   \n",
       "100003           0            0             0                0             0   \n",
       "100004           0            1             1                1             0   \n",
       "100006           0            0             0                1             0   \n",
       "100007           0            1             0                1             0   \n",
       "\n",
       "            AMT_INCOME_TOTAL  AMT_CREDIT  AMT_ANNUITY  AMT_GOODS_PRICE  \\\n",
       "SK_ID_CURR                                                               \n",
       "100002              202500.0    406597.5      24700.5         351000.0   \n",
       "100003              270000.0   1293502.5      35698.5        1129500.0   \n",
       "100004               67500.0    135000.0       6750.0         135000.0   \n",
       "100006              135000.0    312682.5      29686.5         297000.0   \n",
       "100007              121500.0    513000.0      21865.5         513000.0   \n",
       "\n",
       "            DAYS_BIRTH  ...  CC_SK_DPD_DEF_VAR  \\\n",
       "SK_ID_CURR              ...                      \n",
       "100002           -9461  ...                NaN   \n",
       "100003          -16765  ...                NaN   \n",
       "100004          -19046  ...                NaN   \n",
       "100006          -19005  ...                NaN   \n",
       "100007          -19932  ...                NaN   \n",
       "\n",
       "            CC_NAME_CONTRACT_STATUS_Active_MIN  \\\n",
       "SK_ID_CURR                                       \n",
       "100002                                     NaN   \n",
       "100003                                     NaN   \n",
       "100004                                     NaN   \n",
       "100006                                     NaN   \n",
       "100007                                     NaN   \n",
       "\n",
       "            CC_NAME_CONTRACT_STATUS_Active_MAX  \\\n",
       "SK_ID_CURR                                       \n",
       "100002                                     NaN   \n",
       "100003                                     NaN   \n",
       "100004                                     NaN   \n",
       "100006                                     NaN   \n",
       "100007                                     NaN   \n",
       "\n",
       "            CC_NAME_CONTRACT_STATUS_Active_MEAN  \\\n",
       "SK_ID_CURR                                        \n",
       "100002                                      NaN   \n",
       "100003                                      NaN   \n",
       "100004                                      NaN   \n",
       "100006                                      NaN   \n",
       "100007                                      NaN   \n",
       "\n",
       "            CC_NAME_CONTRACT_STATUS_Active_SUM  \\\n",
       "SK_ID_CURR                                       \n",
       "100002                                     NaN   \n",
       "100003                                     NaN   \n",
       "100004                                     NaN   \n",
       "100006                                     NaN   \n",
       "100007                                     NaN   \n",
       "\n",
       "            CC_NAME_CONTRACT_STATUS_Completed_MIN  \\\n",
       "SK_ID_CURR                                          \n",
       "100002                                        NaN   \n",
       "100003                                        NaN   \n",
       "100004                                        NaN   \n",
       "100006                                        NaN   \n",
       "100007                                        NaN   \n",
       "\n",
       "            CC_NAME_CONTRACT_STATUS_Completed_MAX  \\\n",
       "SK_ID_CURR                                          \n",
       "100002                                        NaN   \n",
       "100003                                        NaN   \n",
       "100004                                        NaN   \n",
       "100006                                        NaN   \n",
       "100007                                        NaN   \n",
       "\n",
       "            CC_NAME_CONTRACT_STATUS_Completed_MEAN  \\\n",
       "SK_ID_CURR                                           \n",
       "100002                                         NaN   \n",
       "100003                                         NaN   \n",
       "100004                                         NaN   \n",
       "100006                                         NaN   \n",
       "100007                                         NaN   \n",
       "\n",
       "            CC_NAME_CONTRACT_STATUS_Completed_SUM  CC_COUNT  \n",
       "SK_ID_CURR                                                   \n",
       "100002                                        NaN       NaN  \n",
       "100003                                        NaN       NaN  \n",
       "100004                                        NaN       NaN  \n",
       "100006                                        NaN       NaN  \n",
       "100007                                        NaN       NaN  \n",
       "\n",
       "[5 rows x 461 columns]"
      ]
     },
     "execution_count": 8,
     "metadata": {},
     "output_type": "execute_result"
    }
   ],
   "source": [
    "df.head()"
   ]
  },
  {
   "cell_type": "markdown",
   "id": "7a8de8cf",
   "metadata": {},
   "source": [
    "## Séparation X et y"
   ]
  },
  {
   "cell_type": "code",
   "execution_count": 9,
   "id": "b796d474",
   "metadata": {
    "ExecuteTime": {
     "end_time": "2022-12-12T10:06:55.588460Z",
     "start_time": "2022-12-12T10:06:55.576790Z"
    }
   },
   "outputs": [
    {
     "name": "stdout",
     "output_type": "stream",
     "text": [
      "X shape: (10000, 460)\n",
      "y shape: (10000,)\n"
     ]
    }
   ],
   "source": [
    "X = df.drop(columns=['TARGET'])\n",
    "y = df['TARGET']\n",
    "print('X shape:', X.shape)\n",
    "print('y shape:', y.shape)"
   ]
  },
  {
   "cell_type": "markdown",
   "id": "a0252d1a",
   "metadata": {},
   "source": [
    "## NaN"
   ]
  },
  {
   "cell_type": "markdown",
   "id": "1eefabe9",
   "metadata": {},
   "source": [
    "### Observations"
   ]
  },
  {
   "cell_type": "code",
   "execution_count": 10,
   "id": "a955de76",
   "metadata": {
    "ExecuteTime": {
     "end_time": "2022-12-12T10:07:09.097115Z",
     "start_time": "2022-12-12T10:07:09.082714Z"
    }
   },
   "outputs": [
    {
     "data": {
      "text/plain": [
       "3463646"
      ]
     },
     "execution_count": 10,
     "metadata": {},
     "output_type": "execute_result"
    }
   ],
   "source": [
    "X.isna().sum().sum()"
   ]
  },
  {
   "cell_type": "code",
   "execution_count": 11,
   "id": "a467b197",
   "metadata": {
    "ExecuteTime": {
     "end_time": "2022-12-12T10:07:09.364964Z",
     "start_time": "2022-12-12T10:07:09.279384Z"
    }
   },
   "outputs": [
    {
     "data": {
      "text/plain": [
       "3463646"
      ]
     },
     "execution_count": 11,
     "metadata": {},
     "output_type": "execute_result"
    }
   ],
   "source": [
    "X = X.replace([np.inf, -np.inf], np.nan)\n",
    "X.isna().sum().sum()"
   ]
  },
  {
   "cell_type": "code",
   "execution_count": 12,
   "id": "f4614109",
   "metadata": {
    "ExecuteTime": {
     "end_time": "2022-12-12T10:07:09.499814Z",
     "start_time": "2022-12-12T10:07:09.491578Z"
    }
   },
   "outputs": [
    {
     "data": {
      "text/plain": [
       "(0, 460)"
      ]
     },
     "execution_count": 12,
     "metadata": {},
     "output_type": "execute_result"
    }
   ],
   "source": [
    "X.dropna().shape"
   ]
  },
  {
   "cell_type": "code",
   "execution_count": 13,
   "id": "487f70df",
   "metadata": {
    "ExecuteTime": {
     "end_time": "2022-12-12T10:07:12.970937Z",
     "start_time": "2022-12-12T10:07:09.781539Z"
    }
   },
   "outputs": [
    {
     "data": {
      "image/png": "[encoded data removed]",
      "text/plain": [
       "<Figure size 1152x648 with 1 Axes>"
      ]
     },
     "metadata": {},
     "output_type": "display_data"
    }
   ],
   "source": [
    "plt.figure(figsize=(16,9))\n",
    "sns.heatmap(X.isna(), cbar=False, xticklabels='', yticklabels='')\n",
    "plt.show()"
   ]
  },
  {
   "cell_type": "markdown",
   "id": "b42f10f0",
   "metadata": {},
   "source": [
    "### Suppression de colonnes"
   ]
  },
  {
   "cell_type": "code",
   "execution_count": 14,
   "id": "3789b6f0",
   "metadata": {
    "ExecuteTime": {
     "end_time": "2022-12-12T10:07:13.899600Z",
     "start_time": "2022-12-12T10:07:13.884830Z"
    }
   },
   "outputs": [],
   "source": [
    "# On supprime les colonnes contenant plus de 60% de valeurs manquantes\n",
    "nans = X.isna().mean().sort_values(ascending=False)\n",
    "cols_to_drop = nans[nans>0.6].index"
   ]
  },
  {
   "cell_type": "code",
   "execution_count": 15,
   "id": "11279961",
   "metadata": {
    "ExecuteTime": {
     "end_time": "2022-12-12T10:07:15.274391Z",
     "start_time": "2022-12-12T10:07:15.270344Z"
    }
   },
   "outputs": [
    {
     "data": {
      "text/plain": [
       "352"
      ]
     },
     "execution_count": 15,
     "metadata": {},
     "output_type": "execute_result"
    }
   ],
   "source": [
    "len(cols_to_drop)"
   ]
  },
  {
   "cell_type": "code",
   "execution_count": 16,
   "id": "f91095d4",
   "metadata": {
    "ExecuteTime": {
     "end_time": "2022-12-12T10:07:16.978887Z",
     "start_time": "2022-12-12T10:07:16.969630Z"
    }
   },
   "outputs": [
    {
     "data": {
      "text/plain": [
       "(10000, 108)"
      ]
     },
     "execution_count": 16,
     "metadata": {},
     "output_type": "execute_result"
    }
   ],
   "source": [
    "X = X[[col for col in X.columns if col not in cols_to_drop]]\n",
    "X.shape"
   ]
  },
  {
   "cell_type": "markdown",
   "id": "d76e6db0",
   "metadata": {},
   "source": [
    "## Corrélations"
   ]
  },
  {
   "cell_type": "markdown",
   "id": "bfd99dc5",
   "metadata": {},
   "source": [
    "__On va supprimer les variables corrélées à d'autres à plus de 90%__"
   ]
  },
  {
   "cell_type": "code",
   "execution_count": 21,
   "id": "a622ce48",
   "metadata": {
    "ExecuteTime": {
     "end_time": "2022-12-12T10:09:52.681571Z",
     "start_time": "2022-12-12T10:09:52.679234Z"
    }
   },
   "outputs": [],
   "source": [
    "#X = pd.DataFrame(RobustScaler().fit_transform(X), columns=X.columns)"
   ]
  },
  {
   "cell_type": "code",
   "execution_count": 22,
   "id": "1ce39c36",
   "metadata": {
    "ExecuteTime": {
     "end_time": "2022-12-12T10:09:53.438439Z",
     "start_time": "2022-12-12T10:09:53.131955Z"
    }
   },
   "outputs": [],
   "source": [
    "threshold = 0.9\n",
    "corr_variables = correlated_variables(X, min_corr=threshold)"
   ]
  },
  {
   "cell_type": "code",
   "execution_count": 23,
   "id": "0205c1d4",
   "metadata": {
    "ExecuteTime": {
     "end_time": "2022-12-12T10:09:54.098243Z",
     "start_time": "2022-12-12T10:09:54.094343Z"
    },
    "scrolled": true
   },
   "outputs": [
    {
     "data": {
      "text/plain": [
       "10"
      ]
     },
     "execution_count": 23,
     "metadata": {},
     "output_type": "execute_result"
    }
   ],
   "source": [
    "len(corr_variables)"
   ]
  },
  {
   "cell_type": "code",
   "execution_count": 24,
   "id": "a3017d60",
   "metadata": {
    "ExecuteTime": {
     "end_time": "2022-12-12T10:09:55.161748Z",
     "start_time": "2022-12-12T10:09:55.142464Z"
    }
   },
   "outputs": [],
   "source": [
    "# Matrice des corrrélations en ne gardant que les variables corrélées\n",
    "corr = X[corr_variables].corr()\n",
    "# On masque la partie supérieure du triangle\n",
    "mask = pd.DataFrame(np.triu(np.ones_like(corr, dtype=bool)), columns=corr.columns, index=corr.index)\n",
    "corr = corr[~mask]\n",
    "\n",
    "keep_features = []\n",
    "skip_features = []\n",
    "for col in corr_variables:\n",
    "    if col in skip_features:\n",
    "        continue\n",
    "    keep_features.append(col)\n",
    "    \n",
    "    mask = (corr[col].abs() > threshold)\n",
    "    skip_features = skip_features + list(corr.loc[mask, col].index)"
   ]
  },
  {
   "cell_type": "code",
   "execution_count": 25,
   "id": "108bc38b",
   "metadata": {
    "ExecuteTime": {
     "end_time": "2022-12-12T10:09:55.701773Z",
     "start_time": "2022-12-12T10:09:55.697739Z"
    }
   },
   "outputs": [
    {
     "data": {
      "text/plain": [
       "5"
      ]
     },
     "execution_count": 25,
     "metadata": {},
     "output_type": "execute_result"
    }
   ],
   "source": [
    "len(keep_features)"
   ]
  },
  {
   "cell_type": "code",
   "execution_count": 26,
   "id": "7076a24f",
   "metadata": {
    "ExecuteTime": {
     "end_time": "2022-12-12T10:09:56.359518Z",
     "start_time": "2022-12-12T10:09:56.346715Z"
    }
   },
   "outputs": [
    {
     "data": {
      "text/plain": [
       "['REGION_RATING_CLIENT_W_CITY', 'REGION_RATING_CLIENT']"
      ]
     },
     "execution_count": 26,
     "metadata": {},
     "output_type": "execute_result"
    }
   ],
   "source": [
    "correlated_variables(X[[skip_features[0]] + keep_features], min_corr=threshold)"
   ]
  },
  {
   "cell_type": "code",
   "execution_count": 27,
   "id": "02020286",
   "metadata": {
    "ExecuteTime": {
     "end_time": "2022-12-12T10:09:57.981630Z",
     "start_time": "2022-12-12T10:09:57.970655Z"
    }
   },
   "outputs": [
    {
     "data": {
      "text/plain": [
       "[]"
      ]
     },
     "execution_count": 27,
     "metadata": {},
     "output_type": "execute_result"
    }
   ],
   "source": [
    "correlated_variables(X[keep_features], min_corr=threshold)"
   ]
  },
  {
   "cell_type": "code",
   "execution_count": 28,
   "id": "27d17f43",
   "metadata": {
    "ExecuteTime": {
     "end_time": "2022-12-12T10:10:00.563677Z",
     "start_time": "2022-12-12T10:10:00.554556Z"
    }
   },
   "outputs": [
    {
     "data": {
      "text/plain": [
       "0.20166137336372578"
      ]
     },
     "execution_count": 28,
     "metadata": {},
     "output_type": "execute_result"
    }
   ],
   "source": [
    "corr = X[keep_features].corr()\n",
    "# On masque la partie supérieure du triangle\n",
    "mask = pd.DataFrame(np.triu(np.ones_like(corr, dtype=bool)), columns=corr.columns, index=corr.index)\n",
    "corr = corr[~mask]\n",
    "corr.abs().max().max()"
   ]
  },
  {
   "cell_type": "code",
   "execution_count": 29,
   "id": "1b3605ef",
   "metadata": {
    "ExecuteTime": {
     "end_time": "2022-12-12T10:10:09.858671Z",
     "start_time": "2022-12-12T10:10:09.854931Z"
    }
   },
   "outputs": [
    {
     "data": {
      "text/plain": [
       "(10000, 108)"
      ]
     },
     "execution_count": 29,
     "metadata": {},
     "output_type": "execute_result"
    }
   ],
   "source": [
    "X.shape"
   ]
  },
  {
   "cell_type": "code",
   "execution_count": 30,
   "id": "4604070a",
   "metadata": {
    "ExecuteTime": {
     "end_time": "2022-12-12T10:10:11.162289Z",
     "start_time": "2022-12-12T10:10:11.155784Z"
    }
   },
   "outputs": [
    {
     "data": {
      "text/plain": [
       "(10000, 103)"
      ]
     },
     "execution_count": 30,
     "metadata": {},
     "output_type": "execute_result"
    }
   ],
   "source": [
    "X = X[[col for col in X.columns if col not in skip_features]]\n",
    "X.shape"
   ]
  },
  {
   "cell_type": "markdown",
   "id": "b93633ce",
   "metadata": {},
   "source": [
    "## Variance"
   ]
  },
  {
   "cell_type": "markdown",
   "id": "3dc8502d",
   "metadata": {},
   "source": [
    "__On va supprimer les variables ayant une variance trop faible__"
   ]
  },
  {
   "cell_type": "code",
   "execution_count": 38,
   "id": "ab5fac2c",
   "metadata": {
    "ExecuteTime": {
     "end_time": "2022-12-12T10:10:56.915527Z",
     "start_time": "2022-12-12T10:10:56.903005Z"
    }
   },
   "outputs": [
    {
     "data": {
      "text/plain": [
       "count       103.000000\n",
       "mean       5354.352957\n",
       "std       38128.777450\n",
       "min           0.010000\n",
       "25%           0.050433\n",
       "50%           0.115408\n",
       "75%           0.294967\n",
       "max      370894.116785\n",
       "dtype: float64"
      ]
     },
     "execution_count": 38,
     "metadata": {},
     "output_type": "execute_result"
    }
   ],
   "source": [
    "X.std().describe()"
   ]
  },
  {
   "cell_type": "code",
   "execution_count": 39,
   "id": "b3baed88",
   "metadata": {
    "ExecuteTime": {
     "end_time": "2022-12-12T10:10:56.969022Z",
     "start_time": "2022-12-12T10:10:56.919439Z"
    }
   },
   "outputs": [
    {
     "data": {
      "text/plain": [
       "count    103.000000\n",
       "mean       0.145596\n",
       "std        0.127926\n",
       "min        0.010000\n",
       "25%        0.049940\n",
       "50%        0.099995\n",
       "75%        0.216296\n",
       "max        0.499285\n",
       "dtype: float64"
      ]
     },
     "execution_count": 39,
     "metadata": {},
     "output_type": "execute_result"
    }
   ],
   "source": [
    "X_ = pd.DataFrame(MinMaxScaler().fit_transform(X), columns=X.columns, index=X.index)\n",
    "std = X_.std()\n",
    "std.describe()"
   ]
  },
  {
   "cell_type": "code",
   "execution_count": 40,
   "id": "e19027a9",
   "metadata": {
    "ExecuteTime": {
     "end_time": "2022-12-12T10:11:01.269391Z",
     "start_time": "2022-12-12T10:11:01.264723Z"
    }
   },
   "outputs": [
    {
     "data": {
      "text/plain": [
       "7"
      ]
     },
     "execution_count": 40,
     "metadata": {},
     "output_type": "execute_result"
    }
   ],
   "source": [
    "cols_to_drop = std[std<0.02].index\n",
    "cols_to_drop.size"
   ]
  },
  {
   "cell_type": "code",
   "execution_count": 41,
   "id": "a5456d7b",
   "metadata": {
    "ExecuteTime": {
     "end_time": "2022-12-12T10:11:02.117232Z",
     "start_time": "2022-12-12T10:11:02.112855Z"
    }
   },
   "outputs": [
    {
     "data": {
      "text/plain": [
       "(10000, 103)"
      ]
     },
     "execution_count": 41,
     "metadata": {},
     "output_type": "execute_result"
    }
   ],
   "source": [
    "X.shape"
   ]
  },
  {
   "cell_type": "code",
   "execution_count": 42,
   "id": "67c9abc1",
   "metadata": {
    "ExecuteTime": {
     "end_time": "2022-12-12T10:11:02.621889Z",
     "start_time": "2022-12-12T10:11:02.615932Z"
    }
   },
   "outputs": [
    {
     "data": {
      "text/plain": [
       "(10000, 96)"
      ]
     },
     "execution_count": 42,
     "metadata": {},
     "output_type": "execute_result"
    }
   ],
   "source": [
    "X = X[[col for col in X.columns if col not in cols_to_drop]]\n",
    "X.shape"
   ]
  },
  {
   "cell_type": "code",
   "execution_count": 43,
   "id": "7df97033",
   "metadata": {
    "ExecuteTime": {
     "end_time": "2022-12-12T10:11:03.676869Z",
     "start_time": "2022-12-12T10:11:03.672929Z"
    }
   },
   "outputs": [
    {
     "data": {
      "text/plain": [
       "(10000,)"
      ]
     },
     "execution_count": 43,
     "metadata": {},
     "output_type": "execute_result"
    }
   ],
   "source": [
    "y.shape"
   ]
  },
  {
   "cell_type": "markdown",
   "id": "79b35ad8",
   "metadata": {},
   "source": [
    "## Sauvegarde de X et y"
   ]
  },
  {
   "cell_type": "code",
   "execution_count": null,
   "id": "feb479de",
   "metadata": {},
   "outputs": [],
   "source": [
    "#X.drop(columns='PREV_NAME_PORTFOLIO_POS_MEAN', inplace=True)"
   ]
  },
  {
   "cell_type": "code",
   "execution_count": 60,
   "id": "9ce3ed0a",
   "metadata": {
    "ExecuteTime": {
     "end_time": "2022-12-08T11:18:19.923942Z",
     "start_time": "2022-12-08T11:17:52.803092Z"
    }
   },
   "outputs": [],
   "source": [
    "X.to_csv('X.csv')\n",
    "y.to_csv('y.csv')"
   ]
  },
  {
   "cell_type": "markdown",
   "id": "375f07fb",
   "metadata": {},
   "source": [
    "# Import des data"
   ]
  },
  {
   "cell_type": "code",
   "execution_count": 40,
   "id": "659eefdf",
   "metadata": {
    "ExecuteTime": {
     "end_time": "2022-12-12T07:56:57.273399Z",
     "start_time": "2022-12-12T07:56:51.018209Z"
    }
   },
   "outputs": [
    {
     "name": "stdout",
     "output_type": "stream",
     "text": [
      "X shape: (307507, 232)\n",
      "y shape: (307507,)\n"
     ]
    }
   ],
   "source": [
    "X = pd.read_csv('X.csv', index_col=0)\n",
    "y = pd.read_csv('y.csv', index_col=0)['TARGET']\n",
    "\n",
    "print('X shape:', X.shape)\n",
    "print('y shape:', y.shape)"
   ]
  },
  {
   "cell_type": "code",
   "execution_count": 41,
   "id": "d03bbdb5",
   "metadata": {
    "ExecuteTime": {
     "end_time": "2022-12-12T07:56:57.281942Z",
     "start_time": "2022-12-12T07:56:57.275858Z"
    }
   },
   "outputs": [
    {
     "data": {
      "text/plain": [
       "0    282682\n",
       "1     24825\n",
       "Name: TARGET, dtype: int64"
      ]
     },
     "execution_count": 41,
     "metadata": {},
     "output_type": "execute_result"
    }
   ],
   "source": [
    "y.value_counts()"
   ]
  },
  {
   "cell_type": "code",
   "execution_count": 42,
   "id": "1640c2e2",
   "metadata": {
    "ExecuteTime": {
     "end_time": "2022-12-12T07:56:57.291545Z",
     "start_time": "2022-12-12T07:56:57.284459Z"
    }
   },
   "outputs": [
    {
     "data": {
      "text/plain": [
       "0    0.91927\n",
       "1    0.08073\n",
       "Name: TARGET, dtype: float64"
      ]
     },
     "execution_count": 42,
     "metadata": {},
     "output_type": "execute_result"
    }
   ],
   "source": [
    "y.value_counts(normalize=True)"
   ]
  },
  {
   "cell_type": "markdown",
   "id": "dcdd6e7c",
   "metadata": {},
   "source": [
    "On commence par remplacer les nan par une valeur numérique car sinon cela cause des problèmes avec l'API. On va prendre une valeur très (grande en valeur absolue) qui ne se trouve pas dans le jeu de données."
   ]
  },
  {
   "cell_type": "code",
   "execution_count": 5,
   "id": "5e846fd4",
   "metadata": {
    "ExecuteTime": {
     "end_time": "2022-12-12T07:45:38.630786Z",
     "start_time": "2022-12-12T07:45:38.465866Z"
    }
   },
   "outputs": [
    {
     "data": {
      "text/plain": [
       "4640978"
      ]
     },
     "execution_count": 5,
     "metadata": {},
     "output_type": "execute_result"
    }
   ],
   "source": [
    "X.isna().sum().sum()"
   ]
  },
  {
   "cell_type": "code",
   "execution_count": 6,
   "id": "cd00c984",
   "metadata": {
    "ExecuteTime": {
     "end_time": "2022-12-12T07:45:38.778073Z",
     "start_time": "2022-12-12T07:45:38.632623Z"
    }
   },
   "outputs": [],
   "source": [
    "nan = 1.01010101\n",
    "X.fillna(nan, inplace=True)"
   ]
  },
  {
   "cell_type": "code",
   "execution_count": 7,
   "id": "eaabe37a",
   "metadata": {
    "ExecuteTime": {
     "end_time": "2022-12-12T07:45:38.887848Z",
     "start_time": "2022-12-12T07:45:38.779967Z"
    }
   },
   "outputs": [
    {
     "data": {
      "text/plain": [
       "0"
      ]
     },
     "execution_count": 7,
     "metadata": {},
     "output_type": "execute_result"
    }
   ],
   "source": [
    "X.isna().sum().sum()"
   ]
  },
  {
   "cell_type": "code",
   "execution_count": 8,
   "id": "8b247251",
   "metadata": {
    "ExecuteTime": {
     "end_time": "2022-12-12T07:45:39.028649Z",
     "start_time": "2022-12-12T07:45:38.891824Z"
    }
   },
   "outputs": [
    {
     "data": {
      "text/plain": [
       "4640978"
      ]
     },
     "execution_count": 8,
     "metadata": {},
     "output_type": "execute_result"
    }
   ],
   "source": [
    "(X==nan).sum().sum()"
   ]
  },
  {
   "cell_type": "markdown",
   "id": "0a8c6193",
   "metadata": {},
   "source": [
    "# Train/Test split"
   ]
  },
  {
   "cell_type": "code",
   "execution_count": 10,
   "id": "4251dbbb",
   "metadata": {
    "ExecuteTime": {
     "end_time": "2022-12-12T07:45:39.947866Z",
     "start_time": "2022-12-12T07:45:39.358036Z"
    }
   },
   "outputs": [
    {
     "name": "stdout",
     "output_type": "stream",
     "text": [
      "X_train shape : (230630, 231) y_train shape : (230630,)\n",
      "X_test shape : (76877, 231) y_test shape : (76877,)\n"
     ]
    }
   ],
   "source": [
    "X_train, X_test, y_train, y_test = train_test_split(X, y, random_state=0)\n",
    "print('X_train shape :', X_train.shape, 'y_train shape :', y_train.shape)\n",
    "print('X_test shape :', X_test.shape, 'y_test shape :', y_test.shape)"
   ]
  },
  {
   "cell_type": "code",
   "execution_count": 11,
   "id": "de2ba845",
   "metadata": {
    "ExecuteTime": {
     "end_time": "2022-12-12T07:45:39.956110Z",
     "start_time": "2022-12-12T07:45:39.949937Z"
    }
   },
   "outputs": [
    {
     "data": {
      "text/plain": [
       "0    0.919056\n",
       "1    0.080944\n",
       "Name: TARGET, dtype: float64"
      ]
     },
     "execution_count": 11,
     "metadata": {},
     "output_type": "execute_result"
    }
   ],
   "source": [
    "y_train.value_counts(normalize=True)"
   ]
  },
  {
   "cell_type": "code",
   "execution_count": 12,
   "id": "aa7da935",
   "metadata": {
    "ExecuteTime": {
     "end_time": "2022-12-12T07:45:39.965215Z",
     "start_time": "2022-12-12T07:45:39.959333Z"
    }
   },
   "outputs": [
    {
     "data": {
      "text/plain": [
       "0    0.919911\n",
       "1    0.080089\n",
       "Name: TARGET, dtype: float64"
      ]
     },
     "execution_count": 12,
     "metadata": {},
     "output_type": "execute_result"
    }
   ],
   "source": [
    "y_test.value_counts(normalize=True)"
   ]
  },
  {
   "cell_type": "markdown",
   "id": "b0e57bb2",
   "metadata": {},
   "source": [
    "# Modélisation"
   ]
  },
  {
   "cell_type": "code",
   "execution_count": 13,
   "id": "4265e3b4",
   "metadata": {
    "ExecuteTime": {
     "end_time": "2022-12-12T07:45:39.972397Z",
     "start_time": "2022-12-12T07:45:39.968872Z"
    }
   },
   "outputs": [],
   "source": [
    "pipeline = Pipeline(steps=[('imputer', SimpleImputer(strategy='mean', missing_values=nan)),\n",
    "                           ('scaler', StandardScaler()),\n",
    "                           ('undersampler', RandomUnderSampler(random_state=0)),\n",
    "                           ('model', LogisticRegression(random_state=42, max_iter=1000))\n",
    "                          ])"
   ]
  },
  {
   "cell_type": "code",
   "execution_count": 14,
   "id": "a51845e3",
   "metadata": {
    "ExecuteTime": {
     "end_time": "2022-12-12T07:45:45.681880Z",
     "start_time": "2022-12-12T07:45:39.975725Z"
    }
   },
   "outputs": [
    {
     "data": {
      "text/html": [
       "<style>#sk-container-id-1 {color: black;background-color: white;}#sk-container-id-1 pre{padding: 0;}#sk-container-id-1 div.sk-toggleable {background-color: white;}#sk-container-id-1 label.sk-toggleable__label {cursor: pointer;display: block;width: 100%;margin-bottom: 0;padding: 0.3em;box-sizing: border-box;text-align: center;}#sk-container-id-1 label.sk-toggleable__label-arrow:before {content: \"▸\";float: left;margin-right: 0.25em;color: #696969;}#sk-container-id-1 label.sk-toggleable__label-arrow:hover:before {color: black;}#sk-container-id-1 div.sk-estimator:hover label.sk-toggleable__label-arrow:before {color: black;}#sk-container-id-1 div.sk-toggleable__content {max-height: 0;max-width: 0;overflow: hidden;text-align: left;background-color: #f0f8ff;}#sk-container-id-1 div.sk-toggleable__content pre {margin: 0.2em;color: black;border-radius: 0.25em;background-color: #f0f8ff;}#sk-container-id-1 input.sk-toggleable__control:checked~div.sk-toggleable__content {max-height: 200px;max-width: 100%;overflow: auto;}#sk-container-id-1 input.sk-toggleable__control:checked~label.sk-toggleable__label-arrow:before {content: \"▾\";}#sk-container-id-1 div.sk-estimator input.sk-toggleable__control:checked~label.sk-toggleable__label {background-color: #d4ebff;}#sk-container-id-1 div.sk-label input.sk-toggleable__control:checked~label.sk-toggleable__label {background-color: #d4ebff;}#sk-container-id-1 input.sk-hidden--visually {border: 0;clip: rect(1px 1px 1px 1px);clip: rect(1px, 1px, 1px, 1px);height: 1px;margin: -1px;overflow: hidden;padding: 0;position: absolute;width: 1px;}#sk-container-id-1 div.sk-estimator {font-family: monospace;background-color: #f0f8ff;border: 1px dotted black;border-radius: 0.25em;box-sizing: border-box;margin-bottom: 0.5em;}#sk-container-id-1 div.sk-estimator:hover {background-color: #d4ebff;}#sk-container-id-1 div.sk-parallel-item::after {content: \"\";width: 100%;border-bottom: 1px solid gray;flex-grow: 1;}#sk-container-id-1 div.sk-label:hover label.sk-toggleable__label {background-color: #d4ebff;}#sk-container-id-1 div.sk-serial::before {content: \"\";position: absolute;border-left: 1px solid gray;box-sizing: border-box;top: 0;bottom: 0;left: 50%;z-index: 0;}#sk-container-id-1 div.sk-serial {display: flex;flex-direction: column;align-items: center;background-color: white;padding-right: 0.2em;padding-left: 0.2em;position: relative;}#sk-container-id-1 div.sk-item {position: relative;z-index: 1;}#sk-container-id-1 div.sk-parallel {display: flex;align-items: stretch;justify-content: center;background-color: white;position: relative;}#sk-container-id-1 div.sk-item::before, #sk-container-id-1 div.sk-parallel-item::before {content: \"\";position: absolute;border-left: 1px solid gray;box-sizing: border-box;top: 0;bottom: 0;left: 50%;z-index: -1;}#sk-container-id-1 div.sk-parallel-item {display: flex;flex-direction: column;z-index: 1;position: relative;background-color: white;}#sk-container-id-1 div.sk-parallel-item:first-child::after {align-self: flex-end;width: 50%;}#sk-container-id-1 div.sk-parallel-item:last-child::after {align-self: flex-start;width: 50%;}#sk-container-id-1 div.sk-parallel-item:only-child::after {width: 0;}#sk-container-id-1 div.sk-dashed-wrapped {border: 1px dashed gray;margin: 0 0.4em 0.5em 0.4em;box-sizing: border-box;padding-bottom: 0.4em;background-color: white;}#sk-container-id-1 div.sk-label label {font-family: monospace;font-weight: bold;display: inline-block;line-height: 1.2em;}#sk-container-id-1 div.sk-label-container {text-align: center;}#sk-container-id-1 div.sk-container {/* jupyter's `normalize.less` sets `[hidden] { display: none; }` but bootstrap.min.css set `[hidden] { display: none !important; }` so we also need the `!important` here to be able to override the default hidden behavior on the sphinx rendered scikit-learn.org. See: https://github.com/scikit-learn/scikit-learn/issues/21755 */display: inline-block !important;position: relative;}#sk-container-id-1 div.sk-text-repr-fallback {display: none;}</style><div id=\"sk-container-id-1\" class=\"sk-top-container\"><div class=\"sk-text-repr-fallback\"><pre>Pipeline(steps=[(&#x27;imputer&#x27;, SimpleImputer(missing_values=1.01010101)),\n",
       "                (&#x27;scaler&#x27;, StandardScaler()),\n",
       "                (&#x27;undersampler&#x27;, RandomUnderSampler(random_state=0)),\n",
       "                (&#x27;model&#x27;, LogisticRegression(max_iter=1000, random_state=42))])</pre><b>In a Jupyter environment, please rerun this cell to show the HTML representation or trust the notebook. <br />On GitHub, the HTML representation is unable to render, please try loading this page with nbviewer.org.</b></div><div class=\"sk-container\" hidden><div class=\"sk-item sk-dashed-wrapped\"><div class=\"sk-label-container\"><div class=\"sk-label sk-toggleable\"><input class=\"sk-toggleable__control sk-hidden--visually\" id=\"sk-estimator-id-1\" type=\"checkbox\" ><label for=\"sk-estimator-id-1\" class=\"sk-toggleable__label sk-toggleable__label-arrow\">Pipeline</label><div class=\"sk-toggleable__content\"><pre>Pipeline(steps=[(&#x27;imputer&#x27;, SimpleImputer(missing_values=1.01010101)),\n",
       "                (&#x27;scaler&#x27;, StandardScaler()),\n",
       "                (&#x27;undersampler&#x27;, RandomUnderSampler(random_state=0)),\n",
       "                (&#x27;model&#x27;, LogisticRegression(max_iter=1000, random_state=42))])</pre></div></div></div><div class=\"sk-serial\"><div class=\"sk-item\"><div class=\"sk-estimator sk-toggleable\"><input class=\"sk-toggleable__control sk-hidden--visually\" id=\"sk-estimator-id-2\" type=\"checkbox\" ><label for=\"sk-estimator-id-2\" class=\"sk-toggleable__label sk-toggleable__label-arrow\">SimpleImputer</label><div class=\"sk-toggleable__content\"><pre>SimpleImputer(missing_values=1.01010101)</pre></div></div></div><div class=\"sk-item\"><div class=\"sk-estimator sk-toggleable\"><input class=\"sk-toggleable__control sk-hidden--visually\" id=\"sk-estimator-id-3\" type=\"checkbox\" ><label for=\"sk-estimator-id-3\" class=\"sk-toggleable__label sk-toggleable__label-arrow\">StandardScaler</label><div class=\"sk-toggleable__content\"><pre>StandardScaler()</pre></div></div></div><div class=\"sk-item\"><div class=\"sk-estimator sk-toggleable\"><input class=\"sk-toggleable__control sk-hidden--visually\" id=\"sk-estimator-id-4\" type=\"checkbox\" ><label for=\"sk-estimator-id-4\" class=\"sk-toggleable__label sk-toggleable__label-arrow\">RandomUnderSampler</label><div class=\"sk-toggleable__content\"><pre>RandomUnderSampler(random_state=0)</pre></div></div></div><div class=\"sk-item\"><div class=\"sk-estimator sk-toggleable\"><input class=\"sk-toggleable__control sk-hidden--visually\" id=\"sk-estimator-id-5\" type=\"checkbox\" ><label for=\"sk-estimator-id-5\" class=\"sk-toggleable__label sk-toggleable__label-arrow\">LogisticRegression</label><div class=\"sk-toggleable__content\"><pre>LogisticRegression(max_iter=1000, random_state=42)</pre></div></div></div></div></div></div></div>"
      ],
      "text/plain": [
       "Pipeline(steps=[('imputer', SimpleImputer(missing_values=1.01010101)),\n",
       "                ('scaler', StandardScaler()),\n",
       "                ('undersampler', RandomUnderSampler(random_state=0)),\n",
       "                ('model', LogisticRegression(max_iter=1000, random_state=42))])"
      ]
     },
     "execution_count": 14,
     "metadata": {},
     "output_type": "execute_result"
    }
   ],
   "source": [
    "pipeline.fit(X_train, y_train)"
   ]
  },
  {
   "cell_type": "code",
   "execution_count": 15,
   "id": "13ff3fd5",
   "metadata": {
    "ExecuteTime": {
     "end_time": "2022-12-12T07:45:47.267145Z",
     "start_time": "2022-12-12T07:45:45.684869Z"
    }
   },
   "outputs": [
    {
     "name": "stdout",
     "output_type": "stream",
     "text": [
      "              precision    recall  f1-score   support\n",
      "\n",
      "           0       0.96      0.70      0.81    211962\n",
      "           1       0.17      0.69      0.27     18668\n",
      "\n",
      "    accuracy                           0.70    230630\n",
      "   macro avg       0.57      0.70      0.54    230630\n",
      "weighted avg       0.90      0.70      0.77    230630\n",
      "\n"
     ]
    }
   ],
   "source": [
    "y_pred = pipeline.predict(X_train)\n",
    "print(metrics.classification_report(y_train, y_pred))"
   ]
  },
  {
   "cell_type": "code",
   "execution_count": 16,
   "id": "993bb2fa",
   "metadata": {
    "ExecuteTime": {
     "end_time": "2022-12-12T07:45:47.786238Z",
     "start_time": "2022-12-12T07:45:47.269020Z"
    }
   },
   "outputs": [
    {
     "name": "stdout",
     "output_type": "stream",
     "text": [
      "              precision    recall  f1-score   support\n",
      "\n",
      "           0       0.96      0.70      0.81     70720\n",
      "           1       0.17      0.69      0.27      6157\n",
      "\n",
      "    accuracy                           0.70     76877\n",
      "   macro avg       0.56      0.69      0.54     76877\n",
      "weighted avg       0.90      0.70      0.76     76877\n",
      "\n"
     ]
    }
   ],
   "source": [
    "y_pred = pipeline.predict(X_test)\n",
    "print(metrics.classification_report(y_test, y_pred))"
   ]
  },
  {
   "cell_type": "code",
   "execution_count": 17,
   "id": "fc1ce2c5",
   "metadata": {
    "ExecuteTime": {
     "end_time": "2022-12-12T07:45:47.795955Z",
     "start_time": "2022-12-12T07:45:47.788572Z"
    }
   },
   "outputs": [
    {
     "data": {
      "text/plain": [
       "0.05416114666922478"
      ]
     },
     "execution_count": 17,
     "metadata": {},
     "output_type": "execute_result"
    }
   ],
   "source": [
    "pipeline.predict_proba(X.iloc[0].to_frame().T)[0,0]"
   ]
  },
  {
   "cell_type": "code",
   "execution_count": 18,
   "id": "e52a32aa",
   "metadata": {
    "ExecuteTime": {
     "end_time": "2022-12-12T07:45:47.809525Z",
     "start_time": "2022-12-12T07:45:47.798370Z"
    }
   },
   "outputs": [
    {
     "data": {
      "text/html": [
       "<style>#sk-container-id-2 {color: black;background-color: white;}#sk-container-id-2 pre{padding: 0;}#sk-container-id-2 div.sk-toggleable {background-color: white;}#sk-container-id-2 label.sk-toggleable__label {cursor: pointer;display: block;width: 100%;margin-bottom: 0;padding: 0.3em;box-sizing: border-box;text-align: center;}#sk-container-id-2 label.sk-toggleable__label-arrow:before {content: \"▸\";float: left;margin-right: 0.25em;color: #696969;}#sk-container-id-2 label.sk-toggleable__label-arrow:hover:before {color: black;}#sk-container-id-2 div.sk-estimator:hover label.sk-toggleable__label-arrow:before {color: black;}#sk-container-id-2 div.sk-toggleable__content {max-height: 0;max-width: 0;overflow: hidden;text-align: left;background-color: #f0f8ff;}#sk-container-id-2 div.sk-toggleable__content pre {margin: 0.2em;color: black;border-radius: 0.25em;background-color: #f0f8ff;}#sk-container-id-2 input.sk-toggleable__control:checked~div.sk-toggleable__content {max-height: 200px;max-width: 100%;overflow: auto;}#sk-container-id-2 input.sk-toggleable__control:checked~label.sk-toggleable__label-arrow:before {content: \"▾\";}#sk-container-id-2 div.sk-estimator input.sk-toggleable__control:checked~label.sk-toggleable__label {background-color: #d4ebff;}#sk-container-id-2 div.sk-label input.sk-toggleable__control:checked~label.sk-toggleable__label {background-color: #d4ebff;}#sk-container-id-2 input.sk-hidden--visually {border: 0;clip: rect(1px 1px 1px 1px);clip: rect(1px, 1px, 1px, 1px);height: 1px;margin: -1px;overflow: hidden;padding: 0;position: absolute;width: 1px;}#sk-container-id-2 div.sk-estimator {font-family: monospace;background-color: #f0f8ff;border: 1px dotted black;border-radius: 0.25em;box-sizing: border-box;margin-bottom: 0.5em;}#sk-container-id-2 div.sk-estimator:hover {background-color: #d4ebff;}#sk-container-id-2 div.sk-parallel-item::after {content: \"\";width: 100%;border-bottom: 1px solid gray;flex-grow: 1;}#sk-container-id-2 div.sk-label:hover label.sk-toggleable__label {background-color: #d4ebff;}#sk-container-id-2 div.sk-serial::before {content: \"\";position: absolute;border-left: 1px solid gray;box-sizing: border-box;top: 0;bottom: 0;left: 50%;z-index: 0;}#sk-container-id-2 div.sk-serial {display: flex;flex-direction: column;align-items: center;background-color: white;padding-right: 0.2em;padding-left: 0.2em;position: relative;}#sk-container-id-2 div.sk-item {position: relative;z-index: 1;}#sk-container-id-2 div.sk-parallel {display: flex;align-items: stretch;justify-content: center;background-color: white;position: relative;}#sk-container-id-2 div.sk-item::before, #sk-container-id-2 div.sk-parallel-item::before {content: \"\";position: absolute;border-left: 1px solid gray;box-sizing: border-box;top: 0;bottom: 0;left: 50%;z-index: -1;}#sk-container-id-2 div.sk-parallel-item {display: flex;flex-direction: column;z-index: 1;position: relative;background-color: white;}#sk-container-id-2 div.sk-parallel-item:first-child::after {align-self: flex-end;width: 50%;}#sk-container-id-2 div.sk-parallel-item:last-child::after {align-self: flex-start;width: 50%;}#sk-container-id-2 div.sk-parallel-item:only-child::after {width: 0;}#sk-container-id-2 div.sk-dashed-wrapped {border: 1px dashed gray;margin: 0 0.4em 0.5em 0.4em;box-sizing: border-box;padding-bottom: 0.4em;background-color: white;}#sk-container-id-2 div.sk-label label {font-family: monospace;font-weight: bold;display: inline-block;line-height: 1.2em;}#sk-container-id-2 div.sk-label-container {text-align: center;}#sk-container-id-2 div.sk-container {/* jupyter's `normalize.less` sets `[hidden] { display: none; }` but bootstrap.min.css set `[hidden] { display: none !important; }` so we also need the `!important` here to be able to override the default hidden behavior on the sphinx rendered scikit-learn.org. See: https://github.com/scikit-learn/scikit-learn/issues/21755 */display: inline-block !important;position: relative;}#sk-container-id-2 div.sk-text-repr-fallback {display: none;}</style><div id=\"sk-container-id-2\" class=\"sk-top-container\"><div class=\"sk-text-repr-fallback\"><pre>Pipeline(steps=[(&#x27;imputer&#x27;, SimpleImputer(missing_values=1.01010101)),\n",
       "                (&#x27;scaler&#x27;, StandardScaler()),\n",
       "                (&#x27;undersampler&#x27;, RandomUnderSampler(random_state=0)),\n",
       "                (&#x27;model&#x27;, LogisticRegression(max_iter=1000, random_state=42))])</pre><b>In a Jupyter environment, please rerun this cell to show the HTML representation or trust the notebook. <br />On GitHub, the HTML representation is unable to render, please try loading this page with nbviewer.org.</b></div><div class=\"sk-container\" hidden><div class=\"sk-item sk-dashed-wrapped\"><div class=\"sk-label-container\"><div class=\"sk-label sk-toggleable\"><input class=\"sk-toggleable__control sk-hidden--visually\" id=\"sk-estimator-id-6\" type=\"checkbox\" ><label for=\"sk-estimator-id-6\" class=\"sk-toggleable__label sk-toggleable__label-arrow\">Pipeline</label><div class=\"sk-toggleable__content\"><pre>Pipeline(steps=[(&#x27;imputer&#x27;, SimpleImputer(missing_values=1.01010101)),\n",
       "                (&#x27;scaler&#x27;, StandardScaler()),\n",
       "                (&#x27;undersampler&#x27;, RandomUnderSampler(random_state=0)),\n",
       "                (&#x27;model&#x27;, LogisticRegression(max_iter=1000, random_state=42))])</pre></div></div></div><div class=\"sk-serial\"><div class=\"sk-item\"><div class=\"sk-estimator sk-toggleable\"><input class=\"sk-toggleable__control sk-hidden--visually\" id=\"sk-estimator-id-7\" type=\"checkbox\" ><label for=\"sk-estimator-id-7\" class=\"sk-toggleable__label sk-toggleable__label-arrow\">SimpleImputer</label><div class=\"sk-toggleable__content\"><pre>SimpleImputer(missing_values=1.01010101)</pre></div></div></div><div class=\"sk-item\"><div class=\"sk-estimator sk-toggleable\"><input class=\"sk-toggleable__control sk-hidden--visually\" id=\"sk-estimator-id-8\" type=\"checkbox\" ><label for=\"sk-estimator-id-8\" class=\"sk-toggleable__label sk-toggleable__label-arrow\">StandardScaler</label><div class=\"sk-toggleable__content\"><pre>StandardScaler()</pre></div></div></div><div class=\"sk-item\"><div class=\"sk-estimator sk-toggleable\"><input class=\"sk-toggleable__control sk-hidden--visually\" id=\"sk-estimator-id-9\" type=\"checkbox\" ><label for=\"sk-estimator-id-9\" class=\"sk-toggleable__label sk-toggleable__label-arrow\">RandomUnderSampler</label><div class=\"sk-toggleable__content\"><pre>RandomUnderSampler(random_state=0)</pre></div></div></div><div class=\"sk-item\"><div class=\"sk-estimator sk-toggleable\"><input class=\"sk-toggleable__control sk-hidden--visually\" id=\"sk-estimator-id-10\" type=\"checkbox\" ><label for=\"sk-estimator-id-10\" class=\"sk-toggleable__label sk-toggleable__label-arrow\">LogisticRegression</label><div class=\"sk-toggleable__content\"><pre>LogisticRegression(max_iter=1000, random_state=42)</pre></div></div></div></div></div></div></div>"
      ],
      "text/plain": [
       "Pipeline(steps=[('imputer', SimpleImputer(missing_values=1.01010101)),\n",
       "                ('scaler', StandardScaler()),\n",
       "                ('undersampler', RandomUnderSampler(random_state=0)),\n",
       "                ('model', LogisticRegression(max_iter=1000, random_state=42))])"
      ]
     },
     "execution_count": 18,
     "metadata": {},
     "output_type": "execute_result"
    }
   ],
   "source": [
    "pipeline"
   ]
  },
  {
   "cell_type": "code",
   "execution_count": 19,
   "id": "de09cdfc",
   "metadata": {
    "ExecuteTime": {
     "end_time": "2022-12-12T07:45:47.825460Z",
     "start_time": "2022-12-12T07:45:47.811930Z"
    }
   },
   "outputs": [
    {
     "data": {
      "text/plain": [
       "['pipeline_projet7.joblib']"
      ]
     },
     "execution_count": 19,
     "metadata": {},
     "output_type": "execute_result"
    }
   ],
   "source": [
    "joblib.dump(pipeline, 'pipeline_projet7.joblib')"
   ]
  },
  {
   "cell_type": "markdown",
   "id": "b98e4fbd",
   "metadata": {},
   "source": [
    "# Feature importance"
   ]
  },
  {
   "cell_type": "markdown",
   "id": "6a58d3bd",
   "metadata": {},
   "source": [
    "## Importance globale"
   ]
  },
  {
   "cell_type": "code",
   "execution_count": 20,
   "id": "b9d98a78",
   "metadata": {
    "ExecuteTime": {
     "end_time": "2022-12-12T07:45:47.832821Z",
     "start_time": "2022-12-12T07:45:47.827807Z"
    }
   },
   "outputs": [
    {
     "data": {
      "text/html": [
       "<style>#sk-container-id-3 {color: black;background-color: white;}#sk-container-id-3 pre{padding: 0;}#sk-container-id-3 div.sk-toggleable {background-color: white;}#sk-container-id-3 label.sk-toggleable__label {cursor: pointer;display: block;width: 100%;margin-bottom: 0;padding: 0.3em;box-sizing: border-box;text-align: center;}#sk-container-id-3 label.sk-toggleable__label-arrow:before {content: \"▸\";float: left;margin-right: 0.25em;color: #696969;}#sk-container-id-3 label.sk-toggleable__label-arrow:hover:before {color: black;}#sk-container-id-3 div.sk-estimator:hover label.sk-toggleable__label-arrow:before {color: black;}#sk-container-id-3 div.sk-toggleable__content {max-height: 0;max-width: 0;overflow: hidden;text-align: left;background-color: #f0f8ff;}#sk-container-id-3 div.sk-toggleable__content pre {margin: 0.2em;color: black;border-radius: 0.25em;background-color: #f0f8ff;}#sk-container-id-3 input.sk-toggleable__control:checked~div.sk-toggleable__content {max-height: 200px;max-width: 100%;overflow: auto;}#sk-container-id-3 input.sk-toggleable__control:checked~label.sk-toggleable__label-arrow:before {content: \"▾\";}#sk-container-id-3 div.sk-estimator input.sk-toggleable__control:checked~label.sk-toggleable__label {background-color: #d4ebff;}#sk-container-id-3 div.sk-label input.sk-toggleable__control:checked~label.sk-toggleable__label {background-color: #d4ebff;}#sk-container-id-3 input.sk-hidden--visually {border: 0;clip: rect(1px 1px 1px 1px);clip: rect(1px, 1px, 1px, 1px);height: 1px;margin: -1px;overflow: hidden;padding: 0;position: absolute;width: 1px;}#sk-container-id-3 div.sk-estimator {font-family: monospace;background-color: #f0f8ff;border: 1px dotted black;border-radius: 0.25em;box-sizing: border-box;margin-bottom: 0.5em;}#sk-container-id-3 div.sk-estimator:hover {background-color: #d4ebff;}#sk-container-id-3 div.sk-parallel-item::after {content: \"\";width: 100%;border-bottom: 1px solid gray;flex-grow: 1;}#sk-container-id-3 div.sk-label:hover label.sk-toggleable__label {background-color: #d4ebff;}#sk-container-id-3 div.sk-serial::before {content: \"\";position: absolute;border-left: 1px solid gray;box-sizing: border-box;top: 0;bottom: 0;left: 50%;z-index: 0;}#sk-container-id-3 div.sk-serial {display: flex;flex-direction: column;align-items: center;background-color: white;padding-right: 0.2em;padding-left: 0.2em;position: relative;}#sk-container-id-3 div.sk-item {position: relative;z-index: 1;}#sk-container-id-3 div.sk-parallel {display: flex;align-items: stretch;justify-content: center;background-color: white;position: relative;}#sk-container-id-3 div.sk-item::before, #sk-container-id-3 div.sk-parallel-item::before {content: \"\";position: absolute;border-left: 1px solid gray;box-sizing: border-box;top: 0;bottom: 0;left: 50%;z-index: -1;}#sk-container-id-3 div.sk-parallel-item {display: flex;flex-direction: column;z-index: 1;position: relative;background-color: white;}#sk-container-id-3 div.sk-parallel-item:first-child::after {align-self: flex-end;width: 50%;}#sk-container-id-3 div.sk-parallel-item:last-child::after {align-self: flex-start;width: 50%;}#sk-container-id-3 div.sk-parallel-item:only-child::after {width: 0;}#sk-container-id-3 div.sk-dashed-wrapped {border: 1px dashed gray;margin: 0 0.4em 0.5em 0.4em;box-sizing: border-box;padding-bottom: 0.4em;background-color: white;}#sk-container-id-3 div.sk-label label {font-family: monospace;font-weight: bold;display: inline-block;line-height: 1.2em;}#sk-container-id-3 div.sk-label-container {text-align: center;}#sk-container-id-3 div.sk-container {/* jupyter's `normalize.less` sets `[hidden] { display: none; }` but bootstrap.min.css set `[hidden] { display: none !important; }` so we also need the `!important` here to be able to override the default hidden behavior on the sphinx rendered scikit-learn.org. See: https://github.com/scikit-learn/scikit-learn/issues/21755 */display: inline-block !important;position: relative;}#sk-container-id-3 div.sk-text-repr-fallback {display: none;}</style><div id=\"sk-container-id-3\" class=\"sk-top-container\"><div class=\"sk-text-repr-fallback\"><pre>LogisticRegression(max_iter=1000, random_state=42)</pre><b>In a Jupyter environment, please rerun this cell to show the HTML representation or trust the notebook. <br />On GitHub, the HTML representation is unable to render, please try loading this page with nbviewer.org.</b></div><div class=\"sk-container\" hidden><div class=\"sk-item\"><div class=\"sk-estimator sk-toggleable\"><input class=\"sk-toggleable__control sk-hidden--visually\" id=\"sk-estimator-id-11\" type=\"checkbox\" checked><label for=\"sk-estimator-id-11\" class=\"sk-toggleable__label sk-toggleable__label-arrow\">LogisticRegression</label><div class=\"sk-toggleable__content\"><pre>LogisticRegression(max_iter=1000, random_state=42)</pre></div></div></div></div></div>"
      ],
      "text/plain": [
       "LogisticRegression(max_iter=1000, random_state=42)"
      ]
     },
     "execution_count": 20,
     "metadata": {},
     "output_type": "execute_result"
    }
   ],
   "source": [
    "model = pipeline['model']\n",
    "model"
   ]
  },
  {
   "cell_type": "code",
   "execution_count": 21,
   "id": "59a5f557",
   "metadata": {
    "ExecuteTime": {
     "end_time": "2022-12-12T07:45:47.848332Z",
     "start_time": "2022-12-12T07:45:47.840109Z"
    }
   },
   "outputs": [
    {
     "data": {
      "text/plain": [
       "CODE_GENDER                      0.172564\n",
       "FLAG_OWN_CAR                    -0.108222\n",
       "FLAG_OWN_REALTY                  0.026048\n",
       "CNT_CHILDREN                     0.027096\n",
       "AMT_ANNUITY                      0.307838\n",
       "                                   ...   \n",
       "INSTAL_PAYMENT_DIFF_SUM          0.148343\n",
       "INSTAL_AMT_PAYMENT_MAX           0.025629\n",
       "INSTAL_AMT_PAYMENT_SUM           0.066447\n",
       "INSTAL_DAYS_ENTRY_PAYMENT_MAX   -0.054927\n",
       "INSTAL_DAYS_ENTRY_PAYMENT_SUM    0.050072\n",
       "Length: 231, dtype: float64"
      ]
     },
     "execution_count": 21,
     "metadata": {},
     "output_type": "execute_result"
    }
   ],
   "source": [
    "coefs = pd.Series(model.coef_[0], index=X.columns)\n",
    "coefs"
   ]
  },
  {
   "cell_type": "code",
   "execution_count": 22,
   "id": "95c844f9",
   "metadata": {
    "ExecuteTime": {
     "end_time": "2022-12-12T07:45:47.857791Z",
     "start_time": "2022-12-12T07:45:47.851595Z"
    }
   },
   "outputs": [
    {
     "data": {
      "text/plain": [
       "EXT_SOURCE_2                                   0.390563\n",
       "EXT_SOURCE_3                                   0.382742\n",
       "AMT_GOODS_PRICE                                0.345733\n",
       "AMT_ANNUITY                                    0.307838\n",
       "POS_COUNT                                      0.244438\n",
       "BURO_CNT_CREDIT_PROLONG_SUM                    0.216420\n",
       "PAYMENT_RATE                                   0.204577\n",
       "ACTIVE_DAYS_CREDIT_MIN                         0.203629\n",
       "ACTIVE_DAYS_CREDIT_MEAN                        0.198477\n",
       "PREV_AMT_ANNUITY_MEAN                          0.196209\n",
       "PREV_CNT_PAYMENT_MEAN                          0.182881\n",
       "ACTIVE_CNT_CREDIT_PROLONG_SUM                  0.174489\n",
       "EXT_SOURCE_1                                   0.173975\n",
       "CODE_GENDER                                    0.172564\n",
       "PREV_NAME_SELLER_INDUSTRY_Connectivity_MEAN    0.157621\n",
       "dtype: float64"
      ]
     },
     "execution_count": 22,
     "metadata": {},
     "output_type": "execute_result"
    }
   ],
   "source": [
    "best_coefs_abs = coefs.abs().sort_values(ascending=False)[:15]\n",
    "best_coefs_abs"
   ]
  },
  {
   "cell_type": "code",
   "execution_count": 23,
   "id": "7c30eeaa",
   "metadata": {
    "ExecuteTime": {
     "end_time": "2022-12-12T07:45:47.868702Z",
     "start_time": "2022-12-12T07:45:47.864791Z"
    }
   },
   "outputs": [],
   "source": [
    "best_features = coefs[best_coefs_abs.index].index\n",
    "best_values = - coefs[best_coefs_abs.index].values  # opposé pour plus de lisibilité"
   ]
  },
  {
   "cell_type": "code",
   "execution_count": 24,
   "id": "7a2dba9c",
   "metadata": {
    "ExecuteTime": {
     "end_time": "2022-12-12T07:45:48.199428Z",
     "start_time": "2022-12-12T07:45:47.872306Z"
    }
   },
   "outputs": [
    {
     "data": {
      "image/png": "[encoded data removed]",
      "text/plain": [
       "<Figure size 576x432 with 1 Axes>"
      ]
     },
     "metadata": {
      "needs_background": "light"
     },
     "output_type": "display_data"
    }
   ],
   "source": [
    "fig = plt.figure(figsize=(8,6))\n",
    "plt.barh(best_features[::-1], best_values[::-1],\n",
    "         color=[\"red\" if coef<0 else \"green\" for coef in best_values[::-1]])\n",
    "#plt.xticks(rotation=30, horizontalalignment='right')\n",
    "plt.xlim(-0.85, 0.85)\n",
    "plt.title(\"Weights\");"
   ]
  },
  {
   "cell_type": "markdown",
   "id": "f8aae07a",
   "metadata": {},
   "source": [
    "## Importance locale"
   ]
  },
  {
   "cell_type": "markdown",
   "id": "b4828a15",
   "metadata": {},
   "source": [
    "### Shap"
   ]
  },
  {
   "cell_type": "code",
   "execution_count": 18,
   "id": "e86ca380",
   "metadata": {
    "ExecuteTime": {
     "end_time": "2022-12-07T09:24:15.983417Z",
     "start_time": "2022-12-07T09:24:12.533381Z"
    }
   },
   "outputs": [
    {
     "data": {
      "text/plain": [
       "0    19901\n",
       "1    19901\n",
       "Name: TARGET, dtype: int64"
      ]
     },
     "execution_count": 18,
     "metadata": {},
     "output_type": "execute_result"
    }
   ],
   "source": [
    "preprocessing = pipeline[:2]\n",
    "X_train_prep = pd.DataFrame(preprocessing.fit_transform(X_train),\n",
    "                            columns=X_train.columns, index=X_train.index)\n",
    "X_test_prep = pd.DataFrame(preprocessing.transform(X_test),\n",
    "                           columns=X_test.columns, index=X_test.index)\n",
    "\n",
    "resampler = pipeline['undersampler']\n",
    "X_train_res, y_train_res = resampler.fit_resample(X_train_prep, y_train)\n",
    "\n",
    "y_train_res.value_counts()"
   ]
  },
  {
   "cell_type": "code",
   "execution_count": 19,
   "id": "d73b1775",
   "metadata": {
    "ExecuteTime": {
     "end_time": "2022-12-07T09:24:19.776930Z",
     "start_time": "2022-12-07T09:24:15.985835Z"
    }
   },
   "outputs": [
    {
     "data": {
      "text/html": [
       "<style>#sk-container-id-2 {color: black;background-color: white;}#sk-container-id-2 pre{padding: 0;}#sk-container-id-2 div.sk-toggleable {background-color: white;}#sk-container-id-2 label.sk-toggleable__label {cursor: pointer;display: block;width: 100%;margin-bottom: 0;padding: 0.3em;box-sizing: border-box;text-align: center;}#sk-container-id-2 label.sk-toggleable__label-arrow:before {content: \"▸\";float: left;margin-right: 0.25em;color: #696969;}#sk-container-id-2 label.sk-toggleable__label-arrow:hover:before {color: black;}#sk-container-id-2 div.sk-estimator:hover label.sk-toggleable__label-arrow:before {color: black;}#sk-container-id-2 div.sk-toggleable__content {max-height: 0;max-width: 0;overflow: hidden;text-align: left;background-color: #f0f8ff;}#sk-container-id-2 div.sk-toggleable__content pre {margin: 0.2em;color: black;border-radius: 0.25em;background-color: #f0f8ff;}#sk-container-id-2 input.sk-toggleable__control:checked~div.sk-toggleable__content {max-height: 200px;max-width: 100%;overflow: auto;}#sk-container-id-2 input.sk-toggleable__control:checked~label.sk-toggleable__label-arrow:before {content: \"▾\";}#sk-container-id-2 div.sk-estimator input.sk-toggleable__control:checked~label.sk-toggleable__label {background-color: #d4ebff;}#sk-container-id-2 div.sk-label input.sk-toggleable__control:checked~label.sk-toggleable__label {background-color: #d4ebff;}#sk-container-id-2 input.sk-hidden--visually {border: 0;clip: rect(1px 1px 1px 1px);clip: rect(1px, 1px, 1px, 1px);height: 1px;margin: -1px;overflow: hidden;padding: 0;position: absolute;width: 1px;}#sk-container-id-2 div.sk-estimator {font-family: monospace;background-color: #f0f8ff;border: 1px dotted black;border-radius: 0.25em;box-sizing: border-box;margin-bottom: 0.5em;}#sk-container-id-2 div.sk-estimator:hover {background-color: #d4ebff;}#sk-container-id-2 div.sk-parallel-item::after {content: \"\";width: 100%;border-bottom: 1px solid gray;flex-grow: 1;}#sk-container-id-2 div.sk-label:hover label.sk-toggleable__label {background-color: #d4ebff;}#sk-container-id-2 div.sk-serial::before {content: \"\";position: absolute;border-left: 1px solid gray;box-sizing: border-box;top: 0;bottom: 0;left: 50%;z-index: 0;}#sk-container-id-2 div.sk-serial {display: flex;flex-direction: column;align-items: center;background-color: white;padding-right: 0.2em;padding-left: 0.2em;position: relative;}#sk-container-id-2 div.sk-item {position: relative;z-index: 1;}#sk-container-id-2 div.sk-parallel {display: flex;align-items: stretch;justify-content: center;background-color: white;position: relative;}#sk-container-id-2 div.sk-item::before, #sk-container-id-2 div.sk-parallel-item::before {content: \"\";position: absolute;border-left: 1px solid gray;box-sizing: border-box;top: 0;bottom: 0;left: 50%;z-index: -1;}#sk-container-id-2 div.sk-parallel-item {display: flex;flex-direction: column;z-index: 1;position: relative;background-color: white;}#sk-container-id-2 div.sk-parallel-item:first-child::after {align-self: flex-end;width: 50%;}#sk-container-id-2 div.sk-parallel-item:last-child::after {align-self: flex-start;width: 50%;}#sk-container-id-2 div.sk-parallel-item:only-child::after {width: 0;}#sk-container-id-2 div.sk-dashed-wrapped {border: 1px dashed gray;margin: 0 0.4em 0.5em 0.4em;box-sizing: border-box;padding-bottom: 0.4em;background-color: white;}#sk-container-id-2 div.sk-label label {font-family: monospace;font-weight: bold;display: inline-block;line-height: 1.2em;}#sk-container-id-2 div.sk-label-container {text-align: center;}#sk-container-id-2 div.sk-container {/* jupyter's `normalize.less` sets `[hidden] { display: none; }` but bootstrap.min.css set `[hidden] { display: none !important; }` so we also need the `!important` here to be able to override the default hidden behavior on the sphinx rendered scikit-learn.org. See: https://github.com/scikit-learn/scikit-learn/issues/21755 */display: inline-block !important;position: relative;}#sk-container-id-2 div.sk-text-repr-fallback {display: none;}</style><div id=\"sk-container-id-2\" class=\"sk-top-container\"><div class=\"sk-text-repr-fallback\"><pre>HistGradientBoostingClassifier(random_state=42)</pre><b>In a Jupyter environment, please rerun this cell to show the HTML representation or trust the notebook. <br />On GitHub, the HTML representation is unable to render, please try loading this page with nbviewer.org.</b></div><div class=\"sk-container\" hidden><div class=\"sk-item\"><div class=\"sk-estimator sk-toggleable\"><input class=\"sk-toggleable__control sk-hidden--visually\" id=\"sk-estimator-id-6\" type=\"checkbox\" checked><label for=\"sk-estimator-id-6\" class=\"sk-toggleable__label sk-toggleable__label-arrow\">HistGradientBoostingClassifier</label><div class=\"sk-toggleable__content\"><pre>HistGradientBoostingClassifier(random_state=42)</pre></div></div></div></div></div>"
      ],
      "text/plain": [
       "HistGradientBoostingClassifier(random_state=42)"
      ]
     },
     "execution_count": 19,
     "metadata": {},
     "output_type": "execute_result"
    }
   ],
   "source": [
    "model = pipeline['histgb']\n",
    "model.fit(X_train_res, y_train_res)"
   ]
  },
  {
   "cell_type": "code",
   "execution_count": 20,
   "id": "6bfe0554",
   "metadata": {
    "ExecuteTime": {
     "end_time": "2022-12-07T09:24:20.436723Z",
     "start_time": "2022-12-07T09:24:19.780652Z"
    }
   },
   "outputs": [
    {
     "name": "stdout",
     "output_type": "stream",
     "text": [
      "              precision    recall  f1-score   support\n",
      "\n",
      "           0       0.97      0.71      0.82    226104\n",
      "           1       0.19      0.76      0.30     19901\n",
      "\n",
      "    accuracy                           0.71    246005\n",
      "   macro avg       0.58      0.74      0.56    246005\n",
      "weighted avg       0.91      0.71      0.78    246005\n",
      "\n"
     ]
    }
   ],
   "source": [
    "y_pred = model.predict(X_train_prep)\n",
    "print(metrics.classification_report(y_train, y_pred))"
   ]
  },
  {
   "cell_type": "code",
   "execution_count": 21,
   "id": "5bf17c75",
   "metadata": {
    "ExecuteTime": {
     "end_time": "2022-12-07T09:24:20.628044Z",
     "start_time": "2022-12-07T09:24:20.439194Z"
    }
   },
   "outputs": [
    {
     "name": "stdout",
     "output_type": "stream",
     "text": [
      "              precision    recall  f1-score   support\n",
      "\n",
      "           0       0.97      0.71      0.82     56578\n",
      "           1       0.17      0.71      0.28      4924\n",
      "\n",
      "    accuracy                           0.71     61502\n",
      "   macro avg       0.57      0.71      0.55     61502\n",
      "weighted avg       0.90      0.71      0.77     61502\n",
      "\n"
     ]
    }
   ],
   "source": [
    "y_pred = model.predict(X_test_prep)\n",
    "print(metrics.classification_report(y_test, y_pred))"
   ]
  },
  {
   "cell_type": "code",
   "execution_count": 22,
   "id": "d654ef4e",
   "metadata": {
    "ExecuteTime": {
     "end_time": "2022-12-07T09:24:20.636118Z",
     "start_time": "2022-12-07T09:24:20.630296Z"
    }
   },
   "outputs": [
    {
     "data": {
      "text/plain": [
       "array([167514, 229234, 231843, 304568, 204656, 269368, 106897, 112437,\n",
       "       231975, 178154])"
      ]
     },
     "execution_count": 22,
     "metadata": {},
     "output_type": "execute_result"
    }
   ],
   "source": [
    "np.random.seed(0)\n",
    "indices = np.random.choice(X_test.index, size=10)\n",
    "indices"
   ]
  },
  {
   "cell_type": "code",
   "execution_count": 23,
   "id": "7b501da7",
   "metadata": {
    "ExecuteTime": {
     "end_time": "2022-12-07T09:24:20.837954Z",
     "start_time": "2022-12-07T09:24:20.638075Z"
    }
   },
   "outputs": [
    {
     "ename": "NameError",
     "evalue": "name 'x' is not defined",
     "output_type": "error",
     "traceback": [
      "\u001b[0;31m---------------------------------------------------------------------------\u001b[0m",
      "\u001b[0;31mNameError\u001b[0m                                 Traceback (most recent call last)",
      "\u001b[0;32m<ipython-input-23-1cead520763e>\u001b[0m in \u001b[0;36m<module>\u001b[0;34m\u001b[0m\n\u001b[1;32m      1\u001b[0m \u001b[0mbackground_data\u001b[0m \u001b[0;34m=\u001b[0m \u001b[0mX_train\u001b[0m\u001b[0;34m.\u001b[0m\u001b[0msample\u001b[0m\u001b[0;34m(\u001b[0m\u001b[0;36m1000\u001b[0m\u001b[0;34m,\u001b[0m \u001b[0mrandom_state\u001b[0m\u001b[0;34m=\u001b[0m\u001b[0;36m0\u001b[0m\u001b[0;34m)\u001b[0m\u001b[0;34m\u001b[0m\u001b[0;34m\u001b[0m\u001b[0m\n\u001b[1;32m      2\u001b[0m \u001b[0;31m#explainer = shap.explainers.Linear(model, X_train)\u001b[0m\u001b[0;34m\u001b[0m\u001b[0;34m\u001b[0m\u001b[0;34m\u001b[0m\u001b[0m\n\u001b[0;32m----> 3\u001b[0;31m \u001b[0mexplainer\u001b[0m \u001b[0;34m=\u001b[0m \u001b[0mshap\u001b[0m\u001b[0;34m.\u001b[0m\u001b[0mExplainer\u001b[0m\u001b[0;34m(\u001b[0m\u001b[0mmodel\u001b[0m\u001b[0;34m,\u001b[0m \u001b[0mx\u001b[0m\u001b[0;34m)\u001b[0m\u001b[0;34m\u001b[0m\u001b[0;34m\u001b[0m\u001b[0m\n\u001b[0m",
      "\u001b[0;31mNameError\u001b[0m: name 'x' is not defined"
     ]
    }
   ],
   "source": [
    "background_data = X_train.sample(1000, random_state=0)\n",
    "#explainer = shap.explainers.Linear(model, X_train)\n",
    "explainer = shap.Explainer(model, x)"
   ]
  },
  {
   "cell_type": "markdown",
   "id": "6a221af3",
   "metadata": {},
   "source": [
    "### Lime"
   ]
  },
  {
   "cell_type": "code",
   "execution_count": 25,
   "id": "e56d703e",
   "metadata": {
    "ExecuteTime": {
     "end_time": "2022-12-12T07:45:48.204009Z",
     "start_time": "2022-12-12T07:45:48.201634Z"
    }
   },
   "outputs": [],
   "source": [
    "import lime\n",
    "from lime import lime_tabular"
   ]
  },
  {
   "cell_type": "code",
   "execution_count": 26,
   "id": "8d9eca50",
   "metadata": {
    "ExecuteTime": {
     "end_time": "2022-12-12T07:45:48.208134Z",
     "start_time": "2022-12-12T07:45:48.205902Z"
    }
   },
   "outputs": [],
   "source": [
    "target_names = {0: 'Solvable', 1: 'Insolvable'}"
   ]
  },
  {
   "cell_type": "code",
   "execution_count": 27,
   "id": "fd2e0ed3",
   "metadata": {
    "ExecuteTime": {
     "end_time": "2022-12-12T07:45:50.035777Z",
     "start_time": "2022-12-12T07:45:48.209925Z"
    }
   },
   "outputs": [
    {
     "data": {
      "text/plain": [
       "0    18668\n",
       "1    18668\n",
       "Name: TARGET, dtype: int64"
      ]
     },
     "execution_count": 27,
     "metadata": {},
     "output_type": "execute_result"
    }
   ],
   "source": [
    "preprocessing = pipeline[:2]\n",
    "X_train_prep = preprocessing.transform(X_train)\n",
    "X_test_prep = preprocessing.transform(X_test)\n",
    "\n",
    "resampler = pipeline['undersampler']\n",
    "X_train_res, y_train_res = resampler.fit_resample(X_train_prep, y_train)\n",
    "\n",
    "y_train_res.value_counts()"
   ]
  },
  {
   "cell_type": "code",
   "execution_count": 29,
   "id": "57b0acf7",
   "metadata": {
    "ExecuteTime": {
     "end_time": "2022-12-12T07:46:12.163701Z",
     "start_time": "2022-12-12T07:46:12.161331Z"
    }
   },
   "outputs": [],
   "source": [
    "model = pipeline['model']"
   ]
  },
  {
   "cell_type": "code",
   "execution_count": 30,
   "id": "e6a14c44",
   "metadata": {
    "ExecuteTime": {
     "end_time": "2022-12-12T07:46:14.037471Z",
     "start_time": "2022-12-12T07:46:13.756332Z"
    }
   },
   "outputs": [
    {
     "name": "stdout",
     "output_type": "stream",
     "text": [
      "              precision    recall  f1-score   support\n",
      "\n",
      "           0       0.96      0.70      0.81    211962\n",
      "           1       0.17      0.69      0.27     18668\n",
      "\n",
      "    accuracy                           0.70    230630\n",
      "   macro avg       0.57      0.70      0.54    230630\n",
      "weighted avg       0.90      0.70      0.77    230630\n",
      "\n"
     ]
    }
   ],
   "source": [
    "y_pred = model.predict(X_train_prep)\n",
    "print(metrics.classification_report(y_train, y_pred))"
   ]
  },
  {
   "cell_type": "code",
   "execution_count": 31,
   "id": "815798aa",
   "metadata": {
    "ExecuteTime": {
     "end_time": "2022-12-12T07:46:14.249028Z",
     "start_time": "2022-12-12T07:46:14.132564Z"
    }
   },
   "outputs": [
    {
     "name": "stdout",
     "output_type": "stream",
     "text": [
      "              precision    recall  f1-score   support\n",
      "\n",
      "           0       0.96      0.70      0.81     70720\n",
      "           1       0.17      0.69      0.27      6157\n",
      "\n",
      "    accuracy                           0.70     76877\n",
      "   macro avg       0.56      0.69      0.54     76877\n",
      "weighted avg       0.90      0.70      0.76     76877\n",
      "\n"
     ]
    }
   ],
   "source": [
    "y_pred = model.predict(X_test_prep)\n",
    "print(metrics.classification_report(y_test, y_pred))"
   ]
  },
  {
   "cell_type": "code",
   "execution_count": 32,
   "id": "b0828d74",
   "metadata": {
    "ExecuteTime": {
     "end_time": "2022-12-12T07:46:16.719434Z",
     "start_time": "2022-12-12T07:46:14.527880Z"
    }
   },
   "outputs": [],
   "source": [
    "explainer = lime_tabular.LimeTabularExplainer(X_train_res, mode=\"classification\",\n",
    "                                              class_names=target_names,\n",
    "                                              feature_names=X_train.columns,\n",
    "                                             )"
   ]
  },
  {
   "cell_type": "code",
   "execution_count": 34,
   "id": "b588bb67",
   "metadata": {
    "ExecuteTime": {
     "end_time": "2022-12-12T07:47:03.219626Z",
     "start_time": "2022-12-12T07:46:26.895466Z"
    }
   },
   "outputs": [
    {
     "name": "stdout",
     "output_type": "stream",
     "text": [
      "Prediction :  Solvable\n",
      "Actual :      Solvable\n"
     ]
    }
   ],
   "source": [
    "np.random.seed(0)\n",
    "idx = np.random.randint(1, len(X_test_prep))\n",
    "\n",
    "print(\"Prediction : \", target_names[pipeline['model'].predict(X_test_prep[idx].reshape(1,-1))[0]])\n",
    "print(\"Actual :     \", target_names[y_test.values[idx]])\n",
    "\n",
    "explanation = explainer.explain_instance(X_test_prep[idx], model.predict_proba,\n",
    "                                         num_features=X.shape[1])\n",
    "\n",
    "#explanation.show_in_notebook()"
   ]
  },
  {
   "cell_type": "code",
   "execution_count": 35,
   "id": "a5826027",
   "metadata": {
    "ExecuteTime": {
     "end_time": "2022-12-12T07:47:03.227413Z",
     "start_time": "2022-12-12T07:47:03.222192Z"
    }
   },
   "outputs": [
    {
     "data": {
      "text/plain": [
       "array([[0.83456526, 0.16543474]])"
      ]
     },
     "execution_count": 35,
     "metadata": {},
     "output_type": "execute_result"
    }
   ],
   "source": [
    "pipeline['model'].predict_proba(X_test_prep[idx].reshape(1,-1))"
   ]
  },
  {
   "cell_type": "code",
   "execution_count": 36,
   "id": "c5fdb93b",
   "metadata": {
    "ExecuteTime": {
     "end_time": "2022-12-12T07:47:03.235198Z",
     "start_time": "2022-12-12T07:47:03.230708Z"
    }
   },
   "outputs": [
    {
     "data": {
      "text/plain": [
       "array([0.22112358])"
      ]
     },
     "execution_count": 36,
     "metadata": {},
     "output_type": "execute_result"
    }
   ],
   "source": [
    "explanation.local_pred"
   ]
  },
  {
   "cell_type": "code",
   "execution_count": 37,
   "id": "0e18a38c",
   "metadata": {
    "ExecuteTime": {
     "end_time": "2022-12-12T07:47:03.437104Z",
     "start_time": "2022-12-12T07:47:03.237739Z"
    }
   },
   "outputs": [
    {
     "data": {
      "image/png": "[encoded data removed]",
      "text/plain": [
       "<Figure size 576x432 with 1 Axes>"
      ]
     },
     "metadata": {
      "needs_background": "light"
     },
     "output_type": "display_data"
    }
   ],
   "source": [
    "explanation_map = explanation.as_map()[1][:10]\n",
    "\n",
    "feat_names = X_train.columns[[x[0] for x in explanation_map]]\n",
    "feat_vals = [x[1] for x in explanation_map]\n",
    "# On prend l'opposée des valeurs pour que ça soit plus lisible\n",
    "#feat_vals = - np.array(feat_vals)\n",
    "\n",
    "fig = plt.figure(figsize=(8,6))\n",
    "plt.barh(feat_names[::-1], feat_vals[::-1],\n",
    "         color=[\"red\" if coef<0 else \"green\" for coef in feat_vals[::-1]])\n",
    "#plt.xticks(rotation=30, horizontalalignment='right')\n",
    "x1 = - abs(1.1*feat_vals[0])\n",
    "x2 = - x1\n",
    "plt.xlim(x1, x2)\n",
    "plt.xlabel('Feature contribution')\n",
    "plt.show()"
   ]
  },
  {
   "cell_type": "code",
   "execution_count": 38,
   "id": "da642776",
   "metadata": {
    "ExecuteTime": {
     "end_time": "2022-12-12T07:47:03.581663Z",
     "start_time": "2022-12-12T07:47:03.438653Z"
    }
   },
   "outputs": [
    {
     "data": {
      "image/png": "[encoded data removed]",
      "text/plain": [
       "<Figure size 576x432 with 1 Axes>"
      ]
     },
     "execution_count": 38,
     "metadata": {},
     "output_type": "execute_result"
    }
   ],
   "source": [
    "fig"
   ]
  },
  {
   "cell_type": "code",
   "execution_count": 39,
   "id": "af98d63c",
   "metadata": {
    "ExecuteTime": {
     "end_time": "2022-12-12T07:47:03.593442Z",
     "start_time": "2022-12-12T07:47:03.583285Z"
    }
   },
   "outputs": [],
   "source": [
    "import dill"
   ]
  },
  {
   "cell_type": "code",
   "execution_count": 45,
   "id": "ef1c2197",
   "metadata": {
    "ExecuteTime": {
     "end_time": "2022-12-12T07:59:40.332098Z",
     "start_time": "2022-12-12T07:59:40.222564Z"
    }
   },
   "outputs": [],
   "source": [
    "with open('explainer.dill', 'wb') as f:\n",
    "    dill.dump(explainer, f)\n",
    "\n",
    "with open('explainer.dill', 'rb') as f:\n",
    "    exp = dill.load(f)"
   ]
  },
  {
   "cell_type": "code",
   "execution_count": 46,
   "id": "f22a14b1",
   "metadata": {
    "ExecuteTime": {
     "end_time": "2022-12-12T07:59:41.088909Z",
     "start_time": "2022-12-12T07:59:41.085125Z"
    }
   },
   "outputs": [
    {
     "data": {
      "text/plain": [
       "<lime.lime_tabular.LimeTabularExplainer at 0x7f8521024fd0>"
      ]
     },
     "execution_count": 46,
     "metadata": {},
     "output_type": "execute_result"
    }
   ],
   "source": [
    "exp"
   ]
  },
  {
   "cell_type": "code",
   "execution_count": 47,
   "id": "4d677138",
   "metadata": {
    "ExecuteTime": {
     "end_time": "2022-12-12T07:59:41.443852Z",
     "start_time": "2022-12-12T07:59:41.440366Z"
    }
   },
   "outputs": [
    {
     "data": {
      "text/plain": [
       "<lime.lime_tabular.LimeTabularExplainer at 0x7f85e13149a0>"
      ]
     },
     "execution_count": 47,
     "metadata": {},
     "output_type": "execute_result"
    }
   ],
   "source": [
    "explainer"
   ]
  },
  {
   "cell_type": "markdown",
   "id": "59b6ce34",
   "metadata": {},
   "source": [
    "# Precision-recall curve"
   ]
  },
  {
   "cell_type": "code",
   "execution_count": 70,
   "id": "0e941544",
   "metadata": {
    "ExecuteTime": {
     "end_time": "2022-12-11T21:24:01.897841Z",
     "start_time": "2022-12-11T21:24:01.198565Z"
    }
   },
   "outputs": [
    {
     "data": {
      "image/png": "[encoded data removed]",
      "text/plain": [
       "<Figure size 576x432 with 1 Axes>"
      ]
     },
     "metadata": {
      "needs_background": "light"
     },
     "output_type": "display_data"
    }
   ],
   "source": [
    "from sklearn.metrics import PrecisionRecallDisplay\n",
    "\n",
    "fig, ax = plt.subplots(figsize=(8,6))\n",
    "display = PrecisionRecallDisplay.from_estimator(\n",
    "    pipeline, X_test, y_test, ax=ax\n",
    ")\n",
    "_ = display.ax_.set_title(\"2-class Precision-Recall curve\")"
   ]
  },
  {
   "cell_type": "code",
   "execution_count": 71,
   "id": "89733aff",
   "metadata": {
    "ExecuteTime": {
     "end_time": "2022-12-11T21:24:33.043218Z",
     "start_time": "2022-12-11T21:24:32.349905Z"
    }
   },
   "outputs": [
    {
     "data": {
      "image/png": "[encoded data removed]",
      "text/plain": [
       "<Figure size 576x432 with 1 Axes>"
      ]
     },
     "metadata": {
      "needs_background": "light"
     },
     "output_type": "display_data"
    }
   ],
   "source": [
    "y_score = pipeline.decision_function(X_test)\n",
    "\n",
    "fig, ax = plt.subplots(figsize=(8,6))\n",
    "display = PrecisionRecallDisplay.from_predictions(y_test, y_score, ax=ax)\n",
    "_ = display.ax_.set_title(\"2-class Precision-Recall curve\")"
   ]
  },
  {
   "cell_type": "code",
   "execution_count": 72,
   "id": "8650f8a4",
   "metadata": {
    "ExecuteTime": {
     "end_time": "2022-12-11T21:24:38.639732Z",
     "start_time": "2022-12-11T21:24:37.944708Z"
    }
   },
   "outputs": [
    {
     "data": {
      "image/png": "[encoded data removed]",
      "text/plain": [
       "<Figure size 576x432 with 1 Axes>"
      ]
     },
     "metadata": {
      "needs_background": "light"
     },
     "output_type": "display_data"
    }
   ],
   "source": [
    "y_score = pipeline.predict_proba(X_test)[:,1]\n",
    "\n",
    "fig, ax = plt.subplots(figsize=(8,6))\n",
    "display = PrecisionRecallDisplay.from_predictions(y_test, y_score, ax=ax)\n",
    "_ = display.ax_.set_title(\"2-class Precision-Recall curve\")"
   ]
  },
  {
   "cell_type": "code",
   "execution_count": 73,
   "id": "2d95d4b0",
   "metadata": {
    "ExecuteTime": {
     "end_time": "2022-12-11T21:24:40.883777Z",
     "start_time": "2022-12-11T21:24:40.725671Z"
    }
   },
   "outputs": [
    {
     "data": {
      "image/png": "[encoded data removed]",
      "text/plain": [
       "<Figure size 576x432 with 1 Axes>"
      ]
     },
     "metadata": {
      "needs_background": "light"
     },
     "output_type": "display_data"
    }
   ],
   "source": [
    "#%matplotlib\n",
    "precision, recall, threshold = metrics.precision_recall_curve(y_test, y_score)\n",
    "\n",
    "fig, ax = plt.subplots(figsize=(8,6))\n",
    "ax.plot(recall, precision)\n",
    "plt.show()"
   ]
  },
  {
   "cell_type": "code",
   "execution_count": 74,
   "id": "61638d46",
   "metadata": {
    "ExecuteTime": {
     "end_time": "2022-12-11T21:24:44.924771Z",
     "start_time": "2022-12-11T21:24:44.920192Z"
    }
   },
   "outputs": [
    {
     "data": {
      "text/plain": [
       "array([1.00000000e+00, 1.00000000e+00, 1.00000000e+00, ...,\n",
       "       1.62416761e-04, 1.62416761e-04, 0.00000000e+00])"
      ]
     },
     "execution_count": 74,
     "metadata": {},
     "output_type": "execute_result"
    }
   ],
   "source": [
    "recall"
   ]
  },
  {
   "cell_type": "code",
   "execution_count": 75,
   "id": "26a83774",
   "metadata": {
    "ExecuteTime": {
     "end_time": "2022-12-11T21:24:45.103126Z",
     "start_time": "2022-12-11T21:24:45.098890Z"
    }
   },
   "outputs": [
    {
     "data": {
      "text/plain": [
       "array([0.08008897, 0.08009002, 0.08009106, ..., 0.5       , 1.        ,\n",
       "       1.        ])"
      ]
     },
     "execution_count": 75,
     "metadata": {},
     "output_type": "execute_result"
    }
   ],
   "source": [
    "precision"
   ]
  },
  {
   "cell_type": "code",
   "execution_count": 76,
   "id": "b9280b5c",
   "metadata": {
    "ExecuteTime": {
     "end_time": "2022-12-11T21:24:45.857377Z",
     "start_time": "2022-12-11T21:24:45.853132Z"
    }
   },
   "outputs": [
    {
     "data": {
      "text/plain": [
       "array([0.00275935, 0.00364835, 0.00476226, ..., 0.9814597 , 0.98303171,\n",
       "       0.98517387])"
      ]
     },
     "execution_count": 76,
     "metadata": {},
     "output_type": "execute_result"
    }
   ],
   "source": [
    "threshold"
   ]
  },
  {
   "cell_type": "code",
   "execution_count": 81,
   "id": "21f9043a",
   "metadata": {
    "ExecuteTime": {
     "end_time": "2022-12-11T21:25:34.424080Z",
     "start_time": "2022-12-11T21:25:34.419298Z"
    }
   },
   "outputs": [
    {
     "data": {
      "text/plain": [
       "array([0.5000093])"
      ]
     },
     "execution_count": 81,
     "metadata": {},
     "output_type": "execute_result"
    }
   ],
   "source": [
    "mask = (threshold > 0.49999) & (threshold < 0.50001)\n",
    "threshold[mask]"
   ]
  },
  {
   "cell_type": "code",
   "execution_count": 82,
   "id": "19dbc4eb",
   "metadata": {
    "ExecuteTime": {
     "end_time": "2022-12-11T21:25:35.532013Z",
     "start_time": "2022-12-11T21:25:35.527995Z"
    }
   },
   "outputs": [
    {
     "name": "stdout",
     "output_type": "stream",
     "text": [
      "[0.16538462]\n",
      "[0.69140815]\n"
     ]
    }
   ],
   "source": [
    "print(precision[1:][mask])\n",
    "print(recall[1:][mask])"
   ]
  },
  {
   "cell_type": "code",
   "execution_count": 83,
   "id": "36e01cf3",
   "metadata": {
    "ExecuteTime": {
     "end_time": "2022-12-11T21:25:41.825043Z",
     "start_time": "2022-12-11T21:25:41.271916Z"
    }
   },
   "outputs": [
    {
     "name": "stdout",
     "output_type": "stream",
     "text": [
      "              precision    recall  f1-score   support\n",
      "\n",
      "           0       0.96      0.70      0.81     70720\n",
      "           1       0.17      0.69      0.27      6157\n",
      "\n",
      "    accuracy                           0.70     76877\n",
      "   macro avg       0.56      0.69      0.54     76877\n",
      "weighted avg       0.90      0.70      0.76     76877\n",
      "\n"
     ]
    }
   ],
   "source": [
    "y_pred = pipeline.predict(X_test)\n",
    "print(metrics.classification_report(y_test, y_pred))"
   ]
  },
  {
   "cell_type": "code",
   "execution_count": null,
   "id": "d9e50eae",
   "metadata": {},
   "outputs": [],
   "source": []
  }
 ],
 "metadata": {
  "kernelspec": {
   "display_name": "Python 3",
   "language": "python",
   "name": "python3"
  },
  "language_info": {
   "codemirror_mode": {
    "name": "ipython",
    "version": 3
   },
   "file_extension": ".py",
   "mimetype": "text/x-python",
   "name": "python",
   "nbconvert_exporter": "python",
   "pygments_lexer": "ipython3",
   "version": "3.9.4"
  },
  "toc": {
   "base_numbering": 1,
   "nav_menu": {},
   "number_sections": true,
   "sideBar": true,
   "skip_h1_title": false,
   "title_cell": "Table of Contents",
   "title_sidebar": "Contents",
   "toc_cell": false,
   "toc_position": {},
   "toc_section_display": true,
   "toc_window_display": true
  }
 },
 "nbformat": 4,
 "nbformat_minor": 5
}
