{
 "cells": [
  {
   "cell_type": "markdown",
   "id": "46e47850",
   "metadata": {},
   "source": [
    "# Packages"
   ]
  },
  {
   "cell_type": "code",
   "execution_count": 144,
   "id": "46698297",
   "metadata": {
    "ExecuteTime": {
     "end_time": "2022-12-17T16:14:33.943688Z",
     "start_time": "2022-12-17T16:14:33.931076Z"
    }
   },
   "outputs": [],
   "source": [
    "import pandas as pd\n",
    "pd.options.mode.chained_assignment = None  # default='warn'\n",
    "import numpy as np\n",
    "\n",
    "import matplotlib.pyplot as plt\n",
    "import seaborn as sns\n",
    "sns.set_theme(style='whitegrid')\n",
    "\n",
    "from sklearn.model_selection import train_test_split\n",
    "from sklearn.preprocessing import StandardScaler, MinMaxScaler\n",
    "from sklearn.impute import SimpleImputer\n",
    "# estimators\n",
    "from sklearn.linear_model import LogisticRegression\n",
    "from sklearn.ensemble import HistGradientBoostingClassifier, RandomForestClassifier\n",
    "from sklearn import metrics\n",
    "from sklearn.metrics import PrecisionRecallDisplay\n",
    "\n",
    "from imblearn.pipeline import Pipeline\n",
    "from imblearn.under_sampling import RandomUnderSampler\n",
    "\n",
    "# feature importance\n",
    "import lime\n",
    "from lime import lime_tabular\n",
    "\n",
    "from my_functions import plot_correlations, correlated_variables\n",
    "\n",
    "import joblib\n",
    "import dill\n",
    "from contextlib import contextmanager\n",
    "from time import time\n",
    "import gc"
   ]
  },
  {
   "cell_type": "markdown",
   "id": "c5ca1c3c",
   "metadata": {},
   "source": [
    "# Preprocessing"
   ]
  },
  {
   "cell_type": "markdown",
   "id": "aa1f159e",
   "metadata": {},
   "source": [
    "## Feature engineering"
   ]
  },
  {
   "cell_type": "code",
   "execution_count": 145,
   "id": "fd58cb52",
   "metadata": {
    "ExecuteTime": {
     "end_time": "2022-12-17T16:14:34.787558Z",
     "start_time": "2022-12-17T16:14:34.714362Z"
    }
   },
   "outputs": [],
   "source": [
    "features_to_drop = [\n",
    "    # application\n",
    "    'NAME_TYPE_SUITE', 'REGION_POPULATION_RELATIVE', 'DAYS_REGISTRATION', 'DAYS_ID_PUBLISH', 'FLAG_MOBIL',\n",
    "    'FLAG_EMP_PHONE', 'FLAG_WORK_PHONE', 'FLAG_CONT_MOBILE', 'FLAG_PHONE', 'FLAG_EMAIL', 'OCCUPATION_TYPE',\n",
    "    'WEEKDAY_APPR_PROCESS_START', 'HOUR_APPR_PROCESS_START', 'REG_REGION_NOT_LIVE_REGION'\n",
    "    'REG_REGION_NOT_WORK_REGION', 'LIVE_REGION_NOT_WORK_REGION', 'REG_CITY_NOT_LIVE_CITY',\n",
    "    'REG_CITY_NOT_WORK_CITY', 'LIVE_CITY_NOT_WORK_CITY',\n",
    "    'APARTMENTS_AVG', 'BASEMENTAREA_AVG', 'YEARS_BEGINEXPLUATATION_AVG', 'YEARS_BUILD_AVG', 'COMMONAREA_AVG',\n",
    "    'ELEVATORS_AVG', 'ENTRANCES_AVG', 'FLOORSMAX_AVG', 'FLOORSMIN_AVG', 'LANDAREA_AVG',\n",
    "    'LIVINGAPARTMENTS_AVG', 'LIVINGAREA_AVG', 'NONLIVINGAPARTMENTS_AVG', 'NONLIVINGAREA_AVG',\n",
    "    'APARTMENTS_MODE', 'BASEMENTAREA_MODE', 'YEARS_BEGINEXPLUATATION_MODE', 'YEARS_BUILD_MODE',\n",
    "    'COMMONAREA_MODE', 'ELEVATORS_MODE', 'ENTRANCES_MODE', 'FLOORSMAX_MODE', 'FLOORSMIN_MODE',\n",
    "    'LANDAREA_MODE', 'LIVINGAPARTMENTS_MODE', 'LIVINGAREA_MODE', 'NONLIVINGAPARTMENTS_MODE',\n",
    "    'NONLIVINGAREA_MODE', 'APARTMENTS_MEDI', 'BASEMENTAREA_MEDI', 'YEARS_BEGINEXPLUATATION_MEDI',\n",
    "    'YEARS_BUILD_MEDI', 'COMMONAREA_MEDI', 'ELEVATORS_MEDI', 'ENTRANCES_MEDI', 'FLOORSMIN_MEDI',\n",
    "    'LANDAREA_MEDI', 'LIVINGAPARTMENTS_MEDI', 'LIVINGAREA_MEDI', 'NONLIVINGAPARTMENTS_MEDI',\n",
    "    'NONLIVINGAREA_MEDI', 'FONDKAPREMONT_MODE', 'HOUSETYPE_MODE', 'TOTALAREA_MODE', 'WALLSMATERIAL_MODE',\n",
    "    'EMERGENCYSTATE_MODE', 'OBS_30_CNT_SOCIAL_CIRCLE', 'DEF_30_CNT_SOCIAL_CIRCLE', 'DAYS_LAST_PHONE_CHANGE',\n",
    "    'FLAG_DOCUMENT_2', 'FLAG_DOCUMENT_3', 'FLAG_DOCUMENT_4', 'FLAG_DOCUMENT_5', 'FLAG_DOCUMENT_6',\n",
    "    'FLAG_DOCUMENT_7', 'FLAG_DOCUMENT_8', 'FLAG_DOCUMENT_9', 'FLAG_DOCUMENT_10', 'FLAG_DOCUMENT_11',\n",
    "    'FLAG_DOCUMENT_12', 'FLAG_DOCUMENT_13', 'FLAG_DOCUMENT_14', 'FLAG_DOCUMENT_15', 'FLAG_DOCUMENT_16',\n",
    "    'FLAG_DOCUMENT_17', 'FLAG_DOCUMENT_18', 'FLAG_DOCUMENT_19', 'FLAG_DOCUMENT_20', 'FLAG_DOCUMENT_21',\n",
    "    'AMT_REQ_CREDIT_BUREAU_HOUR', 'AMT_REQ_CREDIT_BUREAU_DAY', 'AMT_REQ_CREDIT_BUREAU_WEEK',\n",
    "    'AMT_REQ_CREDIT_BUREAU_MON', 'AMT_REQ_CREDIT_BUREAU_YEAR',\n",
    "    # bureau\n",
    "    'DAYS_CREDIT_UPDATE',\n",
    "    # credit_card_balance\n",
    "    'CNT_DRAWINGS_ATM_CURRENT', 'CNT_DRAWINGS_CURRENT', 'CNT_DRAWINGS_OTHER_CURRENT',\n",
    "    'CNT_DRAWINGS_POS_CURRENT',\n",
    "    # previous_application\n",
    "    'WEEKDAY_APPR_PROCESS_START', 'HOUR_APPR_PROCESS_START', 'DAYS_DECISION', 'NAME_PAYMENT_TYPE',\n",
    "    'NAME_TYPE_SUITE', 'NAME_CLIENT_TYPE', 'CHANNEL_TYPE',\n",
    "]\n",
    "\n",
    "#features_to_drop = []\n",
    "\n",
    "path_data = '/Users/gabriel/Documents/gabriel/Documents/Formation OC Data Scientist\\\n",
    "/Projet 7 Implementez un modele de scoring/data/'\n",
    "\n",
    "@contextmanager\n",
    "def timer(title):\n",
    "    t0 = time()\n",
    "    yield\n",
    "    print(\"{} - done in {:.0f}s\".format(title, time() - t0))\n",
    "\n",
    "# One-hot encoding for categorical columns with get_dummies\n",
    "def one_hot_encoder(df, nan_as_category=True):\n",
    "    #df = df.copy()  # pour ne pas altérer le df de base\n",
    "    original_columns = list(df.columns)\n",
    "    categorical_columns = [col for col in df.columns if df[col].dtype == 'object']\n",
    "    df = pd.get_dummies(df, columns= categorical_columns, dummy_na=nan_as_category)\n",
    "    new_columns = [col for col in df.columns if col not in original_columns]\n",
    "    return df, new_columns\n",
    "\n",
    "# Binary encoder\n",
    "def bin_encoder(df):\n",
    "    code = {'F':0,\n",
    "            'M':1,\n",
    "            'N':0,\n",
    "            'Y':1}\n",
    "    \n",
    "    for col in df.select_dtypes('object').columns:\n",
    "        df[col] = df[col].map(code)\n",
    "        \n",
    "    return df\n",
    "\n",
    "\n",
    "## application\n",
    "\n",
    "# preprocessing application_train.csv\n",
    "def application(num_rows=None, nan_as_category=False):\n",
    "    # Read data and merge\n",
    "    df = pd.read_csv(path_data+'application_train.csv', nrows= num_rows)\n",
    "    print(\"Train samples: {}\".format(len(df)))\n",
    "\n",
    "    # Optional: Remove 4 applications with XNA CODE_GENDER (train set)\n",
    "    df = df[df['CODE_GENDER'] != 'XNA']\n",
    "    \n",
    "    # drop columns\n",
    "    df = df[[col for col in df.columns if col not in features_to_drop]]\n",
    "    \n",
    "    # Categorical features with Binary encode (0 or 1; two categories)\n",
    "    bin_features = ['CODE_GENDER', 'FLAG_OWN_CAR', 'FLAG_OWN_REALTY']\n",
    "    df[bin_features] = bin_encoder(df[bin_features])\n",
    "    \n",
    "    # Categorical features with One-Hot encode\n",
    "    df, cat_cols = one_hot_encoder(df, nan_as_category)\n",
    "    \n",
    "    # NaN values for DAYS_EMPLOYED: 365.243 -> nan\n",
    "    df['DAYS_EMPLOYED'].replace(365243, np.nan, inplace= True)\n",
    "    # Some simple new features (percentages)\n",
    "    df['DAYS_EMPLOYED_PERC'] = df['DAYS_EMPLOYED'] / df['DAYS_BIRTH']\n",
    "    df['INCOME_CREDIT_PERC'] = df['AMT_INCOME_TOTAL'] / df['AMT_CREDIT']\n",
    "    df['INCOME_PER_PERSON'] = df['AMT_INCOME_TOTAL'] / df['CNT_FAM_MEMBERS']\n",
    "    df['ANNUITY_INCOME_PERC'] = df['AMT_ANNUITY'] / df['AMT_INCOME_TOTAL']\n",
    "    df['PAYMENT_RATE'] = df['AMT_ANNUITY'] / df['AMT_CREDIT']\n",
    "    \n",
    "    return df\n",
    "\n",
    "\n",
    "## bureau & bureau_balance\n",
    "\n",
    "# Preprocess bureau.csv and bureau_balance.csv\n",
    "def bureau_and_balance(num_rows=None, nan_as_category=True):\n",
    "    bureau = pd.read_csv(path_data+'bureau.csv', nrows=num_rows)\n",
    "    bb = pd.read_csv(path_data+'bureau_balance.csv', nrows=num_rows)\n",
    "    \n",
    "    # drop columns\n",
    "    bureau = bureau[[col for col in bureau.columns if col not in features_to_drop]]\n",
    "    bb = bb[[col for col in bb.columns if col not in features_to_drop]]\n",
    "    \n",
    "    bureau, bureau_cat = one_hot_encoder(bureau, nan_as_category)\n",
    "    bb, bb_cat = one_hot_encoder(bb, nan_as_category)\n",
    "    \n",
    "    # Bureau balance: Perform aggregations and merge with bureau.csv\n",
    "    bb_aggregations = {'MONTHS_BALANCE': ['min', 'max', 'size']}\n",
    "    for col in bb_cat:\n",
    "        bb_aggregations[col] = ['mean']\n",
    "    bb_agg = bb.groupby('SK_ID_BUREAU').agg(bb_aggregations)\n",
    "    bb_agg.columns = pd.Index([e[0] + \"_\" + e[1].upper() for e in bb_agg.columns.tolist()])\n",
    "    bureau = bureau.join(bb_agg, how='left', on='SK_ID_BUREAU')\n",
    "    bureau.drop(['SK_ID_BUREAU'], axis=1, inplace= True)\n",
    "    del bb, bb_agg\n",
    "    gc.collect()  # pour libérer la mémoire allouée aux variables supprimées\n",
    "    \n",
    "    # Bureau and bureau_balance numeric features\n",
    "    num_aggregations = {\n",
    "        'DAYS_CREDIT': ['min', 'max', 'mean', 'var'],\n",
    "        'DAYS_CREDIT_ENDDATE': ['min', 'max', 'mean'],\n",
    "        #'DAYS_CREDIT_UPDATE': ['mean'],\n",
    "        'CREDIT_DAY_OVERDUE': ['max', 'mean'],\n",
    "        'AMT_CREDIT_MAX_OVERDUE': ['mean'],\n",
    "        'AMT_CREDIT_SUM': ['max', 'mean', 'sum'],\n",
    "        'AMT_CREDIT_SUM_DEBT': ['max', 'mean', 'sum'],\n",
    "        'AMT_CREDIT_SUM_OVERDUE': ['mean'],\n",
    "        'AMT_CREDIT_SUM_LIMIT': ['mean', 'sum'],\n",
    "        'AMT_ANNUITY': ['max', 'mean'],\n",
    "        'CNT_CREDIT_PROLONG': ['sum'],\n",
    "        'MONTHS_BALANCE_MIN': ['min'],\n",
    "        'MONTHS_BALANCE_MAX': ['max'],\n",
    "        'MONTHS_BALANCE_SIZE': ['mean', 'sum']\n",
    "    }\n",
    "    \n",
    "    # Bureau and bureau_balance categorical features\n",
    "    cat_aggregations = {}\n",
    "    for cat in bureau_cat: cat_aggregations[cat] = ['mean']\n",
    "    for cat in bb_cat: cat_aggregations[cat + \"_MEAN\"] = ['mean']\n",
    "    \n",
    "    bureau_agg = bureau.groupby('SK_ID_CURR').agg({**num_aggregations, **cat_aggregations})\n",
    "    bureau_agg.columns = pd.Index(['BURO_' + e[0] + \"_\" + e[1].upper() for e in bureau_agg.columns.tolist()])\n",
    "    \n",
    "    # Bureau: Active credits - using only numerical aggregations\n",
    "    active = bureau[bureau['CREDIT_ACTIVE_Active'] == 1]\n",
    "    active_agg = active.groupby('SK_ID_CURR').agg(num_aggregations)\n",
    "    active_agg.columns = pd.Index(['ACTIVE_' + e[0] + \"_\" + e[1].upper()\n",
    "                                    for e in active_agg.columns.tolist()])\n",
    "    bureau_agg = bureau_agg.join(active_agg, how='left', on='SK_ID_CURR')\n",
    "    del active, active_agg\n",
    "    gc.collect()\n",
    "    \n",
    "    # Bureau: Closed credits - using only numerical aggregations\n",
    "    closed = bureau[bureau['CREDIT_ACTIVE_Closed'] == 1]\n",
    "    closed_agg = closed.groupby('SK_ID_CURR').agg(num_aggregations)\n",
    "    closed_agg.columns = pd.Index(['CLOSED_' + e[0] + \"_\" + e[1].upper()\n",
    "                                   for e in closed_agg.columns.tolist()])\n",
    "    bureau_agg = bureau_agg.join(closed_agg, how='left', on='SK_ID_CURR')\n",
    "    del closed, closed_agg, bureau\n",
    "    gc.collect()\n",
    "    \n",
    "    return bureau_agg\n",
    "\n",
    "\n",
    "## previous_applications\n",
    "\n",
    "# Preprocess previous_applications.csv\n",
    "def previous_applications(num_rows=None, nan_as_category=True):\n",
    "    prev = pd.read_csv(path_data+'previous_application.csv', nrows=num_rows)\n",
    "    \n",
    "    # drop columns\n",
    "    prev = prev[[col for col in prev.columns if col not in features_to_drop]]\n",
    "    \n",
    "    prev, cat_cols = one_hot_encoder(prev, nan_as_category=True)\n",
    "    \n",
    "    # Days 365.243 values -> nan\n",
    "    cols = ['DAYS_FIRST_DRAWING', 'DAYS_FIRST_DUE', 'DAYS_LAST_DUE_1ST_VERSION',\n",
    "            'DAYS_LAST_DUE', 'DAYS_TERMINATION']\n",
    "    for col in cols:\n",
    "        prev[col].replace(365243, np.nan, inplace=True)\n",
    "        \n",
    "    # Add feature: value ask / value received percentage\n",
    "    prev['APP_CREDIT_PERC'] = prev['AMT_APPLICATION'] / prev['AMT_CREDIT']\n",
    "    \n",
    "    # Previous applications numeric features\n",
    "    num_aggregations = {\n",
    "        'AMT_ANNUITY': ['min', 'max', 'mean'],\n",
    "        'AMT_APPLICATION': ['min', 'max', 'mean'],\n",
    "        'AMT_CREDIT': ['min', 'max', 'mean'],\n",
    "        'APP_CREDIT_PERC': ['min', 'max', 'mean', 'var'],\n",
    "        'AMT_DOWN_PAYMENT': ['min', 'max', 'mean'],\n",
    "        'AMT_GOODS_PRICE': ['min', 'max', 'mean'],\n",
    "        #'HOUR_APPR_PROCESS_START': ['min', 'max', 'mean'],\n",
    "        'RATE_DOWN_PAYMENT': ['min', 'max', 'mean'],\n",
    "        #'DAYS_DECISION': ['min', 'max', 'mean'],\n",
    "        'CNT_PAYMENT': ['mean', 'sum'],\n",
    "    }\n",
    "    \n",
    "    # Previous applications categorical features\n",
    "    cat_aggregations = {}\n",
    "    for cat in cat_cols:\n",
    "        cat_aggregations[cat] = ['mean']\n",
    "    \n",
    "    prev_agg = prev.groupby('SK_ID_CURR').agg({**num_aggregations, **cat_aggregations})\n",
    "    prev_agg.columns = pd.Index(['PREV_' + e[0] + \"_\" + e[1].upper()\n",
    "                                 for e in prev_agg.columns.tolist()])\n",
    "    \n",
    "    # Previous Applications: Approved Applications - only numerical features\n",
    "    approved = prev[prev['NAME_CONTRACT_STATUS_Approved'] == 1]\n",
    "    approved_agg = approved.groupby('SK_ID_CURR').agg(num_aggregations)\n",
    "    approved_agg.columns = pd.Index(['APPROVED_' + e[0] + \"_\" + e[1].upper()\n",
    "                                     for e in approved_agg.columns.tolist()])\n",
    "    prev_agg = prev_agg.join(approved_agg, how='left', on='SK_ID_CURR')\n",
    "    \n",
    "    # Previous Applications: Refused Applications - only numerical features\n",
    "    refused = prev[prev['NAME_CONTRACT_STATUS_Refused'] == 1]\n",
    "    refused_agg = refused.groupby('SK_ID_CURR').agg(num_aggregations)\n",
    "    refused_agg.columns = pd.Index(['REFUSED_' + e[0] + \"_\" + e[1].upper()\n",
    "                                    for e in refused_agg.columns.tolist()])\n",
    "    prev_agg = prev_agg.join(refused_agg, how='left', on='SK_ID_CURR')\n",
    "    \n",
    "    del refused, refused_agg, approved, approved_agg, prev\n",
    "    gc.collect()\n",
    "    \n",
    "    return prev_agg\n",
    "\n",
    "\n",
    "## POS_CASH_balance\n",
    "\n",
    "# preprocessing POS_CASH_balance.csv\n",
    "# Preprocess POS_CASH_balance.csv\n",
    "def pos_cash(num_rows=None, nan_as_category=True):\n",
    "    pos = pd.read_csv(path_data+'POS_CASH_balance.csv', nrows=num_rows)\n",
    "    \n",
    "    # drop columns\n",
    "    pos = pos[[col for col in pos.columns if col not in features_to_drop]]\n",
    "    \n",
    "    pos, cat_cols = one_hot_encoder(pos, nan_as_category=True)\n",
    "    \n",
    "    # Features\n",
    "    aggregations = {\n",
    "        'MONTHS_BALANCE': ['max', 'mean', 'size'],\n",
    "        'SK_DPD': ['max', 'mean'],\n",
    "        'SK_DPD_DEF': ['max', 'mean']\n",
    "    }\n",
    "    for cat in cat_cols:\n",
    "        aggregations[cat] = ['mean']\n",
    "    \n",
    "    pos_agg = pos.groupby('SK_ID_CURR').agg(aggregations)\n",
    "    pos_agg.columns = pd.Index(['POS_' + e[0] + \"_\" + e[1].upper() for e in pos_agg.columns.tolist()])\n",
    "    \n",
    "    # Count pos cash accounts\n",
    "    pos_agg['POS_COUNT'] = pos.groupby('SK_ID_CURR').size()\n",
    "    \n",
    "    del pos\n",
    "    gc.collect()\n",
    "    \n",
    "    return pos_agg\n",
    "\n",
    "\n",
    "## installments_payments\n",
    "\n",
    "# Preprocess installments_payments.csv\n",
    "def installments_payments(num_rows=None, nan_as_category=True):\n",
    "    ins = pd.read_csv(path_data+'installments_payments.csv', nrows=num_rows)\n",
    "    \n",
    "    # drop columns\n",
    "    ins = ins[[col for col in ins.columns if col not in features_to_drop]]\n",
    "    \n",
    "    ins, cat_cols = one_hot_encoder(ins, nan_as_category= True)\n",
    "    \n",
    "    # Percentage and difference paid in each installment (amount paid and installment value)\n",
    "    ins['PAYMENT_PERC'] = ins['AMT_PAYMENT'] / ins['AMT_INSTALMENT']\n",
    "    ins['PAYMENT_DIFF'] = ins['AMT_INSTALMENT'] - ins['AMT_PAYMENT']\n",
    "    \n",
    "    # Days past due and days before due (no negative values)\n",
    "    ins['DPD'] = ins['DAYS_ENTRY_PAYMENT'] - ins['DAYS_INSTALMENT']\n",
    "    ins['DBD'] = -ins['DPD']\n",
    "    ins['DPD'] = ins['DPD'].apply(lambda x: x if x > 0 else 0)\n",
    "    ins['DBD'] = ins['DBD'].apply(lambda x: x if x > 0 else 0)\n",
    "    \n",
    "    # Features: Perform aggregations\n",
    "    aggregations = {\n",
    "        'NUM_INSTALMENT_VERSION': ['nunique'],\n",
    "        'DPD': ['max', 'mean', 'sum'],\n",
    "        'DBD': ['max', 'mean', 'sum'],\n",
    "        'PAYMENT_PERC': ['max', 'mean', 'sum', 'var'],\n",
    "        'PAYMENT_DIFF': ['max', 'mean', 'sum', 'var'],\n",
    "        'AMT_INSTALMENT': ['max', 'mean', 'sum'],\n",
    "        'AMT_PAYMENT': ['min', 'max', 'mean', 'sum'],\n",
    "        'DAYS_ENTRY_PAYMENT': ['max', 'mean', 'sum']\n",
    "    }\n",
    "    for cat in cat_cols:\n",
    "        aggregations[cat] = ['mean']\n",
    "        \n",
    "    ins_agg = ins.groupby('SK_ID_CURR').agg(aggregations)\n",
    "    ins_agg.columns = pd.Index(['INSTAL_' + e[0] + \"_\" + e[1].upper() for e in ins_agg.columns.tolist()])\n",
    "    # Count installments accounts\n",
    "    ins_agg['INSTAL_COUNT'] = ins.groupby('SK_ID_CURR').size()\n",
    "    \n",
    "    del ins\n",
    "    gc.collect()\n",
    "    \n",
    "    return ins_agg\n",
    "\n",
    "\n",
    "## credit_card_balance\n",
    "\n",
    "# preprocessing credit_card_balance.csv\n",
    "# Preprocess credit_card_balance.csv\n",
    "def credit_card_balance(num_rows=None, nan_as_category=True):\n",
    "    cc = pd.read_csv(path_data+'credit_card_balance.csv', nrows=num_rows)\n",
    "    \n",
    "    # drop columns\n",
    "    cc = cc[[col for col in cc.columns if col not in features_to_drop]]\n",
    "    \n",
    "    cc, cat_cols = one_hot_encoder(cc, nan_as_category= True)\n",
    "    \n",
    "    # General aggregations\n",
    "    cc.drop(['SK_ID_PREV'], axis= 1, inplace=True)\n",
    "    cc_agg = cc.groupby('SK_ID_CURR').agg(['min', 'max', 'mean', 'sum', 'var'])\n",
    "    cc_agg.columns = pd.Index(['CC_' + e[0] + \"_\" + e[1].upper() for e in cc_agg.columns.tolist()])\n",
    "    # Count credit card lines\n",
    "    cc_agg['CC_COUNT'] = cc.groupby('SK_ID_CURR').size()\n",
    "    \n",
    "    del cc\n",
    "    gc.collect()\n",
    "    \n",
    "    return cc_agg\n",
    "\n",
    "\n",
    "## Main\n",
    "\n",
    "def data_preparation(debug=False):\n",
    "    num_rows = 10_000 if debug else None\n",
    "    df = application(num_rows)\n",
    "    with timer(\"Process bureau and bureau_balance\"):\n",
    "        bureau = bureau_and_balance(num_rows)\n",
    "        print(\"Bureau df shape:\", bureau.shape)\n",
    "        df = df.join(bureau, how='left', on='SK_ID_CURR')\n",
    "        del bureau\n",
    "        gc.collect()\n",
    "    with timer(\"Process previous_applications\"):\n",
    "        prev = previous_applications(num_rows)\n",
    "        print(\"Previous applications df shape:\", prev.shape)\n",
    "        df = df.join(prev, how='left', on='SK_ID_CURR')\n",
    "        del prev\n",
    "        gc.collect()\n",
    "    with timer(\"Process POS-CASH balance\"):\n",
    "        pos = pos_cash(num_rows)\n",
    "        print(\"Pos-cash balance df shape:\", pos.shape)\n",
    "        df = df.join(pos, how='left', on='SK_ID_CURR')\n",
    "        del pos\n",
    "        gc.collect()\n",
    "    with timer(\"Process installments payments\"):\n",
    "        ins = installments_payments(num_rows)\n",
    "        print(\"Installments payments df shape:\", ins.shape)\n",
    "        df = df.join(ins, how='left', on='SK_ID_CURR')\n",
    "        del ins\n",
    "        gc.collect()\n",
    "    with timer(\"Process credit card balance\"):\n",
    "        cc = credit_card_balance(num_rows)\n",
    "        print(\"Credit card balance df shape:\", cc.shape)\n",
    "        df = df.join(cc, how='left', on='SK_ID_CURR')\n",
    "        del cc\n",
    "        gc.collect()\n",
    "        \n",
    "    df.set_index('SK_ID_CURR', inplace=True)\n",
    "    \n",
    "    return df"
   ]
  },
  {
   "cell_type": "code",
   "execution_count": 146,
   "id": "1cd3685c",
   "metadata": {
    "ExecuteTime": {
     "end_time": "2022-12-17T16:16:05.637853Z",
     "start_time": "2022-12-17T16:14:34.960047Z"
    }
   },
   "outputs": [
    {
     "name": "stdout",
     "output_type": "stream",
     "text": [
      "Train samples: 307511\n",
      "Bureau df shape: (305811, 113)\n",
      "Process bureau and bureau_balance - done in 21s\n",
      "Previous applications df shape: (338857, 196)\n",
      "Process previous_applications - done in 18s\n",
      "Pos-cash balance df shape: (337252, 18)\n",
      "Process POS-CASH balance - done in 10s\n",
      "Installments payments df shape: (339587, 26)\n",
      "Process installments payments - done in 25s\n",
      "Credit card balance df shape: (103558, 121)\n",
      "Process credit card balance - done in 14s\n"
     ]
    }
   ],
   "source": [
    "df = data_preparation(debug=False)"
   ]
  },
  {
   "cell_type": "code",
   "execution_count": 4,
   "id": "f14bfb00",
   "metadata": {
    "ExecuteTime": {
     "end_time": "2022-12-17T10:57:14.216912Z",
     "start_time": "2022-12-17T10:57:14.206224Z"
    }
   },
   "outputs": [
    {
     "data": {
      "text/plain": [
       "(307507, 588)"
      ]
     },
     "execution_count": 4,
     "metadata": {},
     "output_type": "execute_result"
    }
   ],
   "source": [
    "df.shape"
   ]
  },
  {
   "cell_type": "code",
   "execution_count": 5,
   "id": "0d6d5010",
   "metadata": {
    "ExecuteTime": {
     "end_time": "2022-12-17T10:57:18.057900Z",
     "start_time": "2022-12-17T10:57:14.219083Z"
    }
   },
   "outputs": [
    {
     "data": {
      "text/plain": [
       "(307507, 561)"
      ]
     },
     "execution_count": 5,
     "metadata": {},
     "output_type": "execute_result"
    }
   ],
   "source": [
    "# Elimination des constantes\n",
    "\n",
    "cst = df.nunique()\n",
    "cst = cst[cst == 1]\n",
    "\n",
    "df = df[[col for col in df.columns if col not in cst.index]]\n",
    "df.shape"
   ]
  },
  {
   "cell_type": "code",
   "execution_count": 6,
   "id": "64ea68d7",
   "metadata": {
    "ExecuteTime": {
     "end_time": "2022-12-17T10:57:18.087453Z",
     "start_time": "2022-12-17T10:57:18.059845Z"
    }
   },
   "outputs": [
    {
     "data": {
      "text/html": [
       "<div>\n",
       "<style scoped>\n",
       "    .dataframe tbody tr th:only-of-type {\n",
       "        vertical-align: middle;\n",
       "    }\n",
       "\n",
       "    .dataframe tbody tr th {\n",
       "        vertical-align: top;\n",
       "    }\n",
       "\n",
       "    .dataframe thead th {\n",
       "        text-align: right;\n",
       "    }\n",
       "</style>\n",
       "<table border=\"1\" class=\"dataframe\">\n",
       "  <thead>\n",
       "    <tr style=\"text-align: right;\">\n",
       "      <th></th>\n",
       "      <th>TARGET</th>\n",
       "      <th>CODE_GENDER</th>\n",
       "      <th>FLAG_OWN_CAR</th>\n",
       "      <th>FLAG_OWN_REALTY</th>\n",
       "      <th>CNT_CHILDREN</th>\n",
       "      <th>AMT_INCOME_TOTAL</th>\n",
       "      <th>AMT_CREDIT</th>\n",
       "      <th>AMT_ANNUITY</th>\n",
       "      <th>AMT_GOODS_PRICE</th>\n",
       "      <th>DAYS_BIRTH</th>\n",
       "      <th>...</th>\n",
       "      <th>CC_NAME_CONTRACT_STATUS_Sent proposal_MAX</th>\n",
       "      <th>CC_NAME_CONTRACT_STATUS_Sent proposal_MEAN</th>\n",
       "      <th>CC_NAME_CONTRACT_STATUS_Sent proposal_SUM</th>\n",
       "      <th>CC_NAME_CONTRACT_STATUS_Sent proposal_VAR</th>\n",
       "      <th>CC_NAME_CONTRACT_STATUS_Signed_MIN</th>\n",
       "      <th>CC_NAME_CONTRACT_STATUS_Signed_MAX</th>\n",
       "      <th>CC_NAME_CONTRACT_STATUS_Signed_MEAN</th>\n",
       "      <th>CC_NAME_CONTRACT_STATUS_Signed_SUM</th>\n",
       "      <th>CC_NAME_CONTRACT_STATUS_Signed_VAR</th>\n",
       "      <th>CC_COUNT</th>\n",
       "    </tr>\n",
       "    <tr>\n",
       "      <th>SK_ID_CURR</th>\n",
       "      <th></th>\n",
       "      <th></th>\n",
       "      <th></th>\n",
       "      <th></th>\n",
       "      <th></th>\n",
       "      <th></th>\n",
       "      <th></th>\n",
       "      <th></th>\n",
       "      <th></th>\n",
       "      <th></th>\n",
       "      <th></th>\n",
       "      <th></th>\n",
       "      <th></th>\n",
       "      <th></th>\n",
       "      <th></th>\n",
       "      <th></th>\n",
       "      <th></th>\n",
       "      <th></th>\n",
       "      <th></th>\n",
       "      <th></th>\n",
       "      <th></th>\n",
       "    </tr>\n",
       "  </thead>\n",
       "  <tbody>\n",
       "    <tr>\n",
       "      <th>100002</th>\n",
       "      <td>1</td>\n",
       "      <td>1</td>\n",
       "      <td>0</td>\n",
       "      <td>1</td>\n",
       "      <td>0</td>\n",
       "      <td>202500.0</td>\n",
       "      <td>406597.5</td>\n",
       "      <td>24700.5</td>\n",
       "      <td>351000.0</td>\n",
       "      <td>-9461</td>\n",
       "      <td>...</td>\n",
       "      <td>NaN</td>\n",
       "      <td>NaN</td>\n",
       "      <td>NaN</td>\n",
       "      <td>NaN</td>\n",
       "      <td>NaN</td>\n",
       "      <td>NaN</td>\n",
       "      <td>NaN</td>\n",
       "      <td>NaN</td>\n",
       "      <td>NaN</td>\n",
       "      <td>NaN</td>\n",
       "    </tr>\n",
       "    <tr>\n",
       "      <th>100003</th>\n",
       "      <td>0</td>\n",
       "      <td>0</td>\n",
       "      <td>0</td>\n",
       "      <td>0</td>\n",
       "      <td>0</td>\n",
       "      <td>270000.0</td>\n",
       "      <td>1293502.5</td>\n",
       "      <td>35698.5</td>\n",
       "      <td>1129500.0</td>\n",
       "      <td>-16765</td>\n",
       "      <td>...</td>\n",
       "      <td>NaN</td>\n",
       "      <td>NaN</td>\n",
       "      <td>NaN</td>\n",
       "      <td>NaN</td>\n",
       "      <td>NaN</td>\n",
       "      <td>NaN</td>\n",
       "      <td>NaN</td>\n",
       "      <td>NaN</td>\n",
       "      <td>NaN</td>\n",
       "      <td>NaN</td>\n",
       "    </tr>\n",
       "    <tr>\n",
       "      <th>100004</th>\n",
       "      <td>0</td>\n",
       "      <td>1</td>\n",
       "      <td>1</td>\n",
       "      <td>1</td>\n",
       "      <td>0</td>\n",
       "      <td>67500.0</td>\n",
       "      <td>135000.0</td>\n",
       "      <td>6750.0</td>\n",
       "      <td>135000.0</td>\n",
       "      <td>-19046</td>\n",
       "      <td>...</td>\n",
       "      <td>NaN</td>\n",
       "      <td>NaN</td>\n",
       "      <td>NaN</td>\n",
       "      <td>NaN</td>\n",
       "      <td>NaN</td>\n",
       "      <td>NaN</td>\n",
       "      <td>NaN</td>\n",
       "      <td>NaN</td>\n",
       "      <td>NaN</td>\n",
       "      <td>NaN</td>\n",
       "    </tr>\n",
       "    <tr>\n",
       "      <th>100006</th>\n",
       "      <td>0</td>\n",
       "      <td>0</td>\n",
       "      <td>0</td>\n",
       "      <td>1</td>\n",
       "      <td>0</td>\n",
       "      <td>135000.0</td>\n",
       "      <td>312682.5</td>\n",
       "      <td>29686.5</td>\n",
       "      <td>297000.0</td>\n",
       "      <td>-19005</td>\n",
       "      <td>...</td>\n",
       "      <td>0.0</td>\n",
       "      <td>0.0</td>\n",
       "      <td>0.0</td>\n",
       "      <td>0.0</td>\n",
       "      <td>0.0</td>\n",
       "      <td>0.0</td>\n",
       "      <td>0.0</td>\n",
       "      <td>0.0</td>\n",
       "      <td>0.0</td>\n",
       "      <td>6.0</td>\n",
       "    </tr>\n",
       "    <tr>\n",
       "      <th>100007</th>\n",
       "      <td>0</td>\n",
       "      <td>1</td>\n",
       "      <td>0</td>\n",
       "      <td>1</td>\n",
       "      <td>0</td>\n",
       "      <td>121500.0</td>\n",
       "      <td>513000.0</td>\n",
       "      <td>21865.5</td>\n",
       "      <td>513000.0</td>\n",
       "      <td>-19932</td>\n",
       "      <td>...</td>\n",
       "      <td>NaN</td>\n",
       "      <td>NaN</td>\n",
       "      <td>NaN</td>\n",
       "      <td>NaN</td>\n",
       "      <td>NaN</td>\n",
       "      <td>NaN</td>\n",
       "      <td>NaN</td>\n",
       "      <td>NaN</td>\n",
       "      <td>NaN</td>\n",
       "      <td>NaN</td>\n",
       "    </tr>\n",
       "  </tbody>\n",
       "</table>\n",
       "<p>5 rows × 561 columns</p>\n",
       "</div>"
      ],
      "text/plain": [
       "            TARGET  CODE_GENDER  FLAG_OWN_CAR  FLAG_OWN_REALTY  CNT_CHILDREN  \\\n",
       "SK_ID_CURR                                                                     \n",
       "100002           1            1             0                1             0   \n",
       "100003           0            0             0                0             0   \n",
       "100004           0            1             1                1             0   \n",
       "100006           0            0             0                1             0   \n",
       "100007           0            1             0                1             0   \n",
       "\n",
       "            AMT_INCOME_TOTAL  AMT_CREDIT  AMT_ANNUITY  AMT_GOODS_PRICE  \\\n",
       "SK_ID_CURR                                                               \n",
       "100002              202500.0    406597.5      24700.5         351000.0   \n",
       "100003              270000.0   1293502.5      35698.5        1129500.0   \n",
       "100004               67500.0    135000.0       6750.0         135000.0   \n",
       "100006              135000.0    312682.5      29686.5         297000.0   \n",
       "100007              121500.0    513000.0      21865.5         513000.0   \n",
       "\n",
       "            DAYS_BIRTH  ...  CC_NAME_CONTRACT_STATUS_Sent proposal_MAX  \\\n",
       "SK_ID_CURR              ...                                              \n",
       "100002           -9461  ...                                        NaN   \n",
       "100003          -16765  ...                                        NaN   \n",
       "100004          -19046  ...                                        NaN   \n",
       "100006          -19005  ...                                        0.0   \n",
       "100007          -19932  ...                                        NaN   \n",
       "\n",
       "            CC_NAME_CONTRACT_STATUS_Sent proposal_MEAN  \\\n",
       "SK_ID_CURR                                               \n",
       "100002                                             NaN   \n",
       "100003                                             NaN   \n",
       "100004                                             NaN   \n",
       "100006                                             0.0   \n",
       "100007                                             NaN   \n",
       "\n",
       "            CC_NAME_CONTRACT_STATUS_Sent proposal_SUM  \\\n",
       "SK_ID_CURR                                              \n",
       "100002                                            NaN   \n",
       "100003                                            NaN   \n",
       "100004                                            NaN   \n",
       "100006                                            0.0   \n",
       "100007                                            NaN   \n",
       "\n",
       "            CC_NAME_CONTRACT_STATUS_Sent proposal_VAR  \\\n",
       "SK_ID_CURR                                              \n",
       "100002                                            NaN   \n",
       "100003                                            NaN   \n",
       "100004                                            NaN   \n",
       "100006                                            0.0   \n",
       "100007                                            NaN   \n",
       "\n",
       "            CC_NAME_CONTRACT_STATUS_Signed_MIN  \\\n",
       "SK_ID_CURR                                       \n",
       "100002                                     NaN   \n",
       "100003                                     NaN   \n",
       "100004                                     NaN   \n",
       "100006                                     0.0   \n",
       "100007                                     NaN   \n",
       "\n",
       "            CC_NAME_CONTRACT_STATUS_Signed_MAX  \\\n",
       "SK_ID_CURR                                       \n",
       "100002                                     NaN   \n",
       "100003                                     NaN   \n",
       "100004                                     NaN   \n",
       "100006                                     0.0   \n",
       "100007                                     NaN   \n",
       "\n",
       "            CC_NAME_CONTRACT_STATUS_Signed_MEAN  \\\n",
       "SK_ID_CURR                                        \n",
       "100002                                      NaN   \n",
       "100003                                      NaN   \n",
       "100004                                      NaN   \n",
       "100006                                      0.0   \n",
       "100007                                      NaN   \n",
       "\n",
       "            CC_NAME_CONTRACT_STATUS_Signed_SUM  \\\n",
       "SK_ID_CURR                                       \n",
       "100002                                     NaN   \n",
       "100003                                     NaN   \n",
       "100004                                     NaN   \n",
       "100006                                     0.0   \n",
       "100007                                     NaN   \n",
       "\n",
       "            CC_NAME_CONTRACT_STATUS_Signed_VAR  CC_COUNT  \n",
       "SK_ID_CURR                                                \n",
       "100002                                     NaN       NaN  \n",
       "100003                                     NaN       NaN  \n",
       "100004                                     NaN       NaN  \n",
       "100006                                     0.0       6.0  \n",
       "100007                                     NaN       NaN  \n",
       "\n",
       "[5 rows x 561 columns]"
      ]
     },
     "execution_count": 6,
     "metadata": {},
     "output_type": "execute_result"
    }
   ],
   "source": [
    "df.head()"
   ]
  },
  {
   "cell_type": "markdown",
   "id": "7a8de8cf",
   "metadata": {},
   "source": [
    "## Séparation X et y"
   ]
  },
  {
   "cell_type": "code",
   "execution_count": 7,
   "id": "b796d474",
   "metadata": {
    "ExecuteTime": {
     "end_time": "2022-12-17T10:57:18.779416Z",
     "start_time": "2022-12-17T10:57:18.091181Z"
    }
   },
   "outputs": [
    {
     "name": "stdout",
     "output_type": "stream",
     "text": [
      "X shape: (307507, 560)\n",
      "y shape: (307507,)\n"
     ]
    }
   ],
   "source": [
    "X = df.drop(columns=['TARGET'])\n",
    "y = df['TARGET']\n",
    "print('X shape:', X.shape)\n",
    "print('y shape:', y.shape)"
   ]
  },
  {
   "cell_type": "markdown",
   "id": "a0252d1a",
   "metadata": {},
   "source": [
    "## NaN"
   ]
  },
  {
   "cell_type": "markdown",
   "id": "1eefabe9",
   "metadata": {},
   "source": [
    "### Observations"
   ]
  },
  {
   "cell_type": "code",
   "execution_count": 8,
   "id": "a955de76",
   "metadata": {
    "ExecuteTime": {
     "end_time": "2022-12-17T10:57:19.104811Z",
     "start_time": "2022-12-17T10:57:18.782486Z"
    }
   },
   "outputs": [
    {
     "data": {
      "text/plain": [
       "45859143"
      ]
     },
     "execution_count": 8,
     "metadata": {},
     "output_type": "execute_result"
    }
   ],
   "source": [
    "X.isna().sum().sum()"
   ]
  },
  {
   "cell_type": "code",
   "execution_count": 9,
   "id": "a467b197",
   "metadata": {
    "ExecuteTime": {
     "end_time": "2022-12-17T10:57:23.311008Z",
     "start_time": "2022-12-17T10:57:19.106753Z"
    }
   },
   "outputs": [
    {
     "data": {
      "text/plain": [
       "45859163"
      ]
     },
     "execution_count": 9,
     "metadata": {},
     "output_type": "execute_result"
    }
   ],
   "source": [
    "X = X.replace([np.inf, -np.inf], np.nan)\n",
    "X.isna().sum().sum()"
   ]
  },
  {
   "cell_type": "code",
   "execution_count": 10,
   "id": "f4614109",
   "metadata": {
    "ExecuteTime": {
     "end_time": "2022-12-17T10:57:23.576367Z",
     "start_time": "2022-12-17T10:57:23.312664Z"
    }
   },
   "outputs": [
    {
     "data": {
      "text/plain": [
       "(73, 560)"
      ]
     },
     "execution_count": 10,
     "metadata": {},
     "output_type": "execute_result"
    }
   ],
   "source": [
    "X.dropna().shape"
   ]
  },
  {
   "cell_type": "code",
   "execution_count": 11,
   "id": "487f70df",
   "metadata": {
    "ExecuteTime": {
     "end_time": "2022-12-17T10:59:46.593496Z",
     "start_time": "2022-12-17T10:57:23.578350Z"
    }
   },
   "outputs": [
    {
     "data": {
      "image/png": "[encoded data removed]",
      "text/plain": [
       "<Figure size 1152x648 with 1 Axes>"
      ]
     },
     "metadata": {},
     "output_type": "display_data"
    }
   ],
   "source": [
    "plt.figure(figsize=(16,9))\n",
    "sns.heatmap(X.isna(), cbar=False, xticklabels='', yticklabels='')\n",
    "plt.show()"
   ]
  },
  {
   "cell_type": "markdown",
   "id": "b42f10f0",
   "metadata": {},
   "source": [
    "### Suppression de colonnes"
   ]
  },
  {
   "cell_type": "code",
   "execution_count": 12,
   "id": "3789b6f0",
   "metadata": {
    "ExecuteTime": {
     "end_time": "2022-12-17T10:59:48.730180Z",
     "start_time": "2022-12-17T10:59:46.597538Z"
    }
   },
   "outputs": [],
   "source": [
    "# On supprime les colonnes contenant plus de 60% de valeurs manquantes\n",
    "nans = X.isna().mean().sort_values(ascending=False)\n",
    "cols_to_drop = nans[nans>0.6].index"
   ]
  },
  {
   "cell_type": "code",
   "execution_count": 13,
   "id": "11279961",
   "metadata": {
    "ExecuteTime": {
     "end_time": "2022-12-17T10:59:48.737587Z",
     "start_time": "2022-12-17T10:59:48.732731Z"
    }
   },
   "outputs": [
    {
     "data": {
      "text/plain": [
       "159"
      ]
     },
     "execution_count": 13,
     "metadata": {},
     "output_type": "execute_result"
    }
   ],
   "source": [
    "len(cols_to_drop)"
   ]
  },
  {
   "cell_type": "code",
   "execution_count": 14,
   "id": "f91095d4",
   "metadata": {
    "ExecuteTime": {
     "end_time": "2022-12-17T10:59:49.352459Z",
     "start_time": "2022-12-17T10:59:48.739826Z"
    }
   },
   "outputs": [
    {
     "data": {
      "text/plain": [
       "(307507, 401)"
      ]
     },
     "execution_count": 14,
     "metadata": {},
     "output_type": "execute_result"
    }
   ],
   "source": [
    "X = X[[col for col in X.columns if col not in cols_to_drop]]\n",
    "X.shape"
   ]
  },
  {
   "cell_type": "markdown",
   "id": "d76e6db0",
   "metadata": {},
   "source": [
    "## Corrélations"
   ]
  },
  {
   "cell_type": "markdown",
   "id": "bfd99dc5",
   "metadata": {},
   "source": [
    "__On va supprimer les variables corrélées à d'autres à plus de 90%__"
   ]
  },
  {
   "cell_type": "code",
   "execution_count": 15,
   "id": "a622ce48",
   "metadata": {
    "ExecuteTime": {
     "end_time": "2022-12-17T10:59:49.357563Z",
     "start_time": "2022-12-17T10:59:49.355008Z"
    }
   },
   "outputs": [],
   "source": [
    "#X = pd.DataFrame(RobustScaler().fit_transform(X), columns=X.columns)"
   ]
  },
  {
   "cell_type": "code",
   "execution_count": 16,
   "id": "1ce39c36",
   "metadata": {
    "ExecuteTime": {
     "end_time": "2022-12-17T11:01:27.511633Z",
     "start_time": "2022-12-17T10:59:49.360319Z"
    }
   },
   "outputs": [],
   "source": [
    "threshold = 0.9\n",
    "corr_variables = correlated_variables(X, min_corr=threshold)"
   ]
  },
  {
   "cell_type": "code",
   "execution_count": 17,
   "id": "0205c1d4",
   "metadata": {
    "ExecuteTime": {
     "end_time": "2022-12-17T11:01:27.521187Z",
     "start_time": "2022-12-17T11:01:27.516099Z"
    },
    "scrolled": true
   },
   "outputs": [
    {
     "data": {
      "text/plain": [
       "113"
      ]
     },
     "execution_count": 17,
     "metadata": {},
     "output_type": "execute_result"
    }
   ],
   "source": [
    "len(corr_variables)"
   ]
  },
  {
   "cell_type": "code",
   "execution_count": 18,
   "id": "a3017d60",
   "metadata": {
    "ExecuteTime": {
     "end_time": "2022-12-17T11:01:35.922992Z",
     "start_time": "2022-12-17T11:01:27.533951Z"
    }
   },
   "outputs": [],
   "source": [
    "# Matrice des corrrélations en ne gardant que les variables corrélées\n",
    "corr = X[corr_variables].corr()\n",
    "# On masque la partie supérieure du triangle\n",
    "mask = pd.DataFrame(np.triu(np.ones_like(corr, dtype=bool)), columns=corr.columns, index=corr.index)\n",
    "corr = corr[~mask]\n",
    "\n",
    "keep_features = []\n",
    "skip_features = []\n",
    "for col in corr_variables:\n",
    "    if col in skip_features:\n",
    "        continue\n",
    "    keep_features.append(col)\n",
    "    \n",
    "    mask = (corr[col].abs() > threshold)\n",
    "    skip_features = skip_features + list(corr.loc[mask, col].index)"
   ]
  },
  {
   "cell_type": "code",
   "execution_count": 19,
   "id": "108bc38b",
   "metadata": {
    "ExecuteTime": {
     "end_time": "2022-12-17T11:01:35.930135Z",
     "start_time": "2022-12-17T11:01:35.925926Z"
    }
   },
   "outputs": [
    {
     "data": {
      "text/plain": [
       "53"
      ]
     },
     "execution_count": 19,
     "metadata": {},
     "output_type": "execute_result"
    }
   ],
   "source": [
    "len(keep_features)"
   ]
  },
  {
   "cell_type": "code",
   "execution_count": 20,
   "id": "1b3605ef",
   "metadata": {
    "ExecuteTime": {
     "end_time": "2022-12-17T11:01:35.936556Z",
     "start_time": "2022-12-17T11:01:35.932528Z"
    }
   },
   "outputs": [
    {
     "data": {
      "text/plain": [
       "(307507, 401)"
      ]
     },
     "execution_count": 20,
     "metadata": {},
     "output_type": "execute_result"
    }
   ],
   "source": [
    "X.shape"
   ]
  },
  {
   "cell_type": "code",
   "execution_count": 21,
   "id": "4604070a",
   "metadata": {
    "ExecuteTime": {
     "end_time": "2022-12-17T11:01:36.373356Z",
     "start_time": "2022-12-17T11:01:35.938660Z"
    }
   },
   "outputs": [
    {
     "data": {
      "text/plain": [
       "(307507, 341)"
      ]
     },
     "execution_count": 21,
     "metadata": {},
     "output_type": "execute_result"
    }
   ],
   "source": [
    "X = X[[col for col in X.columns if col not in skip_features]]\n",
    "X.shape"
   ]
  },
  {
   "cell_type": "markdown",
   "id": "b93633ce",
   "metadata": {},
   "source": [
    "## Variance"
   ]
  },
  {
   "cell_type": "markdown",
   "id": "71f5e756",
   "metadata": {},
   "source": [
    "__On va supprimer les variables ayant une variance trop faible__"
   ]
  },
  {
   "cell_type": "code",
   "execution_count": 22,
   "id": "ab5fac2c",
   "metadata": {
    "ExecuteTime": {
     "end_time": "2022-12-17T11:01:38.834664Z",
     "start_time": "2022-12-17T11:01:36.375748Z"
    }
   },
   "outputs": [
    {
     "data": {
      "text/plain": [
       "count    3.410000e+02\n",
       "mean     1.032878e+07\n",
       "std      1.892227e+08\n",
       "min      1.627866e-05\n",
       "25%      3.763904e-02\n",
       "50%      1.658606e-01\n",
       "75%      2.582561e+01\n",
       "max      3.494295e+09\n",
       "dtype: float64"
      ]
     },
     "execution_count": 22,
     "metadata": {},
     "output_type": "execute_result"
    }
   ],
   "source": [
    "X.std().describe()"
   ]
  },
  {
   "cell_type": "code",
   "execution_count": 23,
   "id": "b3baed88",
   "metadata": {
    "ExecuteTime": {
     "end_time": "2022-12-17T11:01:44.928806Z",
     "start_time": "2022-12-17T11:01:38.836776Z"
    }
   },
   "outputs": [
    {
     "data": {
      "text/plain": [
       "count    341.000000\n",
       "mean       0.092814\n",
       "std        0.107563\n",
       "min        0.001854\n",
       "25%        0.012622\n",
       "50%        0.044910\n",
       "75%        0.133503\n",
       "max        0.499735\n",
       "dtype: float64"
      ]
     },
     "execution_count": 23,
     "metadata": {},
     "output_type": "execute_result"
    }
   ],
   "source": [
    "X_ = pd.DataFrame(MinMaxScaler().fit_transform(X), columns=X.columns, index=X.index)\n",
    "std = X_.std()\n",
    "std.describe()"
   ]
  },
  {
   "cell_type": "code",
   "execution_count": 24,
   "id": "e19027a9",
   "metadata": {
    "ExecuteTime": {
     "end_time": "2022-12-17T11:01:44.939445Z",
     "start_time": "2022-12-17T11:01:44.932294Z"
    }
   },
   "outputs": [
    {
     "data": {
      "text/plain": [
       "109"
      ]
     },
     "execution_count": 24,
     "metadata": {},
     "output_type": "execute_result"
    }
   ],
   "source": [
    "cols_to_drop = std[std<0.02].index\n",
    "cols_to_drop.size"
   ]
  },
  {
   "cell_type": "code",
   "execution_count": 25,
   "id": "a5456d7b",
   "metadata": {
    "ExecuteTime": {
     "end_time": "2022-12-17T11:01:44.946215Z",
     "start_time": "2022-12-17T11:01:44.942528Z"
    }
   },
   "outputs": [
    {
     "data": {
      "text/plain": [
       "(307507, 341)"
      ]
     },
     "execution_count": 25,
     "metadata": {},
     "output_type": "execute_result"
    }
   ],
   "source": [
    "X.shape"
   ]
  },
  {
   "cell_type": "code",
   "execution_count": 26,
   "id": "67c9abc1",
   "metadata": {
    "ExecuteTime": {
     "end_time": "2022-12-17T11:01:45.296063Z",
     "start_time": "2022-12-17T11:01:44.950573Z"
    }
   },
   "outputs": [
    {
     "data": {
      "text/plain": [
       "(307507, 232)"
      ]
     },
     "execution_count": 26,
     "metadata": {},
     "output_type": "execute_result"
    }
   ],
   "source": [
    "X = X[[col for col in X.columns if col not in cols_to_drop]]\n",
    "X.shape"
   ]
  },
  {
   "cell_type": "markdown",
   "id": "79b35ad8",
   "metadata": {},
   "source": [
    "## Sauvegarde de X et y"
   ]
  },
  {
   "cell_type": "code",
   "execution_count": 27,
   "id": "3f140cf6",
   "metadata": {
    "ExecuteTime": {
     "end_time": "2022-12-17T11:01:45.552679Z",
     "start_time": "2022-12-17T11:01:45.299975Z"
    }
   },
   "outputs": [],
   "source": [
    "X.drop(columns='PREV_NAME_PORTFOLIO_POS_MEAN', inplace=True)"
   ]
  },
  {
   "cell_type": "code",
   "execution_count": 28,
   "id": "7b602f14",
   "metadata": {
    "ExecuteTime": {
     "end_time": "2022-12-17T11:02:12.206025Z",
     "start_time": "2022-12-17T11:01:45.556329Z"
    }
   },
   "outputs": [],
   "source": [
    "path = '/Users/gabriel/Documents/gabriel/Documents/Formation OC Data Scientist\\\n",
    "/Projet 7 Implementez un modele de scoring/data/'\n",
    "X.to_csv(path+'X.csv')\n",
    "y.to_csv(path+'y.csv')"
   ]
  },
  {
   "cell_type": "markdown",
   "id": "375f07fb",
   "metadata": {},
   "source": [
    "# Import des data"
   ]
  },
  {
   "cell_type": "code",
   "execution_count": 147,
   "id": "659eefdf",
   "metadata": {
    "ExecuteTime": {
     "end_time": "2022-12-17T16:16:11.085119Z",
     "start_time": "2022-12-17T16:16:05.641036Z"
    }
   },
   "outputs": [
    {
     "name": "stdout",
     "output_type": "stream",
     "text": [
      "X shape: (307507, 231)\n",
      "y shape: (307507,)\n"
     ]
    }
   ],
   "source": [
    "path = '/Users/gabriel/Documents/gabriel/Documents/Formation OC Data Scientist\\\n",
    "/Projet 7 Implementez un modele de scoring/data/'\n",
    "X = pd.read_csv(path+'X.csv', index_col=0)\n",
    "y = pd.read_csv(path+'y.csv', index_col=0)['TARGET']\n",
    "\n",
    "print('X shape:', X.shape)\n",
    "print('y shape:', y.shape)"
   ]
  },
  {
   "cell_type": "code",
   "execution_count": 148,
   "id": "d03bbdb5",
   "metadata": {
    "ExecuteTime": {
     "end_time": "2022-12-17T16:16:11.093525Z",
     "start_time": "2022-12-17T16:16:11.087920Z"
    }
   },
   "outputs": [
    {
     "data": {
      "text/plain": [
       "0    282682\n",
       "1     24825\n",
       "Name: TARGET, dtype: int64"
      ]
     },
     "execution_count": 148,
     "metadata": {},
     "output_type": "execute_result"
    }
   ],
   "source": [
    "y.value_counts()"
   ]
  },
  {
   "cell_type": "code",
   "execution_count": 149,
   "id": "1640c2e2",
   "metadata": {
    "ExecuteTime": {
     "end_time": "2022-12-17T16:16:11.102316Z",
     "start_time": "2022-12-17T16:16:11.095700Z"
    }
   },
   "outputs": [
    {
     "data": {
      "text/plain": [
       "0    0.91927\n",
       "1    0.08073\n",
       "Name: TARGET, dtype: float64"
      ]
     },
     "execution_count": 149,
     "metadata": {},
     "output_type": "execute_result"
    }
   ],
   "source": [
    "y.value_counts(normalize=True)"
   ]
  },
  {
   "cell_type": "markdown",
   "id": "dcdd6e7c",
   "metadata": {},
   "source": [
    "On remplace les nan par une valeur numérique car sinon cela cause des problèmes avec l'API. On va prendre une valeur très qui ne se trouve pas dans le jeu de données."
   ]
  },
  {
   "cell_type": "code",
   "execution_count": 150,
   "id": "5e846fd4",
   "metadata": {
    "ExecuteTime": {
     "end_time": "2022-12-17T16:16:11.272926Z",
     "start_time": "2022-12-17T16:16:11.104675Z"
    }
   },
   "outputs": [
    {
     "data": {
      "text/plain": [
       "4588524"
      ]
     },
     "execution_count": 150,
     "metadata": {},
     "output_type": "execute_result"
    }
   ],
   "source": [
    "X.isna().sum().sum()"
   ]
  },
  {
   "cell_type": "code",
   "execution_count": 151,
   "id": "cd00c984",
   "metadata": {
    "ExecuteTime": {
     "end_time": "2022-12-17T16:16:11.414031Z",
     "start_time": "2022-12-17T16:16:11.274835Z"
    }
   },
   "outputs": [],
   "source": [
    "nan = 1.01010101\n",
    "X.fillna(nan, inplace=True)"
   ]
  },
  {
   "cell_type": "code",
   "execution_count": 152,
   "id": "eaabe37a",
   "metadata": {
    "ExecuteTime": {
     "end_time": "2022-12-17T16:16:11.523434Z",
     "start_time": "2022-12-17T16:16:11.416144Z"
    }
   },
   "outputs": [
    {
     "data": {
      "text/plain": [
       "0"
      ]
     },
     "execution_count": 152,
     "metadata": {},
     "output_type": "execute_result"
    }
   ],
   "source": [
    "X.isna().sum().sum()"
   ]
  },
  {
   "cell_type": "code",
   "execution_count": 153,
   "id": "8b247251",
   "metadata": {
    "ExecuteTime": {
     "end_time": "2022-12-17T16:16:11.661861Z",
     "start_time": "2022-12-17T16:16:11.526819Z"
    }
   },
   "outputs": [
    {
     "data": {
      "text/plain": [
       "4588524"
      ]
     },
     "execution_count": 153,
     "metadata": {},
     "output_type": "execute_result"
    }
   ],
   "source": [
    "(X==nan).sum().sum()"
   ]
  },
  {
   "cell_type": "markdown",
   "id": "0a8c6193",
   "metadata": {},
   "source": [
    "# Train/Test split"
   ]
  },
  {
   "cell_type": "code",
   "execution_count": 154,
   "id": "4251dbbb",
   "metadata": {
    "ExecuteTime": {
     "end_time": "2022-12-17T16:16:12.286275Z",
     "start_time": "2022-12-17T16:16:11.664197Z"
    }
   },
   "outputs": [
    {
     "name": "stdout",
     "output_type": "stream",
     "text": [
      "X_train shape : (230630, 231) y_train shape : (230630,)\n",
      "X_test shape : (76877, 231) y_test shape : (76877,)\n"
     ]
    }
   ],
   "source": [
    "X_train, X_test, y_train, y_test = train_test_split(X, y, random_state=0)\n",
    "print('X_train shape :', X_train.shape, 'y_train shape :', y_train.shape)\n",
    "print('X_test shape :', X_test.shape, 'y_test shape :', y_test.shape)"
   ]
  },
  {
   "cell_type": "code",
   "execution_count": 155,
   "id": "de2ba845",
   "metadata": {
    "ExecuteTime": {
     "end_time": "2022-12-17T16:16:12.294631Z",
     "start_time": "2022-12-17T16:16:12.288384Z"
    }
   },
   "outputs": [
    {
     "data": {
      "text/plain": [
       "0    0.919056\n",
       "1    0.080944\n",
       "Name: TARGET, dtype: float64"
      ]
     },
     "execution_count": 155,
     "metadata": {},
     "output_type": "execute_result"
    }
   ],
   "source": [
    "y_train.value_counts(normalize=True)"
   ]
  },
  {
   "cell_type": "code",
   "execution_count": 156,
   "id": "aa7da935",
   "metadata": {
    "ExecuteTime": {
     "end_time": "2022-12-17T16:16:12.302907Z",
     "start_time": "2022-12-17T16:16:12.296764Z"
    }
   },
   "outputs": [
    {
     "data": {
      "text/plain": [
       "0    0.919911\n",
       "1    0.080089\n",
       "Name: TARGET, dtype: float64"
      ]
     },
     "execution_count": 156,
     "metadata": {},
     "output_type": "execute_result"
    }
   ],
   "source": [
    "y_test.value_counts(normalize=True)"
   ]
  },
  {
   "cell_type": "markdown",
   "id": "b0e57bb2",
   "metadata": {},
   "source": [
    "# Modélisation"
   ]
  },
  {
   "cell_type": "markdown",
   "id": "33bb0f60",
   "metadata": {},
   "source": [
    "## Preprocessing"
   ]
  },
  {
   "cell_type": "code",
   "execution_count": null,
   "id": "e2c7837a",
   "metadata": {},
   "outputs": [],
   "source": []
  },
  {
   "cell_type": "markdown",
   "id": "d7b25be5",
   "metadata": {},
   "source": [
    "## Modélisation"
   ]
  },
  {
   "cell_type": "code",
   "execution_count": null,
   "id": "e373c6ca",
   "metadata": {},
   "outputs": [],
   "source": []
  },
  {
   "cell_type": "markdown",
   "id": "70957a79",
   "metadata": {},
   "source": [
    "## Recherche des hyper-paramètres"
   ]
  },
  {
   "cell_type": "code",
   "execution_count": null,
   "id": "bee2ea38",
   "metadata": {},
   "outputs": [],
   "source": []
  },
  {
   "cell_type": "markdown",
   "id": "8221c855",
   "metadata": {},
   "source": [
    "## Enregistrement du modèle"
   ]
  },
  {
   "cell_type": "code",
   "execution_count": 157,
   "id": "4265e3b4",
   "metadata": {
    "ExecuteTime": {
     "end_time": "2022-12-17T16:16:12.308553Z",
     "start_time": "2022-12-17T16:16:12.305190Z"
    }
   },
   "outputs": [],
   "source": [
    "pipeline = Pipeline(steps=[('imputer', SimpleImputer(strategy='mean', missing_values=nan)),\n",
    "                           ('scaler', StandardScaler()),\n",
    "                           ('undersampler', RandomUnderSampler(random_state=0)),\n",
    "                           ('model', LogisticRegression(random_state=42, max_iter=1000))\n",
    "                          ])"
   ]
  },
  {
   "cell_type": "code",
   "execution_count": 158,
   "id": "a51845e3",
   "metadata": {
    "ExecuteTime": {
     "end_time": "2022-12-17T16:16:17.820690Z",
     "start_time": "2022-12-17T16:16:12.310719Z"
    }
   },
   "outputs": [
    {
     "data": {
      "text/html": [
       "<style>#sk-container-id-4 {color: black;background-color: white;}#sk-container-id-4 pre{padding: 0;}#sk-container-id-4 div.sk-toggleable {background-color: white;}#sk-container-id-4 label.sk-toggleable__label {cursor: pointer;display: block;width: 100%;margin-bottom: 0;padding: 0.3em;box-sizing: border-box;text-align: center;}#sk-container-id-4 label.sk-toggleable__label-arrow:before {content: \"▸\";float: left;margin-right: 0.25em;color: #696969;}#sk-container-id-4 label.sk-toggleable__label-arrow:hover:before {color: black;}#sk-container-id-4 div.sk-estimator:hover label.sk-toggleable__label-arrow:before {color: black;}#sk-container-id-4 div.sk-toggleable__content {max-height: 0;max-width: 0;overflow: hidden;text-align: left;background-color: #f0f8ff;}#sk-container-id-4 div.sk-toggleable__content pre {margin: 0.2em;color: black;border-radius: 0.25em;background-color: #f0f8ff;}#sk-container-id-4 input.sk-toggleable__control:checked~div.sk-toggleable__content {max-height: 200px;max-width: 100%;overflow: auto;}#sk-container-id-4 input.sk-toggleable__control:checked~label.sk-toggleable__label-arrow:before {content: \"▾\";}#sk-container-id-4 div.sk-estimator input.sk-toggleable__control:checked~label.sk-toggleable__label {background-color: #d4ebff;}#sk-container-id-4 div.sk-label input.sk-toggleable__control:checked~label.sk-toggleable__label {background-color: #d4ebff;}#sk-container-id-4 input.sk-hidden--visually {border: 0;clip: rect(1px 1px 1px 1px);clip: rect(1px, 1px, 1px, 1px);height: 1px;margin: -1px;overflow: hidden;padding: 0;position: absolute;width: 1px;}#sk-container-id-4 div.sk-estimator {font-family: monospace;background-color: #f0f8ff;border: 1px dotted black;border-radius: 0.25em;box-sizing: border-box;margin-bottom: 0.5em;}#sk-container-id-4 div.sk-estimator:hover {background-color: #d4ebff;}#sk-container-id-4 div.sk-parallel-item::after {content: \"\";width: 100%;border-bottom: 1px solid gray;flex-grow: 1;}#sk-container-id-4 div.sk-label:hover label.sk-toggleable__label {background-color: #d4ebff;}#sk-container-id-4 div.sk-serial::before {content: \"\";position: absolute;border-left: 1px solid gray;box-sizing: border-box;top: 0;bottom: 0;left: 50%;z-index: 0;}#sk-container-id-4 div.sk-serial {display: flex;flex-direction: column;align-items: center;background-color: white;padding-right: 0.2em;padding-left: 0.2em;position: relative;}#sk-container-id-4 div.sk-item {position: relative;z-index: 1;}#sk-container-id-4 div.sk-parallel {display: flex;align-items: stretch;justify-content: center;background-color: white;position: relative;}#sk-container-id-4 div.sk-item::before, #sk-container-id-4 div.sk-parallel-item::before {content: \"\";position: absolute;border-left: 1px solid gray;box-sizing: border-box;top: 0;bottom: 0;left: 50%;z-index: -1;}#sk-container-id-4 div.sk-parallel-item {display: flex;flex-direction: column;z-index: 1;position: relative;background-color: white;}#sk-container-id-4 div.sk-parallel-item:first-child::after {align-self: flex-end;width: 50%;}#sk-container-id-4 div.sk-parallel-item:last-child::after {align-self: flex-start;width: 50%;}#sk-container-id-4 div.sk-parallel-item:only-child::after {width: 0;}#sk-container-id-4 div.sk-dashed-wrapped {border: 1px dashed gray;margin: 0 0.4em 0.5em 0.4em;box-sizing: border-box;padding-bottom: 0.4em;background-color: white;}#sk-container-id-4 div.sk-label label {font-family: monospace;font-weight: bold;display: inline-block;line-height: 1.2em;}#sk-container-id-4 div.sk-label-container {text-align: center;}#sk-container-id-4 div.sk-container {/* jupyter's `normalize.less` sets `[hidden] { display: none; }` but bootstrap.min.css set `[hidden] { display: none !important; }` so we also need the `!important` here to be able to override the default hidden behavior on the sphinx rendered scikit-learn.org. See: https://github.com/scikit-learn/scikit-learn/issues/21755 */display: inline-block !important;position: relative;}#sk-container-id-4 div.sk-text-repr-fallback {display: none;}</style><div id=\"sk-container-id-4\" class=\"sk-top-container\"><div class=\"sk-text-repr-fallback\"><pre>Pipeline(steps=[(&#x27;imputer&#x27;, SimpleImputer(missing_values=1.01010101)),\n",
       "                (&#x27;scaler&#x27;, StandardScaler()),\n",
       "                (&#x27;undersampler&#x27;, RandomUnderSampler(random_state=0)),\n",
       "                (&#x27;model&#x27;, LogisticRegression(max_iter=1000, random_state=42))])</pre><b>In a Jupyter environment, please rerun this cell to show the HTML representation or trust the notebook. <br />On GitHub, the HTML representation is unable to render, please try loading this page with nbviewer.org.</b></div><div class=\"sk-container\" hidden><div class=\"sk-item sk-dashed-wrapped\"><div class=\"sk-label-container\"><div class=\"sk-label sk-toggleable\"><input class=\"sk-toggleable__control sk-hidden--visually\" id=\"sk-estimator-id-16\" type=\"checkbox\" ><label for=\"sk-estimator-id-16\" class=\"sk-toggleable__label sk-toggleable__label-arrow\">Pipeline</label><div class=\"sk-toggleable__content\"><pre>Pipeline(steps=[(&#x27;imputer&#x27;, SimpleImputer(missing_values=1.01010101)),\n",
       "                (&#x27;scaler&#x27;, StandardScaler()),\n",
       "                (&#x27;undersampler&#x27;, RandomUnderSampler(random_state=0)),\n",
       "                (&#x27;model&#x27;, LogisticRegression(max_iter=1000, random_state=42))])</pre></div></div></div><div class=\"sk-serial\"><div class=\"sk-item\"><div class=\"sk-estimator sk-toggleable\"><input class=\"sk-toggleable__control sk-hidden--visually\" id=\"sk-estimator-id-17\" type=\"checkbox\" ><label for=\"sk-estimator-id-17\" class=\"sk-toggleable__label sk-toggleable__label-arrow\">SimpleImputer</label><div class=\"sk-toggleable__content\"><pre>SimpleImputer(missing_values=1.01010101)</pre></div></div></div><div class=\"sk-item\"><div class=\"sk-estimator sk-toggleable\"><input class=\"sk-toggleable__control sk-hidden--visually\" id=\"sk-estimator-id-18\" type=\"checkbox\" ><label for=\"sk-estimator-id-18\" class=\"sk-toggleable__label sk-toggleable__label-arrow\">StandardScaler</label><div class=\"sk-toggleable__content\"><pre>StandardScaler()</pre></div></div></div><div class=\"sk-item\"><div class=\"sk-estimator sk-toggleable\"><input class=\"sk-toggleable__control sk-hidden--visually\" id=\"sk-estimator-id-19\" type=\"checkbox\" ><label for=\"sk-estimator-id-19\" class=\"sk-toggleable__label sk-toggleable__label-arrow\">RandomUnderSampler</label><div class=\"sk-toggleable__content\"><pre>RandomUnderSampler(random_state=0)</pre></div></div></div><div class=\"sk-item\"><div class=\"sk-estimator sk-toggleable\"><input class=\"sk-toggleable__control sk-hidden--visually\" id=\"sk-estimator-id-20\" type=\"checkbox\" ><label for=\"sk-estimator-id-20\" class=\"sk-toggleable__label sk-toggleable__label-arrow\">LogisticRegression</label><div class=\"sk-toggleable__content\"><pre>LogisticRegression(max_iter=1000, random_state=42)</pre></div></div></div></div></div></div></div>"
      ],
      "text/plain": [
       "Pipeline(steps=[('imputer', SimpleImputer(missing_values=1.01010101)),\n",
       "                ('scaler', StandardScaler()),\n",
       "                ('undersampler', RandomUnderSampler(random_state=0)),\n",
       "                ('model', LogisticRegression(max_iter=1000, random_state=42))])"
      ]
     },
     "execution_count": 158,
     "metadata": {},
     "output_type": "execute_result"
    }
   ],
   "source": [
    "pipeline.fit(X_train, y_train)"
   ]
  },
  {
   "cell_type": "code",
   "execution_count": 159,
   "id": "13ff3fd5",
   "metadata": {
    "ExecuteTime": {
     "end_time": "2022-12-17T16:16:19.353310Z",
     "start_time": "2022-12-17T16:16:17.823541Z"
    }
   },
   "outputs": [
    {
     "name": "stdout",
     "output_type": "stream",
     "text": [
      "              precision    recall  f1-score   support\n",
      "\n",
      "           0       0.96      0.70      0.81    211962\n",
      "           1       0.17      0.69      0.27     18668\n",
      "\n",
      "    accuracy                           0.70    230630\n",
      "   macro avg       0.57      0.70      0.54    230630\n",
      "weighted avg       0.90      0.70      0.77    230630\n",
      "\n"
     ]
    }
   ],
   "source": [
    "y_pred = pipeline.predict(X_train)\n",
    "print(metrics.classification_report(y_train, y_pred))"
   ]
  },
  {
   "cell_type": "code",
   "execution_count": 160,
   "id": "993bb2fa",
   "metadata": {
    "ExecuteTime": {
     "end_time": "2022-12-17T16:16:19.951694Z",
     "start_time": "2022-12-17T16:16:19.355263Z"
    }
   },
   "outputs": [
    {
     "name": "stdout",
     "output_type": "stream",
     "text": [
      "              precision    recall  f1-score   support\n",
      "\n",
      "           0       0.96      0.70      0.81     70720\n",
      "           1       0.17      0.69      0.27      6157\n",
      "\n",
      "    accuracy                           0.70     76877\n",
      "   macro avg       0.56      0.69      0.54     76877\n",
      "weighted avg       0.90      0.70      0.76     76877\n",
      "\n"
     ]
    }
   ],
   "source": [
    "y_pred = pipeline.predict(X_test)\n",
    "print(metrics.classification_report(y_test, y_pred))"
   ]
  },
  {
   "cell_type": "code",
   "execution_count": 161,
   "id": "e52a32aa",
   "metadata": {
    "ExecuteTime": {
     "end_time": "2022-12-17T16:16:19.962035Z",
     "start_time": "2022-12-17T16:16:19.953444Z"
    }
   },
   "outputs": [
    {
     "data": {
      "text/html": [
       "<style>#sk-container-id-5 {color: black;background-color: white;}#sk-container-id-5 pre{padding: 0;}#sk-container-id-5 div.sk-toggleable {background-color: white;}#sk-container-id-5 label.sk-toggleable__label {cursor: pointer;display: block;width: 100%;margin-bottom: 0;padding: 0.3em;box-sizing: border-box;text-align: center;}#sk-container-id-5 label.sk-toggleable__label-arrow:before {content: \"▸\";float: left;margin-right: 0.25em;color: #696969;}#sk-container-id-5 label.sk-toggleable__label-arrow:hover:before {color: black;}#sk-container-id-5 div.sk-estimator:hover label.sk-toggleable__label-arrow:before {color: black;}#sk-container-id-5 div.sk-toggleable__content {max-height: 0;max-width: 0;overflow: hidden;text-align: left;background-color: #f0f8ff;}#sk-container-id-5 div.sk-toggleable__content pre {margin: 0.2em;color: black;border-radius: 0.25em;background-color: #f0f8ff;}#sk-container-id-5 input.sk-toggleable__control:checked~div.sk-toggleable__content {max-height: 200px;max-width: 100%;overflow: auto;}#sk-container-id-5 input.sk-toggleable__control:checked~label.sk-toggleable__label-arrow:before {content: \"▾\";}#sk-container-id-5 div.sk-estimator input.sk-toggleable__control:checked~label.sk-toggleable__label {background-color: #d4ebff;}#sk-container-id-5 div.sk-label input.sk-toggleable__control:checked~label.sk-toggleable__label {background-color: #d4ebff;}#sk-container-id-5 input.sk-hidden--visually {border: 0;clip: rect(1px 1px 1px 1px);clip: rect(1px, 1px, 1px, 1px);height: 1px;margin: -1px;overflow: hidden;padding: 0;position: absolute;width: 1px;}#sk-container-id-5 div.sk-estimator {font-family: monospace;background-color: #f0f8ff;border: 1px dotted black;border-radius: 0.25em;box-sizing: border-box;margin-bottom: 0.5em;}#sk-container-id-5 div.sk-estimator:hover {background-color: #d4ebff;}#sk-container-id-5 div.sk-parallel-item::after {content: \"\";width: 100%;border-bottom: 1px solid gray;flex-grow: 1;}#sk-container-id-5 div.sk-label:hover label.sk-toggleable__label {background-color: #d4ebff;}#sk-container-id-5 div.sk-serial::before {content: \"\";position: absolute;border-left: 1px solid gray;box-sizing: border-box;top: 0;bottom: 0;left: 50%;z-index: 0;}#sk-container-id-5 div.sk-serial {display: flex;flex-direction: column;align-items: center;background-color: white;padding-right: 0.2em;padding-left: 0.2em;position: relative;}#sk-container-id-5 div.sk-item {position: relative;z-index: 1;}#sk-container-id-5 div.sk-parallel {display: flex;align-items: stretch;justify-content: center;background-color: white;position: relative;}#sk-container-id-5 div.sk-item::before, #sk-container-id-5 div.sk-parallel-item::before {content: \"\";position: absolute;border-left: 1px solid gray;box-sizing: border-box;top: 0;bottom: 0;left: 50%;z-index: -1;}#sk-container-id-5 div.sk-parallel-item {display: flex;flex-direction: column;z-index: 1;position: relative;background-color: white;}#sk-container-id-5 div.sk-parallel-item:first-child::after {align-self: flex-end;width: 50%;}#sk-container-id-5 div.sk-parallel-item:last-child::after {align-self: flex-start;width: 50%;}#sk-container-id-5 div.sk-parallel-item:only-child::after {width: 0;}#sk-container-id-5 div.sk-dashed-wrapped {border: 1px dashed gray;margin: 0 0.4em 0.5em 0.4em;box-sizing: border-box;padding-bottom: 0.4em;background-color: white;}#sk-container-id-5 div.sk-label label {font-family: monospace;font-weight: bold;display: inline-block;line-height: 1.2em;}#sk-container-id-5 div.sk-label-container {text-align: center;}#sk-container-id-5 div.sk-container {/* jupyter's `normalize.less` sets `[hidden] { display: none; }` but bootstrap.min.css set `[hidden] { display: none !important; }` so we also need the `!important` here to be able to override the default hidden behavior on the sphinx rendered scikit-learn.org. See: https://github.com/scikit-learn/scikit-learn/issues/21755 */display: inline-block !important;position: relative;}#sk-container-id-5 div.sk-text-repr-fallback {display: none;}</style><div id=\"sk-container-id-5\" class=\"sk-top-container\"><div class=\"sk-text-repr-fallback\"><pre>Pipeline(steps=[(&#x27;imputer&#x27;, SimpleImputer(missing_values=1.01010101)),\n",
       "                (&#x27;scaler&#x27;, StandardScaler()),\n",
       "                (&#x27;undersampler&#x27;, RandomUnderSampler(random_state=0)),\n",
       "                (&#x27;model&#x27;, LogisticRegression(max_iter=1000, random_state=42))])</pre><b>In a Jupyter environment, please rerun this cell to show the HTML representation or trust the notebook. <br />On GitHub, the HTML representation is unable to render, please try loading this page with nbviewer.org.</b></div><div class=\"sk-container\" hidden><div class=\"sk-item sk-dashed-wrapped\"><div class=\"sk-label-container\"><div class=\"sk-label sk-toggleable\"><input class=\"sk-toggleable__control sk-hidden--visually\" id=\"sk-estimator-id-21\" type=\"checkbox\" ><label for=\"sk-estimator-id-21\" class=\"sk-toggleable__label sk-toggleable__label-arrow\">Pipeline</label><div class=\"sk-toggleable__content\"><pre>Pipeline(steps=[(&#x27;imputer&#x27;, SimpleImputer(missing_values=1.01010101)),\n",
       "                (&#x27;scaler&#x27;, StandardScaler()),\n",
       "                (&#x27;undersampler&#x27;, RandomUnderSampler(random_state=0)),\n",
       "                (&#x27;model&#x27;, LogisticRegression(max_iter=1000, random_state=42))])</pre></div></div></div><div class=\"sk-serial\"><div class=\"sk-item\"><div class=\"sk-estimator sk-toggleable\"><input class=\"sk-toggleable__control sk-hidden--visually\" id=\"sk-estimator-id-22\" type=\"checkbox\" ><label for=\"sk-estimator-id-22\" class=\"sk-toggleable__label sk-toggleable__label-arrow\">SimpleImputer</label><div class=\"sk-toggleable__content\"><pre>SimpleImputer(missing_values=1.01010101)</pre></div></div></div><div class=\"sk-item\"><div class=\"sk-estimator sk-toggleable\"><input class=\"sk-toggleable__control sk-hidden--visually\" id=\"sk-estimator-id-23\" type=\"checkbox\" ><label for=\"sk-estimator-id-23\" class=\"sk-toggleable__label sk-toggleable__label-arrow\">StandardScaler</label><div class=\"sk-toggleable__content\"><pre>StandardScaler()</pre></div></div></div><div class=\"sk-item\"><div class=\"sk-estimator sk-toggleable\"><input class=\"sk-toggleable__control sk-hidden--visually\" id=\"sk-estimator-id-24\" type=\"checkbox\" ><label for=\"sk-estimator-id-24\" class=\"sk-toggleable__label sk-toggleable__label-arrow\">RandomUnderSampler</label><div class=\"sk-toggleable__content\"><pre>RandomUnderSampler(random_state=0)</pre></div></div></div><div class=\"sk-item\"><div class=\"sk-estimator sk-toggleable\"><input class=\"sk-toggleable__control sk-hidden--visually\" id=\"sk-estimator-id-25\" type=\"checkbox\" ><label for=\"sk-estimator-id-25\" class=\"sk-toggleable__label sk-toggleable__label-arrow\">LogisticRegression</label><div class=\"sk-toggleable__content\"><pre>LogisticRegression(max_iter=1000, random_state=42)</pre></div></div></div></div></div></div></div>"
      ],
      "text/plain": [
       "Pipeline(steps=[('imputer', SimpleImputer(missing_values=1.01010101)),\n",
       "                ('scaler', StandardScaler()),\n",
       "                ('undersampler', RandomUnderSampler(random_state=0)),\n",
       "                ('model', LogisticRegression(max_iter=1000, random_state=42))])"
      ]
     },
     "execution_count": 161,
     "metadata": {},
     "output_type": "execute_result"
    }
   ],
   "source": [
    "pipeline"
   ]
  },
  {
   "cell_type": "code",
   "execution_count": 162,
   "id": "de09cdfc",
   "metadata": {
    "ExecuteTime": {
     "end_time": "2022-12-17T16:16:24.375304Z",
     "start_time": "2022-12-17T16:16:24.367887Z"
    }
   },
   "outputs": [
    {
     "data": {
      "text/plain": [
       "['pipeline_projet7.joblib']"
      ]
     },
     "execution_count": 162,
     "metadata": {},
     "output_type": "execute_result"
    }
   ],
   "source": [
    "joblib.dump(pipeline, 'pipeline_projet7.joblib')"
   ]
  },
  {
   "cell_type": "markdown",
   "id": "b98e4fbd",
   "metadata": {},
   "source": [
    "# Feature importance"
   ]
  },
  {
   "cell_type": "markdown",
   "id": "6a58d3bd",
   "metadata": {},
   "source": [
    "## Importance globale"
   ]
  },
  {
   "cell_type": "code",
   "execution_count": 163,
   "id": "b9d98a78",
   "metadata": {
    "ExecuteTime": {
     "end_time": "2022-12-17T16:16:33.818064Z",
     "start_time": "2022-12-17T16:16:33.812698Z"
    }
   },
   "outputs": [
    {
     "data": {
      "text/html": [
       "<style>#sk-container-id-6 {color: black;background-color: white;}#sk-container-id-6 pre{padding: 0;}#sk-container-id-6 div.sk-toggleable {background-color: white;}#sk-container-id-6 label.sk-toggleable__label {cursor: pointer;display: block;width: 100%;margin-bottom: 0;padding: 0.3em;box-sizing: border-box;text-align: center;}#sk-container-id-6 label.sk-toggleable__label-arrow:before {content: \"▸\";float: left;margin-right: 0.25em;color: #696969;}#sk-container-id-6 label.sk-toggleable__label-arrow:hover:before {color: black;}#sk-container-id-6 div.sk-estimator:hover label.sk-toggleable__label-arrow:before {color: black;}#sk-container-id-6 div.sk-toggleable__content {max-height: 0;max-width: 0;overflow: hidden;text-align: left;background-color: #f0f8ff;}#sk-container-id-6 div.sk-toggleable__content pre {margin: 0.2em;color: black;border-radius: 0.25em;background-color: #f0f8ff;}#sk-container-id-6 input.sk-toggleable__control:checked~div.sk-toggleable__content {max-height: 200px;max-width: 100%;overflow: auto;}#sk-container-id-6 input.sk-toggleable__control:checked~label.sk-toggleable__label-arrow:before {content: \"▾\";}#sk-container-id-6 div.sk-estimator input.sk-toggleable__control:checked~label.sk-toggleable__label {background-color: #d4ebff;}#sk-container-id-6 div.sk-label input.sk-toggleable__control:checked~label.sk-toggleable__label {background-color: #d4ebff;}#sk-container-id-6 input.sk-hidden--visually {border: 0;clip: rect(1px 1px 1px 1px);clip: rect(1px, 1px, 1px, 1px);height: 1px;margin: -1px;overflow: hidden;padding: 0;position: absolute;width: 1px;}#sk-container-id-6 div.sk-estimator {font-family: monospace;background-color: #f0f8ff;border: 1px dotted black;border-radius: 0.25em;box-sizing: border-box;margin-bottom: 0.5em;}#sk-container-id-6 div.sk-estimator:hover {background-color: #d4ebff;}#sk-container-id-6 div.sk-parallel-item::after {content: \"\";width: 100%;border-bottom: 1px solid gray;flex-grow: 1;}#sk-container-id-6 div.sk-label:hover label.sk-toggleable__label {background-color: #d4ebff;}#sk-container-id-6 div.sk-serial::before {content: \"\";position: absolute;border-left: 1px solid gray;box-sizing: border-box;top: 0;bottom: 0;left: 50%;z-index: 0;}#sk-container-id-6 div.sk-serial {display: flex;flex-direction: column;align-items: center;background-color: white;padding-right: 0.2em;padding-left: 0.2em;position: relative;}#sk-container-id-6 div.sk-item {position: relative;z-index: 1;}#sk-container-id-6 div.sk-parallel {display: flex;align-items: stretch;justify-content: center;background-color: white;position: relative;}#sk-container-id-6 div.sk-item::before, #sk-container-id-6 div.sk-parallel-item::before {content: \"\";position: absolute;border-left: 1px solid gray;box-sizing: border-box;top: 0;bottom: 0;left: 50%;z-index: -1;}#sk-container-id-6 div.sk-parallel-item {display: flex;flex-direction: column;z-index: 1;position: relative;background-color: white;}#sk-container-id-6 div.sk-parallel-item:first-child::after {align-self: flex-end;width: 50%;}#sk-container-id-6 div.sk-parallel-item:last-child::after {align-self: flex-start;width: 50%;}#sk-container-id-6 div.sk-parallel-item:only-child::after {width: 0;}#sk-container-id-6 div.sk-dashed-wrapped {border: 1px dashed gray;margin: 0 0.4em 0.5em 0.4em;box-sizing: border-box;padding-bottom: 0.4em;background-color: white;}#sk-container-id-6 div.sk-label label {font-family: monospace;font-weight: bold;display: inline-block;line-height: 1.2em;}#sk-container-id-6 div.sk-label-container {text-align: center;}#sk-container-id-6 div.sk-container {/* jupyter's `normalize.less` sets `[hidden] { display: none; }` but bootstrap.min.css set `[hidden] { display: none !important; }` so we also need the `!important` here to be able to override the default hidden behavior on the sphinx rendered scikit-learn.org. See: https://github.com/scikit-learn/scikit-learn/issues/21755 */display: inline-block !important;position: relative;}#sk-container-id-6 div.sk-text-repr-fallback {display: none;}</style><div id=\"sk-container-id-6\" class=\"sk-top-container\"><div class=\"sk-text-repr-fallback\"><pre>LogisticRegression(max_iter=1000, random_state=42)</pre><b>In a Jupyter environment, please rerun this cell to show the HTML representation or trust the notebook. <br />On GitHub, the HTML representation is unable to render, please try loading this page with nbviewer.org.</b></div><div class=\"sk-container\" hidden><div class=\"sk-item\"><div class=\"sk-estimator sk-toggleable\"><input class=\"sk-toggleable__control sk-hidden--visually\" id=\"sk-estimator-id-26\" type=\"checkbox\" checked><label for=\"sk-estimator-id-26\" class=\"sk-toggleable__label sk-toggleable__label-arrow\">LogisticRegression</label><div class=\"sk-toggleable__content\"><pre>LogisticRegression(max_iter=1000, random_state=42)</pre></div></div></div></div></div>"
      ],
      "text/plain": [
       "LogisticRegression(max_iter=1000, random_state=42)"
      ]
     },
     "execution_count": 163,
     "metadata": {},
     "output_type": "execute_result"
    }
   ],
   "source": [
    "model = pipeline['model']\n",
    "model"
   ]
  },
  {
   "cell_type": "code",
   "execution_count": 172,
   "id": "59a5f557",
   "metadata": {
    "ExecuteTime": {
     "end_time": "2022-12-17T16:18:50.308956Z",
     "start_time": "2022-12-17T16:18:50.302860Z"
    }
   },
   "outputs": [
    {
     "data": {
      "text/plain": [
       "CODE_GENDER                       0.174868\n",
       "FLAG_OWN_CAR                     -0.107452\n",
       "FLAG_OWN_REALTY                   0.030187\n",
       "CNT_CHILDREN                      0.028739\n",
       "AMT_CREDIT                       -0.239697\n",
       "                                    ...   \n",
       "INSTAL_AMT_INSTALMENT_MAX         0.022591\n",
       "INSTAL_AMT_PAYMENT_SUM            0.063599\n",
       "INSTAL_DAYS_ENTRY_PAYMENT_MAX    -0.159154\n",
       "INSTAL_DAYS_ENTRY_PAYMENT_MEAN    0.155103\n",
       "INSTAL_DAYS_ENTRY_PAYMENT_SUM    -0.003692\n",
       "Length: 231, dtype: float64"
      ]
     },
     "execution_count": 172,
     "metadata": {},
     "output_type": "execute_result"
    }
   ],
   "source": [
    "coefs = pd.Series(model.coef_[0], index=X.columns)\n",
    "coefs"
   ]
  },
  {
   "cell_type": "code",
   "execution_count": 176,
   "id": "95c844f9",
   "metadata": {
    "ExecuteTime": {
     "end_time": "2022-12-17T16:19:08.489748Z",
     "start_time": "2022-12-17T16:19:08.483142Z"
    }
   },
   "outputs": [
    {
     "data": {
      "text/plain": [
       "EXT_SOURCE_2                    -0.391786\n",
       "EXT_SOURCE_3                    -0.380888\n",
       "BURO_CNT_CREDIT_PROLONG_SUM     -0.254899\n",
       "APPROVED_AMT_ANNUITY_MEAN       -0.254256\n",
       "POS_COUNT                       -0.244673\n",
       "AMT_CREDIT                      -0.239697\n",
       "AMT_ANNUITY                      0.230941\n",
       "ACTIVE_CNT_CREDIT_PROLONG_SUM    0.205385\n",
       "ACTIVE_DAYS_CREDIT_MEAN          0.182264\n",
       "PREV_CNT_PAYMENT_MEAN            0.179695\n",
       "ACTIVE_DAYS_CREDIT_MIN          -0.178319\n",
       "EXT_SOURCE_1                    -0.175321\n",
       "CODE_GENDER                      0.174868\n",
       "APPROVED_AMT_CREDIT_MEAN         0.165786\n",
       "PAYMENT_RATE                    -0.165247\n",
       "dtype: float64"
      ]
     },
     "execution_count": 176,
     "metadata": {},
     "output_type": "execute_result"
    }
   ],
   "source": [
    "best_coefs_abs = coefs.abs().sort_values(ascending=False)[:15]\n",
    "coefs[best_coefs_abs.index]"
   ]
  },
  {
   "cell_type": "code",
   "execution_count": 177,
   "id": "7c30eeaa",
   "metadata": {
    "ExecuteTime": {
     "end_time": "2022-12-17T16:19:08.944858Z",
     "start_time": "2022-12-17T16:19:08.941435Z"
    }
   },
   "outputs": [],
   "source": [
    "best_features = coefs[best_coefs_abs.index].index\n",
    "best_values = - coefs[best_coefs_abs.index].values  # opposé pour plus de lisibilité"
   ]
  },
  {
   "cell_type": "code",
   "execution_count": 178,
   "id": "7a2dba9c",
   "metadata": {
    "ExecuteTime": {
     "end_time": "2022-12-17T16:19:09.779850Z",
     "start_time": "2022-12-17T16:19:09.531491Z"
    }
   },
   "outputs": [
    {
     "data": {
      "image/png": "[encoded data removed]",
      "text/plain": [
       "<Figure size 576x432 with 1 Axes>"
      ]
     },
     "metadata": {},
     "output_type": "display_data"
    }
   ],
   "source": [
    "fig = plt.figure(figsize=(8,6))\n",
    "plt.barh(best_features[::-1], best_values[::-1],\n",
    "         color=[\"red\" if coef<0 else \"green\" for coef in best_values[::-1]])\n",
    "#plt.xticks(rotation=30, horizontalalignment='right')\n",
    "plt.xlim(-0.85, 0.85)\n",
    "plt.title(\"Weights\");"
   ]
  },
  {
   "cell_type": "markdown",
   "id": "f8aae07a",
   "metadata": {},
   "source": [
    "## Importance locale"
   ]
  },
  {
   "cell_type": "code",
   "execution_count": 180,
   "id": "8d9eca50",
   "metadata": {
    "ExecuteTime": {
     "end_time": "2022-12-17T16:23:02.358388Z",
     "start_time": "2022-12-17T16:23:02.355683Z"
    }
   },
   "outputs": [],
   "source": [
    "target_names = {0: 'Solvable', 1: 'Insolvable'}"
   ]
  },
  {
   "cell_type": "code",
   "execution_count": 181,
   "id": "fd2e0ed3",
   "metadata": {
    "ExecuteTime": {
     "end_time": "2022-12-17T16:23:04.692538Z",
     "start_time": "2022-12-17T16:23:02.654228Z"
    }
   },
   "outputs": [
    {
     "data": {
      "text/plain": [
       "0    18668\n",
       "1    18668\n",
       "Name: TARGET, dtype: int64"
      ]
     },
     "execution_count": 181,
     "metadata": {},
     "output_type": "execute_result"
    }
   ],
   "source": [
    "preprocessing = pipeline[:2]\n",
    "X_train_prep = preprocessing.transform(X_train)\n",
    "X_test_prep = preprocessing.transform(X_test)\n",
    "\n",
    "resampler = pipeline['undersampler']\n",
    "X_train_res, y_train_res = resampler.fit_resample(X_train_prep, y_train)\n",
    "\n",
    "y_train_res.value_counts()"
   ]
  },
  {
   "cell_type": "code",
   "execution_count": 182,
   "id": "57b0acf7",
   "metadata": {
    "ExecuteTime": {
     "end_time": "2022-12-17T16:23:04.697759Z",
     "start_time": "2022-12-17T16:23:04.695328Z"
    }
   },
   "outputs": [],
   "source": [
    "model = pipeline['model']"
   ]
  },
  {
   "cell_type": "code",
   "execution_count": 183,
   "id": "e6a14c44",
   "metadata": {
    "ExecuteTime": {
     "end_time": "2022-12-17T16:23:05.038220Z",
     "start_time": "2022-12-17T16:23:04.700414Z"
    }
   },
   "outputs": [
    {
     "name": "stdout",
     "output_type": "stream",
     "text": [
      "              precision    recall  f1-score   support\n",
      "\n",
      "           0       0.96      0.70      0.81    211962\n",
      "           1       0.17      0.69      0.27     18668\n",
      "\n",
      "    accuracy                           0.70    230630\n",
      "   macro avg       0.57      0.70      0.54    230630\n",
      "weighted avg       0.90      0.70      0.77    230630\n",
      "\n"
     ]
    }
   ],
   "source": [
    "y_pred = model.predict(X_train_prep)\n",
    "print(metrics.classification_report(y_train, y_pred))"
   ]
  },
  {
   "cell_type": "code",
   "execution_count": 184,
   "id": "815798aa",
   "metadata": {
    "ExecuteTime": {
     "end_time": "2022-12-17T16:23:05.810955Z",
     "start_time": "2022-12-17T16:23:05.693127Z"
    }
   },
   "outputs": [
    {
     "name": "stdout",
     "output_type": "stream",
     "text": [
      "              precision    recall  f1-score   support\n",
      "\n",
      "           0       0.96      0.70      0.81     70720\n",
      "           1       0.17      0.69      0.27      6157\n",
      "\n",
      "    accuracy                           0.70     76877\n",
      "   macro avg       0.56      0.69      0.54     76877\n",
      "weighted avg       0.90      0.70      0.76     76877\n",
      "\n"
     ]
    }
   ],
   "source": [
    "y_pred = model.predict(X_test_prep)\n",
    "print(metrics.classification_report(y_test, y_pred))"
   ]
  },
  {
   "cell_type": "code",
   "execution_count": 185,
   "id": "b0828d74",
   "metadata": {
    "ExecuteTime": {
     "end_time": "2022-12-17T16:23:14.997918Z",
     "start_time": "2022-12-17T16:23:13.049940Z"
    }
   },
   "outputs": [],
   "source": [
    "explainer = lime_tabular.LimeTabularExplainer(X_train_res, mode=\"classification\",\n",
    "                                              class_names=target_names,\n",
    "                                              feature_names=X_train.columns,\n",
    "                                             )"
   ]
  },
  {
   "cell_type": "code",
   "execution_count": 186,
   "id": "b588bb67",
   "metadata": {
    "ExecuteTime": {
     "end_time": "2022-12-17T16:23:51.847055Z",
     "start_time": "2022-12-17T16:23:18.469247Z"
    }
   },
   "outputs": [
    {
     "name": "stdout",
     "output_type": "stream",
     "text": [
      "Prediction :  Solvable\n",
      "Actual :      Solvable\n"
     ]
    }
   ],
   "source": [
    "np.random.seed(0)\n",
    "idx = np.random.randint(1, len(X_test_prep))\n",
    "\n",
    "print(\"Prediction : \", target_names[pipeline['model'].predict(X_test_prep[idx].reshape(1,-1))[0]])\n",
    "print(\"Actual :     \", target_names[y_test.values[idx]])\n",
    "\n",
    "explanation = explainer.explain_instance(X_test_prep[idx], model.predict_proba,\n",
    "                                         num_features=X.shape[1])\n",
    "\n",
    "#explanation.show_in_notebook()"
   ]
  },
  {
   "cell_type": "code",
   "execution_count": 187,
   "id": "0e18a38c",
   "metadata": {
    "ExecuteTime": {
     "end_time": "2022-12-17T16:23:52.056188Z",
     "start_time": "2022-12-17T16:23:51.849474Z"
    }
   },
   "outputs": [
    {
     "data": {
      "image/png": "[encoded data removed]",
      "text/plain": [
       "<Figure size 576x432 with 1 Axes>"
      ]
     },
     "metadata": {},
     "output_type": "display_data"
    }
   ],
   "source": [
    "explanation_map = explanation.as_map()[1][:10]\n",
    "\n",
    "feat_names = X_train.columns[[x[0] for x in explanation_map]]\n",
    "feat_vals = [x[1] for x in explanation_map]\n",
    "# On prend l'opposée des valeurs pour que ça soit plus lisible\n",
    "#feat_vals = - np.array(feat_vals)\n",
    "\n",
    "fig = plt.figure(figsize=(8,6))\n",
    "plt.barh(feat_names[::-1], feat_vals[::-1],\n",
    "         color=[\"red\" if coef<0 else \"green\" for coef in feat_vals[::-1]])\n",
    "#plt.xticks(rotation=30, horizontalalignment='right')\n",
    "x1 = - abs(1.1*feat_vals[0])\n",
    "x2 = - x1\n",
    "plt.xlim(x1, x2)\n",
    "plt.xlabel('Feature contribution')\n",
    "plt.show()"
   ]
  },
  {
   "cell_type": "code",
   "execution_count": 188,
   "id": "da642776",
   "metadata": {
    "ExecuteTime": {
     "end_time": "2022-12-17T16:23:55.888472Z",
     "start_time": "2022-12-17T16:23:55.729755Z"
    }
   },
   "outputs": [
    {
     "data": {
      "image/png": "[encoded data removed]",
      "text/plain": [
       "<Figure size 576x432 with 1 Axes>"
      ]
     },
     "execution_count": 188,
     "metadata": {},
     "output_type": "execute_result"
    }
   ],
   "source": [
    "fig"
   ]
  },
  {
   "cell_type": "code",
   "execution_count": 189,
   "id": "ef1c2197",
   "metadata": {
    "ExecuteTime": {
     "end_time": "2022-12-17T16:24:02.985910Z",
     "start_time": "2022-12-17T16:24:02.874201Z"
    }
   },
   "outputs": [],
   "source": [
    "# On sauvegarde l'explainer\n",
    "with open('explainer.dill', 'wb') as f:\n",
    "    dill.dump(explainer, f)"
   ]
  },
  {
   "cell_type": "markdown",
   "id": "354c29cb",
   "metadata": {},
   "source": [
    "# Minimisation de la fonction coût-métier"
   ]
  },
  {
   "cell_type": "markdown",
   "id": "060e334a",
   "metadata": {},
   "source": [
    "## Precision-recall curve"
   ]
  },
  {
   "cell_type": "code",
   "execution_count": 190,
   "id": "79178878",
   "metadata": {
    "ExecuteTime": {
     "end_time": "2022-12-17T16:24:12.890210Z",
     "start_time": "2022-12-17T16:24:12.262937Z"
    }
   },
   "outputs": [
    {
     "data": {
      "image/png": "[encoded data removed]",
      "text/plain": [
       "<Figure size 576x432 with 1 Axes>"
      ]
     },
     "metadata": {},
     "output_type": "display_data"
    }
   ],
   "source": [
    "y_score = pipeline.predict_proba(X_test)[:,1]\n",
    "#y_score = pipeline.decision_function(X_test)\n",
    "\n",
    "precision, recall, threshold = metrics.precision_recall_curve(y_test, y_score)\n",
    "\n",
    "fig, ax = plt.subplots(figsize=(8,6))\n",
    "ax.plot(recall, precision)\n",
    "ax.set_title('Precision-Recall curve')\n",
    "plt.show()"
   ]
  },
  {
   "cell_type": "code",
   "execution_count": 191,
   "id": "7f70b994",
   "metadata": {
    "ExecuteTime": {
     "end_time": "2022-12-17T16:24:15.482627Z",
     "start_time": "2022-12-17T16:24:15.475117Z"
    }
   },
   "outputs": [
    {
     "data": {
      "text/plain": [
       "array([0.49999769])"
      ]
     },
     "execution_count": 191,
     "metadata": {},
     "output_type": "execute_result"
    }
   ],
   "source": [
    "mask = (threshold > 0.49999) & (threshold < 0.500005)\n",
    "threshold[mask]"
   ]
  },
  {
   "cell_type": "code",
   "execution_count": 192,
   "id": "e5bc0a90",
   "metadata": {
    "ExecuteTime": {
     "end_time": "2022-12-17T16:24:17.037806Z",
     "start_time": "2022-12-17T16:24:17.034138Z"
    }
   },
   "outputs": [
    {
     "name": "stdout",
     "output_type": "stream",
     "text": [
      "[0.16557988]\n",
      "[0.6928699]\n"
     ]
    }
   ],
   "source": [
    "print(precision[1:][mask])\n",
    "print(recall[1:][mask])"
   ]
  },
  {
   "cell_type": "markdown",
   "id": "04a5dc02",
   "metadata": {},
   "source": [
    "## Définition et minimisation de la fonction coût"
   ]
  },
  {
   "cell_type": "markdown",
   "id": "66eae67f",
   "metadata": {},
   "source": [
    "La fonction coût-métier à minimiser est de la forme $f = FP + 10FN$.\n",
    "On peut montrer que \n",
    "\n",
    "\\begin{equation}\n",
    "\\frac{1}{precision} + \\frac{10}{recall} \\propto FP + 10FN\n",
    "\\end{equation}\n",
    "\n",
    "On va donc chercher à minimiser l'inverse de la précision plus l'inverse du recall en fonction du seuil."
   ]
  },
  {
   "cell_type": "code",
   "execution_count": 193,
   "id": "99dfb60e",
   "metadata": {
    "ExecuteTime": {
     "end_time": "2022-12-17T16:24:21.070242Z",
     "start_time": "2022-12-17T16:24:21.066914Z"
    }
   },
   "outputs": [
    {
     "name": "stderr",
     "output_type": "stream",
     "text": [
      "<ipython-input-193-6b3138b2e865>:1: RuntimeWarning: divide by zero encountered in true_divide\n",
      "  loss = 1/precision[1:] + 10/recall[1:]\n"
     ]
    }
   ],
   "source": [
    "loss = 1/precision[1:] + 10/recall[1:]"
   ]
  },
  {
   "cell_type": "code",
   "execution_count": 194,
   "id": "c2c1daa6",
   "metadata": {
    "ExecuteTime": {
     "end_time": "2022-12-17T16:24:33.386641Z",
     "start_time": "2022-12-17T16:24:33.382177Z"
    }
   },
   "outputs": [
    {
     "data": {
      "text/plain": [
       "1"
      ]
     },
     "execution_count": 194,
     "metadata": {},
     "output_type": "execute_result"
    }
   ],
   "source": [
    "np.isinf(loss).sum()"
   ]
  },
  {
   "cell_type": "code",
   "execution_count": 195,
   "id": "584a8086",
   "metadata": {
    "ExecuteTime": {
     "end_time": "2022-12-17T16:24:36.331568Z",
     "start_time": "2022-12-17T16:24:36.174948Z"
    }
   },
   "outputs": [
    {
     "data": {
      "image/png": "[encoded data removed]",
      "text/plain": [
       "<Figure size 576x432 with 1 Axes>"
      ]
     },
     "metadata": {},
     "output_type": "display_data"
    }
   ],
   "source": [
    "plt.figure(figsize=(8,6))\n",
    "plt.plot(threshold, loss)\n",
    "plt.xlabel('threshold', fontsize=16)\n",
    "plt.ylabel('loss', fontsize=16)\n",
    "plt.ylim(10, 60)\n",
    "plt.show()"
   ]
  },
  {
   "cell_type": "code",
   "execution_count": 196,
   "id": "57abb808",
   "metadata": {
    "ExecuteTime": {
     "end_time": "2022-12-17T16:24:39.453372Z",
     "start_time": "2022-12-17T16:24:39.448938Z"
    }
   },
   "outputs": [
    {
     "data": {
      "text/plain": [
       "19.484984399375975"
      ]
     },
     "execution_count": 196,
     "metadata": {},
     "output_type": "execute_result"
    }
   ],
   "source": [
    "loss.min()"
   ]
  },
  {
   "cell_type": "code",
   "execution_count": 197,
   "id": "c61ecdbd",
   "metadata": {
    "ExecuteTime": {
     "end_time": "2022-12-17T16:24:40.264486Z",
     "start_time": "2022-12-17T16:24:40.259474Z"
    }
   },
   "outputs": [
    {
     "data": {
      "text/plain": [
       "array([19.4849844])"
      ]
     },
     "execution_count": 197,
     "metadata": {},
     "output_type": "execute_result"
    }
   ],
   "source": [
    "mask = loss == loss.min()\n",
    "loss[mask]"
   ]
  },
  {
   "cell_type": "code",
   "execution_count": 198,
   "id": "81e01352",
   "metadata": {
    "ExecuteTime": {
     "end_time": "2022-12-17T16:24:41.519588Z",
     "start_time": "2022-12-17T16:24:41.515322Z"
    }
   },
   "outputs": [
    {
     "data": {
      "text/plain": [
       "array([0.39232407])"
      ]
     },
     "execution_count": 198,
     "metadata": {},
     "output_type": "execute_result"
    }
   ],
   "source": [
    "# Seuil qui va minimiser la fonction coût\n",
    "threshold_min = threshold[mask]\n",
    "threshold_min"
   ]
  },
  {
   "cell_type": "code",
   "execution_count": 199,
   "id": "9d2bebc3",
   "metadata": {
    "ExecuteTime": {
     "end_time": "2022-12-17T16:24:44.310639Z",
     "start_time": "2022-12-17T16:24:44.306430Z"
    }
   },
   "outputs": [
    {
     "data": {
      "text/plain": [
       "array([0.60767593])"
      ]
     },
     "execution_count": 199,
     "metadata": {},
     "output_type": "execute_result"
    }
   ],
   "source": [
    "# Probabilité au-delà de laquelle on va considérer le client solvable (classe 0)\n",
    "proba_min = 1 - threshold_min\n",
    "proba_min"
   ]
  },
  {
   "cell_type": "markdown",
   "id": "6c9d778a",
   "metadata": {},
   "source": [
    "## Scores"
   ]
  },
  {
   "cell_type": "code",
   "execution_count": 200,
   "id": "c3ce942c",
   "metadata": {
    "ExecuteTime": {
     "end_time": "2022-12-17T16:24:52.583901Z",
     "start_time": "2022-12-17T16:24:52.579333Z"
    }
   },
   "outputs": [
    {
     "data": {
      "text/plain": [
       "array([0.13371926])"
      ]
     },
     "execution_count": 200,
     "metadata": {},
     "output_type": "execute_result"
    }
   ],
   "source": [
    "precision[1:][mask]"
   ]
  },
  {
   "cell_type": "code",
   "execution_count": 201,
   "id": "4254a591",
   "metadata": {
    "ExecuteTime": {
     "end_time": "2022-12-17T16:24:53.289992Z",
     "start_time": "2022-12-17T16:24:53.285701Z"
    }
   },
   "outputs": [
    {
     "data": {
      "text/plain": [
       "array([0.83287315])"
      ]
     },
     "execution_count": 201,
     "metadata": {},
     "output_type": "execute_result"
    }
   ],
   "source": [
    "recall[1:][mask]"
   ]
  },
  {
   "cell_type": "code",
   "execution_count": 202,
   "id": "7625b082",
   "metadata": {
    "ExecuteTime": {
     "end_time": "2022-12-17T16:25:17.037270Z",
     "start_time": "2022-12-17T16:25:15.201018Z"
    }
   },
   "outputs": [
    {
     "data": {
      "text/plain": [
       "array([[0.05434151, 0.94565849],\n",
       "       [0.9324979 , 0.0675021 ],\n",
       "       [0.80625761, 0.19374239],\n",
       "       ...,\n",
       "       [0.61063479, 0.38936521],\n",
       "       [0.66080676, 0.33919324],\n",
       "       [0.59324148, 0.40675852]])"
      ]
     },
     "execution_count": 202,
     "metadata": {},
     "output_type": "execute_result"
    }
   ],
   "source": [
    "probs = pipeline.predict_proba(X)\n",
    "probs"
   ]
  },
  {
   "cell_type": "code",
   "execution_count": 223,
   "id": "7f50cc67",
   "metadata": {
    "ExecuteTime": {
     "end_time": "2022-12-17T21:16:16.385458Z",
     "start_time": "2022-12-17T21:16:16.116273Z"
    }
   },
   "outputs": [],
   "source": [
    "y_pred = [0 if prob[0] > proba_min else 1 for prob in probs]"
   ]
  },
  {
   "cell_type": "code",
   "execution_count": 224,
   "id": "4fae6f1a",
   "metadata": {
    "ExecuteTime": {
     "end_time": "2022-12-17T21:16:16.835785Z",
     "start_time": "2022-12-17T21:16:16.388109Z"
    }
   },
   "outputs": [
    {
     "name": "stdout",
     "output_type": "stream",
     "text": [
      "              precision    recall  f1-score   support\n",
      "\n",
      "           0       0.97      0.53      0.69    282682\n",
      "           1       0.13      0.83      0.23     24825\n",
      "\n",
      "    accuracy                           0.56    307507\n",
      "   macro avg       0.55      0.68      0.46    307507\n",
      "weighted avg       0.90      0.56      0.65    307507\n",
      "\n"
     ]
    }
   ],
   "source": [
    "print(metrics.classification_report(y, y_pred))"
   ]
  },
  {
   "cell_type": "code",
   "execution_count": null,
   "id": "479d72d1",
   "metadata": {},
   "outputs": [],
   "source": []
  }
 ],
 "metadata": {
  "kernelspec": {
   "display_name": "Python 3",
   "language": "python",
   "name": "python3"
  },
  "language_info": {
   "codemirror_mode": {
    "name": "ipython",
    "version": 3
   },
   "file_extension": ".py",
   "mimetype": "text/x-python",
   "name": "python",
   "nbconvert_exporter": "python",
   "pygments_lexer": "ipython3",
   "version": "3.9.4"
  },
  "toc": {
   "base_numbering": 1,
   "nav_menu": {},
   "number_sections": true,
   "sideBar": true,
   "skip_h1_title": false,
   "title_cell": "Table of Contents",
   "title_sidebar": "Contents",
   "toc_cell": false,
   "toc_position": {},
   "toc_section_display": true,
   "toc_window_display": true
  }
 },
 "nbformat": 4,
 "nbformat_minor": 5
}
